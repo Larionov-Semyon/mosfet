{
 "cells": [
  {
   "cell_type": "markdown",
   "id": "abea1a11",
   "metadata": {},
   "source": [
    "## Создадим датасет"
   ]
  },
  {
   "cell_type": "markdown",
   "id": "674f9dad",
   "metadata": {},
   "source": [
    "### Начальная установка"
   ]
  },
  {
   "cell_type": "markdown",
   "id": "1d8ce0d6",
   "metadata": {},
   "source": [
    "Установим необходимые завсимости"
   ]
  },
  {
   "cell_type": "code",
   "execution_count": null,
   "id": "23adb67e",
   "metadata": {},
   "outputs": [],
   "source": [
    "# %pip install PySpice"
   ]
  },
  {
   "cell_type": "code",
   "execution_count": null,
   "id": "1e8e9b62",
   "metadata": {},
   "outputs": [],
   "source": [
    "# %conda install -c conda-forge ngspice-exe"
   ]
  },
  {
   "cell_type": "code",
   "execution_count": null,
   "id": "f523166b",
   "metadata": {},
   "outputs": [],
   "source": [
    "# %conda install -c conda-forge ngspice"
   ]
  },
  {
   "cell_type": "code",
   "execution_count": null,
   "id": "700c1454",
   "metadata": {},
   "outputs": [],
   "source": [
    "# %conda install -c conda-forge ngspice-lib"
   ]
  },
  {
   "cell_type": "markdown",
   "id": "b1d1d903",
   "metadata": {},
   "source": [
    "### Необходимый импорт"
   ]
  },
  {
   "cell_type": "code",
   "execution_count": 8,
   "id": "e97984c8",
   "metadata": {},
   "outputs": [],
   "source": [
    "import numpy as np"
   ]
  },
  {
   "cell_type": "code",
   "execution_count": 1,
   "id": "85f79b14",
   "metadata": {},
   "outputs": [],
   "source": [
    "####################################################################################################\n",
    "\n",
    "import matplotlib.pyplot as plt\n",
    "\n",
    "####################################################################################################\n",
    "\n",
    "import PySpice.Logging.Logging as Logging\n",
    "logger = Logging.setup_logging()\n",
    "\n",
    "####################################################################################################\n",
    "\n",
    "from PySpice.Doc.ExampleTools import find_libraries\n",
    "from PySpice.Probe.Plot import plot\n",
    "from PySpice.Spice.Library import SpiceLibrary\n",
    "from PySpice.Spice.Netlist import Circuit\n",
    "from PySpice.Unit import *\n",
    "\n",
    "####################################################################################################"
   ]
  },
  {
   "cell_type": "markdown",
   "id": "140a98e7",
   "metadata": {},
   "source": [
    "Промоделируем работу MOSFET транзистора"
   ]
  },
  {
   "cell_type": "code",
   "execution_count": 2,
   "id": "5e802dfe",
   "metadata": {},
   "outputs": [],
   "source": [
    "spice_library = SpiceLibrary(\"C:/Users/lario/MyAnacondaProject/example/libraries\")"
   ]
  },
  {
   "cell_type": "code",
   "execution_count": 3,
   "id": "83df637e",
   "metadata": {},
   "outputs": [
    {
     "name": "stdout",
     "output_type": "stream",
     "text": [
      "BAV21\n",
      "BAV21@xyce\n",
      "2n2222a\n",
      "ptm32nm_nmos\n",
      "ptm32nm_pmos\n",
      "ptm65nm_nmos\n",
      "ptm65nm_pmos\n"
     ]
    }
   ],
   "source": [
    "for key in spice_library.models:\n",
    "    print(key)"
   ]
  },
  {
   "cell_type": "code",
   "execution_count": 483,
   "id": "a83a354b",
   "metadata": {},
   "outputs": [
    {
     "name": "stdout",
     "output_type": "stream",
     "text": [
      ".title MOS circuit\r\n",
      "VG VG 0 1\r\n",
      "VD VD 0 2\r\n",
      "M1 VD VG 0 0 NMOS-SH l=1e-06 temp=25 w=1e-05\r\n",
      ".model NMOS-SH nmos (Gamma=0.5 Kp=0.00019 Lambda=0.16 Phi=0.7 Vto=0.57)\r\n",
      "\n"
     ]
    }
   ],
   "source": [
    "def mos_circuit(params=None):\n",
    "    d = {'vg': 1, 'vd': 2, 'length': 1e-6, 'width':10e-6, 'temp': 25}\n",
    "    if params: \n",
    "        for k, v in params.items():\n",
    "            d[k] = v\n",
    "            \n",
    "    circuit = Circuit('MOS circuit')\n",
    "    circuit.model('NMOS-SH', 'nmos', Kp=190e-6, Vto=0.57, Lambda=0.16, Gamma=0.50, Phi=0.7)\n",
    "    circuit.V('G', 'VG', 0, d['vg'])\n",
    "    circuit.V('D', 'VD', 0, d['vd'])\n",
    "    circuit.M(1, 'VD', 'VG', 0, 0, model='NMOS-SH', l=d['length'], w=d['width'], temp=d['temp'])\n",
    "\n",
    "\n",
    "#     circuit.include(spice_library['ptm32nm_nmos'])\n",
    "#     circuit.M(1, 'VD', 'VG', 0, 0, model='ptm32nm_nmos', l=d['length'], w=d['width'])\n",
    "#     circuit.MOSFET(1, 'VD', 'VG', circuit.gnd, circuit.gnd, model='ptm65nm_nmos')\n",
    "    return circuit\n",
    "\n",
    "print(mos_circuit())"
   ]
  },
  {
   "cell_type": "code",
   "execution_count": 484,
   "id": "26003c23",
   "metadata": {},
   "outputs": [],
   "source": [
    "def sweep_source(first_source_name, first_source_range, second_source_name, second_source_range):\n",
    "    y = []\n",
    "    \n",
    "    for s in second_source_range:\n",
    "        circuit = mos_circuit({f'{second_source_name}':s})\n",
    "        \n",
    "        if second_source_name == 'temp':\n",
    "            simulator = circuit.simulator(temperature=s, normal_temperature=25)\n",
    "        else:\n",
    "            simulator = circuit.simulator(temperature=25, normal_temperature=25)\n",
    "            \n",
    "        if first_source_name == 'vg':\n",
    "            analysis = simulator.dc(VG=first_source_range)\n",
    "        else:\n",
    "            analysis = simulator.dc(VD=first_source_range)\n",
    "        y.append(- np.array(analysis.branches['vd']))\n",
    "        \n",
    "    x = np.array(analysis.nodes[first_source_name])\n",
    "    return x, y"
   ]
  },
  {
   "cell_type": "code",
   "execution_count": 485,
   "id": "0bf95542",
   "metadata": {},
   "outputs": [],
   "source": [
    "def plot(x_label, y_label, title, first_source_name, x, y, second_source_name, second_source_range, func=lambda x: x):\n",
    "    fig, ax = plt.subplots(figsize=(8, 4))\n",
    "    \n",
    "    ax.set(xlabel=x_label, ylabel=y_label, title=title)\n",
    "    ax.grid(color='gray', alpha=0.5, linestyle='dashed', linewidth=0.5)\n",
    "    \n",
    "    for i, s in enumerate(second_source_range):\n",
    "        ax.plot(x, func(y[i]), label=f'{second_source_name} = {str(s)}V')\n",
    "    \n",
    "    ax.legend()\n",
    "    plt.show()"
   ]
  },
  {
   "cell_type": "code",
   "execution_count": 24,
   "id": "cba8fae0",
   "metadata": {},
   "outputs": [
    {
     "data": {
      "image/png": "[encoded data removed]",
      "text/plain": [
       "<Figure size 576x288 with 1 Axes>"
      ]
     },
     "metadata": {
      "needs_background": "light"
     },
     "output_type": "display_data"
    }
   ],
   "source": [
    "first_source_name = 'vd'\n",
    "first_source_range = slice(0, 3, .01)\n",
    "second_source_name = 'vg'\n",
    "second_source_range = np.arange(0, 3, 0.5)\n",
    "\n",
    "x, y = sweep_source(first_source_name, first_source_range, second_source_name, second_source_range)\n",
    "\n",
    "x_label = '$V_{DS}\\ [V]$'\n",
    "y_label = '$I_{D}\\ [A]$'\n",
    "title = 'MOS Output Characteristics'\n",
    "\n",
    "plot(x_label, y_label, title, first_source_name, x, y, second_source_name, second_source_range)"
   ]
  },
  {
   "cell_type": "code",
   "execution_count": 25,
   "id": "00839472",
   "metadata": {},
   "outputs": [
    {
     "data": {
      "image/png": "[encoded data removed]",
      "text/plain": [
       "<Figure size 576x288 with 1 Axes>"
      ]
     },
     "metadata": {
      "needs_background": "light"
     },
     "output_type": "display_data"
    }
   ],
   "source": [
    "first_source_name = 'vg'\n",
    "first_source_range = slice(0, 3, .01)\n",
    "second_source_name = 'vd'\n",
    "second_source_range = np.arange(0, 3, 0.5)\n",
    "\n",
    "x, y = sweep_source(first_source_name, first_source_range, second_source_name, second_source_range)\n",
    "\n",
    "x_label = '$V_{GS}\\ [V]$'\n",
    "y_label = '$I_{D}\\ [A]$'\n",
    "title = 'MOS Input Characteristics'\n",
    "\n",
    "plot(x_label, y_label, title, first_source_name, x, y, second_source_name, second_source_range)"
   ]
  },
  {
   "cell_type": "code",
   "execution_count": 26,
   "id": "03c180c1",
   "metadata": {},
   "outputs": [
    {
     "data": {
      "image/png": "[encoded data removed]",
      "text/plain": [
       "<Figure size 576x288 with 1 Axes>"
      ]
     },
     "metadata": {
      "needs_background": "light"
     },
     "output_type": "display_data"
    }
   ],
   "source": [
    "first_source_name = 'vg'\n",
    "first_source_range = slice(0, 3, .01)\n",
    "second_source_name = 'vd'\n",
    "second_source_range = np.arange(0, 3, 0.5)\n",
    "\n",
    "x, y = sweep_source(first_source_name, first_source_range, second_source_name, second_source_range)\n",
    "\n",
    "x_label = '$V_{GS}\\ [V]$'\n",
    "y_label = '$I_{D}\\ [A]$'\n",
    "title = 'Transconductance Plot'\n",
    "\n",
    "plot(x_label, y_label, title, first_source_name, x, y, second_source_name, second_source_range, np.gradient)"
   ]
  },
  {
   "cell_type": "code",
   "execution_count": 27,
   "id": "8c705348",
   "metadata": {},
   "outputs": [
    {
     "data": {
      "image/png": "[encoded data removed]",
      "text/plain": [
       "<Figure size 576x288 with 1 Axes>"
      ]
     },
     "metadata": {
      "needs_background": "light"
     },
     "output_type": "display_data"
    }
   ],
   "source": [
    "first_source_name = 'vd'\n",
    "first_source_range = slice(0, 0.5, .01)\n",
    "second_source_name = 'length'\n",
    "second_source_range = np.arange(1, 5, 1) * 1e-6\n",
    "\n",
    "x, y = sweep_source(first_source_name, first_source_range, second_source_name, second_source_range)\n",
    "\n",
    "x_label = '$V_{DS}\\ [V]$'\n",
    "y_label = '$I_{D}\\ [A]$'\n",
    "title = 'Drain Current for different lengths'\n",
    "\n",
    "plot(x_label, y_label, title, first_source_name, x, y, second_source_name, second_source_range)"
   ]
  },
  {
   "cell_type": "code",
   "execution_count": 28,
   "id": "fa744e92",
   "metadata": {},
   "outputs": [
    {
     "data": {
      "image/png": "[encoded data removed]",
      "text/plain": [
       "<Figure size 576x288 with 1 Axes>"
      ]
     },
     "metadata": {
      "needs_background": "light"
     },
     "output_type": "display_data"
    }
   ],
   "source": [
    "first_source_name = 'vd'\n",
    "first_source_range = slice(0, 0.5, .01)\n",
    "second_source_name = 'width'\n",
    "second_source_range = np.arange(1, 5, 1) * 1e-6\n",
    "\n",
    "x, y = sweep_source(first_source_name, first_source_range, second_source_name, second_source_range)\n",
    "\n",
    "x_label = '$V_{DS}\\ [V]$'\n",
    "y_label = '$I_{D}\\ [A]$'\n",
    "title = 'Drain Current for different width'\n",
    "\n",
    "plot(x_label, y_label, title, first_source_name, x, y, second_source_name, second_source_range)"
   ]
  },
  {
   "cell_type": "code",
   "execution_count": 29,
   "id": "599a7b87",
   "metadata": {},
   "outputs": [
    {
     "data": {
      "image/png": "[encoded data removed]",
      "text/plain": [
       "<Figure size 576x288 with 1 Axes>"
      ]
     },
     "metadata": {
      "needs_background": "light"
     },
     "output_type": "display_data"
    }
   ],
   "source": [
    "first_source_name = 'vd'\n",
    "first_source_range = slice(0, 0.5, .01)\n",
    "second_source_name = 'temp'\n",
    "second_source_range = np.arange(-20, 100, 20)\n",
    "\n",
    "x, y = sweep_source(first_source_name, first_source_range, second_source_name, second_source_range)\n",
    "\n",
    "x_label = '$V_{DS}\\ [V]$'\n",
    "y_label = '$I_{D}\\ [A]$'\n",
    "title = 'Drain Current for different width'\n",
    "\n",
    "plot(x_label, y_label, title, first_source_name, x, y, second_source_name, second_source_range)"
   ]
  },
  {
   "cell_type": "markdown",
   "id": "8582c622",
   "metadata": {},
   "source": [
    "### Создание датасета"
   ]
  },
  {
   "cell_type": "markdown",
   "id": "cba233b0",
   "metadata": {},
   "source": [
    "Давайте создадим датасет с двумя параметрами Vds и Vgs"
   ]
  },
  {
   "cell_type": "code",
   "execution_count": 486,
   "id": "6a1a72c3",
   "metadata": {},
   "outputs": [],
   "source": [
    "####################################################################################################\n",
    "\n",
    "import matplotlib.pyplot as plt\n",
    "import numpy as np\n",
    "import pandas as pd\n",
    "\n",
    "# для progress bar\n",
    "from tqdm import tqdm\n",
    "\n",
    "####################################################################################################\n",
    "\n",
    "import PySpice.Logging.Logging as Logging\n",
    "logger = Logging.setup_logging()\n",
    "\n",
    "####################################################################################################\n",
    "\n",
    "from PySpice.Doc.ExampleTools import find_libraries\n",
    "from PySpice.Probe.Plot import plot\n",
    "from PySpice.Spice.Library import SpiceLibrary\n",
    "from PySpice.Spice.Netlist import Circuit\n",
    "from PySpice.Unit import *\n",
    "\n",
    "####################################################################################################"
   ]
  },
  {
   "cell_type": "markdown",
   "id": "066ade32",
   "metadata": {},
   "source": [
    "Будем использовать одну цепь для всех датасетов"
   ]
  },
  {
   "cell_type": "code",
   "execution_count": 487,
   "id": "b71c1277",
   "metadata": {},
   "outputs": [
    {
     "name": "stdout",
     "output_type": "stream",
     "text": [
      ".title MOS circuit\r\n",
      "VG VG 0 1\r\n",
      "VD VD 0 2\r\n",
      "M1 VD VG 0 0 NMOS-SH l=1e-06 temp=25 w=1e-05\r\n",
      ".model NMOS-SH nmos (Gamma=0.5 Kp=0.00019 Lambda=0.16 Phi=0.7 Vto=0.57)\r\n",
      "\n"
     ]
    }
   ],
   "source": [
    "def mos_circuit(params=None):\n",
    "    d = {'vg': 1, 'vd': 2, 'length': 1e-6, 'width':10e-6, 'temp': 25}\n",
    "    if params: \n",
    "        for k, v in params.items():\n",
    "            d[k] = v\n",
    "            \n",
    "    circuit = Circuit('MOS circuit')\n",
    "    circuit.model('NMOS-SH', 'nmos', Kp=190e-6, Vto=0.57, Lambda=0.16, Gamma=0.50, Phi=0.7)\n",
    "    circuit.V('G', 'VG', 0, d['vg'])\n",
    "    circuit.V('D', 'VD', 0, d['vd'])\n",
    "    circuit.M(1, 'VD', 'VG', 0, 0, model='NMOS-SH', l=d['length'], w=d['width'], temp=d['temp'])\n",
    "\n",
    "\n",
    "#     circuit.include(spice_library['ptm32nm_nmos'])\n",
    "#     circuit.M(1, 'VD', 'VG', 0, 0, model='ptm32nm_nmos', l=d['length'], w=d['width'])\n",
    "#     circuit.MOSFET(1, 'VD', 'VG', circuit.gnd, circuit.gnd, model='ptm65nm_nmos')\n",
    "    return circuit\n",
    "\n",
    "print(mos_circuit())"
   ]
  },
  {
   "cell_type": "markdown",
   "id": "6a632e5b",
   "metadata": {},
   "source": [
    "Добавим разброс ширины для шума"
   ]
  },
  {
   "cell_type": "code",
   "execution_count": 488,
   "id": "a78267db",
   "metadata": {},
   "outputs": [],
   "source": [
    "def dataset_2p(vd_slice, vg_range, noise_width):\n",
    "    dataset = {'Vds': [], 'Vgs': [], 'Id': []}\n",
    "    Vds = np.array([])\n",
    "    Vgs = np.array([])\n",
    "    Id  = np.array([])\n",
    "    \n",
    "    for w in noise_width:\n",
    "        for vg in vg_range:\n",
    "            circuit = mos_circuit({'vg':vg, 'width': w})\n",
    "            simulator = circuit.simulator(temperature=25, normal_temperature=25)\n",
    "            analysis = simulator.dc(VD=vd_slice)\n",
    "        \n",
    "            id_range = (- np.array(analysis.branches['vd']))\n",
    "            len_id = len(id_range)\n",
    "        \n",
    "            vd_range = np.arange(vd_slice.start, vd_slice.stop + vd_slice.step, vd_slice.step)\n",
    "        \n",
    "            Vds = np.hstack((Vds, vd_range))\n",
    "            Vgs = np.hstack((Vgs, [vg] * len_id))\n",
    "            Id  = np.hstack((Id, id_range))\n",
    "\n",
    "    dataset['Vds'] = Vds.tolist()\n",
    "    dataset['Vgs'] = Vgs.tolist()\n",
    "    dataset['Id'] = Id.tolist()\n",
    "        \n",
    "    dataset = pd.DataFrame(dataset)\n",
    "    return dataset"
   ]
  },
  {
   "cell_type": "code",
   "execution_count": 489,
   "id": "6bb2a2b5",
   "metadata": {},
   "outputs": [
    {
     "data": {
      "text/plain": [
       "array([0.98 , 0.985, 0.99 , 0.995, 1.   , 1.005, 1.01 , 1.015, 1.02 ])"
      ]
     },
     "execution_count": 489,
     "metadata": {},
     "output_type": "execute_result"
    }
   ],
   "source": [
    "np.arange(0.98, 1.02, .005)"
   ]
  },
  {
   "cell_type": "code",
   "execution_count": 298,
   "id": "768a87bc",
   "metadata": {},
   "outputs": [
    {
     "data": {
      "text/html": [
       "<div>\n",
       "<style scoped>\n",
       "    .dataframe tbody tr th:only-of-type {\n",
       "        vertical-align: middle;\n",
       "    }\n",
       "\n",
       "    .dataframe tbody tr th {\n",
       "        vertical-align: top;\n",
       "    }\n",
       "\n",
       "    .dataframe thead th {\n",
       "        text-align: right;\n",
       "    }\n",
       "</style>\n",
       "<table border=\"1\" class=\"dataframe\">\n",
       "  <thead>\n",
       "    <tr style=\"text-align: right;\">\n",
       "      <th></th>\n",
       "      <th>Vds</th>\n",
       "      <th>Vgs</th>\n",
       "      <th>Id</th>\n",
       "    </tr>\n",
       "  </thead>\n",
       "  <tbody>\n",
       "    <tr>\n",
       "      <th>0</th>\n",
       "      <td>0.00</td>\n",
       "      <td>0.0</td>\n",
       "      <td>-0.000000e+00</td>\n",
       "    </tr>\n",
       "    <tr>\n",
       "      <th>1</th>\n",
       "      <td>0.01</td>\n",
       "      <td>0.0</td>\n",
       "      <td>1.285481e-14</td>\n",
       "    </tr>\n",
       "    <tr>\n",
       "      <th>2</th>\n",
       "      <td>0.02</td>\n",
       "      <td>0.0</td>\n",
       "      <td>2.396719e-14</td>\n",
       "    </tr>\n",
       "    <tr>\n",
       "      <th>3</th>\n",
       "      <td>0.03</td>\n",
       "      <td>0.0</td>\n",
       "      <td>3.505294e-14</td>\n",
       "    </tr>\n",
       "    <tr>\n",
       "      <th>4</th>\n",
       "      <td>0.04</td>\n",
       "      <td>0.0</td>\n",
       "      <td>4.578862e-14</td>\n",
       "    </tr>\n",
       "    <tr>\n",
       "      <th>...</th>\n",
       "      <td>...</td>\n",
       "      <td>...</td>\n",
       "      <td>...</td>\n",
       "    </tr>\n",
       "    <tr>\n",
       "      <th>49594</th>\n",
       "      <td>4.96</td>\n",
       "      <td>5.0</td>\n",
       "      <td>3.440861e-03</td>\n",
       "    </tr>\n",
       "    <tr>\n",
       "      <th>49595</th>\n",
       "      <td>4.97</td>\n",
       "      <td>5.0</td>\n",
       "      <td>3.443930e-03</td>\n",
       "    </tr>\n",
       "    <tr>\n",
       "      <th>49596</th>\n",
       "      <td>4.98</td>\n",
       "      <td>5.0</td>\n",
       "      <td>3.447000e-03</td>\n",
       "    </tr>\n",
       "    <tr>\n",
       "      <th>49597</th>\n",
       "      <td>4.99</td>\n",
       "      <td>5.0</td>\n",
       "      <td>3.450069e-03</td>\n",
       "    </tr>\n",
       "    <tr>\n",
       "      <th>49598</th>\n",
       "      <td>5.00</td>\n",
       "      <td>5.0</td>\n",
       "      <td>3.453139e-03</td>\n",
       "    </tr>\n",
       "  </tbody>\n",
       "</table>\n",
       "<p>49599 rows × 3 columns</p>\n",
       "</div>"
      ],
      "text/plain": [
       "        Vds  Vgs            Id\n",
       "0      0.00  0.0 -0.000000e+00\n",
       "1      0.01  0.0  1.285481e-14\n",
       "2      0.02  0.0  2.396719e-14\n",
       "3      0.03  0.0  3.505294e-14\n",
       "4      0.04  0.0  4.578862e-14\n",
       "...     ...  ...           ...\n",
       "49594  4.96  5.0  3.440861e-03\n",
       "49595  4.97  5.0  3.443930e-03\n",
       "49596  4.98  5.0  3.447000e-03\n",
       "49597  4.99  5.0  3.450069e-03\n",
       "49598  5.00  5.0  3.453139e-03\n",
       "\n",
       "[49599 rows x 3 columns]"
      ]
     },
     "execution_count": 298,
     "metadata": {},
     "output_type": "execute_result"
    }
   ],
   "source": [
    "data = dataset_2p(vd_slice = slice(0, 5, .01),\n",
    "                vg_range = np.arange(0, 5.1, 0.5), \n",
    "                noise_width = np.arange(0.98, 1.02, .005) * 1e-6)\n",
    "data"
   ]
  },
  {
   "cell_type": "markdown",
   "id": "5fe7fe6b",
   "metadata": {},
   "source": [
    "Сохраним и загрузим датасет"
   ]
  },
  {
   "cell_type": "code",
   "execution_count": 299,
   "id": "cd11c861",
   "metadata": {},
   "outputs": [],
   "source": [
    "file_name = 'mosfet_2p.csv'\n",
    "data.to_csv(file_name, index=None)"
   ]
  },
  {
   "cell_type": "code",
   "execution_count": 300,
   "id": "9f6e572b",
   "metadata": {},
   "outputs": [
    {
     "data": {
      "text/html": [
       "<div>\n",
       "<style scoped>\n",
       "    .dataframe tbody tr th:only-of-type {\n",
       "        vertical-align: middle;\n",
       "    }\n",
       "\n",
       "    .dataframe tbody tr th {\n",
       "        vertical-align: top;\n",
       "    }\n",
       "\n",
       "    .dataframe thead th {\n",
       "        text-align: right;\n",
       "    }\n",
       "</style>\n",
       "<table border=\"1\" class=\"dataframe\">\n",
       "  <thead>\n",
       "    <tr style=\"text-align: right;\">\n",
       "      <th></th>\n",
       "      <th>Vds</th>\n",
       "      <th>Vgs</th>\n",
       "      <th>Id</th>\n",
       "    </tr>\n",
       "  </thead>\n",
       "  <tbody>\n",
       "    <tr>\n",
       "      <th>0</th>\n",
       "      <td>0.00</td>\n",
       "      <td>0.0</td>\n",
       "      <td>-0.000000e+00</td>\n",
       "    </tr>\n",
       "    <tr>\n",
       "      <th>1</th>\n",
       "      <td>0.01</td>\n",
       "      <td>0.0</td>\n",
       "      <td>1.285481e-14</td>\n",
       "    </tr>\n",
       "    <tr>\n",
       "      <th>2</th>\n",
       "      <td>0.02</td>\n",
       "      <td>0.0</td>\n",
       "      <td>2.396719e-14</td>\n",
       "    </tr>\n",
       "    <tr>\n",
       "      <th>3</th>\n",
       "      <td>0.03</td>\n",
       "      <td>0.0</td>\n",
       "      <td>3.505294e-14</td>\n",
       "    </tr>\n",
       "    <tr>\n",
       "      <th>4</th>\n",
       "      <td>0.04</td>\n",
       "      <td>0.0</td>\n",
       "      <td>4.578862e-14</td>\n",
       "    </tr>\n",
       "    <tr>\n",
       "      <th>...</th>\n",
       "      <td>...</td>\n",
       "      <td>...</td>\n",
       "      <td>...</td>\n",
       "    </tr>\n",
       "    <tr>\n",
       "      <th>49594</th>\n",
       "      <td>4.96</td>\n",
       "      <td>5.0</td>\n",
       "      <td>3.440861e-03</td>\n",
       "    </tr>\n",
       "    <tr>\n",
       "      <th>49595</th>\n",
       "      <td>4.97</td>\n",
       "      <td>5.0</td>\n",
       "      <td>3.443930e-03</td>\n",
       "    </tr>\n",
       "    <tr>\n",
       "      <th>49596</th>\n",
       "      <td>4.98</td>\n",
       "      <td>5.0</td>\n",
       "      <td>3.447000e-03</td>\n",
       "    </tr>\n",
       "    <tr>\n",
       "      <th>49597</th>\n",
       "      <td>4.99</td>\n",
       "      <td>5.0</td>\n",
       "      <td>3.450069e-03</td>\n",
       "    </tr>\n",
       "    <tr>\n",
       "      <th>49598</th>\n",
       "      <td>5.00</td>\n",
       "      <td>5.0</td>\n",
       "      <td>3.453139e-03</td>\n",
       "    </tr>\n",
       "  </tbody>\n",
       "</table>\n",
       "<p>49599 rows × 3 columns</p>\n",
       "</div>"
      ],
      "text/plain": [
       "        Vds  Vgs            Id\n",
       "0      0.00  0.0 -0.000000e+00\n",
       "1      0.01  0.0  1.285481e-14\n",
       "2      0.02  0.0  2.396719e-14\n",
       "3      0.03  0.0  3.505294e-14\n",
       "4      0.04  0.0  4.578862e-14\n",
       "...     ...  ...           ...\n",
       "49594  4.96  5.0  3.440861e-03\n",
       "49595  4.97  5.0  3.443930e-03\n",
       "49596  4.98  5.0  3.447000e-03\n",
       "49597  4.99  5.0  3.450069e-03\n",
       "49598  5.00  5.0  3.453139e-03\n",
       "\n",
       "[49599 rows x 3 columns]"
      ]
     },
     "execution_count": 300,
     "metadata": {},
     "output_type": "execute_result"
    }
   ],
   "source": [
    "df = pd.read_csv('mosfet_2p.csv')\n",
    "df"
   ]
  },
  {
   "cell_type": "markdown",
   "id": "8865fd7c",
   "metadata": {},
   "source": [
    "Давайте посмотрим на данные, которые мы получили"
   ]
  },
  {
   "cell_type": "code",
   "execution_count": 301,
   "id": "618d24f8",
   "metadata": {},
   "outputs": [
    {
     "data": {
      "image/png": "[encoded data removed]",
      "text/plain": [
       "<Figure size 360x360 with 1 Axes>"
      ]
     },
     "metadata": {
      "needs_background": "light"
     },
     "output_type": "display_data"
    }
   ],
   "source": [
    "x = df['Vds']\n",
    "y = df['Vgs']\n",
    "\n",
    "fig, ax = plt.subplots(figsize=(5, 5))\n",
    "ax.set(xlabel='Vds', ylabel='Vgs', title='Распределение точек')\n",
    "ax.grid(color='gray', alpha=0.5, linestyle='dashed', linewidth=0.5)\n",
    "\n",
    "plt.scatter(x, y)\n",
    "plt.show()"
   ]
  },
  {
   "cell_type": "code",
   "execution_count": 311,
   "id": "b213ffb7",
   "metadata": {},
   "outputs": [
    {
     "data": {
      "image/png": "[encoded data removed]",
      "text/plain": [
       "<Figure size 360x360 with 1 Axes>"
      ]
     },
     "metadata": {
      "needs_background": "light"
     },
     "output_type": "display_data"
    }
   ],
   "source": [
    "def get_x_y(df, vg):\n",
    "    x = df[df['Vgs'] == vg]['Vds']\n",
    "    y = df[df['Vgs'] == vg]['Id']\n",
    "    return x, y\n",
    "\n",
    "fig, ax = plt.subplots(figsize=(5, 5))\n",
    "ax.set(xlabel='Vds', ylabel='Id', title='ВАХ для разных Vgs')\n",
    "ax.grid(color='gray', alpha=0.5, linestyle='dashed', linewidth=0.5)\n",
    "\n",
    "x, y = get_x_y(df, 1.)\n",
    "plt.scatter(x, y, s=10, label='Vgs=1V')\n",
    "\n",
    "x, y = get_x_y(df, 3.)\n",
    "plt.scatter(x, y, s=10, label='Vgs=3V')\n",
    "\n",
    "x, y = get_x_y(df, 5.)\n",
    "plt.scatter(x, y, s=10, label='Vgs=5V')\n",
    "plt.legend()\n",
    "plt.show()"
   ]
  },
  {
   "cell_type": "markdown",
   "id": "63adeb5b",
   "metadata": {},
   "source": [
    "### Данные для валидации"
   ]
  },
  {
   "cell_type": "markdown",
   "id": "24cef9cf",
   "metadata": {},
   "source": [
    "Данные внутри области обучения"
   ]
  },
  {
   "cell_type": "code",
   "execution_count": 318,
   "id": "decca5e7",
   "metadata": {},
   "outputs": [
    {
     "data": {
      "text/html": [
       "<div>\n",
       "<style scoped>\n",
       "    .dataframe tbody tr th:only-of-type {\n",
       "        vertical-align: middle;\n",
       "    }\n",
       "\n",
       "    .dataframe tbody tr th {\n",
       "        vertical-align: top;\n",
       "    }\n",
       "\n",
       "    .dataframe thead th {\n",
       "        text-align: right;\n",
       "    }\n",
       "</style>\n",
       "<table border=\"1\" class=\"dataframe\">\n",
       "  <thead>\n",
       "    <tr style=\"text-align: right;\">\n",
       "      <th></th>\n",
       "      <th>Vds</th>\n",
       "      <th>Vgs</th>\n",
       "      <th>Id</th>\n",
       "    </tr>\n",
       "  </thead>\n",
       "  <tbody>\n",
       "    <tr>\n",
       "      <th>0</th>\n",
       "      <td>0.00</td>\n",
       "      <td>0.0</td>\n",
       "      <td>-0.000000e+00</td>\n",
       "    </tr>\n",
       "    <tr>\n",
       "      <th>1</th>\n",
       "      <td>0.01</td>\n",
       "      <td>0.0</td>\n",
       "      <td>1.285481e-14</td>\n",
       "    </tr>\n",
       "    <tr>\n",
       "      <th>2</th>\n",
       "      <td>0.02</td>\n",
       "      <td>0.0</td>\n",
       "      <td>2.396719e-14</td>\n",
       "    </tr>\n",
       "    <tr>\n",
       "      <th>3</th>\n",
       "      <td>0.03</td>\n",
       "      <td>0.0</td>\n",
       "      <td>3.505294e-14</td>\n",
       "    </tr>\n",
       "    <tr>\n",
       "      <th>4</th>\n",
       "      <td>0.04</td>\n",
       "      <td>0.0</td>\n",
       "      <td>4.578862e-14</td>\n",
       "    </tr>\n",
       "    <tr>\n",
       "      <th>...</th>\n",
       "      <td>...</td>\n",
       "      <td>...</td>\n",
       "      <td>...</td>\n",
       "    </tr>\n",
       "    <tr>\n",
       "      <th>25546</th>\n",
       "      <td>4.96</td>\n",
       "      <td>5.0</td>\n",
       "      <td>3.373393e-03</td>\n",
       "    </tr>\n",
       "    <tr>\n",
       "      <th>25547</th>\n",
       "      <td>4.97</td>\n",
       "      <td>5.0</td>\n",
       "      <td>3.376402e-03</td>\n",
       "    </tr>\n",
       "    <tr>\n",
       "      <th>25548</th>\n",
       "      <td>4.98</td>\n",
       "      <td>5.0</td>\n",
       "      <td>3.379411e-03</td>\n",
       "    </tr>\n",
       "    <tr>\n",
       "      <th>25549</th>\n",
       "      <td>4.99</td>\n",
       "      <td>5.0</td>\n",
       "      <td>3.382421e-03</td>\n",
       "    </tr>\n",
       "    <tr>\n",
       "      <th>25550</th>\n",
       "      <td>5.00</td>\n",
       "      <td>5.0</td>\n",
       "      <td>3.385430e-03</td>\n",
       "    </tr>\n",
       "  </tbody>\n",
       "</table>\n",
       "<p>25551 rows × 3 columns</p>\n",
       "</div>"
      ],
      "text/plain": [
       "        Vds  Vgs            Id\n",
       "0      0.00  0.0 -0.000000e+00\n",
       "1      0.01  0.0  1.285481e-14\n",
       "2      0.02  0.0  2.396719e-14\n",
       "3      0.03  0.0  3.505294e-14\n",
       "4      0.04  0.0  4.578862e-14\n",
       "...     ...  ...           ...\n",
       "25546  4.96  5.0  3.373393e-03\n",
       "25547  4.97  5.0  3.376402e-03\n",
       "25548  4.98  5.0  3.379411e-03\n",
       "25549  4.99  5.0  3.382421e-03\n",
       "25550  5.00  5.0  3.385430e-03\n",
       "\n",
       "[25551 rows x 3 columns]"
      ]
     },
     "execution_count": 318,
     "metadata": {},
     "output_type": "execute_result"
    }
   ],
   "source": [
    "data_val = dataset_2p(vd_slice = slice(0, 5, .01),\n",
    "                    vg_range = np.arange(0, 5.1, 0.1), \n",
    "                    noise_width = [1e-6])\n",
    "file_name = 'mosfet_2p_val_1.csv'\n",
    "data_val.to_csv(file_name, index=None)\n",
    "data_val"
   ]
  },
  {
   "cell_type": "markdown",
   "id": "4d96c3ff",
   "metadata": {},
   "source": [
    "Данные вне области обучения"
   ]
  },
  {
   "cell_type": "code",
   "execution_count": 319,
   "id": "c432ad35",
   "metadata": {},
   "outputs": [
    {
     "data": {
      "text/html": [
       "<div>\n",
       "<style scoped>\n",
       "    .dataframe tbody tr th:only-of-type {\n",
       "        vertical-align: middle;\n",
       "    }\n",
       "\n",
       "    .dataframe tbody tr th {\n",
       "        vertical-align: top;\n",
       "    }\n",
       "\n",
       "    .dataframe thead th {\n",
       "        text-align: right;\n",
       "    }\n",
       "</style>\n",
       "<table border=\"1\" class=\"dataframe\">\n",
       "  <thead>\n",
       "    <tr style=\"text-align: right;\">\n",
       "      <th></th>\n",
       "      <th>Vds</th>\n",
       "      <th>Vgs</th>\n",
       "      <th>Id</th>\n",
       "    </tr>\n",
       "  </thead>\n",
       "  <tbody>\n",
       "    <tr>\n",
       "      <th>0</th>\n",
       "      <td>5.00</td>\n",
       "      <td>5.0</td>\n",
       "      <td>0.003385</td>\n",
       "    </tr>\n",
       "    <tr>\n",
       "      <th>1</th>\n",
       "      <td>5.01</td>\n",
       "      <td>5.0</td>\n",
       "      <td>0.003388</td>\n",
       "    </tr>\n",
       "    <tr>\n",
       "      <th>2</th>\n",
       "      <td>5.02</td>\n",
       "      <td>5.0</td>\n",
       "      <td>0.003391</td>\n",
       "    </tr>\n",
       "    <tr>\n",
       "      <th>3</th>\n",
       "      <td>5.03</td>\n",
       "      <td>5.0</td>\n",
       "      <td>0.003394</td>\n",
       "    </tr>\n",
       "    <tr>\n",
       "      <th>4</th>\n",
       "      <td>5.04</td>\n",
       "      <td>5.0</td>\n",
       "      <td>0.003397</td>\n",
       "    </tr>\n",
       "    <tr>\n",
       "      <th>...</th>\n",
       "      <td>...</td>\n",
       "      <td>...</td>\n",
       "      <td>...</td>\n",
       "    </tr>\n",
       "    <tr>\n",
       "      <th>8015</th>\n",
       "      <td>8.96</td>\n",
       "      <td>6.9</td>\n",
       "      <td>0.009349</td>\n",
       "    </tr>\n",
       "    <tr>\n",
       "      <th>8016</th>\n",
       "      <td>8.97</td>\n",
       "      <td>6.9</td>\n",
       "      <td>0.009355</td>\n",
       "    </tr>\n",
       "    <tr>\n",
       "      <th>8017</th>\n",
       "      <td>8.98</td>\n",
       "      <td>6.9</td>\n",
       "      <td>0.009361</td>\n",
       "    </tr>\n",
       "    <tr>\n",
       "      <th>8018</th>\n",
       "      <td>8.99</td>\n",
       "      <td>6.9</td>\n",
       "      <td>0.009367</td>\n",
       "    </tr>\n",
       "    <tr>\n",
       "      <th>8019</th>\n",
       "      <td>9.00</td>\n",
       "      <td>6.9</td>\n",
       "      <td>0.009373</td>\n",
       "    </tr>\n",
       "  </tbody>\n",
       "</table>\n",
       "<p>8020 rows × 3 columns</p>\n",
       "</div>"
      ],
      "text/plain": [
       "       Vds  Vgs        Id\n",
       "0     5.00  5.0  0.003385\n",
       "1     5.01  5.0  0.003388\n",
       "2     5.02  5.0  0.003391\n",
       "3     5.03  5.0  0.003394\n",
       "4     5.04  5.0  0.003397\n",
       "...    ...  ...       ...\n",
       "8015  8.96  6.9  0.009349\n",
       "8016  8.97  6.9  0.009355\n",
       "8017  8.98  6.9  0.009361\n",
       "8018  8.99  6.9  0.009367\n",
       "8019  9.00  6.9  0.009373\n",
       "\n",
       "[8020 rows x 3 columns]"
      ]
     },
     "execution_count": 319,
     "metadata": {},
     "output_type": "execute_result"
    }
   ],
   "source": [
    "data_val = dataset_2p(vd_slice = slice(5, 9, .01),\n",
    "                    vg_range = np.arange(5, 7, .1), \n",
    "                    noise_width = [1e-6])\n",
    "file_name = 'mosfet_2p_val_2.csv'\n",
    "data_val.to_csv(file_name, index=None)\n",
    "data_val"
   ]
  },
  {
   "cell_type": "markdown",
   "id": "06281f81",
   "metadata": {},
   "source": [
    "## Датасет для нескольких параметров (Vds, Vgs, Length, Width, Temp)"
   ]
  },
  {
   "cell_type": "code",
   "execution_count": 320,
   "id": "e93c88de",
   "metadata": {},
   "outputs": [
    {
     "data": {
      "text/plain": [
       "array([[1, 3, 5, 7],\n",
       "       [1, 3, 5, 8],\n",
       "       [1, 3, 6, 7],\n",
       "       [1, 3, 6, 8],\n",
       "       [1, 4, 5, 7]])"
      ]
     },
     "execution_count": 320,
     "metadata": {},
     "output_type": "execute_result"
    }
   ],
   "source": [
    "def _join_cross(vg_range, l_range, w_range, temp_range):\n",
    "    ans = []\n",
    "    for vg in vg_range:\n",
    "        for l in l_range:\n",
    "            for w in w_range:\n",
    "                for t in temp_range:\n",
    "                    ans.append((vg, l, w, t))\n",
    "    return np.array(ans)\n",
    "\n",
    "_join_cross([1, 2], [3, 4], [5, 6], [7, 8])[:5]"
   ]
  },
  {
   "cell_type": "code",
   "execution_count": 325,
   "id": "2e13082b",
   "metadata": {},
   "outputs": [],
   "source": [
    "def dataset(vd_slice, params_range):\n",
    "    dataset = {'Vds': [], 'Vgs': [], 'L': [], 'W': [], 'T': [], 'Id': []}\n",
    "    Vds = np.array([])\n",
    "    Vgs = np.array([])\n",
    "    L   = np.array([])\n",
    "    W   = np.array([])\n",
    "    T   = np.array([])\n",
    "    Id  = np.array([])\n",
    "    \n",
    "    for vg, l, w, temp in tqdm(params_range):\n",
    "        circuit = mos_circuit({'vg':vg, 'length': l, 'width': w, 'temp': temp})\n",
    "        simulator = circuit.simulator(temperature=temp, normal_temperature=25)\n",
    "        analysis = simulator.dc(VD=vd_slice)\n",
    "        \n",
    "        id_range = (- np.array(analysis.branches['vd']))\n",
    "        len_id = len(id_range)\n",
    "        \n",
    "        vd_range = np.arange(vd_slice.start, vd_slice.stop + vd_slice.step, vd_slice.step)\n",
    "        \n",
    "        Vds = np.hstack((Vds, vd_range))\n",
    "        Vgs = np.hstack((Vgs, [vg] * len_id))\n",
    "        L   = np.hstack((L, [l] * len_id))\n",
    "        W   = np.hstack((W, [w] * len_id))\n",
    "        T   = np.hstack((T, [temp] * len_id))\n",
    "        Id  = np.hstack((Id, id_range))\n",
    "\n",
    "    dataset['Vds'] = Vds.tolist()\n",
    "    dataset['Vgs'] = Vgs.tolist()\n",
    "    dataset['L'] = L.tolist()\n",
    "    dataset['W'] = W.tolist()\n",
    "    dataset['T'] = T.tolist()\n",
    "    dataset['Id'] = Id.tolist()\n",
    "        \n",
    "    dataset = pd.DataFrame(dataset, index=None)\n",
    "    return dataset"
   ]
  },
  {
   "cell_type": "code",
   "execution_count": 336,
   "id": "5fa1b823",
   "metadata": {},
   "outputs": [
    {
     "data": {
      "text/plain": [
       "array([1, 4, 7])"
      ]
     },
     "execution_count": 336,
     "metadata": {},
     "output_type": "execute_result"
    }
   ],
   "source": [
    "np.arange(1, 10, 3)"
   ]
  },
  {
   "cell_type": "markdown",
   "id": "3ce7a773",
   "metadata": {},
   "source": [
    "len(W) + len(L) = 16 (шт) -- Всего транзисторов"
   ]
  },
  {
   "cell_type": "code",
   "execution_count": 410,
   "id": "4d54095f",
   "metadata": {},
   "outputs": [
    {
     "name": "stderr",
     "output_type": "stream",
     "text": [
      "100%|██████████████████████████████████████████████████████████████████████████████| 1056/1056 [00:35<00:00, 30.14it/s]\n"
     ]
    },
    {
     "data": {
      "text/html": [
       "<div>\n",
       "<style scoped>\n",
       "    .dataframe tbody tr th:only-of-type {\n",
       "        vertical-align: middle;\n",
       "    }\n",
       "\n",
       "    .dataframe tbody tr th {\n",
       "        vertical-align: top;\n",
       "    }\n",
       "\n",
       "    .dataframe thead th {\n",
       "        text-align: right;\n",
       "    }\n",
       "</style>\n",
       "<table border=\"1\" class=\"dataframe\">\n",
       "  <thead>\n",
       "    <tr style=\"text-align: right;\">\n",
       "      <th></th>\n",
       "      <th>Vds</th>\n",
       "      <th>Vgs</th>\n",
       "      <th>L</th>\n",
       "      <th>W</th>\n",
       "      <th>T</th>\n",
       "      <th>Id</th>\n",
       "    </tr>\n",
       "  </thead>\n",
       "  <tbody>\n",
       "    <tr>\n",
       "      <th>0</th>\n",
       "      <td>0.00</td>\n",
       "      <td>0.0</td>\n",
       "      <td>0.000001</td>\n",
       "      <td>0.000001</td>\n",
       "      <td>-20.0</td>\n",
       "      <td>-0.000000e+00</td>\n",
       "    </tr>\n",
       "    <tr>\n",
       "      <th>1</th>\n",
       "      <td>0.01</td>\n",
       "      <td>0.0</td>\n",
       "      <td>0.000001</td>\n",
       "      <td>0.000001</td>\n",
       "      <td>-20.0</td>\n",
       "      <td>1.000089e-14</td>\n",
       "    </tr>\n",
       "    <tr>\n",
       "      <th>2</th>\n",
       "      <td>0.02</td>\n",
       "      <td>0.0</td>\n",
       "      <td>0.000001</td>\n",
       "      <td>0.000001</td>\n",
       "      <td>-20.0</td>\n",
       "      <td>2.000116e-14</td>\n",
       "    </tr>\n",
       "    <tr>\n",
       "      <th>3</th>\n",
       "      <td>0.03</td>\n",
       "      <td>0.0</td>\n",
       "      <td>0.000001</td>\n",
       "      <td>0.000001</td>\n",
       "      <td>-20.0</td>\n",
       "      <td>3.000145e-14</td>\n",
       "    </tr>\n",
       "    <tr>\n",
       "      <th>4</th>\n",
       "      <td>0.04</td>\n",
       "      <td>0.0</td>\n",
       "      <td>0.000001</td>\n",
       "      <td>0.000001</td>\n",
       "      <td>-20.0</td>\n",
       "      <td>4.000163e-14</td>\n",
       "    </tr>\n",
       "    <tr>\n",
       "      <th>...</th>\n",
       "      <td>...</td>\n",
       "      <td>...</td>\n",
       "      <td>...</td>\n",
       "      <td>...</td>\n",
       "      <td>...</td>\n",
       "      <td>...</td>\n",
       "    </tr>\n",
       "    <tr>\n",
       "      <th>529051</th>\n",
       "      <td>4.96</td>\n",
       "      <td>5.0</td>\n",
       "      <td>0.000010</td>\n",
       "      <td>0.000010</td>\n",
       "      <td>80.0</td>\n",
       "      <td>2.710961e-03</td>\n",
       "    </tr>\n",
       "    <tr>\n",
       "      <th>529052</th>\n",
       "      <td>4.97</td>\n",
       "      <td>5.0</td>\n",
       "      <td>0.000010</td>\n",
       "      <td>0.000010</td>\n",
       "      <td>80.0</td>\n",
       "      <td>2.713380e-03</td>\n",
       "    </tr>\n",
       "    <tr>\n",
       "      <th>529053</th>\n",
       "      <td>4.98</td>\n",
       "      <td>5.0</td>\n",
       "      <td>0.000010</td>\n",
       "      <td>0.000010</td>\n",
       "      <td>80.0</td>\n",
       "      <td>2.715798e-03</td>\n",
       "    </tr>\n",
       "    <tr>\n",
       "      <th>529054</th>\n",
       "      <td>4.99</td>\n",
       "      <td>5.0</td>\n",
       "      <td>0.000010</td>\n",
       "      <td>0.000010</td>\n",
       "      <td>80.0</td>\n",
       "      <td>2.718216e-03</td>\n",
       "    </tr>\n",
       "    <tr>\n",
       "      <th>529055</th>\n",
       "      <td>5.00</td>\n",
       "      <td>5.0</td>\n",
       "      <td>0.000010</td>\n",
       "      <td>0.000010</td>\n",
       "      <td>80.0</td>\n",
       "      <td>2.720635e-03</td>\n",
       "    </tr>\n",
       "  </tbody>\n",
       "</table>\n",
       "<p>529056 rows × 6 columns</p>\n",
       "</div>"
      ],
      "text/plain": [
       "         Vds  Vgs         L         W     T            Id\n",
       "0       0.00  0.0  0.000001  0.000001 -20.0 -0.000000e+00\n",
       "1       0.01  0.0  0.000001  0.000001 -20.0  1.000089e-14\n",
       "2       0.02  0.0  0.000001  0.000001 -20.0  2.000116e-14\n",
       "3       0.03  0.0  0.000001  0.000001 -20.0  3.000145e-14\n",
       "4       0.04  0.0  0.000001  0.000001 -20.0  4.000163e-14\n",
       "...      ...  ...       ...       ...   ...           ...\n",
       "529051  4.96  5.0  0.000010  0.000010  80.0  2.710961e-03\n",
       "529052  4.97  5.0  0.000010  0.000010  80.0  2.713380e-03\n",
       "529053  4.98  5.0  0.000010  0.000010  80.0  2.715798e-03\n",
       "529054  4.99  5.0  0.000010  0.000010  80.0  2.718216e-03\n",
       "529055  5.00  5.0  0.000010  0.000010  80.0  2.720635e-03\n",
       "\n",
       "[529056 rows x 6 columns]"
      ]
     },
     "execution_count": 410,
     "metadata": {},
     "output_type": "execute_result"
    }
   ],
   "source": [
    "params_range = _join_cross(vg_range=np.arange(0, 5.1, 0.5),\n",
    "                           l_range=np.arange(1, 12, 3) * 1e-6, \n",
    "                           w_range=np.arange(1, 12, 3) * 1e-6, \n",
    "                           temp_range=np.arange(-20, 100, 20),\n",
    "                          )\n",
    "data = dataset(slice(0, 5, .01), params_range)\n",
    "data"
   ]
  },
  {
   "cell_type": "code",
   "execution_count": 411,
   "id": "1a6937af",
   "metadata": {},
   "outputs": [
    {
     "data": {
      "text/plain": [
       "(529056, 6)"
      ]
     },
     "execution_count": 411,
     "metadata": {},
     "output_type": "execute_result"
    }
   ],
   "source": [
    "data.shape"
   ]
  },
  {
   "cell_type": "markdown",
   "id": "8a24c41f",
   "metadata": {},
   "source": [
    "Сохраним и загрузим датасет"
   ]
  },
  {
   "cell_type": "code",
   "execution_count": 412,
   "id": "293b37d3",
   "metadata": {},
   "outputs": [],
   "source": [
    "file_name = 'mosfet.csv'\n",
    "data.to_csv(file_name, index=None)"
   ]
  },
  {
   "cell_type": "code",
   "execution_count": 424,
   "id": "d2242de1",
   "metadata": {},
   "outputs": [
    {
     "data": {
      "text/html": [
       "<div>\n",
       "<style scoped>\n",
       "    .dataframe tbody tr th:only-of-type {\n",
       "        vertical-align: middle;\n",
       "    }\n",
       "\n",
       "    .dataframe tbody tr th {\n",
       "        vertical-align: top;\n",
       "    }\n",
       "\n",
       "    .dataframe thead th {\n",
       "        text-align: right;\n",
       "    }\n",
       "</style>\n",
       "<table border=\"1\" class=\"dataframe\">\n",
       "  <thead>\n",
       "    <tr style=\"text-align: right;\">\n",
       "      <th></th>\n",
       "      <th>Vds</th>\n",
       "      <th>Vgs</th>\n",
       "      <th>L</th>\n",
       "      <th>W</th>\n",
       "      <th>T</th>\n",
       "      <th>Id</th>\n",
       "    </tr>\n",
       "  </thead>\n",
       "  <tbody>\n",
       "    <tr>\n",
       "      <th>0</th>\n",
       "      <td>0.00</td>\n",
       "      <td>0.0</td>\n",
       "      <td>0.000001</td>\n",
       "      <td>0.000001</td>\n",
       "      <td>-20.0</td>\n",
       "      <td>-0.000000e+00</td>\n",
       "    </tr>\n",
       "    <tr>\n",
       "      <th>1</th>\n",
       "      <td>0.01</td>\n",
       "      <td>0.0</td>\n",
       "      <td>0.000001</td>\n",
       "      <td>0.000001</td>\n",
       "      <td>-20.0</td>\n",
       "      <td>1.000089e-14</td>\n",
       "    </tr>\n",
       "    <tr>\n",
       "      <th>2</th>\n",
       "      <td>0.02</td>\n",
       "      <td>0.0</td>\n",
       "      <td>0.000001</td>\n",
       "      <td>0.000001</td>\n",
       "      <td>-20.0</td>\n",
       "      <td>2.000116e-14</td>\n",
       "    </tr>\n",
       "    <tr>\n",
       "      <th>3</th>\n",
       "      <td>0.03</td>\n",
       "      <td>0.0</td>\n",
       "      <td>0.000001</td>\n",
       "      <td>0.000001</td>\n",
       "      <td>-20.0</td>\n",
       "      <td>3.000145e-14</td>\n",
       "    </tr>\n",
       "    <tr>\n",
       "      <th>4</th>\n",
       "      <td>0.04</td>\n",
       "      <td>0.0</td>\n",
       "      <td>0.000001</td>\n",
       "      <td>0.000001</td>\n",
       "      <td>-20.0</td>\n",
       "      <td>4.000163e-14</td>\n",
       "    </tr>\n",
       "    <tr>\n",
       "      <th>...</th>\n",
       "      <td>...</td>\n",
       "      <td>...</td>\n",
       "      <td>...</td>\n",
       "      <td>...</td>\n",
       "      <td>...</td>\n",
       "      <td>...</td>\n",
       "    </tr>\n",
       "    <tr>\n",
       "      <th>529051</th>\n",
       "      <td>4.96</td>\n",
       "      <td>5.0</td>\n",
       "      <td>0.000010</td>\n",
       "      <td>0.000010</td>\n",
       "      <td>80.0</td>\n",
       "      <td>2.710961e-03</td>\n",
       "    </tr>\n",
       "    <tr>\n",
       "      <th>529052</th>\n",
       "      <td>4.97</td>\n",
       "      <td>5.0</td>\n",
       "      <td>0.000010</td>\n",
       "      <td>0.000010</td>\n",
       "      <td>80.0</td>\n",
       "      <td>2.713380e-03</td>\n",
       "    </tr>\n",
       "    <tr>\n",
       "      <th>529053</th>\n",
       "      <td>4.98</td>\n",
       "      <td>5.0</td>\n",
       "      <td>0.000010</td>\n",
       "      <td>0.000010</td>\n",
       "      <td>80.0</td>\n",
       "      <td>2.715798e-03</td>\n",
       "    </tr>\n",
       "    <tr>\n",
       "      <th>529054</th>\n",
       "      <td>4.99</td>\n",
       "      <td>5.0</td>\n",
       "      <td>0.000010</td>\n",
       "      <td>0.000010</td>\n",
       "      <td>80.0</td>\n",
       "      <td>2.718216e-03</td>\n",
       "    </tr>\n",
       "    <tr>\n",
       "      <th>529055</th>\n",
       "      <td>5.00</td>\n",
       "      <td>5.0</td>\n",
       "      <td>0.000010</td>\n",
       "      <td>0.000010</td>\n",
       "      <td>80.0</td>\n",
       "      <td>2.720635e-03</td>\n",
       "    </tr>\n",
       "  </tbody>\n",
       "</table>\n",
       "<p>529056 rows × 6 columns</p>\n",
       "</div>"
      ],
      "text/plain": [
       "         Vds  Vgs         L         W     T            Id\n",
       "0       0.00  0.0  0.000001  0.000001 -20.0 -0.000000e+00\n",
       "1       0.01  0.0  0.000001  0.000001 -20.0  1.000089e-14\n",
       "2       0.02  0.0  0.000001  0.000001 -20.0  2.000116e-14\n",
       "3       0.03  0.0  0.000001  0.000001 -20.0  3.000145e-14\n",
       "4       0.04  0.0  0.000001  0.000001 -20.0  4.000163e-14\n",
       "...      ...  ...       ...       ...   ...           ...\n",
       "529051  4.96  5.0  0.000010  0.000010  80.0  2.710961e-03\n",
       "529052  4.97  5.0  0.000010  0.000010  80.0  2.713380e-03\n",
       "529053  4.98  5.0  0.000010  0.000010  80.0  2.715798e-03\n",
       "529054  4.99  5.0  0.000010  0.000010  80.0  2.718216e-03\n",
       "529055  5.00  5.0  0.000010  0.000010  80.0  2.720635e-03\n",
       "\n",
       "[529056 rows x 6 columns]"
      ]
     },
     "execution_count": 424,
     "metadata": {},
     "output_type": "execute_result"
    }
   ],
   "source": [
    "df = pd.read_csv('mosfet.csv')\n",
    "df"
   ]
  },
  {
   "cell_type": "code",
   "execution_count": 414,
   "id": "91caba0c",
   "metadata": {},
   "outputs": [
    {
     "data": {
      "text/plain": [
       "array([0. , 0.5, 1. , 1.5, 2. , 2.5, 3. , 3.5, 4. , 4.5, 5. ])"
      ]
     },
     "execution_count": 414,
     "metadata": {},
     "output_type": "execute_result"
    }
   ],
   "source": [
    "df['Vgs'].unique()"
   ]
  },
  {
   "cell_type": "code",
   "execution_count": 415,
   "id": "233d3f00",
   "metadata": {},
   "outputs": [
    {
     "data": {
      "text/plain": [
       "array([1.e-06, 4.e-06, 7.e-06, 1.e-05])"
      ]
     },
     "execution_count": 415,
     "metadata": {},
     "output_type": "execute_result"
    }
   ],
   "source": [
    "df['L'].unique()"
   ]
  },
  {
   "cell_type": "code",
   "execution_count": 416,
   "id": "daf286a9",
   "metadata": {},
   "outputs": [
    {
     "data": {
      "text/plain": [
       "array([1.e-06, 4.e-06, 7.e-06, 1.e-05])"
      ]
     },
     "execution_count": 416,
     "metadata": {},
     "output_type": "execute_result"
    }
   ],
   "source": [
    "df['W'].unique()"
   ]
  },
  {
   "cell_type": "code",
   "execution_count": 417,
   "id": "b7989eb9",
   "metadata": {},
   "outputs": [
    {
     "data": {
      "text/plain": [
       "array([-20.,   0.,  20.,  40.,  60.,  80.])"
      ]
     },
     "execution_count": 417,
     "metadata": {},
     "output_type": "execute_result"
    }
   ],
   "source": [
    "df['T'].unique()"
   ]
  },
  {
   "cell_type": "code",
   "execution_count": 418,
   "id": "d8ab8bca",
   "metadata": {},
   "outputs": [
    {
     "data": {
      "image/png": "[encoded data removed]",
      "text/plain": [
       "<Figure size 360x360 with 1 Axes>"
      ]
     },
     "metadata": {
      "needs_background": "light"
     },
     "output_type": "display_data"
    }
   ],
   "source": [
    "x = df['Vds']\n",
    "y = df['Vgs']\n",
    "\n",
    "fig, ax = plt.subplots(figsize=(5, 5))\n",
    "ax.set(xlabel='Vds', ylabel='Vgs', title='Распределение точек')\n",
    "ax.grid(color='gray', alpha=0.5, linestyle='dashed', linewidth=0.5)\n",
    "\n",
    "plt.scatter(x, y)\n",
    "plt.show()"
   ]
  },
  {
   "cell_type": "code",
   "execution_count": 432,
   "id": "1fce0d9c",
   "metadata": {},
   "outputs": [
    {
     "data": {
      "image/png": "[encoded data removed]",
      "text/plain": [
       "<Figure size 360x360 with 1 Axes>"
      ]
     },
     "metadata": {
      "needs_background": "light"
     },
     "output_type": "display_data"
    }
   ],
   "source": [
    "x = df[df['T'] == df.iloc[0]['T']]['W']\n",
    "y = df[df['T'] == df.iloc[0]['T']]['L']\n",
    "\n",
    "fig, ax = plt.subplots(figsize=(5, 5))\n",
    "ax.set(xlabel='Width', ylabel='Length', title='Распределение точек')\n",
    "ax.grid(color='gray', alpha=0.5, linestyle='dashed', linewidth=0.5)\n",
    "\n",
    "plt.scatter(x, y)\n",
    "plt.show()"
   ]
  },
  {
   "cell_type": "code",
   "execution_count": 420,
   "id": "c4442e78",
   "metadata": {},
   "outputs": [
    {
     "data": {
      "text/plain": [
       "1e-06"
      ]
     },
     "execution_count": 420,
     "metadata": {},
     "output_type": "execute_result"
    }
   ],
   "source": [
    "df.iloc[1]['L']"
   ]
  },
  {
   "cell_type": "code",
   "execution_count": 421,
   "id": "b689bcdb",
   "metadata": {},
   "outputs": [
    {
     "data": {
      "image/png": "[encoded data removed]",
      "text/plain": [
       "<Figure size 360x360 with 1 Axes>"
      ]
     },
     "metadata": {
      "needs_background": "light"
     },
     "output_type": "display_data"
    }
   ],
   "source": [
    "x = df['Vds']\n",
    "y = df['Id']\n",
    "\n",
    "fig, ax = plt.subplots(figsize=(5, 5))\n",
    "ax.set(xlabel='Vds', ylabel='Id', title='Распределение точек')\n",
    "ax.grid(color='gray', alpha=0.5, linestyle='dashed', linewidth=0.5)\n",
    "\n",
    "plt.scatter(x, y, s=5)\n",
    "plt.show()"
   ]
  },
  {
   "cell_type": "code",
   "execution_count": 422,
   "id": "dc7bd7df",
   "metadata": {},
   "outputs": [
    {
     "data": {
      "image/png": "[encoded data removed]",
      "text/plain": [
       "<Figure size 360x360 with 1 Axes>"
      ]
     },
     "metadata": {
      "needs_background": "light"
     },
     "output_type": "display_data"
    }
   ],
   "source": [
    "x = df[(df['L'] == df.iloc[10]['L']) & (df['W'] == df.iloc[10]['W']) & (df['Vgs'] == 4.)]['Vds']\n",
    "y = df[(df['L'] == df.iloc[10]['L']) & (df['W'] == df.iloc[10]['W']) & (df['Vgs'] == 4.)]['Id']\n",
    "\n",
    "fig, ax = plt.subplots(figsize=(5, 5))\n",
    "ax.set(xlabel='Vds', ylabel='Vgs', title='Распределение точек от T')\n",
    "ax.grid(color='gray', alpha=0.5, linestyle='dashed', linewidth=0.5)\n",
    "\n",
    "plt.scatter(x, y, s=5)\n",
    "plt.show()"
   ]
  },
  {
   "cell_type": "markdown",
   "id": "b7d1e13c",
   "metadata": {},
   "source": [
    "### Данные для валидации"
   ]
  },
  {
   "cell_type": "markdown",
   "id": "3421296e",
   "metadata": {},
   "source": [
    "Данные внутри области обучения"
   ]
  },
  {
   "cell_type": "code",
   "execution_count": 438,
   "id": "d62f2803",
   "metadata": {},
   "outputs": [
    {
     "data": {
      "text/plain": [
       "array([ 2.5,  5.5,  8.5, 11.5])"
      ]
     },
     "execution_count": 438,
     "metadata": {},
     "output_type": "execute_result"
    }
   ],
   "source": [
    "np.arange(2.5, 12, 3)"
   ]
  },
  {
   "cell_type": "code",
   "execution_count": 439,
   "id": "be3a2d9c",
   "metadata": {},
   "outputs": [
    {
     "data": {
      "text/plain": [
       "array([ 1,  4,  7, 10])"
      ]
     },
     "execution_count": 439,
     "metadata": {},
     "output_type": "execute_result"
    }
   ],
   "source": [
    "np.arange(1, 12, 3)"
   ]
  },
  {
   "cell_type": "code",
   "execution_count": 458,
   "id": "ffd92cdf",
   "metadata": {},
   "outputs": [
    {
     "name": "stderr",
     "output_type": "stream",
     "text": [
      "100%|██████████████████████████████████████████████████████████████████████████████| 1760/1760 [00:29<00:00, 60.52it/s]\n"
     ]
    },
    {
     "data": {
      "text/html": [
       "<div>\n",
       "<style scoped>\n",
       "    .dataframe tbody tr th:only-of-type {\n",
       "        vertical-align: middle;\n",
       "    }\n",
       "\n",
       "    .dataframe tbody tr th {\n",
       "        vertical-align: top;\n",
       "    }\n",
       "\n",
       "    .dataframe thead th {\n",
       "        text-align: right;\n",
       "    }\n",
       "</style>\n",
       "<table border=\"1\" class=\"dataframe\">\n",
       "  <thead>\n",
       "    <tr style=\"text-align: right;\">\n",
       "      <th></th>\n",
       "      <th>Vds</th>\n",
       "      <th>Vgs</th>\n",
       "      <th>L</th>\n",
       "      <th>W</th>\n",
       "      <th>T</th>\n",
       "      <th>Id</th>\n",
       "    </tr>\n",
       "  </thead>\n",
       "  <tbody>\n",
       "    <tr>\n",
       "      <th>0</th>\n",
       "      <td>0.0</td>\n",
       "      <td>0.25</td>\n",
       "      <td>0.000002</td>\n",
       "      <td>0.000002</td>\n",
       "      <td>-15.0</td>\n",
       "      <td>-0.000000e+00</td>\n",
       "    </tr>\n",
       "    <tr>\n",
       "      <th>1</th>\n",
       "      <td>0.1</td>\n",
       "      <td>0.25</td>\n",
       "      <td>0.000002</td>\n",
       "      <td>0.000002</td>\n",
       "      <td>-15.0</td>\n",
       "      <td>1.000250e-13</td>\n",
       "    </tr>\n",
       "    <tr>\n",
       "      <th>2</th>\n",
       "      <td>0.2</td>\n",
       "      <td>0.25</td>\n",
       "      <td>0.000002</td>\n",
       "      <td>0.000002</td>\n",
       "      <td>-15.0</td>\n",
       "      <td>2.000056e-13</td>\n",
       "    </tr>\n",
       "    <tr>\n",
       "      <th>3</th>\n",
       "      <td>0.3</td>\n",
       "      <td>0.25</td>\n",
       "      <td>0.000002</td>\n",
       "      <td>0.000002</td>\n",
       "      <td>-15.0</td>\n",
       "      <td>3.000056e-13</td>\n",
       "    </tr>\n",
       "    <tr>\n",
       "      <th>4</th>\n",
       "      <td>0.4</td>\n",
       "      <td>0.25</td>\n",
       "      <td>0.000002</td>\n",
       "      <td>0.000002</td>\n",
       "      <td>-15.0</td>\n",
       "      <td>4.000056e-13</td>\n",
       "    </tr>\n",
       "    <tr>\n",
       "      <th>...</th>\n",
       "      <td>...</td>\n",
       "      <td>...</td>\n",
       "      <td>...</td>\n",
       "      <td>...</td>\n",
       "      <td>...</td>\n",
       "      <td>...</td>\n",
       "    </tr>\n",
       "    <tr>\n",
       "      <th>89755</th>\n",
       "      <td>4.6</td>\n",
       "      <td>4.75</td>\n",
       "      <td>0.000012</td>\n",
       "      <td>0.000012</td>\n",
       "      <td>85.0</td>\n",
       "      <td>2.300000e-03</td>\n",
       "    </tr>\n",
       "    <tr>\n",
       "      <th>89756</th>\n",
       "      <td>4.7</td>\n",
       "      <td>4.75</td>\n",
       "      <td>0.000012</td>\n",
       "      <td>0.000012</td>\n",
       "      <td>85.0</td>\n",
       "      <td>2.321198e-03</td>\n",
       "    </tr>\n",
       "    <tr>\n",
       "      <th>89757</th>\n",
       "      <td>4.8</td>\n",
       "      <td>4.75</td>\n",
       "      <td>0.000012</td>\n",
       "      <td>0.000012</td>\n",
       "      <td>85.0</td>\n",
       "      <td>2.342396e-03</td>\n",
       "    </tr>\n",
       "    <tr>\n",
       "      <th>89758</th>\n",
       "      <td>4.9</td>\n",
       "      <td>4.75</td>\n",
       "      <td>0.000012</td>\n",
       "      <td>0.000012</td>\n",
       "      <td>85.0</td>\n",
       "      <td>2.363594e-03</td>\n",
       "    </tr>\n",
       "    <tr>\n",
       "      <th>89759</th>\n",
       "      <td>5.0</td>\n",
       "      <td>4.75</td>\n",
       "      <td>0.000012</td>\n",
       "      <td>0.000012</td>\n",
       "      <td>85.0</td>\n",
       "      <td>2.384792e-03</td>\n",
       "    </tr>\n",
       "  </tbody>\n",
       "</table>\n",
       "<p>89760 rows × 6 columns</p>\n",
       "</div>"
      ],
      "text/plain": [
       "       Vds   Vgs         L         W     T            Id\n",
       "0      0.0  0.25  0.000002  0.000002 -15.0 -0.000000e+00\n",
       "1      0.1  0.25  0.000002  0.000002 -15.0  1.000250e-13\n",
       "2      0.2  0.25  0.000002  0.000002 -15.0  2.000056e-13\n",
       "3      0.3  0.25  0.000002  0.000002 -15.0  3.000056e-13\n",
       "4      0.4  0.25  0.000002  0.000002 -15.0  4.000056e-13\n",
       "...    ...   ...       ...       ...   ...           ...\n",
       "89755  4.6  4.75  0.000012  0.000012  85.0  2.300000e-03\n",
       "89756  4.7  4.75  0.000012  0.000012  85.0  2.321198e-03\n",
       "89757  4.8  4.75  0.000012  0.000012  85.0  2.342396e-03\n",
       "89758  4.9  4.75  0.000012  0.000012  85.0  2.363594e-03\n",
       "89759  5.0  4.75  0.000012  0.000012  85.0  2.384792e-03\n",
       "\n",
       "[89760 rows x 6 columns]"
      ]
     },
     "execution_count": 458,
     "metadata": {},
     "output_type": "execute_result"
    }
   ],
   "source": [
    "params_range_val = _join_cross(vg_range=np.arange(0.25, 5.1, 0.5),\n",
    "                           l_range=np.arange(2.5, 12, 3) * 1e-6, \n",
    "                           w_range=np.arange(2.5, 12, 3) * 1e-6, \n",
    "                           temp_range=np.arange(-15, 90, 10),\n",
    "                          )\n",
    "data_val = dataset(slice(0, 5, .1), params_range_val)\n",
    "data_val"
   ]
  },
  {
   "cell_type": "code",
   "execution_count": 459,
   "id": "72122645",
   "metadata": {},
   "outputs": [],
   "source": [
    "file_name = 'mosfet_val_0.csv'\n",
    "data_val.to_csv(file_name, index=None)"
   ]
  },
  {
   "cell_type": "code",
   "execution_count": 460,
   "id": "8a69409b",
   "metadata": {
    "scrolled": true
   },
   "outputs": [
    {
     "data": {
      "image/png": "[encoded data removed]",
      "text/plain": [
       "<Figure size 360x360 with 1 Axes>"
      ]
     },
     "metadata": {
      "needs_background": "light"
     },
     "output_type": "display_data"
    }
   ],
   "source": [
    "x = df[df['T'] == df.iloc[0]['T']]['Vds']\n",
    "y = df[df['T'] == df.iloc[0]['T']]['Vgs']\n",
    "\n",
    "x_val = data_val[data_val['T'] == data_val.iloc[0]['T']]['Vds']\n",
    "y_val = data_val[data_val['T'] == data_val.iloc[0]['T']]['Vgs']\n",
    "\n",
    "fig, ax = plt.subplots(figsize=(5, 5))\n",
    "ax.set(xlabel='Vds', ylabel='Vgs', title='Распределение точек')\n",
    "ax.grid(color='gray', alpha=0.5, linestyle='dashed', linewidth=0.5)\n",
    "\n",
    "plt.scatter(x, y)\n",
    "plt.scatter(x_val, y_val)\n",
    "plt.show()"
   ]
  },
  {
   "cell_type": "code",
   "execution_count": 461,
   "id": "3b69eed3",
   "metadata": {},
   "outputs": [
    {
     "data": {
      "image/png": "[encoded data removed]",
      "text/plain": [
       "<Figure size 360x360 with 1 Axes>"
      ]
     },
     "metadata": {
      "needs_background": "light"
     },
     "output_type": "display_data"
    }
   ],
   "source": [
    "x = df[df['T'] == df.iloc[0]['T']]['W']\n",
    "y = df[df['T'] == df.iloc[0]['T']]['L']\n",
    "\n",
    "x_val = data_val[data_val['T'] == data_val.iloc[0]['T']]['W']\n",
    "y_val = data_val[data_val['T'] == data_val.iloc[0]['T']]['L']\n",
    "\n",
    "fig, ax = plt.subplots(figsize=(5, 5))\n",
    "ax.set(xlabel='Width', ylabel='Length', title='Распределение точек')\n",
    "ax.grid(color='gray', alpha=0.5, linestyle='dashed', linewidth=0.5)\n",
    "\n",
    "plt.scatter(x, y)\n",
    "plt.scatter(x_val, y_val)\n",
    "plt.show()"
   ]
  },
  {
   "cell_type": "markdown",
   "id": "5627459d",
   "metadata": {},
   "source": [
    "Валидационные данные вне области обучения"
   ]
  },
  {
   "cell_type": "code",
   "execution_count": 466,
   "id": "de0a909d",
   "metadata": {},
   "outputs": [
    {
     "name": "stderr",
     "output_type": "stream",
     "text": [
      "100%|██████████████████████████████████████████████████████████████████████████████| 4800/4800 [01:14<00:00, 64.02it/s]\n"
     ]
    },
    {
     "data": {
      "text/html": [
       "<div>\n",
       "<style scoped>\n",
       "    .dataframe tbody tr th:only-of-type {\n",
       "        vertical-align: middle;\n",
       "    }\n",
       "\n",
       "    .dataframe tbody tr th {\n",
       "        vertical-align: top;\n",
       "    }\n",
       "\n",
       "    .dataframe thead th {\n",
       "        text-align: right;\n",
       "    }\n",
       "</style>\n",
       "<table border=\"1\" class=\"dataframe\">\n",
       "  <thead>\n",
       "    <tr style=\"text-align: right;\">\n",
       "      <th></th>\n",
       "      <th>Vds</th>\n",
       "      <th>Vgs</th>\n",
       "      <th>L</th>\n",
       "      <th>W</th>\n",
       "      <th>T</th>\n",
       "      <th>Id</th>\n",
       "    </tr>\n",
       "  </thead>\n",
       "  <tbody>\n",
       "    <tr>\n",
       "      <th>0</th>\n",
       "      <td>0.0</td>\n",
       "      <td>0.01</td>\n",
       "      <td>0.000005</td>\n",
       "      <td>0.000005</td>\n",
       "      <td>-30.0</td>\n",
       "      <td>-0.000000e+00</td>\n",
       "    </tr>\n",
       "    <tr>\n",
       "      <th>1</th>\n",
       "      <td>0.5</td>\n",
       "      <td>0.01</td>\n",
       "      <td>0.000005</td>\n",
       "      <td>0.000005</td>\n",
       "      <td>-30.0</td>\n",
       "      <td>5.000049e-13</td>\n",
       "    </tr>\n",
       "    <tr>\n",
       "      <th>2</th>\n",
       "      <td>1.0</td>\n",
       "      <td>0.01</td>\n",
       "      <td>0.000005</td>\n",
       "      <td>0.000005</td>\n",
       "      <td>-30.0</td>\n",
       "      <td>1.000000e-12</td>\n",
       "    </tr>\n",
       "    <tr>\n",
       "      <th>3</th>\n",
       "      <td>1.5</td>\n",
       "      <td>0.01</td>\n",
       "      <td>0.000005</td>\n",
       "      <td>0.000005</td>\n",
       "      <td>-30.0</td>\n",
       "      <td>1.500000e-12</td>\n",
       "    </tr>\n",
       "    <tr>\n",
       "      <th>4</th>\n",
       "      <td>2.0</td>\n",
       "      <td>0.01</td>\n",
       "      <td>0.000005</td>\n",
       "      <td>0.000005</td>\n",
       "      <td>-30.0</td>\n",
       "      <td>2.000000e-12</td>\n",
       "    </tr>\n",
       "    <tr>\n",
       "      <th>...</th>\n",
       "      <td>...</td>\n",
       "      <td>...</td>\n",
       "      <td>...</td>\n",
       "      <td>...</td>\n",
       "      <td>...</td>\n",
       "      <td>...</td>\n",
       "    </tr>\n",
       "    <tr>\n",
       "      <th>81595</th>\n",
       "      <td>6.0</td>\n",
       "      <td>7.51</td>\n",
       "      <td>0.000017</td>\n",
       "      <td>0.000017</td>\n",
       "      <td>80.0</td>\n",
       "      <td>7.031310e-03</td>\n",
       "    </tr>\n",
       "    <tr>\n",
       "      <th>81596</th>\n",
       "      <td>6.5</td>\n",
       "      <td>7.51</td>\n",
       "      <td>0.000017</td>\n",
       "      <td>0.000017</td>\n",
       "      <td>80.0</td>\n",
       "      <td>7.434640e-03</td>\n",
       "    </tr>\n",
       "    <tr>\n",
       "      <th>81597</th>\n",
       "      <td>7.0</td>\n",
       "      <td>7.51</td>\n",
       "      <td>0.000017</td>\n",
       "      <td>0.000017</td>\n",
       "      <td>80.0</td>\n",
       "      <td>7.768190e-03</td>\n",
       "    </tr>\n",
       "    <tr>\n",
       "      <th>81598</th>\n",
       "      <td>7.5</td>\n",
       "      <td>7.51</td>\n",
       "      <td>0.000017</td>\n",
       "      <td>0.000017</td>\n",
       "      <td>80.0</td>\n",
       "      <td>8.061372e-03</td>\n",
       "    </tr>\n",
       "    <tr>\n",
       "      <th>81599</th>\n",
       "      <td>8.0</td>\n",
       "      <td>7.51</td>\n",
       "      <td>0.000017</td>\n",
       "      <td>0.000017</td>\n",
       "      <td>80.0</td>\n",
       "      <td>8.354512e-03</td>\n",
       "    </tr>\n",
       "  </tbody>\n",
       "</table>\n",
       "<p>81600 rows × 6 columns</p>\n",
       "</div>"
      ],
      "text/plain": [
       "       Vds   Vgs         L         W     T            Id\n",
       "0      0.0  0.01  0.000005  0.000005 -30.0 -0.000000e+00\n",
       "1      0.5  0.01  0.000005  0.000005 -30.0  5.000049e-13\n",
       "2      1.0  0.01  0.000005  0.000005 -30.0  1.000000e-12\n",
       "3      1.5  0.01  0.000005  0.000005 -30.0  1.500000e-12\n",
       "4      2.0  0.01  0.000005  0.000005 -30.0  2.000000e-12\n",
       "...    ...   ...       ...       ...   ...           ...\n",
       "81595  6.0  7.51  0.000017  0.000017  80.0  7.031310e-03\n",
       "81596  6.5  7.51  0.000017  0.000017  80.0  7.434640e-03\n",
       "81597  7.0  7.51  0.000017  0.000017  80.0  7.768190e-03\n",
       "81598  7.5  7.51  0.000017  0.000017  80.0  8.061372e-03\n",
       "81599  8.0  7.51  0.000017  0.000017  80.0  8.354512e-03\n",
       "\n",
       "[81600 rows x 6 columns]"
      ]
     },
     "execution_count": 466,
     "metadata": {},
     "output_type": "execute_result"
    }
   ],
   "source": [
    "params_range_val = _join_cross(vg_range=np.arange(0.01, 8, 0.5),\n",
    "                           l_range=np.arange(5, 20, 3) * 1e-6, \n",
    "                           w_range=np.arange(5, 20, 3) * 1e-6, \n",
    "                           temp_range=np.arange(-30, 90, 10),\n",
    "                          )\n",
    "data_val = dataset(slice(0, 8, .5), params_range_val)\n",
    "data_val"
   ]
  },
  {
   "cell_type": "code",
   "execution_count": 467,
   "id": "eafc5ea4",
   "metadata": {},
   "outputs": [],
   "source": [
    "file_name = 'mosfet_val_1.csv'\n",
    "data_val.to_csv(file_name, index=None)"
   ]
  },
  {
   "cell_type": "code",
   "execution_count": 468,
   "id": "75b9d351",
   "metadata": {},
   "outputs": [
    {
     "data": {
      "image/png": "[encoded data removed]",
      "text/plain": [
       "<Figure size 360x360 with 1 Axes>"
      ]
     },
     "metadata": {
      "needs_background": "light"
     },
     "output_type": "display_data"
    }
   ],
   "source": [
    "x = df[df['T'] == df.iloc[0]['T']]['Vds']\n",
    "y = df[df['T'] == df.iloc[0]['T']]['Vgs']\n",
    "\n",
    "x_val = data_val[data_val['T'] == data_val.iloc[0]['T']]['Vds']\n",
    "y_val = data_val[data_val['T'] == data_val.iloc[0]['T']]['Vgs']\n",
    "\n",
    "fig, ax = plt.subplots(figsize=(5, 5))\n",
    "ax.set(xlabel='Vds', ylabel='Vgs', title='Распределение точек')\n",
    "ax.grid(color='gray', alpha=0.5, linestyle='dashed', linewidth=0.5)\n",
    "\n",
    "plt.scatter(x, y)\n",
    "plt.scatter(x_val, y_val)\n",
    "plt.show()"
   ]
  },
  {
   "cell_type": "code",
   "execution_count": 469,
   "id": "c57fe886",
   "metadata": {},
   "outputs": [
    {
     "data": {
      "image/png": "[encoded data removed]",
      "text/plain": [
       "<Figure size 360x360 with 1 Axes>"
      ]
     },
     "metadata": {
      "needs_background": "light"
     },
     "output_type": "display_data"
    }
   ],
   "source": [
    "x = df[df['T'] == df.iloc[0]['T']]['W']\n",
    "y = df[df['T'] == df.iloc[0]['T']]['L']\n",
    "\n",
    "x_val = data_val[data_val['T'] == data_val.iloc[0]['T']]['W']\n",
    "y_val = data_val[data_val['T'] == data_val.iloc[0]['T']]['L']\n",
    "\n",
    "fig, ax = plt.subplots(figsize=(5, 5))\n",
    "ax.set(xlabel='Width', ylabel='Length', title='Распределение точек')\n",
    "ax.grid(color='gray', alpha=0.5, linestyle='dashed', linewidth=0.5)\n",
    "\n",
    "plt.scatter(x, y)\n",
    "plt.scatter(x_val, y_val)\n",
    "plt.show()"
   ]
  },
  {
   "cell_type": "markdown",
   "id": "a9f4ceab",
   "metadata": {},
   "source": [
    "Данные для графиков"
   ]
  },
  {
   "cell_type": "code",
   "execution_count": 479,
   "id": "baafb8f2",
   "metadata": {},
   "outputs": [
    {
     "name": "stderr",
     "output_type": "stream",
     "text": [
      "100%|████████████████████████████████████████████████████████████████████████████████████| 1/1 [00:00<00:00, 38.56it/s]\n"
     ]
    }
   ],
   "source": [
    "data_val = dataset(slice(0, 8, .5), [(0.5, 5 * 1e-6, 5 * 1e-6, 25)])"
   ]
  },
  {
   "cell_type": "code",
   "execution_count": 480,
   "id": "011ae991",
   "metadata": {},
   "outputs": [],
   "source": [
    "file_name = 'mosfet_val_3.csv'\n",
    "data_val.to_csv(file_name, index=None)"
   ]
  },
  {
   "cell_type": "code",
   "execution_count": null,
   "id": "993e7f4d",
   "metadata": {},
   "outputs": [],
   "source": []
  },
  {
   "cell_type": "code",
   "execution_count": 481,
   "id": "11c76bcb",
   "metadata": {},
   "outputs": [
    {
     "name": "stderr",
     "output_type": "stream",
     "text": [
      "100%|████████████████████████████████████████████████████████████████████████████████████| 1/1 [00:00<00:00, 47.74it/s]\n"
     ]
    }
   ],
   "source": [
    "data_val = dataset(slice(0, 8, .5), [(4, 15 * 1e-6, 15 * 1e-6, 25)])\n",
    "file_name = 'mosfet_val_4.csv'\n",
    "data_val.to_csv(file_name, index=None)"
   ]
  },
  {
   "cell_type": "code",
   "execution_count": null,
   "id": "954cdbb1",
   "metadata": {},
   "outputs": [],
   "source": []
  },
  {
   "cell_type": "code",
   "execution_count": 482,
   "id": "f51009f6",
   "metadata": {},
   "outputs": [
    {
     "name": "stderr",
     "output_type": "stream",
     "text": [
      "100%|████████████████████████████████████████████████████████████████████████████████████| 1/1 [00:00<00:00, 59.02it/s]\n"
     ]
    }
   ],
   "source": [
    "data_val = dataset(slice(0, 8, .5), [(5, 15 * 1e-6, 15 * 1e-6, 90)])\n",
    "file_name = 'mosfet_val_5.csv'\n",
    "data_val.to_csv(file_name, index=None)"
   ]
  },
  {
   "cell_type": "code",
   "execution_count": null,
   "id": "7a8ff1b5",
   "metadata": {},
   "outputs": [],
   "source": []
  }
 ],
 "metadata": {
  "kernelspec": {
   "display_name": "Python 3 (ipykernel)",
   "language": "python",
   "name": "python3"
  },
  "language_info": {
   "codemirror_mode": {
    "name": "ipython",
    "version": 3
   },
   "file_extension": ".py",
   "mimetype": "text/x-python",
   "name": "python",
   "nbconvert_exporter": "python",
   "pygments_lexer": "ipython3",
   "version": "3.9.12"
  }
 },
 "nbformat": 4,
 "nbformat_minor": 5
}
