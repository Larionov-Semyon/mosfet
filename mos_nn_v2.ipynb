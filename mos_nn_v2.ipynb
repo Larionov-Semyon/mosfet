{
  "cells": [
    {
      "cell_type": "markdown",
      "id": "hB7goGlyCvG-",
      "metadata": {
        "id": "hB7goGlyCvG-"
      },
      "source": [
        "# Обучение сети c несколькими параметрами"
      ]
    },
    {
      "cell_type": "markdown",
      "source": [
        "Параметры обучения: Vgs, Vds, L, W, Temp"
      ],
      "metadata": {
        "id": "OF9ioID06gFB"
      },
      "id": "OF9ioID06gFB"
    },
    {
      "cell_type": "code",
      "execution_count": 3,
      "id": "85f7ea6c",
      "metadata": {
        "_cell_guid": "b1076dfc-b9ad-4769-8c92-a6c4dae69d19",
        "_uuid": "8f2839f25d086af736a60e9eeb907d3b93b6e0e5",
        "execution": {
          "iopub.execute_input": "2022-06-26T14:20:57.531515Z",
          "iopub.status.busy": "2022-06-26T14:20:57.527989Z",
          "iopub.status.idle": "2022-06-26T14:20:57.533861Z",
          "shell.execute_reply": "2022-06-26T14:20:57.533314Z",
          "shell.execute_reply.started": "2021-12-08T09:25:34.401555Z"
        },
        "id": "85f7ea6c",
        "papermill": {
          "duration": 0.039415,
          "end_time": "2022-06-26T14:20:57.533996",
          "exception": false,
          "start_time": "2022-06-26T14:20:57.494581",
          "status": "completed"
        },
        "tags": []
      },
      "outputs": [],
      "source": [
        "import numpy as np\n",
        "import pandas as pd\n",
        "import time"
      ]
    },
    {
      "cell_type": "code",
      "execution_count": 4,
      "id": "b1f8bff3",
      "metadata": {
        "id": "b1f8bff3"
      },
      "outputs": [],
      "source": [
        "# !conda install -c conda-forge cudatoolkit=11.2 cudnn=8.1.0"
      ]
    },
    {
      "cell_type": "code",
      "execution_count": 5,
      "id": "e71e1035",
      "metadata": {
        "id": "e71e1035"
      },
      "outputs": [],
      "source": [
        "# !python -m pip install tensorflow"
      ]
    },
    {
      "cell_type": "markdown",
      "id": "d60631bd",
      "metadata": {
        "id": "d60631bd",
        "papermill": {
          "duration": 0.01551,
          "end_time": "2022-06-26T14:20:57.564748",
          "exception": false,
          "start_time": "2022-06-26T14:20:57.549238",
          "status": "completed"
        },
        "tags": []
      },
      "source": [
        "Загружаем свой датасет\n"
      ]
    },
    {
      "cell_type": "code",
      "execution_count": 6,
      "id": "747ab26f",
      "metadata": {
        "id": "747ab26f"
      },
      "outputs": [],
      "source": [
        "df = pd.read_csv('mosfet.csv')\n",
        "\n",
        "# df = pd.read_csv('training_data.csv')"
      ]
    },
    {
      "cell_type": "code",
      "execution_count": 7,
      "id": "sCMb5Bb5F22B",
      "metadata": {
        "colab": {
          "base_uri": "https://localhost:8080/"
        },
        "id": "sCMb5Bb5F22B",
        "outputId": "8430b572-2fd3-4892-ec9a-ddfee0025fe6"
      },
      "outputs": [
        {
          "output_type": "execute_result",
          "data": {
            "text/plain": [
              "(529056, 6)"
            ]
          },
          "metadata": {},
          "execution_count": 7
        }
      ],
      "source": [
        "df.shape"
      ]
    },
    {
      "cell_type": "code",
      "execution_count": 8,
      "id": "N8j20q66Ex21",
      "metadata": {
        "colab": {
          "base_uri": "https://localhost:8080/",
          "height": 300
        },
        "id": "N8j20q66Ex21",
        "outputId": "323f8fe1-ea41-4d12-b5a4-c065616e1d83"
      },
      "outputs": [
        {
          "output_type": "execute_result",
          "data": {
            "text/plain": [
              "                 Vds           Vgs              L              W  \\\n",
              "count  529056.000000  529056.00000  529056.000000  529056.000000   \n",
              "mean        2.500000       2.50000       0.000006       0.000005   \n",
              "std         1.446261       1.58114       0.000003       0.000003   \n",
              "min         0.000000       0.00000       0.000001       0.000001   \n",
              "25%         1.250000       1.00000       0.000003       0.000003   \n",
              "50%         2.500000       2.50000       0.000005       0.000005   \n",
              "75%         3.750000       4.00000       0.000008       0.000008   \n",
              "max         5.000000       5.00000       0.000010       0.000010   \n",
              "\n",
              "                   T             Id  \n",
              "count  529056.000000  529056.000000  \n",
              "mean       30.000000       0.001377  \n",
              "std        34.156535       0.003317  \n",
              "min       -20.000000      -0.000000  \n",
              "25%         0.000000       0.000022  \n",
              "50%        30.000000       0.000246  \n",
              "75%        60.000000       0.001157  \n",
              "max        80.000000       0.042091  "
            ],
            "text/html": [
              "\n",
              "  <div id=\"df-da7efddc-6079-4cbc-b0b3-478748a45786\">\n",
              "    <div class=\"colab-df-container\">\n",
              "      <div>\n",
              "<style scoped>\n",
              "    .dataframe tbody tr th:only-of-type {\n",
              "        vertical-align: middle;\n",
              "    }\n",
              "\n",
              "    .dataframe tbody tr th {\n",
              "        vertical-align: top;\n",
              "    }\n",
              "\n",
              "    .dataframe thead th {\n",
              "        text-align: right;\n",
              "    }\n",
              "</style>\n",
              "<table border=\"1\" class=\"dataframe\">\n",
              "  <thead>\n",
              "    <tr style=\"text-align: right;\">\n",
              "      <th></th>\n",
              "      <th>Vds</th>\n",
              "      <th>Vgs</th>\n",
              "      <th>L</th>\n",
              "      <th>W</th>\n",
              "      <th>T</th>\n",
              "      <th>Id</th>\n",
              "    </tr>\n",
              "  </thead>\n",
              "  <tbody>\n",
              "    <tr>\n",
              "      <th>count</th>\n",
              "      <td>529056.000000</td>\n",
              "      <td>529056.00000</td>\n",
              "      <td>529056.000000</td>\n",
              "      <td>529056.000000</td>\n",
              "      <td>529056.000000</td>\n",
              "      <td>529056.000000</td>\n",
              "    </tr>\n",
              "    <tr>\n",
              "      <th>mean</th>\n",
              "      <td>2.500000</td>\n",
              "      <td>2.50000</td>\n",
              "      <td>0.000006</td>\n",
              "      <td>0.000005</td>\n",
              "      <td>30.000000</td>\n",
              "      <td>0.001377</td>\n",
              "    </tr>\n",
              "    <tr>\n",
              "      <th>std</th>\n",
              "      <td>1.446261</td>\n",
              "      <td>1.58114</td>\n",
              "      <td>0.000003</td>\n",
              "      <td>0.000003</td>\n",
              "      <td>34.156535</td>\n",
              "      <td>0.003317</td>\n",
              "    </tr>\n",
              "    <tr>\n",
              "      <th>min</th>\n",
              "      <td>0.000000</td>\n",
              "      <td>0.00000</td>\n",
              "      <td>0.000001</td>\n",
              "      <td>0.000001</td>\n",
              "      <td>-20.000000</td>\n",
              "      <td>-0.000000</td>\n",
              "    </tr>\n",
              "    <tr>\n",
              "      <th>25%</th>\n",
              "      <td>1.250000</td>\n",
              "      <td>1.00000</td>\n",
              "      <td>0.000003</td>\n",
              "      <td>0.000003</td>\n",
              "      <td>0.000000</td>\n",
              "      <td>0.000022</td>\n",
              "    </tr>\n",
              "    <tr>\n",
              "      <th>50%</th>\n",
              "      <td>2.500000</td>\n",
              "      <td>2.50000</td>\n",
              "      <td>0.000005</td>\n",
              "      <td>0.000005</td>\n",
              "      <td>30.000000</td>\n",
              "      <td>0.000246</td>\n",
              "    </tr>\n",
              "    <tr>\n",
              "      <th>75%</th>\n",
              "      <td>3.750000</td>\n",
              "      <td>4.00000</td>\n",
              "      <td>0.000008</td>\n",
              "      <td>0.000008</td>\n",
              "      <td>60.000000</td>\n",
              "      <td>0.001157</td>\n",
              "    </tr>\n",
              "    <tr>\n",
              "      <th>max</th>\n",
              "      <td>5.000000</td>\n",
              "      <td>5.00000</td>\n",
              "      <td>0.000010</td>\n",
              "      <td>0.000010</td>\n",
              "      <td>80.000000</td>\n",
              "      <td>0.042091</td>\n",
              "    </tr>\n",
              "  </tbody>\n",
              "</table>\n",
              "</div>\n",
              "      <button class=\"colab-df-convert\" onclick=\"convertToInteractive('df-da7efddc-6079-4cbc-b0b3-478748a45786')\"\n",
              "              title=\"Convert this dataframe to an interactive table.\"\n",
              "              style=\"display:none;\">\n",
              "        \n",
              "  <svg xmlns=\"http://www.w3.org/2000/svg\" height=\"24px\"viewBox=\"0 0 24 24\"\n",
              "       width=\"24px\">\n",
              "    <path d=\"M0 0h24v24H0V0z\" fill=\"none\"/>\n",
              "    <path d=\"M18.56 5.44l.94 2.06.94-2.06 2.06-.94-2.06-.94-.94-2.06-.94 2.06-2.06.94zm-11 1L8.5 8.5l.94-2.06 2.06-.94-2.06-.94L8.5 2.5l-.94 2.06-2.06.94zm10 10l.94 2.06.94-2.06 2.06-.94-2.06-.94-.94-2.06-.94 2.06-2.06.94z\"/><path d=\"M17.41 7.96l-1.37-1.37c-.4-.4-.92-.59-1.43-.59-.52 0-1.04.2-1.43.59L10.3 9.45l-7.72 7.72c-.78.78-.78 2.05 0 2.83L4 21.41c.39.39.9.59 1.41.59.51 0 1.02-.2 1.41-.59l7.78-7.78 2.81-2.81c.8-.78.8-2.07 0-2.86zM5.41 20L4 18.59l7.72-7.72 1.47 1.35L5.41 20z\"/>\n",
              "  </svg>\n",
              "      </button>\n",
              "      \n",
              "  <style>\n",
              "    .colab-df-container {\n",
              "      display:flex;\n",
              "      flex-wrap:wrap;\n",
              "      gap: 12px;\n",
              "    }\n",
              "\n",
              "    .colab-df-convert {\n",
              "      background-color: #E8F0FE;\n",
              "      border: none;\n",
              "      border-radius: 50%;\n",
              "      cursor: pointer;\n",
              "      display: none;\n",
              "      fill: #1967D2;\n",
              "      height: 32px;\n",
              "      padding: 0 0 0 0;\n",
              "      width: 32px;\n",
              "    }\n",
              "\n",
              "    .colab-df-convert:hover {\n",
              "      background-color: #E2EBFA;\n",
              "      box-shadow: 0px 1px 2px rgba(60, 64, 67, 0.3), 0px 1px 3px 1px rgba(60, 64, 67, 0.15);\n",
              "      fill: #174EA6;\n",
              "    }\n",
              "\n",
              "    [theme=dark] .colab-df-convert {\n",
              "      background-color: #3B4455;\n",
              "      fill: #D2E3FC;\n",
              "    }\n",
              "\n",
              "    [theme=dark] .colab-df-convert:hover {\n",
              "      background-color: #434B5C;\n",
              "      box-shadow: 0px 1px 3px 1px rgba(0, 0, 0, 0.15);\n",
              "      filter: drop-shadow(0px 1px 2px rgba(0, 0, 0, 0.3));\n",
              "      fill: #FFFFFF;\n",
              "    }\n",
              "  </style>\n",
              "\n",
              "      <script>\n",
              "        const buttonEl =\n",
              "          document.querySelector('#df-da7efddc-6079-4cbc-b0b3-478748a45786 button.colab-df-convert');\n",
              "        buttonEl.style.display =\n",
              "          google.colab.kernel.accessAllowed ? 'block' : 'none';\n",
              "\n",
              "        async function convertToInteractive(key) {\n",
              "          const element = document.querySelector('#df-da7efddc-6079-4cbc-b0b3-478748a45786');\n",
              "          const dataTable =\n",
              "            await google.colab.kernel.invokeFunction('convertToInteractive',\n",
              "                                                     [key], {});\n",
              "          if (!dataTable) return;\n",
              "\n",
              "          const docLinkHtml = 'Like what you see? Visit the ' +\n",
              "            '<a target=\"_blank\" href=https://colab.research.google.com/notebooks/data_table.ipynb>data table notebook</a>'\n",
              "            + ' to learn more about interactive tables.';\n",
              "          element.innerHTML = '';\n",
              "          dataTable['output_type'] = 'display_data';\n",
              "          await google.colab.output.renderOutput(dataTable, element);\n",
              "          const docLink = document.createElement('div');\n",
              "          docLink.innerHTML = docLinkHtml;\n",
              "          element.appendChild(docLink);\n",
              "        }\n",
              "      </script>\n",
              "    </div>\n",
              "  </div>\n",
              "  "
            ]
          },
          "metadata": {},
          "execution_count": 8
        }
      ],
      "source": [
        "df.describe()"
      ]
    },
    {
      "cell_type": "code",
      "execution_count": 9,
      "id": "YYdJ5zx61bPF",
      "metadata": {
        "id": "YYdJ5zx61bPF"
      },
      "outputs": [],
      "source": [
        "# df['Vds'].unique() "
      ]
    },
    {
      "cell_type": "code",
      "execution_count": 10,
      "id": "qhHkCDU91UmC",
      "metadata": {
        "colab": {
          "base_uri": "https://localhost:8080/"
        },
        "id": "qhHkCDU91UmC",
        "outputId": "01b8de07-b86c-4abf-b1de-440775574885"
      },
      "outputs": [
        {
          "output_type": "execute_result",
          "data": {
            "text/plain": [
              "array([1.e-06, 4.e-06, 7.e-06, 1.e-05])"
            ]
          },
          "metadata": {},
          "execution_count": 10
        }
      ],
      "source": [
        "df['L'].unique() "
      ]
    },
    {
      "cell_type": "code",
      "execution_count": 11,
      "id": "GUB3_7Rq1hsd",
      "metadata": {
        "colab": {
          "base_uri": "https://localhost:8080/"
        },
        "id": "GUB3_7Rq1hsd",
        "outputId": "26227623-669c-4931-fc81-43c406a66b99"
      },
      "outputs": [
        {
          "output_type": "execute_result",
          "data": {
            "text/plain": [
              "array([1.e-06, 4.e-06, 7.e-06, 1.e-05])"
            ]
          },
          "metadata": {},
          "execution_count": 11
        }
      ],
      "source": [
        "df['W'].unique() "
      ]
    },
    {
      "cell_type": "code",
      "execution_count": 12,
      "id": "UffOmh8r1lX7",
      "metadata": {
        "colab": {
          "base_uri": "https://localhost:8080/"
        },
        "id": "UffOmh8r1lX7",
        "outputId": "7a1add9c-64f5-433e-e8fd-06bdea18fbc8"
      },
      "outputs": [
        {
          "output_type": "execute_result",
          "data": {
            "text/plain": [
              "array([-20.,   0.,  20.,  40.,  60.,  80.])"
            ]
          },
          "metadata": {},
          "execution_count": 12
        }
      ],
      "source": [
        "df['T'].unique() "
      ]
    },
    {
      "cell_type": "markdown",
      "id": "abd3216c",
      "metadata": {
        "id": "abd3216c",
        "papermill": {
          "duration": 0.014431,
          "end_time": "2022-06-26T14:20:57.696967",
          "exception": false,
          "start_time": "2022-06-26T14:20:57.682536",
          "status": "completed"
        },
        "tags": []
      },
      "source": [
        "## Подготовка данных"
      ]
    },
    {
      "cell_type": "markdown",
      "id": "yOJkLOW_EUTv",
      "metadata": {
        "id": "yOJkLOW_EUTv"
      },
      "source": [
        "Подготовим входные данные и заменим нули"
      ]
    },
    {
      "cell_type": "code",
      "execution_count": 13,
      "id": "Cp7glhatG7WW",
      "metadata": {
        "colab": {
          "base_uri": "https://localhost:8080/"
        },
        "id": "Cp7glhatG7WW",
        "outputId": "ee1e431a-404c-4747-ebf8-75b27a7cf8d1"
      },
      "outputs": [
        {
          "output_type": "execute_result",
          "data": {
            "text/plain": [
              "1.0000889070673754e-14"
            ]
          },
          "metadata": {},
          "execution_count": 13
        }
      ],
      "source": [
        "df[df['Id'] != 0.0]['Id'].min()"
      ]
    },
    {
      "cell_type": "code",
      "execution_count": 14,
      "id": "K9BfMP07GaOX",
      "metadata": {
        "colab": {
          "base_uri": "https://localhost:8080/"
        },
        "id": "K9BfMP07GaOX",
        "outputId": "8b9d997c-0bae-4f81-df52-6eede21a0b49"
      },
      "outputs": [
        {
          "output_type": "execute_result",
          "data": {
            "text/plain": [
              "0.5"
            ]
          },
          "metadata": {},
          "execution_count": 14
        }
      ],
      "source": [
        "df[df['Vgs'] != 0.0]['Vgs'].min()"
      ]
    },
    {
      "cell_type": "code",
      "execution_count": 15,
      "id": "yxRXLh85HLwo",
      "metadata": {
        "colab": {
          "base_uri": "https://localhost:8080/"
        },
        "id": "yxRXLh85HLwo",
        "outputId": "68ab3654-838c-42d4-832d-1276a6c78e64"
      },
      "outputs": [
        {
          "output_type": "execute_result",
          "data": {
            "text/plain": [
              "0.01"
            ]
          },
          "metadata": {},
          "execution_count": 15
        }
      ],
      "source": [
        "df[df['Vds'] != 0.0]['Vds'].min()"
      ]
    },
    {
      "cell_type": "code",
      "execution_count": 16,
      "id": "tSHDZwFCaRH8",
      "metadata": {
        "id": "tSHDZwFCaRH8"
      },
      "outputs": [],
      "source": [
        "REPLACE_ZERO_ID = 1e-15\n",
        "REPLACE_ZERO_VGS = 1e-3\n",
        "REPLACE_ZERO_VDS = 1e-3\n",
        "# REPLACE_ZERO_T = 0.1\n",
        "SHIFT_T = 30"
      ]
    },
    {
      "cell_type": "code",
      "execution_count": 17,
      "id": "a5184856",
      "metadata": {
        "execution": {
          "iopub.execute_input": "2022-06-26T14:20:57.735949Z",
          "iopub.status.busy": "2022-06-26T14:20:57.729915Z",
          "iopub.status.idle": "2022-06-26T14:20:57.747640Z",
          "shell.execute_reply": "2022-06-26T14:20:57.747109Z",
          "shell.execute_reply.started": "2021-12-08T09:25:42.410444Z"
        },
        "id": "a5184856",
        "papermill": {
          "duration": 0.03589,
          "end_time": "2022-06-26T14:20:57.747749",
          "exception": false,
          "start_time": "2022-06-26T14:20:57.711859",
          "status": "completed"
        },
        "tags": []
      },
      "outputs": [],
      "source": [
        "# Replace zeros\n",
        "df[\"Id\"].replace({0:REPLACE_ZERO_ID}, inplace=True)\n",
        "df[\"Vgs\"].replace({0:REPLACE_ZERO_VGS}, inplace=True)\n",
        "df[\"Vds\"].replace({0:REPLACE_ZERO_VDS}, inplace=True)\n",
        "# df[\"T\"].replace({0:REPLACE_ZERO_T}, inplace=True)\n",
        "\n",
        "# fix negative numbers\n",
        "df[\"T\"] += SHIFT_T\n",
        "\n",
        "# get data\n",
        "\n",
        "id=df[\"Id\"]\n",
        "Vgs=df[\"Vgs\"]\n",
        "Vds=df[\"Vds\"]\n",
        "L=df[\"L\"]\n",
        "W=df[\"W\"]\n",
        "T=df[\"T\"]\n",
        "\n",
        "\n",
        "y_raw=np.ravel(id)\n",
        "X_raw=df.iloc[:,0:5]"
      ]
    },
    {
      "cell_type": "code",
      "execution_count": 18,
      "id": "MJKa4k0icigA",
      "metadata": {
        "colab": {
          "base_uri": "https://localhost:8080/",
          "height": 424
        },
        "id": "MJKa4k0icigA",
        "outputId": "bcb24298-0a24-4694-ea78-f1380ca7629f"
      },
      "outputs": [
        {
          "output_type": "execute_result",
          "data": {
            "text/plain": [
              "          Vds    Vgs         L         W      T\n",
              "0       0.001  0.001  0.000001  0.000001   10.0\n",
              "1       0.010  0.001  0.000001  0.000001   10.0\n",
              "2       0.020  0.001  0.000001  0.000001   10.0\n",
              "3       0.030  0.001  0.000001  0.000001   10.0\n",
              "4       0.040  0.001  0.000001  0.000001   10.0\n",
              "...       ...    ...       ...       ...    ...\n",
              "529051  4.960  5.000  0.000010  0.000010  110.0\n",
              "529052  4.970  5.000  0.000010  0.000010  110.0\n",
              "529053  4.980  5.000  0.000010  0.000010  110.0\n",
              "529054  4.990  5.000  0.000010  0.000010  110.0\n",
              "529055  5.000  5.000  0.000010  0.000010  110.0\n",
              "\n",
              "[529056 rows x 5 columns]"
            ],
            "text/html": [
              "\n",
              "  <div id=\"df-740bc929-df14-40a8-960a-832c8a0eaccf\">\n",
              "    <div class=\"colab-df-container\">\n",
              "      <div>\n",
              "<style scoped>\n",
              "    .dataframe tbody tr th:only-of-type {\n",
              "        vertical-align: middle;\n",
              "    }\n",
              "\n",
              "    .dataframe tbody tr th {\n",
              "        vertical-align: top;\n",
              "    }\n",
              "\n",
              "    .dataframe thead th {\n",
              "        text-align: right;\n",
              "    }\n",
              "</style>\n",
              "<table border=\"1\" class=\"dataframe\">\n",
              "  <thead>\n",
              "    <tr style=\"text-align: right;\">\n",
              "      <th></th>\n",
              "      <th>Vds</th>\n",
              "      <th>Vgs</th>\n",
              "      <th>L</th>\n",
              "      <th>W</th>\n",
              "      <th>T</th>\n",
              "    </tr>\n",
              "  </thead>\n",
              "  <tbody>\n",
              "    <tr>\n",
              "      <th>0</th>\n",
              "      <td>0.001</td>\n",
              "      <td>0.001</td>\n",
              "      <td>0.000001</td>\n",
              "      <td>0.000001</td>\n",
              "      <td>10.0</td>\n",
              "    </tr>\n",
              "    <tr>\n",
              "      <th>1</th>\n",
              "      <td>0.010</td>\n",
              "      <td>0.001</td>\n",
              "      <td>0.000001</td>\n",
              "      <td>0.000001</td>\n",
              "      <td>10.0</td>\n",
              "    </tr>\n",
              "    <tr>\n",
              "      <th>2</th>\n",
              "      <td>0.020</td>\n",
              "      <td>0.001</td>\n",
              "      <td>0.000001</td>\n",
              "      <td>0.000001</td>\n",
              "      <td>10.0</td>\n",
              "    </tr>\n",
              "    <tr>\n",
              "      <th>3</th>\n",
              "      <td>0.030</td>\n",
              "      <td>0.001</td>\n",
              "      <td>0.000001</td>\n",
              "      <td>0.000001</td>\n",
              "      <td>10.0</td>\n",
              "    </tr>\n",
              "    <tr>\n",
              "      <th>4</th>\n",
              "      <td>0.040</td>\n",
              "      <td>0.001</td>\n",
              "      <td>0.000001</td>\n",
              "      <td>0.000001</td>\n",
              "      <td>10.0</td>\n",
              "    </tr>\n",
              "    <tr>\n",
              "      <th>...</th>\n",
              "      <td>...</td>\n",
              "      <td>...</td>\n",
              "      <td>...</td>\n",
              "      <td>...</td>\n",
              "      <td>...</td>\n",
              "    </tr>\n",
              "    <tr>\n",
              "      <th>529051</th>\n",
              "      <td>4.960</td>\n",
              "      <td>5.000</td>\n",
              "      <td>0.000010</td>\n",
              "      <td>0.000010</td>\n",
              "      <td>110.0</td>\n",
              "    </tr>\n",
              "    <tr>\n",
              "      <th>529052</th>\n",
              "      <td>4.970</td>\n",
              "      <td>5.000</td>\n",
              "      <td>0.000010</td>\n",
              "      <td>0.000010</td>\n",
              "      <td>110.0</td>\n",
              "    </tr>\n",
              "    <tr>\n",
              "      <th>529053</th>\n",
              "      <td>4.980</td>\n",
              "      <td>5.000</td>\n",
              "      <td>0.000010</td>\n",
              "      <td>0.000010</td>\n",
              "      <td>110.0</td>\n",
              "    </tr>\n",
              "    <tr>\n",
              "      <th>529054</th>\n",
              "      <td>4.990</td>\n",
              "      <td>5.000</td>\n",
              "      <td>0.000010</td>\n",
              "      <td>0.000010</td>\n",
              "      <td>110.0</td>\n",
              "    </tr>\n",
              "    <tr>\n",
              "      <th>529055</th>\n",
              "      <td>5.000</td>\n",
              "      <td>5.000</td>\n",
              "      <td>0.000010</td>\n",
              "      <td>0.000010</td>\n",
              "      <td>110.0</td>\n",
              "    </tr>\n",
              "  </tbody>\n",
              "</table>\n",
              "<p>529056 rows × 5 columns</p>\n",
              "</div>\n",
              "      <button class=\"colab-df-convert\" onclick=\"convertToInteractive('df-740bc929-df14-40a8-960a-832c8a0eaccf')\"\n",
              "              title=\"Convert this dataframe to an interactive table.\"\n",
              "              style=\"display:none;\">\n",
              "        \n",
              "  <svg xmlns=\"http://www.w3.org/2000/svg\" height=\"24px\"viewBox=\"0 0 24 24\"\n",
              "       width=\"24px\">\n",
              "    <path d=\"M0 0h24v24H0V0z\" fill=\"none\"/>\n",
              "    <path d=\"M18.56 5.44l.94 2.06.94-2.06 2.06-.94-2.06-.94-.94-2.06-.94 2.06-2.06.94zm-11 1L8.5 8.5l.94-2.06 2.06-.94-2.06-.94L8.5 2.5l-.94 2.06-2.06.94zm10 10l.94 2.06.94-2.06 2.06-.94-2.06-.94-.94-2.06-.94 2.06-2.06.94z\"/><path d=\"M17.41 7.96l-1.37-1.37c-.4-.4-.92-.59-1.43-.59-.52 0-1.04.2-1.43.59L10.3 9.45l-7.72 7.72c-.78.78-.78 2.05 0 2.83L4 21.41c.39.39.9.59 1.41.59.51 0 1.02-.2 1.41-.59l7.78-7.78 2.81-2.81c.8-.78.8-2.07 0-2.86zM5.41 20L4 18.59l7.72-7.72 1.47 1.35L5.41 20z\"/>\n",
              "  </svg>\n",
              "      </button>\n",
              "      \n",
              "  <style>\n",
              "    .colab-df-container {\n",
              "      display:flex;\n",
              "      flex-wrap:wrap;\n",
              "      gap: 12px;\n",
              "    }\n",
              "\n",
              "    .colab-df-convert {\n",
              "      background-color: #E8F0FE;\n",
              "      border: none;\n",
              "      border-radius: 50%;\n",
              "      cursor: pointer;\n",
              "      display: none;\n",
              "      fill: #1967D2;\n",
              "      height: 32px;\n",
              "      padding: 0 0 0 0;\n",
              "      width: 32px;\n",
              "    }\n",
              "\n",
              "    .colab-df-convert:hover {\n",
              "      background-color: #E2EBFA;\n",
              "      box-shadow: 0px 1px 2px rgba(60, 64, 67, 0.3), 0px 1px 3px 1px rgba(60, 64, 67, 0.15);\n",
              "      fill: #174EA6;\n",
              "    }\n",
              "\n",
              "    [theme=dark] .colab-df-convert {\n",
              "      background-color: #3B4455;\n",
              "      fill: #D2E3FC;\n",
              "    }\n",
              "\n",
              "    [theme=dark] .colab-df-convert:hover {\n",
              "      background-color: #434B5C;\n",
              "      box-shadow: 0px 1px 3px 1px rgba(0, 0, 0, 0.15);\n",
              "      filter: drop-shadow(0px 1px 2px rgba(0, 0, 0, 0.3));\n",
              "      fill: #FFFFFF;\n",
              "    }\n",
              "  </style>\n",
              "\n",
              "      <script>\n",
              "        const buttonEl =\n",
              "          document.querySelector('#df-740bc929-df14-40a8-960a-832c8a0eaccf button.colab-df-convert');\n",
              "        buttonEl.style.display =\n",
              "          google.colab.kernel.accessAllowed ? 'block' : 'none';\n",
              "\n",
              "        async function convertToInteractive(key) {\n",
              "          const element = document.querySelector('#df-740bc929-df14-40a8-960a-832c8a0eaccf');\n",
              "          const dataTable =\n",
              "            await google.colab.kernel.invokeFunction('convertToInteractive',\n",
              "                                                     [key], {});\n",
              "          if (!dataTable) return;\n",
              "\n",
              "          const docLinkHtml = 'Like what you see? Visit the ' +\n",
              "            '<a target=\"_blank\" href=https://colab.research.google.com/notebooks/data_table.ipynb>data table notebook</a>'\n",
              "            + ' to learn more about interactive tables.';\n",
              "          element.innerHTML = '';\n",
              "          dataTable['output_type'] = 'display_data';\n",
              "          await google.colab.output.renderOutput(dataTable, element);\n",
              "          const docLink = document.createElement('div');\n",
              "          docLink.innerHTML = docLinkHtml;\n",
              "          element.appendChild(docLink);\n",
              "        }\n",
              "      </script>\n",
              "    </div>\n",
              "  </div>\n",
              "  "
            ]
          },
          "metadata": {},
          "execution_count": 18
        }
      ],
      "source": [
        "X_raw"
      ]
    },
    {
      "cell_type": "code",
      "execution_count": 19,
      "id": "LgEzwX8PMHcO",
      "metadata": {
        "id": "LgEzwX8PMHcO"
      },
      "outputs": [],
      "source": [
        "#Normalize data before training\n",
        "\n",
        "X=np.log10(X_raw)\n",
        "y=-1/np.log10(y_raw)\n",
        "\n",
        "# X=np.log(X_raw)\n",
        "#y=np.log10(y_raw)\n",
        "# y=-1/np.log(y_raw)"
      ]
    },
    {
      "cell_type": "code",
      "execution_count": 20,
      "id": "KPcr6kNDduGF",
      "metadata": {
        "colab": {
          "base_uri": "https://localhost:8080/",
          "height": 424
        },
        "id": "KPcr6kNDduGF",
        "outputId": "c2666fe1-a9af-4976-bacb-f042a0140292"
      },
      "outputs": [
        {
          "output_type": "execute_result",
          "data": {
            "text/plain": [
              "             Vds      Vgs    L    W         T\n",
              "0      -3.000000 -3.00000 -6.0 -6.0  1.000000\n",
              "1      -2.000000 -3.00000 -6.0 -6.0  1.000000\n",
              "2      -1.698970 -3.00000 -6.0 -6.0  1.000000\n",
              "3      -1.522879 -3.00000 -6.0 -6.0  1.000000\n",
              "4      -1.397940 -3.00000 -6.0 -6.0  1.000000\n",
              "...          ...      ...  ...  ...       ...\n",
              "529051  0.695482  0.69897 -5.0 -5.0  2.041393\n",
              "529052  0.696356  0.69897 -5.0 -5.0  2.041393\n",
              "529053  0.697229  0.69897 -5.0 -5.0  2.041393\n",
              "529054  0.698101  0.69897 -5.0 -5.0  2.041393\n",
              "529055  0.698970  0.69897 -5.0 -5.0  2.041393\n",
              "\n",
              "[529056 rows x 5 columns]"
            ],
            "text/html": [
              "\n",
              "  <div id=\"df-def905c1-a0fa-46a2-afbd-b220df4feb17\">\n",
              "    <div class=\"colab-df-container\">\n",
              "      <div>\n",
              "<style scoped>\n",
              "    .dataframe tbody tr th:only-of-type {\n",
              "        vertical-align: middle;\n",
              "    }\n",
              "\n",
              "    .dataframe tbody tr th {\n",
              "        vertical-align: top;\n",
              "    }\n",
              "\n",
              "    .dataframe thead th {\n",
              "        text-align: right;\n",
              "    }\n",
              "</style>\n",
              "<table border=\"1\" class=\"dataframe\">\n",
              "  <thead>\n",
              "    <tr style=\"text-align: right;\">\n",
              "      <th></th>\n",
              "      <th>Vds</th>\n",
              "      <th>Vgs</th>\n",
              "      <th>L</th>\n",
              "      <th>W</th>\n",
              "      <th>T</th>\n",
              "    </tr>\n",
              "  </thead>\n",
              "  <tbody>\n",
              "    <tr>\n",
              "      <th>0</th>\n",
              "      <td>-3.000000</td>\n",
              "      <td>-3.00000</td>\n",
              "      <td>-6.0</td>\n",
              "      <td>-6.0</td>\n",
              "      <td>1.000000</td>\n",
              "    </tr>\n",
              "    <tr>\n",
              "      <th>1</th>\n",
              "      <td>-2.000000</td>\n",
              "      <td>-3.00000</td>\n",
              "      <td>-6.0</td>\n",
              "      <td>-6.0</td>\n",
              "      <td>1.000000</td>\n",
              "    </tr>\n",
              "    <tr>\n",
              "      <th>2</th>\n",
              "      <td>-1.698970</td>\n",
              "      <td>-3.00000</td>\n",
              "      <td>-6.0</td>\n",
              "      <td>-6.0</td>\n",
              "      <td>1.000000</td>\n",
              "    </tr>\n",
              "    <tr>\n",
              "      <th>3</th>\n",
              "      <td>-1.522879</td>\n",
              "      <td>-3.00000</td>\n",
              "      <td>-6.0</td>\n",
              "      <td>-6.0</td>\n",
              "      <td>1.000000</td>\n",
              "    </tr>\n",
              "    <tr>\n",
              "      <th>4</th>\n",
              "      <td>-1.397940</td>\n",
              "      <td>-3.00000</td>\n",
              "      <td>-6.0</td>\n",
              "      <td>-6.0</td>\n",
              "      <td>1.000000</td>\n",
              "    </tr>\n",
              "    <tr>\n",
              "      <th>...</th>\n",
              "      <td>...</td>\n",
              "      <td>...</td>\n",
              "      <td>...</td>\n",
              "      <td>...</td>\n",
              "      <td>...</td>\n",
              "    </tr>\n",
              "    <tr>\n",
              "      <th>529051</th>\n",
              "      <td>0.695482</td>\n",
              "      <td>0.69897</td>\n",
              "      <td>-5.0</td>\n",
              "      <td>-5.0</td>\n",
              "      <td>2.041393</td>\n",
              "    </tr>\n",
              "    <tr>\n",
              "      <th>529052</th>\n",
              "      <td>0.696356</td>\n",
              "      <td>0.69897</td>\n",
              "      <td>-5.0</td>\n",
              "      <td>-5.0</td>\n",
              "      <td>2.041393</td>\n",
              "    </tr>\n",
              "    <tr>\n",
              "      <th>529053</th>\n",
              "      <td>0.697229</td>\n",
              "      <td>0.69897</td>\n",
              "      <td>-5.0</td>\n",
              "      <td>-5.0</td>\n",
              "      <td>2.041393</td>\n",
              "    </tr>\n",
              "    <tr>\n",
              "      <th>529054</th>\n",
              "      <td>0.698101</td>\n",
              "      <td>0.69897</td>\n",
              "      <td>-5.0</td>\n",
              "      <td>-5.0</td>\n",
              "      <td>2.041393</td>\n",
              "    </tr>\n",
              "    <tr>\n",
              "      <th>529055</th>\n",
              "      <td>0.698970</td>\n",
              "      <td>0.69897</td>\n",
              "      <td>-5.0</td>\n",
              "      <td>-5.0</td>\n",
              "      <td>2.041393</td>\n",
              "    </tr>\n",
              "  </tbody>\n",
              "</table>\n",
              "<p>529056 rows × 5 columns</p>\n",
              "</div>\n",
              "      <button class=\"colab-df-convert\" onclick=\"convertToInteractive('df-def905c1-a0fa-46a2-afbd-b220df4feb17')\"\n",
              "              title=\"Convert this dataframe to an interactive table.\"\n",
              "              style=\"display:none;\">\n",
              "        \n",
              "  <svg xmlns=\"http://www.w3.org/2000/svg\" height=\"24px\"viewBox=\"0 0 24 24\"\n",
              "       width=\"24px\">\n",
              "    <path d=\"M0 0h24v24H0V0z\" fill=\"none\"/>\n",
              "    <path d=\"M18.56 5.44l.94 2.06.94-2.06 2.06-.94-2.06-.94-.94-2.06-.94 2.06-2.06.94zm-11 1L8.5 8.5l.94-2.06 2.06-.94-2.06-.94L8.5 2.5l-.94 2.06-2.06.94zm10 10l.94 2.06.94-2.06 2.06-.94-2.06-.94-.94-2.06-.94 2.06-2.06.94z\"/><path d=\"M17.41 7.96l-1.37-1.37c-.4-.4-.92-.59-1.43-.59-.52 0-1.04.2-1.43.59L10.3 9.45l-7.72 7.72c-.78.78-.78 2.05 0 2.83L4 21.41c.39.39.9.59 1.41.59.51 0 1.02-.2 1.41-.59l7.78-7.78 2.81-2.81c.8-.78.8-2.07 0-2.86zM5.41 20L4 18.59l7.72-7.72 1.47 1.35L5.41 20z\"/>\n",
              "  </svg>\n",
              "      </button>\n",
              "      \n",
              "  <style>\n",
              "    .colab-df-container {\n",
              "      display:flex;\n",
              "      flex-wrap:wrap;\n",
              "      gap: 12px;\n",
              "    }\n",
              "\n",
              "    .colab-df-convert {\n",
              "      background-color: #E8F0FE;\n",
              "      border: none;\n",
              "      border-radius: 50%;\n",
              "      cursor: pointer;\n",
              "      display: none;\n",
              "      fill: #1967D2;\n",
              "      height: 32px;\n",
              "      padding: 0 0 0 0;\n",
              "      width: 32px;\n",
              "    }\n",
              "\n",
              "    .colab-df-convert:hover {\n",
              "      background-color: #E2EBFA;\n",
              "      box-shadow: 0px 1px 2px rgba(60, 64, 67, 0.3), 0px 1px 3px 1px rgba(60, 64, 67, 0.15);\n",
              "      fill: #174EA6;\n",
              "    }\n",
              "\n",
              "    [theme=dark] .colab-df-convert {\n",
              "      background-color: #3B4455;\n",
              "      fill: #D2E3FC;\n",
              "    }\n",
              "\n",
              "    [theme=dark] .colab-df-convert:hover {\n",
              "      background-color: #434B5C;\n",
              "      box-shadow: 0px 1px 3px 1px rgba(0, 0, 0, 0.15);\n",
              "      filter: drop-shadow(0px 1px 2px rgba(0, 0, 0, 0.3));\n",
              "      fill: #FFFFFF;\n",
              "    }\n",
              "  </style>\n",
              "\n",
              "      <script>\n",
              "        const buttonEl =\n",
              "          document.querySelector('#df-def905c1-a0fa-46a2-afbd-b220df4feb17 button.colab-df-convert');\n",
              "        buttonEl.style.display =\n",
              "          google.colab.kernel.accessAllowed ? 'block' : 'none';\n",
              "\n",
              "        async function convertToInteractive(key) {\n",
              "          const element = document.querySelector('#df-def905c1-a0fa-46a2-afbd-b220df4feb17');\n",
              "          const dataTable =\n",
              "            await google.colab.kernel.invokeFunction('convertToInteractive',\n",
              "                                                     [key], {});\n",
              "          if (!dataTable) return;\n",
              "\n",
              "          const docLinkHtml = 'Like what you see? Visit the ' +\n",
              "            '<a target=\"_blank\" href=https://colab.research.google.com/notebooks/data_table.ipynb>data table notebook</a>'\n",
              "            + ' to learn more about interactive tables.';\n",
              "          element.innerHTML = '';\n",
              "          dataTable['output_type'] = 'display_data';\n",
              "          await google.colab.output.renderOutput(dataTable, element);\n",
              "          const docLink = document.createElement('div');\n",
              "          docLink.innerHTML = docLinkHtml;\n",
              "          element.appendChild(docLink);\n",
              "        }\n",
              "      </script>\n",
              "    </div>\n",
              "  </div>\n",
              "  "
            ]
          },
          "metadata": {},
          "execution_count": 20
        }
      ],
      "source": [
        "X"
      ]
    },
    {
      "cell_type": "markdown",
      "id": "3e8f3c59",
      "metadata": {
        "id": "3e8f3c59",
        "papermill": {
          "duration": 0.014791,
          "end_time": "2022-06-26T14:20:57.777276",
          "exception": false,
          "start_time": "2022-06-26T14:20:57.762485",
          "status": "completed"
        },
        "tags": []
      },
      "source": [
        "**Разделение набора данных на обучающий и тестовый наборы**"
      ]
    },
    {
      "cell_type": "code",
      "execution_count": 21,
      "id": "db14415e",
      "metadata": {
        "scrolled": true,
        "id": "db14415e"
      },
      "outputs": [],
      "source": [
        "# !pip install sklearn"
      ]
    },
    {
      "cell_type": "code",
      "execution_count": 22,
      "id": "e08c098c",
      "metadata": {
        "execution": {
          "iopub.execute_input": "2022-06-26T14:20:57.813022Z",
          "iopub.status.busy": "2022-06-26T14:20:57.812428Z",
          "iopub.status.idle": "2022-06-26T14:20:59.116923Z",
          "shell.execute_reply": "2022-06-26T14:20:59.116416Z",
          "shell.execute_reply.started": "2021-12-08T09:25:46.141202Z"
        },
        "id": "e08c098c",
        "papermill": {
          "duration": 1.323557,
          "end_time": "2022-06-26T14:20:59.117036",
          "exception": false,
          "start_time": "2022-06-26T14:20:57.793479",
          "status": "completed"
        },
        "tags": []
      },
      "outputs": [],
      "source": [
        "# Split train and test dataset\n",
        "from sklearn.model_selection import train_test_split\n",
        "\n",
        "X_train, X_test, y_train, y_test = train_test_split(X, y, test_size=0.2, random_state=42)"
      ]
    },
    {
      "cell_type": "markdown",
      "id": "aa6b8dc0",
      "metadata": {
        "id": "aa6b8dc0",
        "papermill": {
          "duration": 0.01368,
          "end_time": "2022-06-26T14:20:59.145088",
          "exception": false,
          "start_time": "2022-06-26T14:20:59.131408",
          "status": "completed"
        },
        "tags": []
      },
      "source": [
        "Нормализуем значения $I_d$ так чтобы выходные значения были в пределах 0 и 1"
      ]
    },
    {
      "cell_type": "code",
      "execution_count": 23,
      "id": "238db9d6",
      "metadata": {
        "execution": {
          "iopub.execute_input": "2022-06-26T14:20:59.179296Z",
          "iopub.status.busy": "2022-06-26T14:20:59.178767Z",
          "iopub.status.idle": "2022-06-26T14:20:59.192574Z",
          "shell.execute_reply": "2022-06-26T14:20:59.192113Z",
          "shell.execute_reply.started": "2021-12-08T09:25:47.680488Z"
        },
        "id": "238db9d6",
        "papermill": {
          "duration": 0.033354,
          "end_time": "2022-06-26T14:20:59.192693",
          "exception": false,
          "start_time": "2022-06-26T14:20:59.159339",
          "status": "completed"
        },
        "tags": []
      },
      "outputs": [],
      "source": [
        "y_train=y_train.reshape(-1,1) #reshape the data before feeding to network\n",
        "y_test=y_test.reshape(-1,1)"
      ]
    },
    {
      "cell_type": "markdown",
      "id": "1d0-wXUONeq4",
      "metadata": {
        "id": "1d0-wXUONeq4"
      },
      "source": [
        "## Построение модели"
      ]
    },
    {
      "cell_type": "markdown",
      "id": "318fb846",
      "metadata": {
        "id": "318fb846",
        "papermill": {
          "duration": 0.014225,
          "end_time": "2022-06-26T14:20:59.221628",
          "exception": false,
          "start_time": "2022-06-26T14:20:59.207403",
          "status": "completed"
        },
        "tags": []
      },
      "source": [
        "**Import Tensorflow and Keras**"
      ]
    },
    {
      "cell_type": "code",
      "execution_count": 24,
      "id": "a29d6ff0",
      "metadata": {
        "execution": {
          "iopub.execute_input": "2022-06-26T14:20:59.255832Z",
          "iopub.status.busy": "2022-06-26T14:20:59.255268Z",
          "iopub.status.idle": "2022-06-26T14:21:05.159681Z",
          "shell.execute_reply": "2022-06-26T14:21:05.159218Z",
          "shell.execute_reply.started": "2021-12-08T09:25:49.760432Z"
        },
        "id": "a29d6ff0",
        "papermill": {
          "duration": 5.923623,
          "end_time": "2022-06-26T14:21:05.159794",
          "exception": false,
          "start_time": "2022-06-26T14:20:59.236171",
          "status": "completed"
        },
        "tags": []
      },
      "outputs": [],
      "source": [
        "import tensorflow as tf\n",
        "from tensorflow import keras"
      ]
    },
    {
      "cell_type": "code",
      "source": [
        "tf.test.gpu_device_name()"
      ],
      "metadata": {
        "id": "yaDnXct7KdrI"
      },
      "id": "yaDnXct7KdrI",
      "execution_count": null,
      "outputs": []
    },
    {
      "cell_type": "markdown",
      "id": "d9b6c07e",
      "metadata": {
        "id": "d9b6c07e",
        "papermill": {
          "duration": 0.014895,
          "end_time": "2022-06-26T14:21:05.217795",
          "exception": false,
          "start_time": "2022-06-26T14:21:05.202900",
          "status": "completed"
        },
        "tags": []
      },
      "source": [
        "Note: Relu as activation finction may be used for hidden layers but result might not be smooth. For any compact model, it should be continuous so that it is compatible with Newton algorithm which is used in SPICE simulators."
      ]
    },
    {
      "cell_type": "code",
      "execution_count": 25,
      "id": "1663d9a4",
      "metadata": {
        "colab": {
          "base_uri": "https://localhost:8080/"
        },
        "execution": {
          "iopub.execute_input": "2022-06-26T14:21:05.278472Z",
          "iopub.status.busy": "2022-06-26T14:21:05.277926Z",
          "iopub.status.idle": "2022-06-26T14:46:27.798493Z",
          "shell.execute_reply": "2022-06-26T14:46:27.798959Z",
          "shell.execute_reply.started": "2021-12-08T09:25:55.861106Z"
        },
        "id": "1663d9a4",
        "outputId": "0312fd35-a87d-43ac-a632-3e1422ed3a1b",
        "papermill": {
          "duration": 1522.538994,
          "end_time": "2022-06-26T14:46:27.799134",
          "exception": false,
          "start_time": "2022-06-26T14:21:05.260140",
          "status": "completed"
        },
        "tags": []
      },
      "outputs": [
        {
          "output_type": "stream",
          "name": "stdout",
          "text": [
            "Model: \"sequential\"\n",
            "_________________________________________________________________\n",
            " Layer (type)                Output Shape              Param #   \n",
            "=================================================================\n",
            " dense (Dense)               (None, 32)                192       \n",
            "                                                                 \n",
            " dense_1 (Dense)             (None, 16)                528       \n",
            "                                                                 \n",
            " dense_2 (Dense)             (None, 1)                 17        \n",
            "                                                                 \n",
            "=================================================================\n",
            "Total params: 737\n",
            "Trainable params: 737\n",
            "Non-trainable params: 0\n",
            "_________________________________________________________________\n"
          ]
        }
      ],
      "source": [
        "# We'll use Keras to create a Neural network\n",
        "\n",
        "# 5 - 32 - 16 - 1\n",
        "\n",
        "model = tf.keras.Sequential()\n",
        "\n",
        "model.add(keras.layers.Dense(32, activation='tanh', input_shape=(5,)))\n",
        "model.add(keras.layers.Dense(16, activation='tanh'))\n",
        "model.add(keras.layers.Dense(1, activation='sigmoid'))\n",
        "\n",
        "model.compile(optimizer='adam', loss='mse', metrics=['mae'])\n",
        "model.summary()"
      ]
    },
    {
      "cell_type": "code",
      "execution_count": 27,
      "id": "LTfqqT9bQ3p1",
      "metadata": {
        "colab": {
          "base_uri": "https://localhost:8080/"
        },
        "id": "LTfqqT9bQ3p1",
        "outputId": "214f4e67-f554-4a0e-ca41-45714bf46e96"
      },
      "outputs": [
        {
          "output_type": "stream",
          "name": "stdout",
          "text": [
            "Epoch 1/500\n",
            "3307/3307 [==============================] - 10s 3ms/step - loss: 3.4212e-07 - mae: 3.9167e-04 - val_loss: 2.0865e-07 - val_mae: 2.9869e-04\n",
            "Epoch 2/500\n",
            "3307/3307 [==============================] - 10s 3ms/step - loss: 2.8478e-07 - mae: 3.7961e-04 - val_loss: 2.3875e-07 - val_mae: 2.7593e-04\n",
            "Epoch 3/500\n",
            "3307/3307 [==============================] - 10s 3ms/step - loss: 3.0923e-07 - mae: 3.8549e-04 - val_loss: 1.4306e-07 - val_mae: 2.8079e-04\n",
            "Epoch 4/500\n",
            "3307/3307 [==============================] - 10s 3ms/step - loss: 3.2952e-07 - mae: 3.8962e-04 - val_loss: 1.8291e-07 - val_mae: 2.9611e-04\n",
            "Epoch 5/500\n",
            "3307/3307 [==============================] - 10s 3ms/step - loss: 3.1593e-07 - mae: 3.8323e-04 - val_loss: 2.7305e-07 - val_mae: 4.1008e-04\n",
            "Epoch 6/500\n",
            "3307/3307 [==============================] - 10s 3ms/step - loss: 3.1120e-07 - mae: 3.9444e-04 - val_loss: 1.1165e-07 - val_mae: 2.1650e-04\n",
            "Epoch 7/500\n",
            "3307/3307 [==============================] - 10s 3ms/step - loss: 3.0557e-07 - mae: 3.8689e-04 - val_loss: 2.3718e-07 - val_mae: 3.9016e-04\n",
            "Epoch 8/500\n",
            "3307/3307 [==============================] - 10s 3ms/step - loss: 3.0191e-07 - mae: 3.8556e-04 - val_loss: 3.2534e-07 - val_mae: 4.4356e-04\n",
            "Epoch 9/500\n",
            "3307/3307 [==============================] - 9s 3ms/step - loss: 2.8536e-07 - mae: 3.7721e-04 - val_loss: 1.0984e-07 - val_mae: 2.3076e-04\n",
            "Epoch 10/500\n",
            "3307/3307 [==============================] - 10s 3ms/step - loss: 2.9676e-07 - mae: 3.8605e-04 - val_loss: 1.6628e-07 - val_mae: 2.8359e-04\n",
            "Epoch 11/500\n",
            "3307/3307 [==============================] - 10s 3ms/step - loss: 2.9521e-07 - mae: 3.8443e-04 - val_loss: 1.3891e-07 - val_mae: 2.7795e-04\n",
            "Epoch 12/500\n",
            "3307/3307 [==============================] - 10s 3ms/step - loss: 2.8596e-07 - mae: 3.6879e-04 - val_loss: 2.3453e-07 - val_mae: 3.7392e-04\n",
            "Epoch 13/500\n",
            "3307/3307 [==============================] - 10s 3ms/step - loss: 2.9684e-07 - mae: 3.7791e-04 - val_loss: 1.9287e-07 - val_mae: 3.3630e-04\n",
            "Epoch 14/500\n",
            "3307/3307 [==============================] - 10s 3ms/step - loss: 2.9098e-07 - mae: 3.7680e-04 - val_loss: 2.0180e-07 - val_mae: 3.2899e-04\n",
            "Epoch 15/500\n",
            "3307/3307 [==============================] - 10s 3ms/step - loss: 2.8669e-07 - mae: 3.8047e-04 - val_loss: 1.5565e-07 - val_mae: 3.1053e-04\n",
            "Epoch 16/500\n",
            "3307/3307 [==============================] - 10s 3ms/step - loss: 2.8661e-07 - mae: 3.7621e-04 - val_loss: 1.3990e-07 - val_mae: 2.4013e-04\n",
            "Epoch 17/500\n",
            "3307/3307 [==============================] - 10s 3ms/step - loss: 2.8458e-07 - mae: 3.6899e-04 - val_loss: 9.6475e-07 - val_mae: 8.0360e-04\n",
            "Epoch 18/500\n",
            "3307/3307 [==============================] - 10s 3ms/step - loss: 2.7917e-07 - mae: 3.7122e-04 - val_loss: 1.1269e-07 - val_mae: 2.3033e-04\n",
            "Epoch 19/500\n",
            "3307/3307 [==============================] - 10s 3ms/step - loss: 2.8661e-07 - mae: 3.7500e-04 - val_loss: 3.0301e-07 - val_mae: 4.3177e-04\n",
            "Epoch 20/500\n",
            "3307/3307 [==============================] - 10s 3ms/step - loss: 2.7289e-07 - mae: 3.6759e-04 - val_loss: 1.6979e-07 - val_mae: 3.1030e-04\n",
            "Epoch 21/500\n",
            "3307/3307 [==============================] - 10s 3ms/step - loss: 2.6643e-07 - mae: 3.6972e-04 - val_loss: 1.3240e-07 - val_mae: 2.7079e-04\n",
            "Epoch 22/500\n",
            "3307/3307 [==============================] - 10s 3ms/step - loss: 2.7708e-07 - mae: 3.7117e-04 - val_loss: 1.2718e-07 - val_mae: 2.4742e-04\n",
            "Epoch 23/500\n",
            "3307/3307 [==============================] - 10s 3ms/step - loss: 2.8662e-07 - mae: 3.6394e-04 - val_loss: 1.4439e-07 - val_mae: 2.4913e-04\n",
            "Epoch 24/500\n",
            "3307/3307 [==============================] - 10s 3ms/step - loss: 2.8973e-07 - mae: 3.7211e-04 - val_loss: 1.2750e-07 - val_mae: 2.4469e-04\n",
            "Epoch 25/500\n",
            "3307/3307 [==============================] - 9s 3ms/step - loss: 2.8155e-07 - mae: 3.5858e-04 - val_loss: 1.2361e-07 - val_mae: 2.2557e-04\n",
            "Epoch 26/500\n",
            "3307/3307 [==============================] - 10s 3ms/step - loss: 2.7427e-07 - mae: 3.6360e-04 - val_loss: 1.3608e-07 - val_mae: 2.4743e-04\n",
            "Epoch 27/500\n",
            "3307/3307 [==============================] - 10s 3ms/step - loss: 3.0113e-07 - mae: 3.6995e-04 - val_loss: 1.2354e-07 - val_mae: 2.6654e-04\n",
            "Epoch 28/500\n",
            "3307/3307 [==============================] - 10s 3ms/step - loss: 2.7477e-07 - mae: 3.6090e-04 - val_loss: 2.4538e-07 - val_mae: 3.3031e-04\n",
            "Epoch 29/500\n",
            "3307/3307 [==============================] - 10s 3ms/step - loss: 2.7829e-07 - mae: 3.5262e-04 - val_loss: 1.4121e-07 - val_mae: 2.4119e-04\n",
            "Epoch 30/500\n",
            "3307/3307 [==============================] - 10s 3ms/step - loss: 3.0395e-07 - mae: 3.7206e-04 - val_loss: 1.0653e-07 - val_mae: 2.2912e-04\n",
            "Epoch 31/500\n",
            "3307/3307 [==============================] - 10s 3ms/step - loss: 2.5100e-07 - mae: 3.5028e-04 - val_loss: 1.4396e-07 - val_mae: 2.8952e-04\n",
            "Epoch 32/500\n",
            "3307/3307 [==============================] - 10s 3ms/step - loss: 2.8920e-07 - mae: 3.5977e-04 - val_loss: 9.7446e-08 - val_mae: 2.1840e-04\n",
            "Epoch 33/500\n",
            "3307/3307 [==============================] - 10s 3ms/step - loss: 2.4956e-07 - mae: 3.4367e-04 - val_loss: 1.5071e-07 - val_mae: 2.8368e-04\n",
            "Epoch 34/500\n",
            "3307/3307 [==============================] - 10s 3ms/step - loss: 2.5352e-07 - mae: 3.4101e-04 - val_loss: 5.9336e-07 - val_mae: 6.5378e-04\n",
            "Epoch 35/500\n",
            "3307/3307 [==============================] - 10s 3ms/step - loss: 2.7115e-07 - mae: 3.6373e-04 - val_loss: 5.6192e-07 - val_mae: 5.7212e-04\n",
            "Epoch 36/500\n",
            "3307/3307 [==============================] - 10s 3ms/step - loss: 2.6685e-07 - mae: 3.5184e-04 - val_loss: 8.4793e-07 - val_mae: 7.1851e-04\n",
            "Epoch 37/500\n",
            "3307/3307 [==============================] - 9s 3ms/step - loss: 2.7241e-07 - mae: 3.4558e-04 - val_loss: 9.3588e-07 - val_mae: 6.7716e-04\n",
            "Epoch 38/500\n",
            "3307/3307 [==============================] - 10s 3ms/step - loss: 2.5077e-07 - mae: 3.5494e-04 - val_loss: 2.2008e-07 - val_mae: 3.4322e-04\n",
            "Epoch 39/500\n",
            "3307/3307 [==============================] - 10s 3ms/step - loss: 2.4990e-07 - mae: 3.5215e-04 - val_loss: 1.4506e-07 - val_mae: 2.8795e-04\n",
            "Epoch 40/500\n",
            "3307/3307 [==============================] - 10s 3ms/step - loss: 2.8408e-07 - mae: 3.5900e-04 - val_loss: 3.2487e-07 - val_mae: 4.5323e-04\n",
            "Epoch 41/500\n",
            "3307/3307 [==============================] - 10s 3ms/step - loss: 2.6826e-07 - mae: 3.4880e-04 - val_loss: 1.1712e-07 - val_mae: 2.3897e-04\n",
            "Epoch 42/500\n",
            "3307/3307 [==============================] - 10s 3ms/step - loss: 2.5894e-07 - mae: 3.5161e-04 - val_loss: 2.1304e-07 - val_mae: 3.6332e-04\n",
            "Epoch 43/500\n",
            "3307/3307 [==============================] - 10s 3ms/step - loss: 2.6323e-07 - mae: 3.3882e-04 - val_loss: 1.0116e-07 - val_mae: 2.0651e-04\n",
            "Epoch 44/500\n",
            "3307/3307 [==============================] - 10s 3ms/step - loss: 2.6447e-07 - mae: 3.4844e-04 - val_loss: 1.6972e-06 - val_mae: 0.0010\n",
            "Epoch 45/500\n",
            "3307/3307 [==============================] - 10s 3ms/step - loss: 2.3477e-07 - mae: 3.4359e-04 - val_loss: 1.6345e-07 - val_mae: 3.1720e-04\n",
            "Epoch 46/500\n",
            "3307/3307 [==============================] - 10s 3ms/step - loss: 3.0574e-07 - mae: 3.6021e-04 - val_loss: 8.9770e-08 - val_mae: 2.0316e-04\n",
            "Epoch 47/500\n",
            "3307/3307 [==============================] - 10s 3ms/step - loss: 2.4942e-07 - mae: 3.4932e-04 - val_loss: 5.8887e-07 - val_mae: 6.3600e-04\n",
            "Epoch 48/500\n",
            "3307/3307 [==============================] - 10s 3ms/step - loss: 2.4249e-07 - mae: 3.4362e-04 - val_loss: 6.8787e-07 - val_mae: 6.6292e-04\n",
            "Epoch 49/500\n",
            "3307/3307 [==============================] - 10s 3ms/step - loss: 2.6704e-07 - mae: 3.5944e-04 - val_loss: 4.6260e-07 - val_mae: 5.5465e-04\n",
            "Epoch 50/500\n",
            "3307/3307 [==============================] - 10s 3ms/step - loss: 2.2292e-07 - mae: 3.3299e-04 - val_loss: 4.5858e-07 - val_mae: 5.3585e-04\n",
            "Epoch 51/500\n",
            "3307/3307 [==============================] - 10s 3ms/step - loss: 2.5647e-07 - mae: 3.4529e-04 - val_loss: 3.1860e-07 - val_mae: 4.0397e-04\n",
            "Epoch 52/500\n",
            "3307/3307 [==============================] - 10s 3ms/step - loss: 2.3754e-07 - mae: 3.3909e-04 - val_loss: 1.7950e-07 - val_mae: 2.9789e-04\n",
            "Epoch 53/500\n",
            "3307/3307 [==============================] - 10s 3ms/step - loss: 2.5638e-07 - mae: 3.4975e-04 - val_loss: 2.3380e-06 - val_mae: 0.0013\n",
            "Epoch 54/500\n",
            "3307/3307 [==============================] - 10s 3ms/step - loss: 2.4314e-07 - mae: 3.3971e-04 - val_loss: 1.0794e-07 - val_mae: 2.3309e-04\n",
            "Epoch 55/500\n",
            "3307/3307 [==============================] - 10s 3ms/step - loss: 2.6532e-07 - mae: 3.5670e-04 - val_loss: 1.0860e-07 - val_mae: 2.2274e-04\n",
            "Epoch 56/500\n",
            "3307/3307 [==============================] - 11s 3ms/step - loss: 2.3426e-07 - mae: 3.2931e-04 - val_loss: 4.5654e-07 - val_mae: 5.5074e-04\n",
            "Epoch 57/500\n",
            "3307/3307 [==============================] - 10s 3ms/step - loss: 2.6149e-07 - mae: 3.4943e-04 - val_loss: 3.3391e-07 - val_mae: 5.0256e-04\n",
            "Epoch 58/500\n",
            "3307/3307 [==============================] - 10s 3ms/step - loss: 2.4651e-07 - mae: 3.2951e-04 - val_loss: 1.1003e-07 - val_mae: 2.3861e-04\n",
            "Epoch 59/500\n",
            "3307/3307 [==============================] - 10s 3ms/step - loss: 2.3596e-07 - mae: 3.3913e-04 - val_loss: 1.4744e-07 - val_mae: 2.2732e-04\n",
            "Epoch 60/500\n",
            "3307/3307 [==============================] - 10s 3ms/step - loss: 2.3854e-07 - mae: 3.4210e-04 - val_loss: 1.3416e-07 - val_mae: 2.2794e-04\n",
            "Epoch 61/500\n",
            "3307/3307 [==============================] - 10s 3ms/step - loss: 2.7718e-07 - mae: 3.5076e-04 - val_loss: 7.6156e-08 - val_mae: 1.9275e-04\n",
            "Epoch 62/500\n",
            "3307/3307 [==============================] - 10s 3ms/step - loss: 2.4662e-07 - mae: 3.3675e-04 - val_loss: 1.1355e-07 - val_mae: 2.1621e-04\n",
            "Epoch 63/500\n",
            "3307/3307 [==============================] - 10s 3ms/step - loss: 2.2753e-07 - mae: 3.2618e-04 - val_loss: 1.2798e-07 - val_mae: 2.9266e-04\n",
            "Epoch 64/500\n",
            "3307/3307 [==============================] - 10s 3ms/step - loss: 2.3546e-07 - mae: 3.4267e-04 - val_loss: 4.0418e-07 - val_mae: 5.4298e-04\n",
            "Epoch 65/500\n",
            "3307/3307 [==============================] - 10s 3ms/step - loss: 2.4989e-07 - mae: 3.3680e-04 - val_loss: 3.5680e-07 - val_mae: 3.7321e-04\n",
            "Epoch 66/500\n",
            "3307/3307 [==============================] - 10s 3ms/step - loss: 2.6541e-07 - mae: 3.2147e-04 - val_loss: 7.4557e-08 - val_mae: 1.8445e-04\n",
            "Epoch 67/500\n",
            "3307/3307 [==============================] - 10s 3ms/step - loss: 2.4254e-07 - mae: 3.3614e-04 - val_loss: 1.3169e-07 - val_mae: 2.7715e-04\n",
            "Epoch 68/500\n",
            "3307/3307 [==============================] - 10s 3ms/step - loss: 2.4044e-07 - mae: 3.4031e-04 - val_loss: 4.1490e-07 - val_mae: 4.6971e-04\n",
            "Epoch 69/500\n",
            "3307/3307 [==============================] - 10s 3ms/step - loss: 2.2846e-07 - mae: 3.3066e-04 - val_loss: 1.5474e-07 - val_mae: 3.0227e-04\n",
            "Epoch 70/500\n",
            "3307/3307 [==============================] - 10s 3ms/step - loss: 2.7185e-07 - mae: 3.5124e-04 - val_loss: 7.1281e-08 - val_mae: 1.8345e-04\n",
            "Epoch 71/500\n",
            "3307/3307 [==============================] - 10s 3ms/step - loss: 2.2344e-07 - mae: 3.1734e-04 - val_loss: 9.0497e-08 - val_mae: 2.1260e-04\n",
            "Epoch 72/500\n",
            "3307/3307 [==============================] - 10s 3ms/step - loss: 2.6510e-07 - mae: 3.4573e-04 - val_loss: 1.3466e-07 - val_mae: 2.7666e-04\n",
            "Epoch 73/500\n",
            "3307/3307 [==============================] - 10s 3ms/step - loss: 2.2449e-07 - mae: 3.2810e-04 - val_loss: 9.4642e-08 - val_mae: 2.1304e-04\n",
            "Epoch 74/500\n",
            "3307/3307 [==============================] - 10s 3ms/step - loss: 2.4457e-07 - mae: 3.3380e-04 - val_loss: 1.6886e-07 - val_mae: 2.8824e-04\n",
            "Epoch 75/500\n",
            "3307/3307 [==============================] - 10s 3ms/step - loss: 2.2901e-07 - mae: 3.3599e-04 - val_loss: 1.2078e-07 - val_mae: 2.1121e-04\n",
            "Epoch 76/500\n",
            "3307/3307 [==============================] - 10s 3ms/step - loss: 2.2249e-07 - mae: 3.2375e-04 - val_loss: 2.6028e-07 - val_mae: 3.9866e-04\n",
            "Epoch 77/500\n",
            "3307/3307 [==============================] - 10s 3ms/step - loss: 2.4131e-07 - mae: 3.3220e-04 - val_loss: 3.9629e-07 - val_mae: 5.0576e-04\n",
            "Epoch 78/500\n",
            "3307/3307 [==============================] - 10s 3ms/step - loss: 2.3837e-07 - mae: 3.3911e-04 - val_loss: 1.5651e-07 - val_mae: 2.9811e-04\n",
            "Epoch 79/500\n",
            "3307/3307 [==============================] - 10s 3ms/step - loss: 2.3669e-07 - mae: 3.2498e-04 - val_loss: 1.9819e-07 - val_mae: 3.2398e-04\n",
            "Epoch 80/500\n",
            "3307/3307 [==============================] - 10s 3ms/step - loss: 2.2311e-07 - mae: 3.2547e-04 - val_loss: 2.0533e-07 - val_mae: 3.8837e-04\n",
            "Epoch 81/500\n",
            "3307/3307 [==============================] - 10s 3ms/step - loss: 2.2143e-07 - mae: 3.2820e-04 - val_loss: 7.2071e-08 - val_mae: 1.8847e-04\n",
            "Epoch 82/500\n",
            "3307/3307 [==============================] - 10s 3ms/step - loss: 2.3004e-07 - mae: 3.3514e-04 - val_loss: 1.4763e-07 - val_mae: 2.3325e-04\n",
            "Epoch 83/500\n",
            "3307/3307 [==============================] - 10s 3ms/step - loss: 2.2333e-07 - mae: 3.1977e-04 - val_loss: 3.5651e-07 - val_mae: 4.0785e-04\n",
            "Epoch 84/500\n",
            "3307/3307 [==============================] - 10s 3ms/step - loss: 2.5107e-07 - mae: 3.3218e-04 - val_loss: 1.3700e-07 - val_mae: 2.8295e-04\n",
            "Epoch 85/500\n",
            "3307/3307 [==============================] - 10s 3ms/step - loss: 2.2588e-07 - mae: 3.0828e-04 - val_loss: 1.0102e-07 - val_mae: 2.3731e-04\n",
            "Epoch 86/500\n",
            "3307/3307 [==============================] - 12s 3ms/step - loss: 2.1275e-07 - mae: 3.1739e-04 - val_loss: 2.2726e-07 - val_mae: 3.7233e-04\n",
            "Epoch 87/500\n",
            "3307/3307 [==============================] - 10s 3ms/step - loss: 2.2113e-07 - mae: 3.2858e-04 - val_loss: 7.8305e-07 - val_mae: 8.0352e-04\n",
            "Epoch 88/500\n",
            "3307/3307 [==============================] - 10s 3ms/step - loss: 2.1967e-07 - mae: 3.2132e-04 - val_loss: 1.4811e-07 - val_mae: 3.0107e-04\n",
            "Epoch 89/500\n",
            "3307/3307 [==============================] - 10s 3ms/step - loss: 2.2630e-07 - mae: 3.2543e-04 - val_loss: 1.4743e-07 - val_mae: 2.6621e-04\n",
            "Epoch 90/500\n",
            "3307/3307 [==============================] - 10s 3ms/step - loss: 2.2757e-07 - mae: 3.2976e-04 - val_loss: 2.0542e-07 - val_mae: 3.8997e-04\n",
            "Epoch 91/500\n",
            "3307/3307 [==============================] - 10s 3ms/step - loss: 2.4312e-07 - mae: 3.2647e-04 - val_loss: 1.0396e-07 - val_mae: 2.4317e-04\n",
            "Epoch 92/500\n",
            "3307/3307 [==============================] - 10s 3ms/step - loss: 2.1669e-07 - mae: 3.2078e-04 - val_loss: 1.3325e-07 - val_mae: 2.5990e-04\n",
            "Epoch 93/500\n",
            "3307/3307 [==============================] - 10s 3ms/step - loss: 2.1659e-07 - mae: 3.2101e-04 - val_loss: 1.2131e-07 - val_mae: 2.3073e-04\n",
            "Epoch 94/500\n",
            "3307/3307 [==============================] - 10s 3ms/step - loss: 2.4075e-07 - mae: 3.3563e-04 - val_loss: 1.8337e-06 - val_mae: 0.0012\n",
            "Epoch 95/500\n",
            "3307/3307 [==============================] - 10s 3ms/step - loss: 2.1390e-07 - mae: 3.1734e-04 - val_loss: 6.7031e-08 - val_mae: 1.7348e-04\n",
            "Epoch 96/500\n",
            "3307/3307 [==============================] - 10s 3ms/step - loss: 2.2753e-07 - mae: 3.2813e-04 - val_loss: 9.0960e-08 - val_mae: 1.9672e-04\n",
            "Epoch 97/500\n",
            "3307/3307 [==============================] - 10s 3ms/step - loss: 2.1940e-07 - mae: 3.2133e-04 - val_loss: 1.0618e-07 - val_mae: 2.2019e-04\n",
            "Epoch 98/500\n",
            "3307/3307 [==============================] - 10s 3ms/step - loss: 2.0632e-07 - mae: 3.2130e-04 - val_loss: 1.0656e-07 - val_mae: 2.2955e-04\n",
            "Epoch 99/500\n",
            "3307/3307 [==============================] - 10s 3ms/step - loss: 2.3576e-07 - mae: 3.3424e-04 - val_loss: 3.5197e-07 - val_mae: 4.9961e-04\n",
            "Epoch 100/500\n",
            "3307/3307 [==============================] - 10s 3ms/step - loss: 2.3842e-07 - mae: 3.2586e-04 - val_loss: 1.1225e-07 - val_mae: 2.4411e-04\n",
            "Epoch 101/500\n",
            "3307/3307 [==============================] - 10s 3ms/step - loss: 2.1000e-07 - mae: 3.2033e-04 - val_loss: 6.5752e-08 - val_mae: 1.7391e-04\n",
            "Epoch 102/500\n",
            "3307/3307 [==============================] - 10s 3ms/step - loss: 2.1174e-07 - mae: 3.1202e-04 - val_loss: 1.0980e-07 - val_mae: 2.4521e-04\n",
            "Epoch 103/500\n",
            "3307/3307 [==============================] - 10s 3ms/step - loss: 2.3047e-07 - mae: 3.3090e-04 - val_loss: 1.1331e-07 - val_mae: 2.4883e-04\n",
            "Epoch 104/500\n",
            "3307/3307 [==============================] - 10s 3ms/step - loss: 2.2256e-07 - mae: 3.2034e-04 - val_loss: 7.9452e-08 - val_mae: 1.7579e-04\n",
            "Epoch 105/500\n",
            "3307/3307 [==============================] - 10s 3ms/step - loss: 2.1787e-07 - mae: 3.1643e-04 - val_loss: 3.6044e-07 - val_mae: 4.9441e-04\n",
            "Epoch 106/500\n",
            "3307/3307 [==============================] - 10s 3ms/step - loss: 2.2269e-07 - mae: 3.2022e-04 - val_loss: 7.3850e-08 - val_mae: 1.7246e-04\n",
            "Epoch 107/500\n",
            "3307/3307 [==============================] - 10s 3ms/step - loss: 2.2639e-07 - mae: 3.1918e-04 - val_loss: 6.4050e-08 - val_mae: 1.7058e-04\n",
            "Epoch 108/500\n",
            "3307/3307 [==============================] - 10s 3ms/step - loss: 2.0293e-07 - mae: 3.1195e-04 - val_loss: 2.9917e-07 - val_mae: 4.2532e-04\n",
            "Epoch 109/500\n",
            "3307/3307 [==============================] - 10s 3ms/step - loss: 2.2573e-07 - mae: 3.2764e-04 - val_loss: 4.6084e-07 - val_mae: 6.0004e-04\n",
            "Epoch 110/500\n",
            "3307/3307 [==============================] - 10s 3ms/step - loss: 2.2761e-07 - mae: 3.2023e-04 - val_loss: 5.8598e-08 - val_mae: 1.6392e-04\n",
            "Epoch 111/500\n",
            "3307/3307 [==============================] - 10s 3ms/step - loss: 2.2555e-07 - mae: 3.2362e-04 - val_loss: 1.5319e-07 - val_mae: 3.1199e-04\n",
            "Epoch 112/500\n",
            "3307/3307 [==============================] - 10s 3ms/step - loss: 2.0657e-07 - mae: 3.1408e-04 - val_loss: 1.3608e-07 - val_mae: 2.2200e-04\n",
            "Epoch 113/500\n",
            "3307/3307 [==============================] - 10s 3ms/step - loss: 2.0626e-07 - mae: 3.1610e-04 - val_loss: 6.9469e-08 - val_mae: 1.8716e-04\n",
            "Epoch 114/500\n",
            "3307/3307 [==============================] - 10s 3ms/step - loss: 2.1867e-07 - mae: 3.1983e-04 - val_loss: 2.3114e-07 - val_mae: 3.8205e-04\n",
            "Epoch 115/500\n",
            "3307/3307 [==============================] - 10s 3ms/step - loss: 2.1392e-07 - mae: 3.2189e-04 - val_loss: 1.3589e-07 - val_mae: 2.3956e-04\n",
            "Epoch 116/500\n",
            "3307/3307 [==============================] - 10s 3ms/step - loss: 2.0811e-07 - mae: 3.1669e-04 - val_loss: 8.7340e-08 - val_mae: 1.9469e-04\n",
            "Epoch 117/500\n",
            "3307/3307 [==============================] - 10s 3ms/step - loss: 2.2086e-07 - mae: 3.2089e-04 - val_loss: 1.4287e-07 - val_mae: 2.5991e-04\n",
            "Epoch 118/500\n",
            "3307/3307 [==============================] - 10s 3ms/step - loss: 2.0522e-07 - mae: 3.1802e-04 - val_loss: 6.0210e-07 - val_mae: 4.2611e-04\n",
            "Epoch 119/500\n",
            "3307/3307 [==============================] - 10s 3ms/step - loss: 2.2434e-07 - mae: 3.2162e-04 - val_loss: 1.0550e-07 - val_mae: 2.3783e-04\n",
            "Epoch 120/500\n",
            "3307/3307 [==============================] - 10s 3ms/step - loss: 2.0475e-07 - mae: 3.0262e-04 - val_loss: 7.8948e-08 - val_mae: 1.9807e-04\n",
            "Epoch 121/500\n",
            "3307/3307 [==============================] - 10s 3ms/step - loss: 2.1668e-07 - mae: 3.1941e-04 - val_loss: 1.6867e-07 - val_mae: 2.9914e-04\n",
            "Epoch 122/500\n",
            "3307/3307 [==============================] - 10s 3ms/step - loss: 2.1153e-07 - mae: 3.1970e-04 - val_loss: 7.1826e-08 - val_mae: 1.7433e-04\n",
            "Epoch 123/500\n",
            "3307/3307 [==============================] - 10s 3ms/step - loss: 2.0126e-07 - mae: 3.1081e-04 - val_loss: 8.1964e-08 - val_mae: 1.9026e-04\n",
            "Epoch 124/500\n",
            "3307/3307 [==============================] - 10s 3ms/step - loss: 2.0498e-07 - mae: 3.1293e-04 - val_loss: 1.7938e-07 - val_mae: 2.7077e-04\n",
            "Epoch 125/500\n",
            "3307/3307 [==============================] - 10s 3ms/step - loss: 2.1314e-07 - mae: 3.1346e-04 - val_loss: 5.6051e-07 - val_mae: 5.9534e-04\n",
            "Epoch 126/500\n",
            "3307/3307 [==============================] - 10s 3ms/step - loss: 2.2853e-07 - mae: 3.2765e-04 - val_loss: 6.4625e-08 - val_mae: 1.7249e-04\n",
            "Epoch 127/500\n",
            "3307/3307 [==============================] - 10s 3ms/step - loss: 2.0843e-07 - mae: 3.0973e-04 - val_loss: 2.5184e-07 - val_mae: 3.7860e-04\n",
            "Epoch 128/500\n",
            "3307/3307 [==============================] - 10s 3ms/step - loss: 2.0303e-07 - mae: 3.1658e-04 - val_loss: 7.1140e-08 - val_mae: 1.9001e-04\n",
            "Epoch 129/500\n",
            "3307/3307 [==============================] - 10s 3ms/step - loss: 2.0198e-07 - mae: 3.0380e-04 - val_loss: 9.2335e-08 - val_mae: 2.0543e-04\n",
            "Epoch 130/500\n",
            "3307/3307 [==============================] - 10s 3ms/step - loss: 2.3239e-07 - mae: 3.2186e-04 - val_loss: 2.0338e-07 - val_mae: 3.9013e-04\n",
            "Epoch 131/500\n",
            "3307/3307 [==============================] - 11s 3ms/step - loss: 2.1268e-07 - mae: 3.1101e-04 - val_loss: 2.1592e-07 - val_mae: 4.0036e-04\n",
            "Epoch 132/500\n",
            "3307/3307 [==============================] - 10s 3ms/step - loss: 2.0675e-07 - mae: 3.0914e-04 - val_loss: 4.3843e-07 - val_mae: 4.9523e-04\n",
            "Epoch 133/500\n",
            "3307/3307 [==============================] - 10s 3ms/step - loss: 2.0818e-07 - mae: 3.0513e-04 - val_loss: 1.3341e-07 - val_mae: 2.5451e-04\n",
            "Epoch 134/500\n",
            "3307/3307 [==============================] - 10s 3ms/step - loss: 1.9644e-07 - mae: 3.1107e-04 - val_loss: 3.2758e-07 - val_mae: 4.5978e-04\n",
            "Epoch 135/500\n",
            "3307/3307 [==============================] - 10s 3ms/step - loss: 2.0046e-07 - mae: 3.1074e-04 - val_loss: 1.2386e-07 - val_mae: 2.7148e-04\n",
            "Epoch 136/500\n",
            "3307/3307 [==============================] - 10s 3ms/step - loss: 2.0351e-07 - mae: 2.9874e-04 - val_loss: 1.0616e-07 - val_mae: 2.2385e-04\n",
            "Epoch 137/500\n",
            "3307/3307 [==============================] - 10s 3ms/step - loss: 2.0855e-07 - mae: 3.1456e-04 - val_loss: 5.7627e-08 - val_mae: 1.6107e-04\n",
            "Epoch 138/500\n",
            "3307/3307 [==============================] - 10s 3ms/step - loss: 1.9456e-07 - mae: 3.1253e-04 - val_loss: 2.4022e-06 - val_mae: 0.0013\n",
            "Epoch 139/500\n",
            "3307/3307 [==============================] - 10s 3ms/step - loss: 2.0715e-07 - mae: 3.0861e-04 - val_loss: 2.9316e-06 - val_mae: 0.0013\n",
            "Epoch 140/500\n",
            "3307/3307 [==============================] - 10s 3ms/step - loss: 2.0149e-07 - mae: 3.1169e-04 - val_loss: 7.6756e-08 - val_mae: 1.8465e-04\n",
            "Epoch 141/500\n",
            "3307/3307 [==============================] - 10s 3ms/step - loss: 2.1495e-07 - mae: 3.0870e-04 - val_loss: 1.3964e-07 - val_mae: 2.7932e-04\n",
            "Epoch 142/500\n",
            "3307/3307 [==============================] - 10s 3ms/step - loss: 1.9122e-07 - mae: 3.0397e-04 - val_loss: 7.3668e-08 - val_mae: 1.9641e-04\n",
            "Epoch 143/500\n",
            "3307/3307 [==============================] - 10s 3ms/step - loss: 2.1510e-07 - mae: 3.1716e-04 - val_loss: 6.4613e-08 - val_mae: 1.6798e-04\n",
            "Epoch 144/500\n",
            "3307/3307 [==============================] - 10s 3ms/step - loss: 2.0112e-07 - mae: 3.1391e-04 - val_loss: 2.5520e-06 - val_mae: 0.0014\n",
            "Epoch 145/500\n",
            "3307/3307 [==============================] - 10s 3ms/step - loss: 2.1441e-07 - mae: 3.1362e-04 - val_loss: 3.1454e-07 - val_mae: 4.6808e-04\n",
            "Epoch 146/500\n",
            "3307/3307 [==============================] - 10s 3ms/step - loss: 2.0330e-07 - mae: 3.0015e-04 - val_loss: 7.4117e-08 - val_mae: 1.9683e-04\n",
            "Epoch 147/500\n",
            "3307/3307 [==============================] - 10s 3ms/step - loss: 2.0361e-07 - mae: 3.1006e-04 - val_loss: 2.8630e-07 - val_mae: 4.2857e-04\n",
            "Epoch 148/500\n",
            "3307/3307 [==============================] - 10s 3ms/step - loss: 1.9955e-07 - mae: 3.0724e-04 - val_loss: 1.8848e-07 - val_mae: 3.1764e-04\n",
            "Epoch 149/500\n",
            "3307/3307 [==============================] - 10s 3ms/step - loss: 1.8871e-07 - mae: 3.0486e-04 - val_loss: 6.4779e-08 - val_mae: 1.8031e-04\n",
            "Epoch 150/500\n",
            "3307/3307 [==============================] - 10s 3ms/step - loss: 2.1112e-07 - mae: 3.0966e-04 - val_loss: 1.2716e-07 - val_mae: 2.5339e-04\n",
            "Epoch 151/500\n",
            "3307/3307 [==============================] - 10s 3ms/step - loss: 1.8876e-07 - mae: 3.0299e-04 - val_loss: 1.0663e-07 - val_mae: 2.0836e-04\n",
            "Epoch 152/500\n",
            "3307/3307 [==============================] - 10s 3ms/step - loss: 2.0795e-07 - mae: 3.0275e-04 - val_loss: 5.2061e-07 - val_mae: 3.3197e-04\n",
            "Epoch 153/500\n",
            "3307/3307 [==============================] - 10s 3ms/step - loss: 1.9538e-07 - mae: 3.0664e-04 - val_loss: 5.2783e-08 - val_mae: 1.5614e-04\n",
            "Epoch 154/500\n",
            "3307/3307 [==============================] - 10s 3ms/step - loss: 2.1815e-07 - mae: 3.1384e-04 - val_loss: 4.7112e-07 - val_mae: 5.7202e-04\n",
            "Epoch 155/500\n",
            "3307/3307 [==============================] - 10s 3ms/step - loss: 2.1667e-07 - mae: 2.9621e-04 - val_loss: 7.9253e-07 - val_mae: 6.5079e-04\n",
            "Epoch 156/500\n",
            "3307/3307 [==============================] - 10s 3ms/step - loss: 1.9627e-07 - mae: 2.9794e-04 - val_loss: 1.7163e-07 - val_mae: 3.2279e-04\n",
            "Epoch 157/500\n",
            "3307/3307 [==============================] - 10s 3ms/step - loss: 2.2261e-07 - mae: 3.1359e-04 - val_loss: 1.9473e-07 - val_mae: 3.8718e-04\n",
            "Epoch 158/500\n",
            "3307/3307 [==============================] - 10s 3ms/step - loss: 1.6475e-07 - mae: 2.8546e-04 - val_loss: 1.2027e-07 - val_mae: 2.8602e-04\n",
            "Epoch 159/500\n",
            "3307/3307 [==============================] - 10s 3ms/step - loss: 2.0021e-07 - mae: 3.1371e-04 - val_loss: 1.5964e-06 - val_mae: 0.0011\n",
            "Epoch 160/500\n",
            "3307/3307 [==============================] - 11s 3ms/step - loss: 2.0045e-07 - mae: 3.0716e-04 - val_loss: 7.6792e-08 - val_mae: 2.1049e-04\n",
            "Epoch 161/500\n",
            "3307/3307 [==============================] - 10s 3ms/step - loss: 2.1425e-07 - mae: 3.0023e-04 - val_loss: 1.2857e-07 - val_mae: 2.6564e-04\n",
            "Epoch 162/500\n",
            "3307/3307 [==============================] - 10s 3ms/step - loss: 1.9463e-07 - mae: 3.0087e-04 - val_loss: 1.1736e-07 - val_mae: 2.7157e-04\n",
            "Epoch 163/500\n",
            "3307/3307 [==============================] - 10s 3ms/step - loss: 2.1667e-07 - mae: 3.1569e-04 - val_loss: 1.7534e-07 - val_mae: 3.5130e-04\n",
            "Epoch 164/500\n",
            "3307/3307 [==============================] - 10s 3ms/step - loss: 1.9564e-07 - mae: 3.0548e-04 - val_loss: 7.4875e-08 - val_mae: 1.9593e-04\n",
            "Epoch 165/500\n",
            "3307/3307 [==============================] - 10s 3ms/step - loss: 2.0882e-07 - mae: 3.1767e-04 - val_loss: 1.6003e-07 - val_mae: 2.8971e-04\n",
            "Epoch 166/500\n",
            "3307/3307 [==============================] - 10s 3ms/step - loss: 1.7812e-07 - mae: 2.9438e-04 - val_loss: 2.2337e-07 - val_mae: 3.9102e-04\n",
            "Epoch 167/500\n",
            "3307/3307 [==============================] - 10s 3ms/step - loss: 1.9469e-07 - mae: 2.9392e-04 - val_loss: 1.8053e-07 - val_mae: 3.3788e-04\n",
            "Epoch 168/500\n",
            "3307/3307 [==============================] - 10s 3ms/step - loss: 1.9465e-07 - mae: 3.0418e-04 - val_loss: 9.5609e-08 - val_mae: 2.1264e-04\n",
            "Epoch 169/500\n",
            "3307/3307 [==============================] - 10s 3ms/step - loss: 2.0111e-07 - mae: 3.0931e-04 - val_loss: 3.4041e-07 - val_mae: 4.9438e-04\n",
            "Epoch 170/500\n",
            "3307/3307 [==============================] - 10s 3ms/step - loss: 1.9170e-07 - mae: 3.0353e-04 - val_loss: 1.4638e-07 - val_mae: 2.6464e-04\n",
            "Epoch 171/500\n",
            "3307/3307 [==============================] - 10s 3ms/step - loss: 2.3402e-07 - mae: 3.1286e-04 - val_loss: 1.2626e-07 - val_mae: 2.5903e-04\n",
            "Epoch 172/500\n",
            "3307/3307 [==============================] - 10s 3ms/step - loss: 1.8756e-07 - mae: 3.0345e-04 - val_loss: 7.1551e-08 - val_mae: 2.0384e-04\n",
            "Epoch 173/500\n",
            "3307/3307 [==============================] - 10s 3ms/step - loss: 2.0326e-07 - mae: 3.0830e-04 - val_loss: 8.1202e-08 - val_mae: 1.9310e-04\n",
            "Epoch 174/500\n",
            "3307/3307 [==============================] - 11s 3ms/step - loss: 2.2150e-07 - mae: 3.1238e-04 - val_loss: 7.3288e-07 - val_mae: 7.4747e-04\n",
            "Epoch 175/500\n",
            "3307/3307 [==============================] - 10s 3ms/step - loss: 1.8643e-07 - mae: 2.8833e-04 - val_loss: 6.4953e-08 - val_mae: 1.6748e-04\n",
            "Epoch 176/500\n",
            "3307/3307 [==============================] - 10s 3ms/step - loss: 2.1125e-07 - mae: 3.0505e-04 - val_loss: 1.2993e-07 - val_mae: 2.9658e-04\n",
            "Epoch 177/500\n",
            "3307/3307 [==============================] - 10s 3ms/step - loss: 1.7329e-07 - mae: 2.9299e-04 - val_loss: 5.2531e-08 - val_mae: 1.5932e-04\n",
            "Epoch 178/500\n",
            "3307/3307 [==============================] - 10s 3ms/step - loss: 1.9848e-07 - mae: 3.0908e-04 - val_loss: 2.7312e-07 - val_mae: 3.7177e-04\n",
            "Epoch 179/500\n",
            "3307/3307 [==============================] - 10s 3ms/step - loss: 2.0299e-07 - mae: 2.9671e-04 - val_loss: 6.2185e-08 - val_mae: 1.6547e-04\n",
            "Epoch 180/500\n",
            "3307/3307 [==============================] - 10s 3ms/step - loss: 1.7528e-07 - mae: 2.9137e-04 - val_loss: 4.9250e-08 - val_mae: 1.4846e-04\n",
            "Epoch 181/500\n",
            "3307/3307 [==============================] - 10s 3ms/step - loss: 1.8628e-07 - mae: 2.9929e-04 - val_loss: 1.8792e-07 - val_mae: 3.6912e-04\n",
            "Epoch 182/500\n",
            "3307/3307 [==============================] - 10s 3ms/step - loss: 1.8943e-07 - mae: 3.0189e-04 - val_loss: 6.2566e-08 - val_mae: 1.7595e-04\n",
            "Epoch 183/500\n",
            "3307/3307 [==============================] - 10s 3ms/step - loss: 1.9928e-07 - mae: 3.0318e-04 - val_loss: 2.0055e-07 - val_mae: 3.8020e-04\n",
            "Epoch 184/500\n",
            "3307/3307 [==============================] - 10s 3ms/step - loss: 1.9459e-07 - mae: 2.9948e-04 - val_loss: 8.3790e-08 - val_mae: 2.0775e-04\n",
            "Epoch 185/500\n",
            "3307/3307 [==============================] - 10s 3ms/step - loss: 1.8966e-07 - mae: 2.9158e-04 - val_loss: 2.0202e-07 - val_mae: 3.7738e-04\n",
            "Epoch 186/500\n",
            "3307/3307 [==============================] - 10s 3ms/step - loss: 2.0067e-07 - mae: 2.9968e-04 - val_loss: 2.1662e-07 - val_mae: 3.4051e-04\n",
            "Epoch 187/500\n",
            "3307/3307 [==============================] - 10s 3ms/step - loss: 1.9348e-07 - mae: 2.9192e-04 - val_loss: 7.4932e-08 - val_mae: 1.9478e-04\n",
            "Epoch 188/500\n",
            "3307/3307 [==============================] - 10s 3ms/step - loss: 1.9083e-07 - mae: 3.0107e-04 - val_loss: 1.1547e-07 - val_mae: 2.7542e-04\n",
            "Epoch 189/500\n",
            "3307/3307 [==============================] - 11s 3ms/step - loss: 2.0104e-07 - mae: 2.9224e-04 - val_loss: 2.7384e-07 - val_mae: 4.5125e-04\n",
            "Epoch 190/500\n",
            "3307/3307 [==============================] - 10s 3ms/step - loss: 1.8882e-07 - mae: 2.9489e-04 - val_loss: 5.8984e-08 - val_mae: 1.6822e-04\n",
            "Epoch 191/500\n",
            "3307/3307 [==============================] - 10s 3ms/step - loss: 2.0492e-07 - mae: 3.0937e-04 - val_loss: 7.1087e-08 - val_mae: 1.6759e-04\n",
            "Epoch 192/500\n",
            "3307/3307 [==============================] - 10s 3ms/step - loss: 1.8910e-07 - mae: 2.9717e-04 - val_loss: 7.1382e-08 - val_mae: 1.9055e-04\n",
            "Epoch 193/500\n",
            "3307/3307 [==============================] - 10s 3ms/step - loss: 1.7910e-07 - mae: 2.8763e-04 - val_loss: 9.3309e-07 - val_mae: 7.8346e-04\n",
            "Epoch 194/500\n",
            "3307/3307 [==============================] - 10s 3ms/step - loss: 1.9207e-07 - mae: 2.9889e-04 - val_loss: 9.6925e-08 - val_mae: 1.7593e-04\n",
            "Epoch 195/500\n",
            "3307/3307 [==============================] - 10s 3ms/step - loss: 1.9483e-07 - mae: 2.9546e-04 - val_loss: 7.0017e-08 - val_mae: 1.8357e-04\n",
            "Epoch 196/500\n",
            "3307/3307 [==============================] - 10s 3ms/step - loss: 1.8343e-07 - mae: 2.9835e-04 - val_loss: 1.7044e-07 - val_mae: 3.2717e-04\n",
            "Epoch 197/500\n",
            "3307/3307 [==============================] - 10s 3ms/step - loss: 1.6774e-07 - mae: 2.8497e-04 - val_loss: 5.4965e-08 - val_mae: 1.5477e-04\n",
            "Epoch 198/500\n",
            "3307/3307 [==============================] - 10s 3ms/step - loss: 1.9093e-07 - mae: 2.9983e-04 - val_loss: 4.5978e-07 - val_mae: 4.8499e-04\n",
            "Epoch 199/500\n",
            "3307/3307 [==============================] - 10s 3ms/step - loss: 1.8875e-07 - mae: 2.9651e-04 - val_loss: 3.3309e-07 - val_mae: 4.9495e-04\n",
            "Epoch 200/500\n",
            "3307/3307 [==============================] - 10s 3ms/step - loss: 1.9881e-07 - mae: 2.8732e-04 - val_loss: 9.3695e-08 - val_mae: 2.3086e-04\n",
            "Epoch 201/500\n",
            "3307/3307 [==============================] - 10s 3ms/step - loss: 1.8747e-07 - mae: 2.9701e-04 - val_loss: 8.4009e-08 - val_mae: 2.0004e-04\n",
            "Epoch 202/500\n",
            "3307/3307 [==============================] - 10s 3ms/step - loss: 1.9733e-07 - mae: 2.9555e-04 - val_loss: 8.8325e-08 - val_mae: 2.2831e-04\n",
            "Epoch 203/500\n",
            "3307/3307 [==============================] - 11s 3ms/step - loss: 1.9789e-07 - mae: 2.9973e-04 - val_loss: 9.3834e-08 - val_mae: 1.8998e-04\n",
            "Epoch 204/500\n",
            "3307/3307 [==============================] - 10s 3ms/step - loss: 1.9601e-07 - mae: 3.0016e-04 - val_loss: 2.4841e-07 - val_mae: 4.3299e-04\n",
            "Epoch 205/500\n",
            "3307/3307 [==============================] - 10s 3ms/step - loss: 1.5981e-07 - mae: 2.7716e-04 - val_loss: 5.9716e-08 - val_mae: 1.6896e-04\n",
            "Epoch 206/500\n",
            "3307/3307 [==============================] - 10s 3ms/step - loss: 1.8444e-07 - mae: 2.9717e-04 - val_loss: 1.5990e-07 - val_mae: 3.1495e-04\n",
            "Epoch 207/500\n",
            "3307/3307 [==============================] - 10s 3ms/step - loss: 1.9029e-07 - mae: 2.9763e-04 - val_loss: 4.5179e-07 - val_mae: 5.7782e-04\n",
            "Epoch 208/500\n",
            "3307/3307 [==============================] - 10s 3ms/step - loss: 1.7257e-07 - mae: 2.9344e-04 - val_loss: 5.6616e-07 - val_mae: 6.5519e-04\n",
            "Epoch 209/500\n",
            "3307/3307 [==============================] - 10s 3ms/step - loss: 1.8295e-07 - mae: 2.9507e-04 - val_loss: 3.6778e-07 - val_mae: 5.4113e-04\n",
            "Epoch 210/500\n",
            "3307/3307 [==============================] - 10s 3ms/step - loss: 1.8194e-07 - mae: 2.9852e-04 - val_loss: 1.3368e-07 - val_mae: 2.8035e-04\n",
            "Epoch 211/500\n",
            "3307/3307 [==============================] - 10s 3ms/step - loss: 1.7231e-07 - mae: 2.9548e-04 - val_loss: 2.4740e-07 - val_mae: 4.2929e-04\n",
            "Epoch 212/500\n",
            "3307/3307 [==============================] - 10s 3ms/step - loss: 1.8552e-07 - mae: 2.9104e-04 - val_loss: 9.0499e-08 - val_mae: 2.2407e-04\n",
            "Epoch 213/500\n",
            "3307/3307 [==============================] - 10s 3ms/step - loss: 1.8219e-07 - mae: 2.9364e-04 - val_loss: 6.7360e-08 - val_mae: 1.8900e-04\n",
            "Epoch 214/500\n",
            "3307/3307 [==============================] - 10s 3ms/step - loss: 2.0787e-07 - mae: 2.9356e-04 - val_loss: 8.7278e-08 - val_mae: 2.1607e-04\n",
            "Epoch 215/500\n",
            "3307/3307 [==============================] - 10s 3ms/step - loss: 1.8630e-07 - mae: 2.8441e-04 - val_loss: 5.4617e-08 - val_mae: 1.5998e-04\n",
            "Epoch 216/500\n",
            "3307/3307 [==============================] - 10s 3ms/step - loss: 1.7260e-07 - mae: 2.9319e-04 - val_loss: 8.4985e-08 - val_mae: 2.1594e-04\n",
            "Epoch 217/500\n",
            "3307/3307 [==============================] - 11s 3ms/step - loss: 1.9582e-07 - mae: 2.9721e-04 - val_loss: 3.2920e-07 - val_mae: 4.7249e-04\n",
            "Epoch 218/500\n",
            "3307/3307 [==============================] - 10s 3ms/step - loss: 1.7906e-07 - mae: 2.8523e-04 - val_loss: 6.6207e-08 - val_mae: 1.8355e-04\n",
            "Epoch 219/500\n",
            "3307/3307 [==============================] - 10s 3ms/step - loss: 1.8444e-07 - mae: 2.9279e-04 - val_loss: 5.1921e-07 - val_mae: 3.9481e-04\n",
            "Epoch 220/500\n",
            "3307/3307 [==============================] - 10s 3ms/step - loss: 2.0072e-07 - mae: 2.8943e-04 - val_loss: 5.5327e-08 - val_mae: 1.5648e-04\n",
            "Epoch 221/500\n",
            "3307/3307 [==============================] - 10s 3ms/step - loss: 1.7248e-07 - mae: 2.9171e-04 - val_loss: 7.3759e-08 - val_mae: 1.9005e-04\n",
            "Epoch 222/500\n",
            "3307/3307 [==============================] - 10s 3ms/step - loss: 1.7907e-07 - mae: 2.9312e-04 - val_loss: 5.4411e-08 - val_mae: 1.6187e-04\n",
            "Epoch 223/500\n",
            "3307/3307 [==============================] - 10s 3ms/step - loss: 1.8094e-07 - mae: 2.8774e-04 - val_loss: 8.6552e-08 - val_mae: 1.9994e-04\n",
            "Epoch 224/500\n",
            "3307/3307 [==============================] - 10s 3ms/step - loss: 1.9295e-07 - mae: 2.8974e-04 - val_loss: 7.0669e-08 - val_mae: 1.7474e-04\n",
            "Epoch 225/500\n",
            "3307/3307 [==============================] - 10s 3ms/step - loss: 1.9774e-07 - mae: 2.8549e-04 - val_loss: 1.3683e-07 - val_mae: 2.5979e-04\n",
            "Epoch 226/500\n",
            "3307/3307 [==============================] - 10s 3ms/step - loss: 1.8046e-07 - mae: 2.8533e-04 - val_loss: 2.4020e-07 - val_mae: 3.8254e-04\n",
            "Epoch 227/500\n",
            "3307/3307 [==============================] - 10s 3ms/step - loss: 1.8411e-07 - mae: 2.8516e-04 - val_loss: 3.6845e-07 - val_mae: 5.3808e-04\n",
            "Epoch 228/500\n",
            "3307/3307 [==============================] - 10s 3ms/step - loss: 1.7704e-07 - mae: 2.8538e-04 - val_loss: 9.1832e-08 - val_mae: 2.0444e-04\n",
            "Epoch 229/500\n",
            "3307/3307 [==============================] - 10s 3ms/step - loss: 1.8952e-07 - mae: 2.9335e-04 - val_loss: 2.0626e-07 - val_mae: 3.2165e-04\n",
            "Epoch 230/500\n",
            "3307/3307 [==============================] - 10s 3ms/step - loss: 1.7673e-07 - mae: 2.8105e-04 - val_loss: 4.8410e-08 - val_mae: 1.5375e-04\n",
            "Epoch 231/500\n",
            "3307/3307 [==============================] - 12s 4ms/step - loss: 1.7586e-07 - mae: 2.9216e-04 - val_loss: 6.2297e-08 - val_mae: 1.7949e-04\n",
            "Epoch 232/500\n",
            "3307/3307 [==============================] - 10s 3ms/step - loss: 1.7848e-07 - mae: 2.8126e-04 - val_loss: 5.1893e-08 - val_mae: 1.6046e-04\n",
            "Epoch 233/500\n",
            "3307/3307 [==============================] - 12s 4ms/step - loss: 1.7872e-07 - mae: 2.8519e-04 - val_loss: 4.2952e-08 - val_mae: 1.3719e-04\n",
            "Epoch 234/500\n",
            "3307/3307 [==============================] - 10s 3ms/step - loss: 1.8308e-07 - mae: 2.8242e-04 - val_loss: 1.6551e-07 - val_mae: 3.1029e-04\n",
            "Epoch 235/500\n",
            "3307/3307 [==============================] - 10s 3ms/step - loss: 1.7046e-07 - mae: 2.8073e-04 - val_loss: 7.9531e-08 - val_mae: 2.0974e-04\n",
            "Epoch 236/500\n",
            "3307/3307 [==============================] - 10s 3ms/step - loss: 1.9271e-07 - mae: 2.7121e-04 - val_loss: 2.1123e-07 - val_mae: 3.7883e-04\n",
            "Epoch 237/500\n",
            "3307/3307 [==============================] - 10s 3ms/step - loss: 1.8061e-07 - mae: 2.9000e-04 - val_loss: 1.5470e-07 - val_mae: 2.8493e-04\n",
            "Epoch 238/500\n",
            "3307/3307 [==============================] - 10s 3ms/step - loss: 1.7589e-07 - mae: 2.8562e-04 - val_loss: 1.5372e-07 - val_mae: 2.9366e-04\n",
            "Epoch 239/500\n",
            "3307/3307 [==============================] - 10s 3ms/step - loss: 1.7464e-07 - mae: 2.8412e-04 - val_loss: 5.1629e-07 - val_mae: 5.3457e-04\n",
            "Epoch 240/500\n",
            "3307/3307 [==============================] - 10s 3ms/step - loss: 1.8428e-07 - mae: 2.9204e-04 - val_loss: 5.5258e-07 - val_mae: 6.0106e-04\n",
            "Epoch 241/500\n",
            "3307/3307 [==============================] - 10s 3ms/step - loss: 1.7598e-07 - mae: 2.8276e-04 - val_loss: 1.1619e-07 - val_mae: 2.5364e-04\n",
            "Epoch 242/500\n",
            "3307/3307 [==============================] - 10s 3ms/step - loss: 1.7770e-07 - mae: 2.8104e-04 - val_loss: 7.0846e-08 - val_mae: 1.8966e-04\n",
            "Epoch 243/500\n",
            "3307/3307 [==============================] - 10s 3ms/step - loss: 1.8817e-07 - mae: 2.9634e-04 - val_loss: 1.1162e-07 - val_mae: 2.2297e-04\n",
            "Epoch 244/500\n",
            "3307/3307 [==============================] - 10s 3ms/step - loss: 1.6711e-07 - mae: 2.6976e-04 - val_loss: 6.4322e-08 - val_mae: 1.6612e-04\n",
            "Epoch 245/500\n",
            "3307/3307 [==============================] - 11s 3ms/step - loss: 1.7229e-07 - mae: 2.8120e-04 - val_loss: 6.4967e-07 - val_mae: 5.5673e-04\n",
            "Epoch 246/500\n",
            "3307/3307 [==============================] - 10s 3ms/step - loss: 1.7407e-07 - mae: 2.7951e-04 - val_loss: 1.1912e-07 - val_mae: 2.4286e-04\n",
            "Epoch 247/500\n",
            "3307/3307 [==============================] - 10s 3ms/step - loss: 1.9849e-07 - mae: 3.0029e-04 - val_loss: 1.6884e-06 - val_mae: 0.0012\n",
            "Epoch 248/500\n",
            "3307/3307 [==============================] - 10s 3ms/step - loss: 1.6991e-07 - mae: 2.7586e-04 - val_loss: 4.8445e-08 - val_mae: 1.4631e-04\n",
            "Epoch 249/500\n",
            "3307/3307 [==============================] - 10s 3ms/step - loss: 1.5691e-07 - mae: 2.6831e-04 - val_loss: 1.1008e-07 - val_mae: 2.2557e-04\n",
            "Epoch 250/500\n",
            "3307/3307 [==============================] - 10s 3ms/step - loss: 1.7574e-07 - mae: 2.8903e-04 - val_loss: 1.5656e-07 - val_mae: 2.8675e-04\n",
            "Epoch 251/500\n",
            "3307/3307 [==============================] - 10s 3ms/step - loss: 1.8286e-07 - mae: 2.9046e-04 - val_loss: 4.1408e-08 - val_mae: 1.4017e-04\n",
            "Epoch 252/500\n",
            "3307/3307 [==============================] - 11s 3ms/step - loss: 1.6255e-07 - mae: 2.8039e-04 - val_loss: 4.5475e-08 - val_mae: 1.4719e-04\n",
            "Epoch 253/500\n",
            "3307/3307 [==============================] - 10s 3ms/step - loss: 1.8606e-07 - mae: 2.7477e-04 - val_loss: 4.5237e-08 - val_mae: 1.4241e-04\n",
            "Epoch 254/500\n",
            "3307/3307 [==============================] - 10s 3ms/step - loss: 1.6800e-07 - mae: 2.8347e-04 - val_loss: 1.0020e-07 - val_mae: 2.2053e-04\n",
            "Epoch 255/500\n",
            "3307/3307 [==============================] - 11s 3ms/step - loss: 1.7554e-07 - mae: 2.8754e-04 - val_loss: 8.0231e-08 - val_mae: 2.0361e-04\n",
            "Epoch 256/500\n",
            "3307/3307 [==============================] - 11s 3ms/step - loss: 1.7910e-07 - mae: 2.8169e-04 - val_loss: 6.4894e-08 - val_mae: 1.8212e-04\n",
            "Epoch 257/500\n",
            "3307/3307 [==============================] - 10s 3ms/step - loss: 1.8876e-07 - mae: 2.7484e-04 - val_loss: 7.2143e-08 - val_mae: 1.7060e-04\n",
            "Epoch 258/500\n",
            "3307/3307 [==============================] - 10s 3ms/step - loss: 1.7604e-07 - mae: 2.7647e-04 - val_loss: 6.0943e-08 - val_mae: 1.8539e-04\n",
            "Epoch 259/500\n",
            "3307/3307 [==============================] - 11s 3ms/step - loss: 1.7294e-07 - mae: 2.7529e-04 - val_loss: 1.0816e-07 - val_mae: 2.1912e-04\n",
            "Epoch 260/500\n",
            "3307/3307 [==============================] - 10s 3ms/step - loss: 1.8359e-07 - mae: 2.8700e-04 - val_loss: 1.2948e-07 - val_mae: 2.4518e-04\n",
            "Epoch 261/500\n",
            "3307/3307 [==============================] - 10s 3ms/step - loss: 1.6888e-07 - mae: 2.8210e-04 - val_loss: 1.7438e-07 - val_mae: 2.8437e-04\n",
            "Epoch 262/500\n",
            "3307/3307 [==============================] - 10s 3ms/step - loss: 1.7391e-07 - mae: 2.7954e-04 - val_loss: 7.5003e-08 - val_mae: 2.1627e-04\n",
            "Epoch 263/500\n",
            "3307/3307 [==============================] - 11s 3ms/step - loss: 1.7695e-07 - mae: 2.7787e-04 - val_loss: 2.6730e-07 - val_mae: 4.4693e-04\n",
            "Epoch 264/500\n",
            "3307/3307 [==============================] - 10s 3ms/step - loss: 1.7223e-07 - mae: 2.8473e-04 - val_loss: 1.2016e-07 - val_mae: 2.3583e-04\n",
            "Epoch 265/500\n",
            "3307/3307 [==============================] - 10s 3ms/step - loss: 1.7546e-07 - mae: 2.8135e-04 - val_loss: 6.9760e-07 - val_mae: 7.1376e-04\n",
            "Epoch 266/500\n",
            "3307/3307 [==============================] - 10s 3ms/step - loss: 1.7149e-07 - mae: 2.8127e-04 - val_loss: 4.2580e-08 - val_mae: 1.4381e-04\n",
            "Epoch 267/500\n",
            "3307/3307 [==============================] - 10s 3ms/step - loss: 1.7701e-07 - mae: 2.8077e-04 - val_loss: 5.7714e-08 - val_mae: 1.7237e-04\n",
            "Epoch 268/500\n",
            "3307/3307 [==============================] - 10s 3ms/step - loss: 1.8484e-07 - mae: 2.8607e-04 - val_loss: 1.1615e-07 - val_mae: 2.3834e-04\n",
            "Epoch 269/500\n",
            "3307/3307 [==============================] - 10s 3ms/step - loss: 1.5990e-07 - mae: 2.6394e-04 - val_loss: 1.3463e-07 - val_mae: 3.1131e-04\n",
            "Epoch 270/500\n",
            "3307/3307 [==============================] - 10s 3ms/step - loss: 1.8767e-07 - mae: 2.8075e-04 - val_loss: 6.1199e-08 - val_mae: 1.5991e-04\n",
            "Epoch 271/500\n",
            "3307/3307 [==============================] - 10s 3ms/step - loss: 2.1086e-07 - mae: 2.8787e-04 - val_loss: 6.5033e-08 - val_mae: 1.9435e-04\n",
            "Epoch 272/500\n",
            "3307/3307 [==============================] - 11s 3ms/step - loss: 1.5965e-07 - mae: 2.7172e-04 - val_loss: 4.8968e-08 - val_mae: 1.5743e-04\n",
            "Epoch 273/500\n",
            "3307/3307 [==============================] - 11s 3ms/step - loss: 1.5583e-07 - mae: 2.7543e-04 - val_loss: 3.7974e-07 - val_mae: 4.0009e-04\n",
            "Epoch 274/500\n",
            "3307/3307 [==============================] - 10s 3ms/step - loss: 1.6741e-07 - mae: 2.8572e-04 - val_loss: 8.3847e-08 - val_mae: 2.1160e-04\n",
            "Epoch 275/500\n",
            "3307/3307 [==============================] - 10s 3ms/step - loss: 1.7928e-07 - mae: 2.7810e-04 - val_loss: 5.3563e-08 - val_mae: 1.5571e-04\n",
            "Epoch 276/500\n",
            "3307/3307 [==============================] - 10s 3ms/step - loss: 1.6628e-07 - mae: 2.7841e-04 - val_loss: 4.0301e-08 - val_mae: 1.3631e-04\n",
            "Epoch 277/500\n",
            "3307/3307 [==============================] - 10s 3ms/step - loss: 1.6123e-07 - mae: 2.8425e-04 - val_loss: 8.4036e-08 - val_mae: 2.0710e-04\n",
            "Epoch 278/500\n",
            "3307/3307 [==============================] - 10s 3ms/step - loss: 1.7326e-07 - mae: 2.8277e-04 - val_loss: 7.7863e-08 - val_mae: 2.0345e-04\n",
            "Epoch 279/500\n",
            "3307/3307 [==============================] - 10s 3ms/step - loss: 1.7224e-07 - mae: 2.8660e-04 - val_loss: 1.4156e-06 - val_mae: 0.0010\n",
            "Epoch 280/500\n",
            "3307/3307 [==============================] - 10s 3ms/step - loss: 1.5285e-07 - mae: 2.7287e-04 - val_loss: 1.8020e-06 - val_mae: 0.0012\n",
            "Epoch 281/500\n",
            "3307/3307 [==============================] - 10s 3ms/step - loss: 1.7207e-07 - mae: 2.7844e-04 - val_loss: 3.5159e-07 - val_mae: 4.7870e-04\n",
            "Epoch 282/500\n",
            "3307/3307 [==============================] - 10s 3ms/step - loss: 1.5462e-07 - mae: 2.7432e-04 - val_loss: 2.5218e-07 - val_mae: 3.9126e-04\n",
            "Epoch 283/500\n",
            "3307/3307 [==============================] - 10s 3ms/step - loss: 1.6297e-07 - mae: 2.7448e-04 - val_loss: 1.2248e-07 - val_mae: 2.8028e-04\n",
            "Epoch 284/500\n",
            "3307/3307 [==============================] - 10s 3ms/step - loss: 1.7246e-07 - mae: 2.7889e-04 - val_loss: 4.3413e-08 - val_mae: 1.4045e-04\n",
            "Epoch 285/500\n",
            "3307/3307 [==============================] - 10s 3ms/step - loss: 1.6561e-07 - mae: 2.6072e-04 - val_loss: 9.9053e-08 - val_mae: 2.6204e-04\n",
            "Epoch 286/500\n",
            "3307/3307 [==============================] - 12s 4ms/step - loss: 1.7884e-07 - mae: 2.7946e-04 - val_loss: 3.9604e-08 - val_mae: 1.3639e-04\n",
            "Epoch 287/500\n",
            "3307/3307 [==============================] - 11s 3ms/step - loss: 1.6139e-07 - mae: 2.7769e-04 - val_loss: 5.9085e-08 - val_mae: 1.7082e-04\n",
            "Epoch 288/500\n",
            "3307/3307 [==============================] - 10s 3ms/step - loss: 2.0418e-07 - mae: 2.8680e-04 - val_loss: 2.9504e-07 - val_mae: 4.2742e-04\n",
            "Epoch 289/500\n",
            "3307/3307 [==============================] - 10s 3ms/step - loss: 1.7277e-07 - mae: 2.7709e-04 - val_loss: 1.6456e-07 - val_mae: 2.4785e-04\n",
            "Epoch 290/500\n",
            "3307/3307 [==============================] - 10s 3ms/step - loss: 1.9132e-07 - mae: 2.7534e-04 - val_loss: 4.2509e-08 - val_mae: 1.4200e-04\n",
            "Epoch 291/500\n",
            "3307/3307 [==============================] - 10s 3ms/step - loss: 1.5524e-07 - mae: 2.7448e-04 - val_loss: 1.4973e-07 - val_mae: 3.3209e-04\n",
            "Epoch 292/500\n",
            "3307/3307 [==============================] - 11s 3ms/step - loss: 1.5728e-07 - mae: 2.6652e-04 - val_loss: 3.1178e-07 - val_mae: 3.9075e-04\n",
            "Epoch 293/500\n",
            "3307/3307 [==============================] - 11s 3ms/step - loss: 1.6579e-07 - mae: 2.8029e-04 - val_loss: 1.4858e-07 - val_mae: 2.9160e-04\n",
            "Epoch 294/500\n",
            "3307/3307 [==============================] - 11s 3ms/step - loss: 1.7224e-07 - mae: 2.7949e-04 - val_loss: 3.4280e-07 - val_mae: 4.9035e-04\n",
            "Epoch 295/500\n",
            "3307/3307 [==============================] - 11s 3ms/step - loss: 1.6212e-07 - mae: 2.7337e-04 - val_loss: 6.1552e-08 - val_mae: 1.8732e-04\n",
            "Epoch 296/500\n",
            "3307/3307 [==============================] - 10s 3ms/step - loss: 1.5891e-07 - mae: 2.7173e-04 - val_loss: 1.8675e-07 - val_mae: 3.2490e-04\n",
            "Epoch 297/500\n",
            "3307/3307 [==============================] - 10s 3ms/step - loss: 1.7243e-07 - mae: 2.8224e-04 - val_loss: 1.0152e-07 - val_mae: 2.5934e-04\n",
            "Epoch 298/500\n",
            "3307/3307 [==============================] - 11s 3ms/step - loss: 1.5677e-07 - mae: 2.6644e-04 - val_loss: 1.0953e-07 - val_mae: 2.5580e-04\n",
            "Epoch 299/500\n",
            "3307/3307 [==============================] - 10s 3ms/step - loss: 1.8502e-07 - mae: 2.6889e-04 - val_loss: 1.0736e-07 - val_mae: 2.5997e-04\n",
            "Epoch 300/500\n",
            "3307/3307 [==============================] - 11s 3ms/step - loss: 1.5605e-07 - mae: 2.7459e-04 - val_loss: 8.7410e-07 - val_mae: 8.3768e-04\n",
            "Epoch 301/500\n",
            "3307/3307 [==============================] - 10s 3ms/step - loss: 1.5561e-07 - mae: 2.7212e-04 - val_loss: 7.2904e-08 - val_mae: 1.6731e-04\n",
            "Epoch 302/500\n",
            "3307/3307 [==============================] - 11s 3ms/step - loss: 1.7701e-07 - mae: 2.8058e-04 - val_loss: 1.1654e-07 - val_mae: 2.7239e-04\n",
            "Epoch 303/500\n",
            "3307/3307 [==============================] - 10s 3ms/step - loss: 1.6838e-07 - mae: 2.6673e-04 - val_loss: 6.5819e-08 - val_mae: 1.9292e-04\n",
            "Epoch 304/500\n",
            "3307/3307 [==============================] - 11s 3ms/step - loss: 1.6662e-07 - mae: 2.7635e-04 - val_loss: 6.0739e-07 - val_mae: 6.4316e-04\n",
            "Epoch 305/500\n",
            "3307/3307 [==============================] - 11s 3ms/step - loss: 1.6964e-07 - mae: 2.7460e-04 - val_loss: 2.4245e-06 - val_mae: 0.0012\n",
            "Epoch 306/500\n",
            "3307/3307 [==============================] - 10s 3ms/step - loss: 2.5940e-07 - mae: 2.9675e-04 - val_loss: 5.2503e-07 - val_mae: 4.9807e-04\n",
            "Epoch 307/500\n",
            "3307/3307 [==============================] - 11s 3ms/step - loss: 1.3584e-07 - mae: 2.4017e-04 - val_loss: 4.1122e-08 - val_mae: 1.4392e-04\n",
            "Epoch 308/500\n",
            "3307/3307 [==============================] - 11s 3ms/step - loss: 1.6278e-07 - mae: 2.7543e-04 - val_loss: 8.1321e-08 - val_mae: 2.3198e-04\n",
            "Epoch 309/500\n",
            "3307/3307 [==============================] - 11s 3ms/step - loss: 1.7287e-07 - mae: 2.6736e-04 - val_loss: 1.0287e-07 - val_mae: 2.4487e-04\n",
            "Epoch 310/500\n",
            "3307/3307 [==============================] - 11s 3ms/step - loss: 1.6812e-07 - mae: 2.7086e-04 - val_loss: 5.4788e-08 - val_mae: 1.7253e-04\n",
            "Epoch 311/500\n",
            "3307/3307 [==============================] - 11s 3ms/step - loss: 1.5950e-07 - mae: 2.6009e-04 - val_loss: 6.1033e-08 - val_mae: 1.7150e-04\n",
            "Epoch 312/500\n",
            "3307/3307 [==============================] - 11s 3ms/step - loss: 1.5623e-07 - mae: 2.6675e-04 - val_loss: 1.2794e-07 - val_mae: 2.9808e-04\n",
            "Epoch 313/500\n",
            "3307/3307 [==============================] - 12s 4ms/step - loss: 1.4771e-07 - mae: 2.6925e-04 - val_loss: 6.2645e-08 - val_mae: 1.7244e-04\n",
            "Epoch 314/500\n",
            "3307/3307 [==============================] - 11s 3ms/step - loss: 1.8342e-07 - mae: 2.8171e-04 - val_loss: 8.5086e-08 - val_mae: 2.0827e-04\n",
            "Epoch 315/500\n",
            "3307/3307 [==============================] - 10s 3ms/step - loss: 1.7230e-07 - mae: 2.6913e-04 - val_loss: 5.8477e-08 - val_mae: 1.6084e-04\n",
            "Epoch 316/500\n",
            "3307/3307 [==============================] - 11s 3ms/step - loss: 1.5195e-07 - mae: 2.6632e-04 - val_loss: 3.9460e-07 - val_mae: 5.1753e-04\n",
            "Epoch 317/500\n",
            "3307/3307 [==============================] - 11s 3ms/step - loss: 1.9035e-07 - mae: 2.7823e-04 - val_loss: 4.8511e-08 - val_mae: 1.6283e-04\n",
            "Epoch 318/500\n",
            "3307/3307 [==============================] - 11s 3ms/step - loss: 1.4271e-07 - mae: 2.6095e-04 - val_loss: 5.4443e-08 - val_mae: 1.7757e-04\n",
            "Epoch 319/500\n",
            "3307/3307 [==============================] - 10s 3ms/step - loss: 1.8233e-07 - mae: 2.7440e-04 - val_loss: 6.3739e-08 - val_mae: 1.6513e-04\n",
            "Epoch 320/500\n",
            "3307/3307 [==============================] - 10s 3ms/step - loss: 1.5174e-07 - mae: 2.6781e-04 - val_loss: 5.4120e-07 - val_mae: 6.8014e-04\n",
            "Epoch 321/500\n",
            "3307/3307 [==============================] - 10s 3ms/step - loss: 1.6344e-07 - mae: 2.6978e-04 - val_loss: 1.6613e-07 - val_mae: 3.2022e-04\n",
            "Epoch 322/500\n",
            "3307/3307 [==============================] - 11s 3ms/step - loss: 1.5455e-07 - mae: 2.5166e-04 - val_loss: 5.2474e-08 - val_mae: 1.6482e-04\n",
            "Epoch 323/500\n",
            "3307/3307 [==============================] - 10s 3ms/step - loss: 1.6458e-07 - mae: 2.7791e-04 - val_loss: 1.4477e-07 - val_mae: 3.2396e-04\n",
            "Epoch 324/500\n",
            "3307/3307 [==============================] - 10s 3ms/step - loss: 1.5787e-07 - mae: 2.7392e-04 - val_loss: 9.0740e-08 - val_mae: 2.2808e-04\n",
            "Epoch 325/500\n",
            "3307/3307 [==============================] - 11s 3ms/step - loss: 1.6939e-07 - mae: 2.5924e-04 - val_loss: 1.5341e-07 - val_mae: 3.0766e-04\n",
            "Epoch 326/500\n",
            "3307/3307 [==============================] - 11s 3ms/step - loss: 1.6574e-07 - mae: 2.6877e-04 - val_loss: 6.8918e-08 - val_mae: 1.8510e-04\n",
            "Epoch 327/500\n",
            "3307/3307 [==============================] - 11s 3ms/step - loss: 1.7407e-07 - mae: 2.8465e-04 - val_loss: 5.4946e-08 - val_mae: 1.6182e-04\n",
            "Epoch 328/500\n",
            "3307/3307 [==============================] - 10s 3ms/step - loss: 1.6158e-07 - mae: 2.6707e-04 - val_loss: 5.7385e-08 - val_mae: 1.6775e-04\n",
            "Epoch 329/500\n",
            "3307/3307 [==============================] - 10s 3ms/step - loss: 1.6119e-07 - mae: 2.6830e-04 - val_loss: 7.0227e-07 - val_mae: 7.2453e-04\n",
            "Epoch 330/500\n",
            "3307/3307 [==============================] - 10s 3ms/step - loss: 1.5859e-07 - mae: 2.7234e-04 - val_loss: 1.0535e-07 - val_mae: 2.3492e-04\n",
            "Epoch 331/500\n",
            "3307/3307 [==============================] - 10s 3ms/step - loss: 1.5231e-07 - mae: 2.6532e-04 - val_loss: 3.3444e-07 - val_mae: 4.5938e-04\n",
            "Epoch 332/500\n",
            "3307/3307 [==============================] - 10s 3ms/step - loss: 1.6638e-07 - mae: 2.5981e-04 - val_loss: 8.2026e-08 - val_mae: 2.2837e-04\n",
            "Epoch 333/500\n",
            "3307/3307 [==============================] - 10s 3ms/step - loss: 1.6665e-07 - mae: 2.7412e-04 - val_loss: 2.7232e-07 - val_mae: 4.4224e-04\n",
            "Epoch 334/500\n",
            "3307/3307 [==============================] - 10s 3ms/step - loss: 1.6154e-07 - mae: 2.6570e-04 - val_loss: 1.1986e-07 - val_mae: 2.8297e-04\n",
            "Epoch 335/500\n",
            "3307/3307 [==============================] - 10s 3ms/step - loss: 1.6467e-07 - mae: 2.6093e-04 - val_loss: 7.7236e-08 - val_mae: 1.9666e-04\n",
            "Epoch 336/500\n",
            "3307/3307 [==============================] - 10s 3ms/step - loss: 1.5407e-07 - mae: 2.6406e-04 - val_loss: 9.7025e-08 - val_mae: 2.3752e-04\n",
            "Epoch 337/500\n",
            "3307/3307 [==============================] - 10s 3ms/step - loss: 1.5971e-07 - mae: 2.7183e-04 - val_loss: 1.7041e-07 - val_mae: 3.5540e-04\n",
            "Epoch 338/500\n",
            "3307/3307 [==============================] - 10s 3ms/step - loss: 1.6495e-07 - mae: 2.6541e-04 - val_loss: 5.9017e-08 - val_mae: 1.7313e-04\n",
            "Epoch 339/500\n",
            "3307/3307 [==============================] - 10s 3ms/step - loss: 1.5839e-07 - mae: 2.7369e-04 - val_loss: 4.4724e-08 - val_mae: 1.5504e-04\n",
            "Epoch 340/500\n",
            "3307/3307 [==============================] - 11s 3ms/step - loss: 1.5262e-07 - mae: 2.6628e-04 - val_loss: 5.2573e-08 - val_mae: 1.5691e-04\n",
            "Epoch 341/500\n",
            "3307/3307 [==============================] - 11s 3ms/step - loss: 1.4518e-07 - mae: 2.6119e-04 - val_loss: 2.3118e-07 - val_mae: 3.8295e-04\n",
            "Epoch 342/500\n",
            "3307/3307 [==============================] - 11s 3ms/step - loss: 1.6461e-07 - mae: 2.7548e-04 - val_loss: 4.5161e-08 - val_mae: 1.4309e-04\n",
            "Epoch 343/500\n",
            "3307/3307 [==============================] - 10s 3ms/step - loss: 1.7682e-07 - mae: 2.7286e-04 - val_loss: 1.1568e-07 - val_mae: 2.8294e-04\n",
            "Epoch 344/500\n",
            "3307/3307 [==============================] - 10s 3ms/step - loss: 1.7550e-07 - mae: 2.7201e-04 - val_loss: 1.1121e-07 - val_mae: 2.6913e-04\n",
            "Epoch 345/500\n",
            "3307/3307 [==============================] - 10s 3ms/step - loss: 1.4458e-07 - mae: 2.6198e-04 - val_loss: 5.7491e-08 - val_mae: 1.8185e-04\n",
            "Epoch 346/500\n",
            "3307/3307 [==============================] - 10s 3ms/step - loss: 1.6078e-07 - mae: 2.7374e-04 - val_loss: 6.4237e-08 - val_mae: 1.8862e-04\n",
            "Epoch 347/500\n",
            "3307/3307 [==============================] - 10s 3ms/step - loss: 1.5107e-07 - mae: 2.6764e-04 - val_loss: 8.0569e-08 - val_mae: 1.6961e-04\n",
            "Epoch 348/500\n",
            "3307/3307 [==============================] - 11s 3ms/step - loss: 1.5559e-07 - mae: 2.6185e-04 - val_loss: 1.0031e-07 - val_mae: 2.4631e-04\n",
            "Epoch 349/500\n",
            "3307/3307 [==============================] - 10s 3ms/step - loss: 1.4660e-07 - mae: 2.6002e-04 - val_loss: 8.6420e-08 - val_mae: 1.8852e-04\n",
            "Epoch 350/500\n",
            "3307/3307 [==============================] - 10s 3ms/step - loss: 1.6169e-07 - mae: 2.7550e-04 - val_loss: 1.1982e-07 - val_mae: 2.5746e-04\n",
            "Epoch 351/500\n",
            "3307/3307 [==============================] - 11s 3ms/step - loss: 1.6372e-07 - mae: 2.7266e-04 - val_loss: 5.2179e-08 - val_mae: 1.6867e-04\n",
            "Epoch 352/500\n",
            "3307/3307 [==============================] - 10s 3ms/step - loss: 1.5992e-07 - mae: 2.6855e-04 - val_loss: 2.6253e-07 - val_mae: 4.2352e-04\n",
            "Epoch 353/500\n",
            "3307/3307 [==============================] - 10s 3ms/step - loss: 1.4574e-07 - mae: 2.6447e-04 - val_loss: 9.7976e-08 - val_mae: 2.4829e-04\n",
            "Epoch 354/500\n",
            "3307/3307 [==============================] - 11s 3ms/step - loss: 1.5442e-07 - mae: 2.6063e-04 - val_loss: 1.9979e-07 - val_mae: 3.6165e-04\n",
            "Epoch 355/500\n",
            "3307/3307 [==============================] - 11s 3ms/step - loss: 1.5250e-07 - mae: 2.6767e-04 - val_loss: 5.2635e-08 - val_mae: 1.7171e-04\n",
            "Epoch 356/500\n",
            "3307/3307 [==============================] - 11s 3ms/step - loss: 1.4490e-07 - mae: 2.5888e-04 - val_loss: 2.3181e-07 - val_mae: 3.7885e-04\n",
            "Epoch 357/500\n",
            "3307/3307 [==============================] - 11s 3ms/step - loss: 1.5308e-07 - mae: 2.6948e-04 - val_loss: 6.6152e-08 - val_mae: 1.9018e-04\n",
            "Epoch 358/500\n",
            "3307/3307 [==============================] - 11s 3ms/step - loss: 1.5095e-07 - mae: 2.6342e-04 - val_loss: 1.7483e-07 - val_mae: 3.2563e-04\n",
            "Epoch 359/500\n",
            "3307/3307 [==============================] - 11s 3ms/step - loss: 1.6063e-07 - mae: 2.7194e-04 - val_loss: 2.3980e-07 - val_mae: 4.0958e-04\n",
            "Epoch 360/500\n",
            "3307/3307 [==============================] - 10s 3ms/step - loss: 1.4240e-07 - mae: 2.6141e-04 - val_loss: 4.9992e-08 - val_mae: 1.5040e-04\n",
            "Epoch 361/500\n",
            "3307/3307 [==============================] - 10s 3ms/step - loss: 1.5744e-07 - mae: 2.6213e-04 - val_loss: 7.2069e-08 - val_mae: 1.8953e-04\n",
            "Epoch 362/500\n",
            "3307/3307 [==============================] - 11s 3ms/step - loss: 1.8329e-07 - mae: 2.8725e-04 - val_loss: 2.6051e-07 - val_mae: 3.4330e-04\n",
            "Epoch 363/500\n",
            "3307/3307 [==============================] - 10s 3ms/step - loss: 1.5782e-07 - mae: 2.6251e-04 - val_loss: 1.4821e-07 - val_mae: 3.2971e-04\n",
            "Epoch 364/500\n",
            "3307/3307 [==============================] - 11s 3ms/step - loss: 1.3048e-07 - mae: 2.5329e-04 - val_loss: 2.0881e-07 - val_mae: 3.7345e-04\n",
            "Epoch 365/500\n",
            "3307/3307 [==============================] - 10s 3ms/step - loss: 1.5029e-07 - mae: 2.6755e-04 - val_loss: 2.2478e-07 - val_mae: 3.7661e-04\n",
            "Epoch 366/500\n",
            "3307/3307 [==============================] - 11s 3ms/step - loss: 1.5079e-07 - mae: 2.5660e-04 - val_loss: 1.2868e-07 - val_mae: 3.0375e-04\n",
            "Epoch 367/500\n",
            "3307/3307 [==============================] - 11s 3ms/step - loss: 1.6160e-07 - mae: 2.6273e-04 - val_loss: 9.5519e-08 - val_mae: 1.8770e-04\n",
            "Epoch 368/500\n",
            "3307/3307 [==============================] - 11s 3ms/step - loss: 1.4280e-07 - mae: 2.6365e-04 - val_loss: 1.1035e-07 - val_mae: 2.5511e-04\n",
            "Epoch 369/500\n",
            "3307/3307 [==============================] - 10s 3ms/step - loss: 1.9452e-07 - mae: 2.6345e-04 - val_loss: 5.7133e-08 - val_mae: 1.7221e-04\n",
            "Epoch 370/500\n",
            "3307/3307 [==============================] - 10s 3ms/step - loss: 1.6194e-07 - mae: 2.6998e-04 - val_loss: 6.0228e-08 - val_mae: 1.6364e-04\n",
            "Epoch 371/500\n",
            "3307/3307 [==============================] - 11s 3ms/step - loss: 1.4918e-07 - mae: 2.6467e-04 - val_loss: 7.6497e-08 - val_mae: 1.9790e-04\n",
            "Epoch 372/500\n",
            "3307/3307 [==============================] - 11s 3ms/step - loss: 1.5853e-07 - mae: 2.5787e-04 - val_loss: 6.2742e-08 - val_mae: 1.8610e-04\n",
            "Epoch 373/500\n",
            "3307/3307 [==============================] - 10s 3ms/step - loss: 1.4305e-07 - mae: 2.5431e-04 - val_loss: 8.8324e-08 - val_mae: 2.0636e-04\n",
            "Epoch 374/500\n",
            "3307/3307 [==============================] - 10s 3ms/step - loss: 1.5477e-07 - mae: 2.6303e-04 - val_loss: 1.5642e-07 - val_mae: 2.7066e-04\n",
            "Epoch 375/500\n",
            "3307/3307 [==============================] - 10s 3ms/step - loss: 1.5621e-07 - mae: 2.7170e-04 - val_loss: 1.7706e-07 - val_mae: 2.9456e-04\n",
            "Epoch 376/500\n",
            "3307/3307 [==============================] - 10s 3ms/step - loss: 1.5083e-07 - mae: 2.6651e-04 - val_loss: 1.7844e-07 - val_mae: 2.9951e-04\n",
            "Epoch 377/500\n",
            "3307/3307 [==============================] - 10s 3ms/step - loss: 1.6487e-07 - mae: 2.6278e-04 - val_loss: 8.2361e-08 - val_mae: 1.8670e-04\n",
            "Epoch 378/500\n",
            "3307/3307 [==============================] - 11s 3ms/step - loss: 1.4515e-07 - mae: 2.4991e-04 - val_loss: 1.2073e-07 - val_mae: 2.8333e-04\n",
            "Epoch 379/500\n",
            "3307/3307 [==============================] - 11s 3ms/step - loss: 1.6874e-07 - mae: 2.5763e-04 - val_loss: 2.0237e-07 - val_mae: 3.1474e-04\n",
            "Epoch 380/500\n",
            "3307/3307 [==============================] - 11s 3ms/step - loss: 1.4706e-07 - mae: 2.5759e-04 - val_loss: 4.1898e-07 - val_mae: 5.7946e-04\n",
            "Epoch 381/500\n",
            "3307/3307 [==============================] - 11s 3ms/step - loss: 1.5262e-07 - mae: 2.6420e-04 - val_loss: 1.2079e-07 - val_mae: 2.3831e-04\n",
            "Epoch 382/500\n",
            "3307/3307 [==============================] - 10s 3ms/step - loss: 1.5123e-07 - mae: 2.6354e-04 - val_loss: 1.2643e-07 - val_mae: 2.5607e-04\n",
            "Epoch 383/500\n",
            "3307/3307 [==============================] - 11s 3ms/step - loss: 1.7148e-07 - mae: 2.5227e-04 - val_loss: 5.3676e-08 - val_mae: 1.7197e-04\n",
            "Epoch 384/500\n",
            "3307/3307 [==============================] - 10s 3ms/step - loss: 1.4903e-07 - mae: 2.7038e-04 - val_loss: 1.4183e-07 - val_mae: 2.5205e-04\n",
            "Epoch 385/500\n",
            "3307/3307 [==============================] - 11s 3ms/step - loss: 1.6212e-07 - mae: 2.5810e-04 - val_loss: 5.4678e-08 - val_mae: 1.7770e-04\n",
            "Epoch 386/500\n",
            "3307/3307 [==============================] - 11s 3ms/step - loss: 1.4601e-07 - mae: 2.5190e-04 - val_loss: 1.0058e-07 - val_mae: 2.3120e-04\n",
            "Epoch 387/500\n",
            "3307/3307 [==============================] - 11s 3ms/step - loss: 2.2656e-07 - mae: 2.6717e-04 - val_loss: 1.5922e-07 - val_mae: 3.2216e-04\n",
            "Epoch 388/500\n",
            "3307/3307 [==============================] - 11s 3ms/step - loss: 1.5746e-07 - mae: 2.6112e-04 - val_loss: 2.9549e-07 - val_mae: 4.3746e-04\n",
            "Epoch 389/500\n",
            "3307/3307 [==============================] - 11s 3ms/step - loss: 1.5164e-07 - mae: 2.6019e-04 - val_loss: 1.9910e-07 - val_mae: 3.1022e-04\n",
            "Epoch 390/500\n",
            "3307/3307 [==============================] - 10s 3ms/step - loss: 1.4550e-07 - mae: 2.5996e-04 - val_loss: 2.1563e-07 - val_mae: 3.4387e-04\n",
            "Epoch 391/500\n",
            "3307/3307 [==============================] - 11s 3ms/step - loss: 1.6364e-07 - mae: 2.6820e-04 - val_loss: 5.6058e-08 - val_mae: 1.6896e-04\n",
            "Epoch 392/500\n",
            "3307/3307 [==============================] - 11s 3ms/step - loss: 1.5098e-07 - mae: 2.4763e-04 - val_loss: 8.1077e-08 - val_mae: 2.0461e-04\n",
            "Epoch 393/500\n",
            "3307/3307 [==============================] - 11s 3ms/step - loss: 1.5948e-07 - mae: 2.6098e-04 - val_loss: 6.8771e-08 - val_mae: 2.0218e-04\n",
            "Epoch 394/500\n",
            "3307/3307 [==============================] - 11s 3ms/step - loss: 1.4313e-07 - mae: 2.5935e-04 - val_loss: 6.2187e-08 - val_mae: 1.6136e-04\n",
            "Epoch 395/500\n",
            "3307/3307 [==============================] - 11s 3ms/step - loss: 1.5017e-07 - mae: 2.6949e-04 - val_loss: 1.1257e-06 - val_mae: 8.3334e-04\n",
            "Epoch 396/500\n",
            "3307/3307 [==============================] - 11s 3ms/step - loss: 1.8654e-07 - mae: 2.7912e-04 - val_loss: 3.3892e-08 - val_mae: 1.3359e-04\n",
            "Epoch 397/500\n",
            "3307/3307 [==============================] - 11s 3ms/step - loss: 1.2314e-07 - mae: 2.3582e-04 - val_loss: 8.1315e-08 - val_mae: 2.0772e-04\n",
            "Epoch 398/500\n",
            "3307/3307 [==============================] - 11s 3ms/step - loss: 1.5092e-07 - mae: 2.6373e-04 - val_loss: 5.3151e-08 - val_mae: 1.7923e-04\n",
            "Epoch 399/500\n",
            "3307/3307 [==============================] - 10s 3ms/step - loss: 1.6247e-07 - mae: 2.7209e-04 - val_loss: 1.8367e-07 - val_mae: 3.3160e-04\n",
            "Epoch 400/500\n",
            "3307/3307 [==============================] - 11s 3ms/step - loss: 1.4864e-07 - mae: 2.5351e-04 - val_loss: 1.0452e-07 - val_mae: 2.5601e-04\n",
            "Epoch 401/500\n",
            "3307/3307 [==============================] - 11s 3ms/step - loss: 1.3913e-07 - mae: 2.4687e-04 - val_loss: 2.1072e-07 - val_mae: 3.8933e-04\n",
            "Epoch 402/500\n",
            "3307/3307 [==============================] - 11s 3ms/step - loss: 1.5503e-07 - mae: 2.7021e-04 - val_loss: 5.6297e-08 - val_mae: 1.6776e-04\n",
            "Epoch 403/500\n",
            "3307/3307 [==============================] - 11s 3ms/step - loss: 1.7248e-07 - mae: 2.6667e-04 - val_loss: 3.5449e-08 - val_mae: 1.2731e-04\n",
            "Epoch 404/500\n",
            "3307/3307 [==============================] - 11s 3ms/step - loss: 1.3759e-07 - mae: 2.4855e-04 - val_loss: 1.1217e-07 - val_mae: 2.5957e-04\n",
            "Epoch 405/500\n",
            "3307/3307 [==============================] - 11s 3ms/step - loss: 1.5350e-07 - mae: 2.7116e-04 - val_loss: 6.8397e-08 - val_mae: 1.9295e-04\n",
            "Epoch 406/500\n",
            "3307/3307 [==============================] - 11s 3ms/step - loss: 1.3658e-07 - mae: 2.5908e-04 - val_loss: 7.9482e-08 - val_mae: 1.9753e-04\n",
            "Epoch 407/500\n",
            "3307/3307 [==============================] - 11s 3ms/step - loss: 1.5125e-07 - mae: 2.6601e-04 - val_loss: 1.2624e-07 - val_mae: 2.6033e-04\n",
            "Epoch 408/500\n",
            "3307/3307 [==============================] - 11s 3ms/step - loss: 1.6970e-07 - mae: 2.5550e-04 - val_loss: 8.0185e-08 - val_mae: 1.8386e-04\n",
            "Epoch 409/500\n",
            "3307/3307 [==============================] - 11s 3ms/step - loss: 1.4132e-07 - mae: 2.6221e-04 - val_loss: 6.3725e-08 - val_mae: 1.9211e-04\n",
            "Epoch 410/500\n",
            "3307/3307 [==============================] - 11s 3ms/step - loss: 1.4822e-07 - mae: 2.6163e-04 - val_loss: 5.3841e-08 - val_mae: 1.5333e-04\n",
            "Epoch 411/500\n",
            "3307/3307 [==============================] - 11s 3ms/step - loss: 1.5368e-07 - mae: 2.7092e-04 - val_loss: 7.6949e-07 - val_mae: 6.9151e-04\n",
            "Epoch 412/500\n",
            "3307/3307 [==============================] - 11s 3ms/step - loss: 1.4833e-07 - mae: 2.6086e-04 - val_loss: 8.7296e-08 - val_mae: 2.2155e-04\n",
            "Epoch 413/500\n",
            "3307/3307 [==============================] - 10s 3ms/step - loss: 1.6361e-07 - mae: 2.6707e-04 - val_loss: 2.4189e-07 - val_mae: 4.0929e-04\n",
            "Epoch 414/500\n",
            "3307/3307 [==============================] - 11s 3ms/step - loss: 1.4413e-07 - mae: 2.4481e-04 - val_loss: 4.7730e-08 - val_mae: 1.5400e-04\n",
            "Epoch 415/500\n",
            "3307/3307 [==============================] - 11s 3ms/step - loss: 1.8714e-07 - mae: 2.5930e-04 - val_loss: 7.0600e-08 - val_mae: 1.9436e-04\n",
            "Epoch 416/500\n",
            "3307/3307 [==============================] - 11s 3ms/step - loss: 1.4731e-07 - mae: 2.5319e-04 - val_loss: 3.1302e-07 - val_mae: 4.6522e-04\n",
            "Epoch 417/500\n",
            "3307/3307 [==============================] - 11s 3ms/step - loss: 1.3432e-07 - mae: 2.5495e-04 - val_loss: 5.9029e-08 - val_mae: 1.8026e-04\n",
            "Epoch 418/500\n",
            "3307/3307 [==============================] - 11s 3ms/step - loss: 1.4856e-07 - mae: 2.6059e-04 - val_loss: 1.7205e-07 - val_mae: 3.3640e-04\n",
            "Epoch 419/500\n",
            "3307/3307 [==============================] - 12s 4ms/step - loss: 1.4021e-07 - mae: 2.5667e-04 - val_loss: 4.9883e-08 - val_mae: 1.6682e-04\n",
            "Epoch 420/500\n",
            "3307/3307 [==============================] - 11s 3ms/step - loss: 1.5780e-07 - mae: 2.5746e-04 - val_loss: 4.6935e-08 - val_mae: 1.5349e-04\n",
            "Epoch 421/500\n",
            "3307/3307 [==============================] - 11s 3ms/step - loss: 1.3375e-07 - mae: 2.4755e-04 - val_loss: 5.2167e-08 - val_mae: 1.5963e-04\n",
            "Epoch 422/500\n",
            "3307/3307 [==============================] - 11s 3ms/step - loss: 1.4501e-07 - mae: 2.5862e-04 - val_loss: 1.8897e-07 - val_mae: 3.3681e-04\n",
            "Epoch 423/500\n",
            "3307/3307 [==============================] - 11s 3ms/step - loss: 1.5254e-07 - mae: 2.5623e-04 - val_loss: 3.8759e-08 - val_mae: 1.3929e-04\n",
            "Epoch 424/500\n",
            "3307/3307 [==============================] - 11s 3ms/step - loss: 1.4638e-07 - mae: 2.5496e-04 - val_loss: 5.3665e-08 - val_mae: 1.6149e-04\n",
            "Epoch 425/500\n",
            "3307/3307 [==============================] - 11s 3ms/step - loss: 1.5280e-07 - mae: 2.6626e-04 - val_loss: 8.5899e-08 - val_mae: 2.0647e-04\n",
            "Epoch 426/500\n",
            "3307/3307 [==============================] - 11s 3ms/step - loss: 1.4482e-07 - mae: 2.4944e-04 - val_loss: 5.1939e-08 - val_mae: 1.7230e-04\n",
            "Epoch 427/500\n",
            "3307/3307 [==============================] - 11s 3ms/step - loss: 1.5963e-07 - mae: 2.6025e-04 - val_loss: 5.0770e-08 - val_mae: 1.6501e-04\n",
            "Epoch 428/500\n",
            "3307/3307 [==============================] - 11s 3ms/step - loss: 1.3733e-07 - mae: 2.4870e-04 - val_loss: 6.0414e-08 - val_mae: 1.5381e-04\n",
            "Epoch 429/500\n",
            "3307/3307 [==============================] - 11s 3ms/step - loss: 1.6422e-07 - mae: 2.5973e-04 - val_loss: 8.9656e-08 - val_mae: 2.3955e-04\n",
            "Epoch 430/500\n",
            "3307/3307 [==============================] - 11s 3ms/step - loss: 1.4200e-07 - mae: 2.5593e-04 - val_loss: 2.0896e-07 - val_mae: 3.7953e-04\n",
            "Epoch 431/500\n",
            "3307/3307 [==============================] - 11s 3ms/step - loss: 1.5874e-07 - mae: 2.5587e-04 - val_loss: 4.4273e-08 - val_mae: 1.5087e-04\n",
            "Epoch 432/500\n",
            "3307/3307 [==============================] - 11s 3ms/step - loss: 1.3710e-07 - mae: 2.4291e-04 - val_loss: 7.7933e-08 - val_mae: 2.0971e-04\n",
            "Epoch 433/500\n",
            "3307/3307 [==============================] - 11s 3ms/step - loss: 1.3444e-07 - mae: 2.5451e-04 - val_loss: 1.3704e-07 - val_mae: 2.3587e-04\n",
            "Epoch 434/500\n",
            "3307/3307 [==============================] - 11s 3ms/step - loss: 1.6478e-07 - mae: 2.5654e-04 - val_loss: 3.7252e-07 - val_mae: 4.9778e-04\n",
            "Epoch 435/500\n",
            "3307/3307 [==============================] - 11s 3ms/step - loss: 1.4465e-07 - mae: 2.5623e-04 - val_loss: 3.7399e-08 - val_mae: 1.3218e-04\n",
            "Epoch 436/500\n",
            "3307/3307 [==============================] - 11s 3ms/step - loss: 1.6665e-07 - mae: 2.6766e-04 - val_loss: 5.4356e-08 - val_mae: 1.8418e-04\n",
            "Epoch 437/500\n",
            "3307/3307 [==============================] - 11s 3ms/step - loss: 1.2694e-07 - mae: 2.4913e-04 - val_loss: 1.2085e-07 - val_mae: 2.7200e-04\n",
            "Epoch 438/500\n",
            "3307/3307 [==============================] - 11s 3ms/step - loss: 1.8020e-07 - mae: 2.6467e-04 - val_loss: 5.0567e-08 - val_mae: 1.6468e-04\n",
            "Epoch 439/500\n",
            "3307/3307 [==============================] - 11s 3ms/step - loss: 1.2373e-07 - mae: 2.4062e-04 - val_loss: 1.0500e-07 - val_mae: 2.6348e-04\n",
            "Epoch 440/500\n",
            "3307/3307 [==============================] - 11s 3ms/step - loss: 1.4247e-07 - mae: 2.5217e-04 - val_loss: 5.8018e-08 - val_mae: 1.5601e-04\n",
            "Epoch 441/500\n",
            "3307/3307 [==============================] - 11s 3ms/step - loss: 1.4980e-07 - mae: 2.6386e-04 - val_loss: 2.7267e-07 - val_mae: 4.4993e-04\n",
            "Epoch 442/500\n",
            "3307/3307 [==============================] - 11s 3ms/step - loss: 1.5004e-07 - mae: 2.5003e-04 - val_loss: 3.9174e-08 - val_mae: 1.3099e-04\n",
            "Epoch 443/500\n",
            "3307/3307 [==============================] - 11s 3ms/step - loss: 1.6755e-07 - mae: 2.5217e-04 - val_loss: 4.5810e-08 - val_mae: 1.5013e-04\n",
            "Epoch 444/500\n",
            "3307/3307 [==============================] - 11s 3ms/step - loss: 1.5370e-07 - mae: 2.3419e-04 - val_loss: 3.6409e-08 - val_mae: 1.3269e-04\n",
            "Epoch 445/500\n",
            "3307/3307 [==============================] - 11s 3ms/step - loss: 1.4766e-07 - mae: 2.5919e-04 - val_loss: 3.3475e-07 - val_mae: 4.5180e-04\n",
            "Epoch 446/500\n",
            "3307/3307 [==============================] - 11s 3ms/step - loss: 1.4723e-07 - mae: 2.5678e-04 - val_loss: 7.5872e-08 - val_mae: 1.9110e-04\n",
            "Epoch 447/500\n",
            "3307/3307 [==============================] - 11s 3ms/step - loss: 1.6323e-07 - mae: 2.6666e-04 - val_loss: 3.8476e-08 - val_mae: 1.3877e-04\n",
            "Epoch 448/500\n",
            "3307/3307 [==============================] - 11s 3ms/step - loss: 1.4388e-07 - mae: 2.5382e-04 - val_loss: 2.2699e-07 - val_mae: 3.1122e-04\n",
            "Epoch 449/500\n",
            "3307/3307 [==============================] - 11s 3ms/step - loss: 1.4653e-07 - mae: 2.5575e-04 - val_loss: 1.6388e-07 - val_mae: 3.3342e-04\n",
            "Epoch 450/500\n",
            "3307/3307 [==============================] - 11s 3ms/step - loss: 1.3208e-07 - mae: 2.5039e-04 - val_loss: 7.9272e-08 - val_mae: 2.3365e-04\n",
            "Epoch 451/500\n",
            "3307/3307 [==============================] - 11s 3ms/step - loss: 1.5378e-07 - mae: 2.6256e-04 - val_loss: 5.0931e-08 - val_mae: 1.5715e-04\n",
            "Epoch 452/500\n",
            "3307/3307 [==============================] - 11s 3ms/step - loss: 1.6566e-07 - mae: 2.5374e-04 - val_loss: 2.7683e-08 - val_mae: 1.1366e-04\n",
            "Epoch 453/500\n",
            "3307/3307 [==============================] - 11s 3ms/step - loss: 1.3476e-07 - mae: 2.4700e-04 - val_loss: 1.3777e-07 - val_mae: 3.0435e-04\n",
            "Epoch 454/500\n",
            "3307/3307 [==============================] - 11s 3ms/step - loss: 1.5859e-07 - mae: 2.6812e-04 - val_loss: 3.5575e-07 - val_mae: 4.9082e-04\n",
            "Epoch 455/500\n",
            "3307/3307 [==============================] - 11s 3ms/step - loss: 2.1470e-07 - mae: 2.3858e-04 - val_loss: 1.4640e-07 - val_mae: 2.7123e-04\n",
            "Epoch 456/500\n",
            "3307/3307 [==============================] - 11s 3ms/step - loss: 1.2857e-07 - mae: 2.4339e-04 - val_loss: 1.1271e-07 - val_mae: 2.6739e-04\n",
            "Epoch 457/500\n",
            "3307/3307 [==============================] - 11s 3ms/step - loss: 1.4233e-07 - mae: 2.5762e-04 - val_loss: 4.7195e-08 - val_mae: 1.3846e-04\n",
            "Epoch 458/500\n",
            "3307/3307 [==============================] - 11s 3ms/step - loss: 1.4013e-07 - mae: 2.5309e-04 - val_loss: 1.0937e-07 - val_mae: 2.4457e-04\n",
            "Epoch 459/500\n",
            "3307/3307 [==============================] - 11s 3ms/step - loss: 1.4832e-07 - mae: 2.4657e-04 - val_loss: 5.8469e-08 - val_mae: 1.8112e-04\n",
            "Epoch 460/500\n",
            "3307/3307 [==============================] - 11s 3ms/step - loss: 1.4944e-07 - mae: 2.5837e-04 - val_loss: 5.1674e-08 - val_mae: 1.6949e-04\n",
            "Epoch 461/500\n",
            "3307/3307 [==============================] - 11s 3ms/step - loss: 1.3752e-07 - mae: 2.5711e-04 - val_loss: 1.2410e-07 - val_mae: 2.7532e-04\n",
            "Epoch 462/500\n",
            "3307/3307 [==============================] - 11s 3ms/step - loss: 1.4368e-07 - mae: 2.5507e-04 - val_loss: 9.1411e-08 - val_mae: 2.0512e-04\n",
            "Epoch 463/500\n",
            "3307/3307 [==============================] - 11s 3ms/step - loss: 1.3871e-07 - mae: 2.5287e-04 - val_loss: 8.1266e-08 - val_mae: 2.3526e-04\n",
            "Epoch 464/500\n",
            "3307/3307 [==============================] - 11s 3ms/step - loss: 1.2913e-07 - mae: 2.4569e-04 - val_loss: 2.3221e-07 - val_mae: 3.7186e-04\n",
            "Epoch 465/500\n",
            "3307/3307 [==============================] - 11s 3ms/step - loss: 1.5697e-07 - mae: 2.5287e-04 - val_loss: 5.8569e-08 - val_mae: 1.6657e-04\n",
            "Epoch 466/500\n",
            "3307/3307 [==============================] - 11s 3ms/step - loss: 1.3443e-07 - mae: 2.5262e-04 - val_loss: 5.8794e-07 - val_mae: 6.0867e-04\n",
            "Epoch 467/500\n",
            "3307/3307 [==============================] - 11s 3ms/step - loss: 1.3711e-07 - mae: 2.4587e-04 - val_loss: 3.3544e-07 - val_mae: 5.0843e-04\n",
            "Epoch 468/500\n",
            "3307/3307 [==============================] - 11s 3ms/step - loss: 1.5745e-07 - mae: 2.5202e-04 - val_loss: 5.5790e-07 - val_mae: 6.2347e-04\n",
            "Epoch 469/500\n",
            "3307/3307 [==============================] - 11s 3ms/step - loss: 1.4328e-07 - mae: 2.5145e-04 - val_loss: 6.8386e-08 - val_mae: 1.8796e-04\n",
            "Epoch 470/500\n",
            "3307/3307 [==============================] - 11s 3ms/step - loss: 4.4148e-07 - mae: 2.9249e-04 - val_loss: 2.9884e-07 - val_mae: 4.4003e-04\n",
            "Epoch 471/500\n",
            "3307/3307 [==============================] - 11s 3ms/step - loss: 1.2602e-07 - mae: 2.3361e-04 - val_loss: 6.6541e-08 - val_mae: 1.8996e-04\n",
            "Epoch 472/500\n",
            "3307/3307 [==============================] - 11s 3ms/step - loss: 1.3823e-07 - mae: 2.4914e-04 - val_loss: 1.2416e-07 - val_mae: 2.8231e-04\n",
            "Epoch 473/500\n",
            "3307/3307 [==============================] - 11s 3ms/step - loss: 1.4957e-07 - mae: 2.5521e-04 - val_loss: 9.5722e-08 - val_mae: 2.1286e-04\n",
            "Epoch 474/500\n",
            "3307/3307 [==============================] - 11s 3ms/step - loss: 1.3752e-07 - mae: 2.4945e-04 - val_loss: 8.3362e-08 - val_mae: 2.4369e-04\n",
            "Epoch 475/500\n",
            "3307/3307 [==============================] - 11s 3ms/step - loss: 1.4356e-07 - mae: 2.3965e-04 - val_loss: 8.5173e-08 - val_mae: 1.7757e-04\n",
            "Epoch 476/500\n",
            "3307/3307 [==============================] - 11s 3ms/step - loss: 1.4371e-07 - mae: 2.5705e-04 - val_loss: 3.6800e-08 - val_mae: 1.3525e-04\n",
            "Epoch 477/500\n",
            "3307/3307 [==============================] - 11s 3ms/step - loss: 1.3699e-07 - mae: 2.5114e-04 - val_loss: 4.5607e-07 - val_mae: 5.5860e-04\n",
            "Epoch 478/500\n",
            "3307/3307 [==============================] - 11s 3ms/step - loss: 1.4890e-07 - mae: 2.5829e-04 - val_loss: 4.2033e-08 - val_mae: 1.3723e-04\n",
            "Epoch 479/500\n",
            "3307/3307 [==============================] - 11s 3ms/step - loss: 1.3713e-07 - mae: 2.4365e-04 - val_loss: 5.2963e-08 - val_mae: 1.5841e-04\n",
            "Epoch 480/500\n",
            "3307/3307 [==============================] - 11s 3ms/step - loss: 1.4305e-07 - mae: 2.5604e-04 - val_loss: 1.7545e-07 - val_mae: 3.2061e-04\n",
            "Epoch 481/500\n",
            "3307/3307 [==============================] - 11s 3ms/step - loss: 1.3119e-07 - mae: 2.5081e-04 - val_loss: 1.1160e-07 - val_mae: 2.4456e-04\n",
            "Epoch 482/500\n",
            "3307/3307 [==============================] - 11s 3ms/step - loss: 1.3046e-07 - mae: 2.5360e-04 - val_loss: 2.7430e-07 - val_mae: 4.6510e-04\n",
            "Epoch 483/500\n",
            "3307/3307 [==============================] - 13s 4ms/step - loss: 1.6821e-07 - mae: 2.5198e-04 - val_loss: 4.6230e-08 - val_mae: 1.6243e-04\n",
            "Epoch 484/500\n",
            "3307/3307 [==============================] - 11s 3ms/step - loss: 1.3762e-07 - mae: 2.4996e-04 - val_loss: 5.0691e-08 - val_mae: 1.6883e-04\n",
            "Epoch 485/500\n",
            "3307/3307 [==============================] - 11s 3ms/step - loss: 1.5241e-07 - mae: 2.5319e-04 - val_loss: 4.7570e-08 - val_mae: 1.6637e-04\n",
            "Epoch 486/500\n",
            "3307/3307 [==============================] - 11s 3ms/step - loss: 1.3163e-07 - mae: 2.3791e-04 - val_loss: 5.7130e-08 - val_mae: 1.8443e-04\n",
            "Epoch 487/500\n",
            "3307/3307 [==============================] - 11s 3ms/step - loss: 1.5891e-07 - mae: 2.6241e-04 - val_loss: 2.1983e-06 - val_mae: 0.0013\n",
            "Epoch 488/500\n",
            "3307/3307 [==============================] - 11s 3ms/step - loss: 1.3190e-07 - mae: 2.4928e-04 - val_loss: 4.8370e-08 - val_mae: 1.4533e-04\n",
            "Epoch 489/500\n",
            "3307/3307 [==============================] - 11s 3ms/step - loss: 1.4219e-07 - mae: 2.5158e-04 - val_loss: 3.1643e-08 - val_mae: 1.1926e-04\n",
            "Epoch 490/500\n",
            "3307/3307 [==============================] - 11s 3ms/step - loss: 1.3711e-07 - mae: 2.5114e-04 - val_loss: 3.1921e-08 - val_mae: 1.2435e-04\n",
            "Epoch 491/500\n",
            "3307/3307 [==============================] - 11s 3ms/step - loss: 1.2456e-07 - mae: 2.3992e-04 - val_loss: 2.2079e-07 - val_mae: 4.1346e-04\n",
            "Epoch 492/500\n",
            "3307/3307 [==============================] - 11s 3ms/step - loss: 1.4466e-07 - mae: 2.5544e-04 - val_loss: 2.4815e-07 - val_mae: 4.2361e-04\n",
            "Epoch 493/500\n",
            "3307/3307 [==============================] - 11s 3ms/step - loss: 1.5301e-07 - mae: 2.5241e-04 - val_loss: 4.9209e-08 - val_mae: 1.6361e-04\n",
            "Epoch 494/500\n",
            "3307/3307 [==============================] - 11s 3ms/step - loss: 1.3914e-07 - mae: 2.4249e-04 - val_loss: 4.6137e-08 - val_mae: 1.5449e-04\n",
            "Epoch 495/500\n",
            "3307/3307 [==============================] - 11s 3ms/step - loss: 1.4555e-07 - mae: 2.5252e-04 - val_loss: 4.1586e-08 - val_mae: 1.4205e-04\n",
            "Epoch 496/500\n",
            "3307/3307 [==============================] - 12s 4ms/step - loss: 1.4603e-07 - mae: 2.3696e-04 - val_loss: 1.0379e-06 - val_mae: 9.0048e-04\n",
            "Epoch 497/500\n",
            "3307/3307 [==============================] - 11s 3ms/step - loss: 1.5103e-07 - mae: 2.5489e-04 - val_loss: 4.1100e-08 - val_mae: 1.4324e-04\n",
            "Epoch 498/500\n",
            "3307/3307 [==============================] - 11s 3ms/step - loss: 2.4311e-07 - mae: 2.6348e-04 - val_loss: 7.4217e-08 - val_mae: 1.7376e-04\n",
            "Epoch 499/500\n",
            "3307/3307 [==============================] - 11s 3ms/step - loss: 1.2867e-07 - mae: 2.4346e-04 - val_loss: 4.0584e-08 - val_mae: 1.3699e-04\n",
            "Epoch 500/500\n",
            "3307/3307 [==============================] - 11s 3ms/step - loss: 1.3167e-07 - mae: 2.5524e-04 - val_loss: 7.1940e-08 - val_mae: 1.7760e-04\n",
            "time taken to run: 5152.561499679\n"
          ]
        }
      ],
      "source": [
        "t1 = time.perf_counter()\n",
        "\n",
        "history_1 = model.fit(X_train, y_train, \n",
        "                      epochs=500, \n",
        "                      validation_data=(X_test, y_test),\n",
        "                      batch_size=128,\n",
        "                      shuffle=True,\n",
        "                      # validation_freq=2,\n",
        "                      )\n",
        "\n",
        "print('time taken to run:',time.perf_counter()-t1)"
      ]
    },
    {
      "cell_type": "markdown",
      "id": "5VGVNEDDYWRJ",
      "metadata": {
        "id": "5VGVNEDDYWRJ"
      },
      "source": [
        "Сохраним веса в виде файла"
      ]
    },
    {
      "cell_type": "code",
      "execution_count": 28,
      "id": "k0KTqN8zgCCh",
      "metadata": {
        "id": "k0KTqN8zgCCh"
      },
      "outputs": [],
      "source": [
        "model.save(\"model_32_16.h5\") # save weights"
      ]
    },
    {
      "cell_type": "markdown",
      "id": "Ig2K4j3AYd2Z",
      "metadata": {
        "id": "Ig2K4j3AYd2Z"
      },
      "source": [
        "Загрузим веса из файла (по необходимости)"
      ]
    },
    {
      "cell_type": "code",
      "execution_count": 29,
      "id": "MlOCAxc2YJAE",
      "metadata": {
        "id": "MlOCAxc2YJAE"
      },
      "outputs": [],
      "source": [
        "model.load_weights(\"model_32_16.h5\") # load weights"
      ]
    },
    {
      "cell_type": "markdown",
      "id": "YJRr67cStWWO",
      "metadata": {
        "id": "YJRr67cStWWO"
      },
      "source": [
        "### Создадим сеть с другой архитектурой"
      ]
    },
    {
      "cell_type": "markdown",
      "source": [
        "P.S. Пока не обучалось"
      ],
      "metadata": {
        "id": "wKZsMj_AOeDg"
      },
      "id": "wKZsMj_AOeDg"
    },
    {
      "cell_type": "code",
      "execution_count": null,
      "id": "pJ_1GV6aizyL",
      "metadata": {
        "id": "pJ_1GV6aizyL"
      },
      "outputs": [],
      "source": [
        "# Сreate another Neural network\n",
        "\n",
        "# 2 - 16 - 8 - 4 - 1\n",
        "\n",
        "model_16_8_4 = tf.keras.Sequential()\n",
        "\n",
        "model_16_8_4.add(keras.layers.Dense(16, activation='tanh', input_shape=(2,)))\n",
        "model_16_8_4.add(keras.layers.Dense(8, activation='tanh'))\n",
        "model_16_8_4.add(keras.layers.Dense(4,activation='tanh'))\n",
        "model_16_8_4.add(keras.layers.Dense(1, activation='sigmoid'))\n",
        "\n",
        "model_16_8_4.compile(optimizer='adam', loss='mse', metrics=['mae'])\n",
        "model_16_8_4.summary()"
      ]
    },
    {
      "cell_type": "code",
      "execution_count": null,
      "id": "Ff5IqUlqRO5R",
      "metadata": {
        "id": "Ff5IqUlqRO5R"
      },
      "outputs": [],
      "source": [
        "t1 = time.perf_counter()\n",
        "\n",
        "history_2 = model_16_8_4.fit(X_train, y_train, \n",
        "                      epochs=2500, \n",
        "                      validation_data=(X_test, y_test),\n",
        "                      batch_size=32,\n",
        "                      shuffle=True,\n",
        "                      )\n",
        "\n",
        "print('time taken to run:',time.perf_counter()-t1)"
      ]
    },
    {
      "cell_type": "code",
      "execution_count": null,
      "id": "B4Uk7Cqof4wB",
      "metadata": {
        "id": "B4Uk7Cqof4wB"
      },
      "outputs": [],
      "source": [
        "model_16_8_4.save(\"model_16_8_4.h5\") # save weights"
      ]
    },
    {
      "cell_type": "code",
      "execution_count": null,
      "id": "GC6LMj6SYsIH",
      "metadata": {
        "id": "GC6LMj6SYsIH"
      },
      "outputs": [],
      "source": [
        "model_16_8_4.load_weights(\"model_16_8_4.h5\") # load weights"
      ]
    },
    {
      "cell_type": "markdown",
      "id": "NhpqcFmdXINa",
      "metadata": {
        "id": "NhpqcFmdXINa"
      },
      "source": [
        "### **Построим графики loss моделей**"
      ]
    },
    {
      "cell_type": "code",
      "execution_count": 30,
      "id": "eb023992",
      "metadata": {
        "execution": {
          "iopub.execute_input": "2022-06-26T14:46:42.831729Z",
          "iopub.status.busy": "2022-06-26T14:46:42.826614Z",
          "iopub.status.idle": "2022-06-26T14:46:42.835633Z",
          "shell.execute_reply": "2022-06-26T14:46:42.836194Z",
          "shell.execute_reply.started": "2021-12-08T09:55:56.916911Z"
        },
        "id": "eb023992",
        "papermill": {
          "duration": 7.550238,
          "end_time": "2022-06-26T14:46:42.836351",
          "exception": false,
          "start_time": "2022-06-26T14:46:35.286113",
          "status": "completed"
        },
        "tags": []
      },
      "outputs": [],
      "source": [
        "import matplotlib.pyplot as plt\n",
        "%matplotlib inline"
      ]
    },
    {
      "cell_type": "code",
      "execution_count": 33,
      "id": "1abd8686",
      "metadata": {
        "colab": {
          "base_uri": "https://localhost:8080/",
          "height": 295
        },
        "execution": {
          "iopub.execute_input": "2022-06-26T14:47:13.334339Z",
          "iopub.status.busy": "2022-06-26T14:47:13.333812Z",
          "iopub.status.idle": "2022-06-26T14:47:13.593599Z",
          "shell.execute_reply": "2022-06-26T14:47:13.593985Z",
          "shell.execute_reply.started": "2021-12-08T09:56:19.677231Z"
        },
        "id": "1abd8686",
        "outputId": "7afb5b97-b085-442a-ca1b-c526477218c8",
        "papermill": {
          "duration": 8.126403,
          "end_time": "2022-06-26T14:47:13.594143",
          "exception": false,
          "start_time": "2022-06-26T14:47:05.467740",
          "status": "completed"
        },
        "tags": []
      },
      "outputs": [
        {
          "output_type": "display_data",
          "data": {
            "text/plain": [
              "<Figure size 432x288 with 1 Axes>"
            ],
            "image/png": "[encoded data removed]"
          },
          "metadata": {
            "needs_background": "light"
          }
        }
      ],
      "source": [
        "# Exclude the first few epochs so the graph is easier to read\n",
        "loss = history_1.history['loss']\n",
        "val_loss = history_1.history['val_loss']\n",
        "epochs = range(1, len(loss) + 1)\n",
        "SKIP = 5\n",
        "# SKIP = 0\n",
        "plt.plot(epochs[SKIP::5], loss[SKIP::5], 'g.', label='Training loss')\n",
        "plt.plot(epochs[SKIP::5], val_loss[SKIP::5], 'b.', label='Validation loss')\n",
        "plt.title('Training and validation loss Model №1 (2-32-16-1)')\n",
        "plt.xlabel('Epochs')\n",
        "plt.ylabel('Loss')\n",
        "plt.legend()\n",
        "plt.show()"
      ]
    },
    {
      "cell_type": "markdown",
      "id": "0Zvt5pPHZFoZ",
      "metadata": {
        "id": "0Zvt5pPHZFoZ"
      },
      "source": [
        "## Тестирование обученной сети"
      ]
    },
    {
      "cell_type": "markdown",
      "id": "fdbfafbf",
      "metadata": {
        "id": "fdbfafbf",
        "papermill": {
          "duration": 7.643408,
          "end_time": "2022-06-26T14:47:28.839147",
          "exception": false,
          "start_time": "2022-06-26T14:47:21.195739",
          "status": "completed"
        },
        "tags": []
      },
      "source": [
        "Применим новые данные, на которых сеть не обучалась. \n",
        "\n",
        "При этом не забудем про подготовку входных и выходных параметров. "
      ]
    },
    {
      "cell_type": "code",
      "execution_count": 40,
      "id": "rBE5KrJve-0K",
      "metadata": {
        "id": "rBE5KrJve-0K"
      },
      "outputs": [],
      "source": [
        "def process_data(df):\n",
        "  # Replace zeros\n",
        "  df[\"Id\"].replace({0:REPLACE_ZERO_ID}, inplace=True)\n",
        "  df[\"Vgs\"].replace({0:REPLACE_ZERO_VGS}, inplace=True)\n",
        "  df[\"Vds\"].replace({0:REPLACE_ZERO_VDS}, inplace=True)\n",
        "\n",
        "  # fix negative numbers\n",
        "  df[\"T\"] += SHIFT_T\n",
        "\n",
        "  # get data\n",
        "\n",
        "  id=df[\"Id\"]\n",
        "  Vgs=df[\"Vgs\"]\n",
        "  Vds=df[\"Vds\"]\n",
        "  L=df[\"L\"]\n",
        "  W=df[\"W\"]\n",
        "  T=df[\"T\"]\n",
        "\n",
        "  ynew=np.ravel(id)\n",
        "  xnew=df.iloc[:,0:5]\n",
        "\n",
        "  #Normalize validation data\n",
        "  xval=np.log10(xnew)\n",
        "  #xval=xnew/5\n",
        "  yval=-1/np.log10(ynew)\n",
        "  yval=yval.reshape(-1,1)\n",
        "\n",
        "  return xval, yval, df"
      ]
    },
    {
      "cell_type": "code",
      "execution_count": 39,
      "id": "c4BNba3SgdLb",
      "metadata": {
        "id": "c4BNba3SgdLb"
      },
      "outputs": [],
      "source": [
        "df1 = pd.read_csv('mosfet_val_3.csv')"
      ]
    },
    {
      "cell_type": "code",
      "execution_count": 41,
      "id": "q0yCjHCAt1_3",
      "metadata": {
        "colab": {
          "base_uri": "https://localhost:8080/",
          "height": 582
        },
        "id": "q0yCjHCAt1_3",
        "outputId": "00af0068-941f-47b0-b734-0f6031bcdbed"
      },
      "outputs": [
        {
          "output_type": "execute_result",
          "data": {
            "text/plain": [
              "    Vds  Vgs         L         W     T        Id\n",
              "0   0.0  4.0  0.000005  0.000005  25.0 -0.000000\n",
              "1   0.5  4.0  0.000005  0.000005  25.0  0.000329\n",
              "2   1.0  4.0  0.000005  0.000005  25.0  0.000652\n",
              "3   1.5  4.0  0.000005  0.000005  25.0  0.000956\n",
              "4   2.0  4.0  0.000005  0.000005  25.0  0.001230\n",
              "5   2.5  4.0  0.000005  0.000005  25.0  0.001462\n",
              "6   3.0  4.0  0.000005  0.000005  25.0  0.001642\n",
              "7   3.5  4.0  0.000005  0.000005  25.0  0.001758\n",
              "8   4.0  4.0  0.000005  0.000005  25.0  0.001848\n",
              "9   4.5  4.0  0.000005  0.000005  25.0  0.001939\n",
              "10  5.0  4.0  0.000005  0.000005  25.0  0.002029\n",
              "11  5.5  4.0  0.000005  0.000005  25.0  0.002119\n",
              "12  6.0  4.0  0.000005  0.000005  25.0  0.002209\n",
              "13  6.5  4.0  0.000005  0.000005  25.0  0.002299\n",
              "14  7.0  4.0  0.000005  0.000005  25.0  0.002389\n",
              "15  7.5  4.0  0.000005  0.000005  25.0  0.002480\n",
              "16  8.0  4.0  0.000005  0.000005  25.0  0.002570"
            ],
            "text/html": [
              "\n",
              "  <div id=\"df-43ffc618-9140-4697-9790-28ecfc61226f\">\n",
              "    <div class=\"colab-df-container\">\n",
              "      <div>\n",
              "<style scoped>\n",
              "    .dataframe tbody tr th:only-of-type {\n",
              "        vertical-align: middle;\n",
              "    }\n",
              "\n",
              "    .dataframe tbody tr th {\n",
              "        vertical-align: top;\n",
              "    }\n",
              "\n",
              "    .dataframe thead th {\n",
              "        text-align: right;\n",
              "    }\n",
              "</style>\n",
              "<table border=\"1\" class=\"dataframe\">\n",
              "  <thead>\n",
              "    <tr style=\"text-align: right;\">\n",
              "      <th></th>\n",
              "      <th>Vds</th>\n",
              "      <th>Vgs</th>\n",
              "      <th>L</th>\n",
              "      <th>W</th>\n",
              "      <th>T</th>\n",
              "      <th>Id</th>\n",
              "    </tr>\n",
              "  </thead>\n",
              "  <tbody>\n",
              "    <tr>\n",
              "      <th>0</th>\n",
              "      <td>0.0</td>\n",
              "      <td>4.0</td>\n",
              "      <td>0.000005</td>\n",
              "      <td>0.000005</td>\n",
              "      <td>25.0</td>\n",
              "      <td>-0.000000</td>\n",
              "    </tr>\n",
              "    <tr>\n",
              "      <th>1</th>\n",
              "      <td>0.5</td>\n",
              "      <td>4.0</td>\n",
              "      <td>0.000005</td>\n",
              "      <td>0.000005</td>\n",
              "      <td>25.0</td>\n",
              "      <td>0.000329</td>\n",
              "    </tr>\n",
              "    <tr>\n",
              "      <th>2</th>\n",
              "      <td>1.0</td>\n",
              "      <td>4.0</td>\n",
              "      <td>0.000005</td>\n",
              "      <td>0.000005</td>\n",
              "      <td>25.0</td>\n",
              "      <td>0.000652</td>\n",
              "    </tr>\n",
              "    <tr>\n",
              "      <th>3</th>\n",
              "      <td>1.5</td>\n",
              "      <td>4.0</td>\n",
              "      <td>0.000005</td>\n",
              "      <td>0.000005</td>\n",
              "      <td>25.0</td>\n",
              "      <td>0.000956</td>\n",
              "    </tr>\n",
              "    <tr>\n",
              "      <th>4</th>\n",
              "      <td>2.0</td>\n",
              "      <td>4.0</td>\n",
              "      <td>0.000005</td>\n",
              "      <td>0.000005</td>\n",
              "      <td>25.0</td>\n",
              "      <td>0.001230</td>\n",
              "    </tr>\n",
              "    <tr>\n",
              "      <th>5</th>\n",
              "      <td>2.5</td>\n",
              "      <td>4.0</td>\n",
              "      <td>0.000005</td>\n",
              "      <td>0.000005</td>\n",
              "      <td>25.0</td>\n",
              "      <td>0.001462</td>\n",
              "    </tr>\n",
              "    <tr>\n",
              "      <th>6</th>\n",
              "      <td>3.0</td>\n",
              "      <td>4.0</td>\n",
              "      <td>0.000005</td>\n",
              "      <td>0.000005</td>\n",
              "      <td>25.0</td>\n",
              "      <td>0.001642</td>\n",
              "    </tr>\n",
              "    <tr>\n",
              "      <th>7</th>\n",
              "      <td>3.5</td>\n",
              "      <td>4.0</td>\n",
              "      <td>0.000005</td>\n",
              "      <td>0.000005</td>\n",
              "      <td>25.0</td>\n",
              "      <td>0.001758</td>\n",
              "    </tr>\n",
              "    <tr>\n",
              "      <th>8</th>\n",
              "      <td>4.0</td>\n",
              "      <td>4.0</td>\n",
              "      <td>0.000005</td>\n",
              "      <td>0.000005</td>\n",
              "      <td>25.0</td>\n",
              "      <td>0.001848</td>\n",
              "    </tr>\n",
              "    <tr>\n",
              "      <th>9</th>\n",
              "      <td>4.5</td>\n",
              "      <td>4.0</td>\n",
              "      <td>0.000005</td>\n",
              "      <td>0.000005</td>\n",
              "      <td>25.0</td>\n",
              "      <td>0.001939</td>\n",
              "    </tr>\n",
              "    <tr>\n",
              "      <th>10</th>\n",
              "      <td>5.0</td>\n",
              "      <td>4.0</td>\n",
              "      <td>0.000005</td>\n",
              "      <td>0.000005</td>\n",
              "      <td>25.0</td>\n",
              "      <td>0.002029</td>\n",
              "    </tr>\n",
              "    <tr>\n",
              "      <th>11</th>\n",
              "      <td>5.5</td>\n",
              "      <td>4.0</td>\n",
              "      <td>0.000005</td>\n",
              "      <td>0.000005</td>\n",
              "      <td>25.0</td>\n",
              "      <td>0.002119</td>\n",
              "    </tr>\n",
              "    <tr>\n",
              "      <th>12</th>\n",
              "      <td>6.0</td>\n",
              "      <td>4.0</td>\n",
              "      <td>0.000005</td>\n",
              "      <td>0.000005</td>\n",
              "      <td>25.0</td>\n",
              "      <td>0.002209</td>\n",
              "    </tr>\n",
              "    <tr>\n",
              "      <th>13</th>\n",
              "      <td>6.5</td>\n",
              "      <td>4.0</td>\n",
              "      <td>0.000005</td>\n",
              "      <td>0.000005</td>\n",
              "      <td>25.0</td>\n",
              "      <td>0.002299</td>\n",
              "    </tr>\n",
              "    <tr>\n",
              "      <th>14</th>\n",
              "      <td>7.0</td>\n",
              "      <td>4.0</td>\n",
              "      <td>0.000005</td>\n",
              "      <td>0.000005</td>\n",
              "      <td>25.0</td>\n",
              "      <td>0.002389</td>\n",
              "    </tr>\n",
              "    <tr>\n",
              "      <th>15</th>\n",
              "      <td>7.5</td>\n",
              "      <td>4.0</td>\n",
              "      <td>0.000005</td>\n",
              "      <td>0.000005</td>\n",
              "      <td>25.0</td>\n",
              "      <td>0.002480</td>\n",
              "    </tr>\n",
              "    <tr>\n",
              "      <th>16</th>\n",
              "      <td>8.0</td>\n",
              "      <td>4.0</td>\n",
              "      <td>0.000005</td>\n",
              "      <td>0.000005</td>\n",
              "      <td>25.0</td>\n",
              "      <td>0.002570</td>\n",
              "    </tr>\n",
              "  </tbody>\n",
              "</table>\n",
              "</div>\n",
              "      <button class=\"colab-df-convert\" onclick=\"convertToInteractive('df-43ffc618-9140-4697-9790-28ecfc61226f')\"\n",
              "              title=\"Convert this dataframe to an interactive table.\"\n",
              "              style=\"display:none;\">\n",
              "        \n",
              "  <svg xmlns=\"http://www.w3.org/2000/svg\" height=\"24px\"viewBox=\"0 0 24 24\"\n",
              "       width=\"24px\">\n",
              "    <path d=\"M0 0h24v24H0V0z\" fill=\"none\"/>\n",
              "    <path d=\"M18.56 5.44l.94 2.06.94-2.06 2.06-.94-2.06-.94-.94-2.06-.94 2.06-2.06.94zm-11 1L8.5 8.5l.94-2.06 2.06-.94-2.06-.94L8.5 2.5l-.94 2.06-2.06.94zm10 10l.94 2.06.94-2.06 2.06-.94-2.06-.94-.94-2.06-.94 2.06-2.06.94z\"/><path d=\"M17.41 7.96l-1.37-1.37c-.4-.4-.92-.59-1.43-.59-.52 0-1.04.2-1.43.59L10.3 9.45l-7.72 7.72c-.78.78-.78 2.05 0 2.83L4 21.41c.39.39.9.59 1.41.59.51 0 1.02-.2 1.41-.59l7.78-7.78 2.81-2.81c.8-.78.8-2.07 0-2.86zM5.41 20L4 18.59l7.72-7.72 1.47 1.35L5.41 20z\"/>\n",
              "  </svg>\n",
              "      </button>\n",
              "      \n",
              "  <style>\n",
              "    .colab-df-container {\n",
              "      display:flex;\n",
              "      flex-wrap:wrap;\n",
              "      gap: 12px;\n",
              "    }\n",
              "\n",
              "    .colab-df-convert {\n",
              "      background-color: #E8F0FE;\n",
              "      border: none;\n",
              "      border-radius: 50%;\n",
              "      cursor: pointer;\n",
              "      display: none;\n",
              "      fill: #1967D2;\n",
              "      height: 32px;\n",
              "      padding: 0 0 0 0;\n",
              "      width: 32px;\n",
              "    }\n",
              "\n",
              "    .colab-df-convert:hover {\n",
              "      background-color: #E2EBFA;\n",
              "      box-shadow: 0px 1px 2px rgba(60, 64, 67, 0.3), 0px 1px 3px 1px rgba(60, 64, 67, 0.15);\n",
              "      fill: #174EA6;\n",
              "    }\n",
              "\n",
              "    [theme=dark] .colab-df-convert {\n",
              "      background-color: #3B4455;\n",
              "      fill: #D2E3FC;\n",
              "    }\n",
              "\n",
              "    [theme=dark] .colab-df-convert:hover {\n",
              "      background-color: #434B5C;\n",
              "      box-shadow: 0px 1px 3px 1px rgba(0, 0, 0, 0.15);\n",
              "      filter: drop-shadow(0px 1px 2px rgba(0, 0, 0, 0.3));\n",
              "      fill: #FFFFFF;\n",
              "    }\n",
              "  </style>\n",
              "\n",
              "      <script>\n",
              "        const buttonEl =\n",
              "          document.querySelector('#df-43ffc618-9140-4697-9790-28ecfc61226f button.colab-df-convert');\n",
              "        buttonEl.style.display =\n",
              "          google.colab.kernel.accessAllowed ? 'block' : 'none';\n",
              "\n",
              "        async function convertToInteractive(key) {\n",
              "          const element = document.querySelector('#df-43ffc618-9140-4697-9790-28ecfc61226f');\n",
              "          const dataTable =\n",
              "            await google.colab.kernel.invokeFunction('convertToInteractive',\n",
              "                                                     [key], {});\n",
              "          if (!dataTable) return;\n",
              "\n",
              "          const docLinkHtml = 'Like what you see? Visit the ' +\n",
              "            '<a target=\"_blank\" href=https://colab.research.google.com/notebooks/data_table.ipynb>data table notebook</a>'\n",
              "            + ' to learn more about interactive tables.';\n",
              "          element.innerHTML = '';\n",
              "          dataTable['output_type'] = 'display_data';\n",
              "          await google.colab.output.renderOutput(dataTable, element);\n",
              "          const docLink = document.createElement('div');\n",
              "          docLink.innerHTML = docLinkHtml;\n",
              "          element.appendChild(docLink);\n",
              "        }\n",
              "      </script>\n",
              "    </div>\n",
              "  </div>\n",
              "  "
            ]
          },
          "metadata": {},
          "execution_count": 41
        }
      ],
      "source": [
        "# df1 = df1[df1['Vgs'] == 1]\n",
        "df1"
      ]
    },
    {
      "cell_type": "code",
      "execution_count": 42,
      "id": "fCWTzWYPox3v",
      "metadata": {
        "id": "fCWTzWYPox3v"
      },
      "outputs": [],
      "source": [
        "xval, yval, df1 = process_data(df1)"
      ]
    },
    {
      "cell_type": "markdown",
      "id": "979f17c6",
      "metadata": {
        "id": "979f17c6",
        "papermill": {
          "duration": 11.902612,
          "end_time": "2022-06-26T14:48:16.072918",
          "exception": false,
          "start_time": "2022-06-26T14:48:04.170306",
          "status": "completed"
        },
        "tags": []
      },
      "source": [
        "**Plot actual vs. predicted result. Make sure that predicted drain current is de-normalized before plotting.**"
      ]
    },
    {
      "cell_type": "markdown",
      "id": "1820162a",
      "metadata": {
        "id": "1820162a",
        "papermill": {
          "duration": 7.590928,
          "end_time": "2022-06-26T14:48:32.061921",
          "exception": false,
          "start_time": "2022-06-26T14:48:24.470993",
          "status": "completed"
        },
        "tags": []
      },
      "source": [
        "*De-normalization required because before feeding to network (training phase), we have converted drain current within 0 to 1 range  so that Sigmoid function can operate. So, predicted current value will be within same range. It should be converted back to it's original form (De-normalization)*"
      ]
    },
    {
      "cell_type": "code",
      "execution_count": 43,
      "id": "Lr1zs9ANF4PI",
      "metadata": {
        "id": "Lr1zs9ANF4PI"
      },
      "outputs": [],
      "source": [
        "def show_plot(xval, yval, df):\n",
        "  # Predict the new dataset\n",
        "  y_pred = model.predict(xval)\n",
        "  # y_pred_16_8_4 = model.predict(xval)\n",
        "  #plot the result\n",
        "  vg1=df[\"Vds\"] #change this index to vgs if you are going to plot Id-Vg\n",
        "  vg=np.ravel(vg1)\n",
        "  vg=vg.reshape(-1,1)\n",
        "  # print(vg)\n",
        "  plt.plot(vg, 10**(-1/yval), 'ro', label='Actual')\n",
        "  plt.plot(vg, 10**(-1/y_pred), 'b', label='Predicted')\n",
        "  # plt.plot(vg, 10**(-1/y_pred_16_8_4), 'g', label='Predicted')\n",
        "  # plt.yscale(\"log\")\n",
        "  plt.title('Actual and Predicted Value')\n",
        "  plt.xlabel('Drain Voltage (Vds)')\n",
        "  plt.ylabel('Drain Current(Id)')\n",
        "  plt.legend()"
      ]
    },
    {
      "cell_type": "markdown",
      "id": "WOeTxQ6MIYHZ",
      "metadata": {
        "id": "WOeTxQ6MIYHZ"
      },
      "source": [
        "Вспомним что область обучения лежала в пределах 0 до 5 для напржений"
      ]
    },
    {
      "cell_type": "code",
      "execution_count": 55,
      "id": "XKiDG9PYGhja",
      "metadata": {
        "colab": {
          "base_uri": "https://localhost:8080/",
          "height": 295
        },
        "id": "XKiDG9PYGhja",
        "outputId": "f9dee051-2501-41e7-d9d4-4c1613e2f2fa"
      },
      "outputs": [
        {
          "output_type": "display_data",
          "data": {
            "text/plain": [
              "<Figure size 432x288 with 1 Axes>"
            ],
            "image/png": "[encoded data removed]"
          },
          "metadata": {
            "needs_background": "light"
          }
        }
      ],
      "source": [
        "df1 = pd.read_csv('mosfet_val_3.csv')\n",
        "xval, yval, df1 = process_data(df1)\n",
        "show_plot(xval, yval, df1)"
      ]
    },
    {
      "cell_type": "code",
      "execution_count": 56,
      "id": "GqIa8tvKHmeD",
      "metadata": {
        "colab": {
          "base_uri": "https://localhost:8080/",
          "height": 295
        },
        "id": "GqIa8tvKHmeD",
        "outputId": "76bd0aef-c883-43d7-bad8-e2f1a82d5670"
      },
      "outputs": [
        {
          "output_type": "display_data",
          "data": {
            "text/plain": [
              "<Figure size 432x288 with 1 Axes>"
            ],
            "image/png": "[encoded data removed]"
          },
          "metadata": {
            "needs_background": "light"
          }
        }
      ],
      "source": [
        "df1 = pd.read_csv('mosfet_val_4.csv')\n",
        "xval, yval, df1 = process_data(df1)\n",
        "show_plot(xval, yval, df1)"
      ]
    },
    {
      "cell_type": "code",
      "execution_count": 57,
      "id": "Hc65eGnuFmhe",
      "metadata": {
        "colab": {
          "base_uri": "https://localhost:8080/",
          "height": 295
        },
        "id": "Hc65eGnuFmhe",
        "outputId": "020e13a9-7967-4a42-e6fe-3ac62658075a"
      },
      "outputs": [
        {
          "output_type": "display_data",
          "data": {
            "text/plain": [
              "<Figure size 432x288 with 1 Axes>"
            ],
            "image/png": "[encoded data removed]"
          },
          "metadata": {
            "needs_background": "light"
          }
        }
      ],
      "source": [
        "df1 = pd.read_csv('mosfet_val_5.csv')\n",
        "xval, yval, df1 = process_data(df1)\n",
        "show_plot(xval, yval, df1)"
      ]
    },
    {
      "cell_type": "markdown",
      "id": "mlaxW-lDJTSu",
      "metadata": {
        "id": "mlaxW-lDJTSu"
      },
      "source": [
        "Посчитаем MSE для валиадционных данных внутри области обчения"
      ]
    },
    {
      "cell_type": "code",
      "execution_count": 67,
      "id": "-PMEboSwq4P1",
      "metadata": {
        "id": "-PMEboSwq4P1"
      },
      "outputs": [],
      "source": [
        "df_val = pd.read_csv('mosfet_val_0.csv')"
      ]
    },
    {
      "cell_type": "code",
      "source": [
        "x = df[df['T'] == df.iloc[0]['T']]['Vds']\n",
        "y = df[df['T'] == df.iloc[0]['T']]['Vgs']\n",
        "\n",
        "x_val = df_val[df_val['T'] == df_val.iloc[0]['T']]['Vds']\n",
        "y_val = df_val[df_val['T'] == df_val.iloc[0]['T']]['Vgs']\n",
        "\n",
        "fig, ax = plt.subplots(figsize=(5, 5))\n",
        "ax.set(xlabel='Vds', ylabel='Vgs', title='Распределение точек')\n",
        "ax.grid(color='gray', alpha=0.5, linestyle='dashed', linewidth=0.5)\n",
        "\n",
        "plt.scatter(x, y)\n",
        "plt.scatter(x_val, y_val)\n",
        "plt.show()"
      ],
      "metadata": {
        "colab": {
          "base_uri": "https://localhost:8080/",
          "height": 350
        },
        "id": "h4dAgX81ZN5X",
        "outputId": "6e4820ae-1f97-4a42-bc30-8103b7fd7e9d"
      },
      "id": "h4dAgX81ZN5X",
      "execution_count": 68,
      "outputs": [
        {
          "output_type": "display_data",
          "data": {
            "text/plain": [
              "<Figure size 360x360 with 1 Axes>"
            ],
            "image/png": "[encoded data removed]"
          },
          "metadata": {
            "needs_background": "light"
          }
        }
      ]
    },
    {
      "cell_type": "code",
      "source": [
        "x = df[df['T'] == df.iloc[0]['T']]['W']\n",
        "y = df[df['T'] == df.iloc[0]['T']]['L']\n",
        "\n",
        "x_val = df_val[df_val['T'] == df_val.iloc[0]['T']]['W']\n",
        "y_val = df_val[df_val['T'] == df_val.iloc[0]['T']]['L']\n",
        "\n",
        "fig, ax = plt.subplots(figsize=(5, 5))\n",
        "ax.set(xlabel='Width', ylabel='Length', title='Распределение точек')\n",
        "ax.grid(color='gray', alpha=0.5, linestyle='dashed', linewidth=0.5)\n",
        "\n",
        "plt.scatter(x, y)\n",
        "plt.scatter(x_val, y_val)\n",
        "plt.show()"
      ],
      "metadata": {
        "colab": {
          "base_uri": "https://localhost:8080/",
          "height": 350
        },
        "id": "GcWFqWDFaBd6",
        "outputId": "c1a4e209-1cc8-434a-fdf1-c6ba9f46e1cf"
      },
      "id": "GcWFqWDFaBd6",
      "execution_count": 76,
      "outputs": [
        {
          "output_type": "display_data",
          "data": {
            "text/plain": [
              "<Figure size 360x360 with 1 Axes>"
            ],
            "image/png": "[encoded data removed]"
          },
          "metadata": {
            "needs_background": "light"
          }
        }
      ]
    },
    {
      "cell_type": "code",
      "execution_count": 69,
      "id": "ATG0q_NrJoUW",
      "metadata": {
        "id": "ATG0q_NrJoUW"
      },
      "outputs": [],
      "source": [
        "xval, yval, df_val = process_data(df_val)\n",
        "y_pred = model.predict(xval)"
      ]
    },
    {
      "cell_type": "code",
      "execution_count": 70,
      "id": "9ej7LEntJ2Ja",
      "metadata": {
        "colab": {
          "base_uri": "https://localhost:8080/"
        },
        "id": "9ej7LEntJ2Ja",
        "outputId": "21047c50-c467-4dd8-acd1-87d9dfcf8513"
      },
      "outputs": [
        {
          "output_type": "stream",
          "name": "stdout",
          "text": [
            "1.9499769e-08 0.012345694\n",
            "tf.Tensor(4.0177178e-11, shape=(), dtype=float32)\n"
          ]
        }
      ],
      "source": [
        "loss = keras.losses.MSE(10**(-1/yval), 10**(-1/y_pred))\n",
        "l = keras.losses.MSE(yval, y_pred)\n",
        "print(np.max(loss), np.max(l))\n",
        "loss = tf.reduce_mean(loss) # Рассчитать среднеквадратичную ошибку партии\n",
        "print(loss)"
      ]
    },
    {
      "cell_type": "markdown",
      "id": "aHQtufrVMYxB",
      "metadata": {
        "id": "aHQtufrVMYxB"
      },
      "source": [
        "Посчитаем MSE на данных, которые находятся вне области обучения\n",
        "\n"
      ]
    },
    {
      "cell_type": "code",
      "source": [
        "df_val_out = pd.read_csv('mosfet_val_1.csv')"
      ],
      "metadata": {
        "id": "XBhy8u4DZkVt"
      },
      "id": "XBhy8u4DZkVt",
      "execution_count": 73,
      "outputs": []
    },
    {
      "cell_type": "code",
      "source": [
        "x = df[df['T'] == df.iloc[0]['T']]['Vds']\n",
        "y = df[df['T'] == df.iloc[0]['T']]['Vgs']\n",
        "\n",
        "x_val = df_val_out[df_val_out['T'] == df_val_out.iloc[0]['T']]['Vds']\n",
        "y_val = df_val_out[df_val_out['T'] == df_val_out.iloc[0]['T']]['Vgs']\n",
        "\n",
        "fig, ax = plt.subplots(figsize=(5, 5))\n",
        "ax.set(xlabel='Vds', ylabel='Vgs', title='Распределение точек')\n",
        "ax.grid(color='gray', alpha=0.5, linestyle='dashed', linewidth=0.5)\n",
        "\n",
        "plt.scatter(x, y)\n",
        "plt.scatter(x_val, y_val)\n",
        "plt.show()"
      ],
      "metadata": {
        "colab": {
          "base_uri": "https://localhost:8080/",
          "height": 350
        },
        "id": "K8DaeSt2ZwyW",
        "outputId": "2570c0ea-4400-44a6-8870-6b42ea618cec"
      },
      "id": "K8DaeSt2ZwyW",
      "execution_count": 75,
      "outputs": [
        {
          "output_type": "display_data",
          "data": {
            "text/plain": [
              "<Figure size 360x360 with 1 Axes>"
            ],
            "image/png": "[encoded data removed]"
          },
          "metadata": {
            "needs_background": "light"
          }
        }
      ]
    },
    {
      "cell_type": "code",
      "source": [
        "x = df[df['T'] == df.iloc[0]['T']]['W']\n",
        "y = df[df['T'] == df.iloc[0]['T']]['L']\n",
        "\n",
        "x_val = df_val_out[df_val_out['T'] == df_val_out.iloc[0]['T']]['W']\n",
        "y_val = df_val_out[df_val_out['T'] == df_val_out.iloc[0]['T']]['L']\n",
        "\n",
        "fig, ax = plt.subplots(figsize=(5, 5))\n",
        "ax.set(xlabel='Width', ylabel='Length', title='Распределение точек')\n",
        "ax.grid(color='gray', alpha=0.5, linestyle='dashed', linewidth=0.5)\n",
        "\n",
        "plt.scatter(x, y)\n",
        "plt.scatter(x_val, y_val)\n",
        "plt.show()"
      ],
      "metadata": {
        "colab": {
          "base_uri": "https://localhost:8080/",
          "height": 350
        },
        "id": "gY5hCafzaMpr",
        "outputId": "e8948403-3526-4e0e-8070-3e0503fb690c"
      },
      "id": "gY5hCafzaMpr",
      "execution_count": 77,
      "outputs": [
        {
          "output_type": "display_data",
          "data": {
            "text/plain": [
              "<Figure size 360x360 with 1 Axes>"
            ],
            "image/png": "[encoded data removed]"
          },
          "metadata": {
            "needs_background": "light"
          }
        }
      ]
    },
    {
      "cell_type": "code",
      "execution_count": 78,
      "id": "Ed0f4cRJK2-v",
      "metadata": {
        "colab": {
          "base_uri": "https://localhost:8080/"
        },
        "id": "Ed0f4cRJK2-v",
        "outputId": "10f9ad90-c04c-4450-c5c4-b94a1178e774"
      },
      "outputs": [
        {
          "output_type": "stream",
          "name": "stdout",
          "text": [
            "0.004125962 0.5961268\n",
            "tf.Tensor(0.00031278984, shape=(), dtype=float32)\n"
          ]
        }
      ],
      "source": [
        "xval, yval, df_val = process_data(df_val_out)\n",
        "y_pred = model.predict(xval)\n",
        "loss = keras.losses.MSE(10**(-1/yval), 10**(-1/y_pred))\n",
        "l = keras.losses.MSE(yval, y_pred)\n",
        "print(np.max(loss), np.max(l))\n",
        "loss = tf.reduce_mean(loss) # Рассчитать среднеквадратичную ошибку партии\n",
        "print(loss)"
      ]
    },
    {
      "cell_type": "code",
      "source": [
        ""
      ],
      "metadata": {
        "id": "a1_zehKwbX37"
      },
      "id": "a1_zehKwbX37",
      "execution_count": null,
      "outputs": []
    },
    {
      "cell_type": "code",
      "source": [
        "df1 = df_val_out.iloc[-64:-32]"
      ],
      "metadata": {
        "id": "BsMTRlP8au00"
      },
      "id": "BsMTRlP8au00",
      "execution_count": 98,
      "outputs": []
    },
    {
      "cell_type": "code",
      "source": [
        "xval, yval, df_val = process_data(df1)\n",
        "show_plot(xval, yval, df1)"
      ],
      "metadata": {
        "colab": {
          "base_uri": "https://localhost:8080/",
          "height": 486
        },
        "id": "LfsYlgqAabkz",
        "outputId": "cc67e382-8399-4fbf-edcf-a6165410de6e"
      },
      "id": "LfsYlgqAabkz",
      "execution_count": 99,
      "outputs": [
        {
          "output_type": "stream",
          "name": "stderr",
          "text": [
            "/usr/local/lib/python3.7/dist-packages/pandas/core/generic.py:6619: SettingWithCopyWarning: \n",
            "A value is trying to be set on a copy of a slice from a DataFrame\n",
            "\n",
            "See the caveats in the documentation: https://pandas.pydata.org/pandas-docs/stable/user_guide/indexing.html#returning-a-view-versus-a-copy\n",
            "  return self._update_inplace(result)\n",
            "/usr/local/lib/python3.7/dist-packages/ipykernel_launcher.py:8: SettingWithCopyWarning: \n",
            "A value is trying to be set on a copy of a slice from a DataFrame.\n",
            "Try using .loc[row_indexer,col_indexer] = value instead\n",
            "\n",
            "See the caveats in the documentation: https://pandas.pydata.org/pandas-docs/stable/user_guide/indexing.html#returning-a-view-versus-a-copy\n",
            "  \n"
          ]
        },
        {
          "output_type": "display_data",
          "data": {
            "text/plain": [
              "<Figure size 432x288 with 1 Axes>"
            ],
            "image/png": "[encoded data removed]"
          },
          "metadata": {
            "needs_background": "light"
          }
        }
      ]
    },
    {
      "cell_type": "code",
      "source": [
        "def show_plot(xval, yval, df):\n",
        "  # Predict the new dataset\n",
        "  y_pred = model.predict(xval)\n",
        "  # y_pred_16_8_4 = model.predict(xval)\n",
        "  #plot the result\n",
        "  vg1=df[\"Vds\"] #change this index to vgs if you are going to plot Id-Vg\n",
        "  vg=np.ravel(vg1)\n",
        "  vg=vg.reshape(-1,1)\n",
        "  # print(vg)\n",
        "  plt.plot(vg, 10**(-1/yval), 'ro', label='Actual')\n",
        "  plt.plot(vg, 10**(-1/y_pred), 'bo', label='Predicted')\n",
        "  # plt.plot(vg, 10**(-1/y_pred_16_8_4), 'g', label='Predicted')\n",
        "  # plt.yscale(\"log\")\n",
        "  plt.title('Actual and Predicted Value')\n",
        "  plt.xlabel('Drain Voltage (Vds)')\n",
        "  plt.ylabel('Drain Current(Id)')\n",
        "  plt.legend()"
      ],
      "metadata": {
        "id": "tT3zBK6ScIAF"
      },
      "id": "tT3zBK6ScIAF",
      "execution_count": 94,
      "outputs": []
    },
    {
      "cell_type": "markdown",
      "id": "5c270c03",
      "metadata": {
        "id": "5c270c03",
        "papermill": {
          "duration": 7.405285,
          "end_time": "2022-06-26T14:49:40.179702",
          "exception": false,
          "start_time": "2022-06-26T14:49:32.774417",
          "status": "completed"
        },
        "tags": []
      },
      "source": [
        "*The code presented here is a part of our model development framework. Hope, it will encourage others to develop MOSFET models based upon Neural network.*"
      ]
    }
  ],
  "metadata": {
    "accelerator": "GPU",
    "colab": {
      "collapsed_sections": [
        "YJRr67cStWWO"
      ],
      "name": "mos_nn_v2.ipynb",
      "provenance": []
    },
    "gpuClass": "standard",
    "kernelspec": {
      "display_name": "Python 3 (ipykernel)",
      "language": "python",
      "name": "python3"
    },
    "language_info": {
      "codemirror_mode": {
        "name": "ipython",
        "version": 3
      },
      "file_extension": ".py",
      "mimetype": "text/x-python",
      "name": "python",
      "nbconvert_exporter": "python",
      "pygments_lexer": "ipython3",
      "version": "3.9.12"
    },
    "papermill": {
      "default_parameters": {},
      "duration": 1745.082842,
      "end_time": "2022-06-26T14:49:50.385484",
      "environment_variables": {},
      "exception": null,
      "input_path": "__notebook__.ipynb",
      "output_path": "__notebook__.ipynb",
      "parameters": {},
      "start_time": "2022-06-26T14:20:45.302642",
      "version": "2.3.3"
    }
  },
  "nbformat": 4,
  "nbformat_minor": 5
}