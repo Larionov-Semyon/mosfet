{
 "cells": [
  {
   "cell_type": "code",
   "execution_count": 1,
   "id": "5674ef93",
   "metadata": {},
   "outputs": [],
   "source": [
    "import numpy as np\n",
    "import pandas as pd\n",
    "import matplotlib.pyplot as plt\n",
    "%matplotlib inline\n",
    "import seaborn as sns\n",
    "\n",
    "import tensorflow as tf\n",
    "from tensorflow import keras\n",
    "\n",
    "import time\n",
    "import os\n",
    "from tqdm import tqdm # для progress bar"
   ]
  },
  {
   "cell_type": "code",
   "execution_count": 2,
   "id": "14d57eed",
   "metadata": {},
   "outputs": [],
   "source": [
    "# Split train and test dataset\n",
    "from sklearn.model_selection import train_test_split\n",
    "from sklearn import preprocessing"
   ]
  },
  {
   "cell_type": "code",
   "execution_count": 3,
   "id": "6eb45b77",
   "metadata": {},
   "outputs": [],
   "source": [
    "####################################################################################################\n",
    "\n",
    "import PySpice.Logging.Logging as Logging\n",
    "logger = Logging.setup_logging()\n",
    "\n",
    "####################################################################################################\n",
    "\n",
    "from PySpice.Doc.ExampleTools import find_libraries\n",
    "from PySpice.Probe.Plot import plot\n",
    "from PySpice.Spice.Library import SpiceLibrary\n",
    "from PySpice.Spice.Netlist import Circuit\n",
    "from PySpice.Unit import *\n",
    "\n",
    "####################################################################################################"
   ]
  },
  {
   "cell_type": "code",
   "execution_count": 4,
   "id": "d9923110",
   "metadata": {},
   "outputs": [
    {
     "name": "stdout",
     "output_type": "stream",
     "text": [
      "ami05nfet ami05pfet tsmc018nfet tsmc018pfet pfet BAV21 BAV21@xyce 2n2222a ptm32nm_nmos ptm32nm_pmos ptm65nm_nmos ptm65nm_pmos\n"
     ]
    }
   ],
   "source": [
    "spice_library = SpiceLibrary(\"D:/JUPYTER/MyAnacondaProject/example/libraries\")\n",
    "print(*spice_library.models)"
   ]
  },
  {
   "cell_type": "code",
   "execution_count": 5,
   "id": "39a71e90",
   "metadata": {},
   "outputs": [],
   "source": [
    "class FilesMobility:\n",
    "    \"\"\"Класс создания файлов с различными внутренними параметрами\"\"\"\n",
    "    def __init__(self, main_file, model, count):\n",
    "        self.model = model\n",
    "        self.main_file = main_file\n",
    "        self.count = count\n",
    "        \n",
    "    def create_files_mob(self, noise=0):\n",
    "        \"\"\"Создание файлов с различным параметрами\"\"\"\n",
    "        # открытие файла с моделью\n",
    "        with open (self.main_file, 'r') as f:\n",
    "            old_data = f.read()\n",
    "            \n",
    "        if not os.path.exists('./mobility'):\n",
    "            os.makedirs('./mobility')\n",
    "            \n",
    "        # замена строки и создание нового файла\n",
    "        for i in range(self.count):\n",
    "            new_data = old_data.replace(self.model, f'{self.model}_{i}')\n",
    "            old_str = '+U0      = 263.5112775'\n",
    "            if new_data.find(old_str) == -1:\n",
    "                print(f'Подстрока {old_str} не найдена !')\n",
    "                return\n",
    "            new_data = new_data.replace('U0      = 263.5112775', f'U0 = {263.5112775 * np.random.normal(1, noise)}')\n",
    "            new_data = new_data.replace('VTH0    = 0.3669193', f'VTH0 = {0.3669193 * np.random.normal(1, noise)}')\n",
    "            new_data = new_data.replace('VOFF    = -0.0895222', f'VOFF = {-0.0895222 * np.random.normal(1, noise)}')\n",
    "            new_data = new_data.replace('KETA    = -8.579587E-3', f'KETA = {-8.579587E-3 * np.random.normal(1, noise)}')\n",
    "            new_data = new_data.replace('TNOM    = 27', f'TNOM = {27 * np.random.normal(1, noise)}')\n",
    "\n",
    "            with open (f'./mobility/{self.model}_{i}.lib', 'w') as f:\n",
    "                f.write(new_data)"
   ]
  },
  {
   "cell_type": "code",
   "execution_count": 6,
   "id": "19aa37c8",
   "metadata": {},
   "outputs": [],
   "source": [
    "mob = FilesMobility(\n",
    "            main_file='D:/JUPYTER/MyAnacondaProject/example/libraries/tsmc018(3).lib',\n",
    "            model='tsmc018nfet',\n",
    "            count=50,\n",
    "        )\n",
    "mob.create_files_mob(noise=0.05)"
   ]
  },
  {
   "cell_type": "code",
   "execution_count": 7,
   "id": "9e6dd8de",
   "metadata": {},
   "outputs": [],
   "source": [
    "class Mosfet:\n",
    "    \"\"\"Класс создания цепи с MOSFET\"\"\"\n",
    "    NUM_FILES = 50 # число для кол-ва файлов для различных подвижности\n",
    "    \n",
    "    def __init__(self, model, num_mobility_files=50, noise=None):\n",
    "        self.noise = noise\n",
    "        self.circuit = Circuit('MOS circuit')\n",
    "        \n",
    "        if noise == None:\n",
    "            spice_library = SpiceLibrary(\"D:/JUPYTER/MyAnacondaProject/example/libraries\")\n",
    "            spice_library = spice_library[model]\n",
    "            self.circuit.include(spice_library)\n",
    "        else:\n",
    "            num = np.random.randint(num_mobility_files)\n",
    "            spice_library = SpiceLibrary(\"./mobility\")\n",
    "            self.circuit.include(spice_library[f'{self.model}_{num}'])\n",
    "    \n",
    "    def create_circuit(self, params=None, noise=None):\n",
    "        self.circuit.V('G', 'VG', 0, params['vg'])\n",
    "        self.circuit.V('D', 'VD', 0, params['vd'])\n",
    "\n",
    "        if noise == None:\n",
    "            self.circuit.MOSFET(1, 'VD', 'VG', 0, 0, model='tsmc018nfet', l=params['l'], w=params['w'],)\n",
    "        else:\n",
    "            self.circuit.MOSFET(1, 'VD', 'VG', 0, 0, model='tsmc018nfet',\n",
    "                                l=params['l'] * np.random.normal(1, noise['l']),\n",
    "                                w=params['w'] *  np.random.normal(1, noise['w']),\n",
    "                               )\n",
    "                                "
   ]
  },
  {
   "cell_type": "code",
   "execution_count": 7,
   "id": "77b230fd",
   "metadata": {},
   "outputs": [
    {
     "name": "stdout",
     "output_type": "stream",
     "text": [
      "6.85 s ± 449 ms per loop (mean ± std. dev. of 3 runs, 2 loops each)\n"
     ]
    }
   ],
   "source": [
    "%%timeit -n 2 -r 3\n",
    "for i in range(100):\n",
    "    mosfet = Mosfet('tsmc018nfet')\n",
    "    mosfet.create_circuit({'vg': 1, 'vd': 2, 'l': 5e-7, 'w':5e-7, 't': 25}, {'l': 0.1, 'w': 0.1})\n",
    "    \n",
    "# print(mosfet.circuit)"
   ]
  },
  {
   "cell_type": "code",
   "execution_count": 8,
   "id": "3455a4bd",
   "metadata": {},
   "outputs": [],
   "source": [
    "class DatabaseOld:\n",
    "    def __init__(self, model, vd_slice, vg_range, t_range, fet_range, noise=None):\n",
    "        self.data = { i: [] for i in ['Vds', 'Vgs', 'L', 'W', 'T', 'Id'] }\n",
    "        self.name_mosfet = model\n",
    "        self.vd_slice = vd_slice\n",
    "        self.vg_range = vg_range\n",
    "        self.fet_range = fet_range\n",
    "        self.t_range = t_range\n",
    "        self.noise = noise\n",
    "        \n",
    "    def modeling_circuit(self, vg, l, w, t):\n",
    "        \"\"\"Моделирование цепи, получение ВАХ (при Vgs == const)\n",
    "        vg, l, w, temp : float - параметры цепи\n",
    "        \n",
    "        return: id_range - значения тока\n",
    "        \"\"\"\n",
    "        mosfet = Mosfet(self.name_mosfet)\n",
    "        mosfet.create_circuit({'vd': 1,'vg':vg, 'l': l, 'w': w, 't': t}, self.noise)\n",
    "        simulator = mosfet.circuit.simulator(temperature=t, normal_temperature=25)\n",
    "        analysis = simulator.dc(VD=self.vd_slice)\n",
    "        id_range = (- np.array(analysis.branches['vd']))\n",
    "        \n",
    "        if self.noise != None:\n",
    "            id_range = id_range * np.random.normal(1, self.noise['id'], len(id_range))\n",
    "        return id_range\n",
    "    \n",
    "    def get_vd_range(self):\n",
    "        vd_range = np.arange(self.vd_slice.start, self.vd_slice.stop, self.vd_slice.step)\n",
    "        return vd_range\n",
    "        \n",
    "    def _next_params(self):\n",
    "        \"\"\"генератор для параметров\"\"\"\n",
    "        for vg in self.vg_range:\n",
    "            for w, l in self.fet_range:\n",
    "                for t in self.t_range:\n",
    "                    yield vg, l, w, t\n",
    "        \n",
    "    def create_dataset(self, num_of_meas=1):\n",
    "        len_params = len(self.vg_range) * len(self.fet_range) * len(self.t_range)\n",
    "        params = self._next_params()\n",
    "        \n",
    "        for _ in tqdm(range(len_params)):\n",
    "            vg, l, w, temp = next(params)\n",
    "            \n",
    "            for _ in range(num_of_meas):\n",
    "                id_range = self.modeling_circuit(vg, l, w, temp)\n",
    "                    \n",
    "                vd_range = self.get_vd_range()\n",
    "            \n",
    "                len_id = len(id_range)\n",
    "                \n",
    "#                 print(len(vd_range), len_id, len(id_range))\n",
    "                \n",
    "                self.data['Vds'] = np.hstack((self.data['Vds'], vd_range))\n",
    "                self.data['Vgs'] = np.hstack((self.data['Vgs'], [vg] * len_id))\n",
    "                self.data['L']   = np.hstack((self.data['L'],   [l] * len_id))\n",
    "                self.data['W']   = np.hstack((self.data['W'],   [w] * len_id))\n",
    "                self.data['T']   = np.hstack((self.data['T'],   [temp] * len_id))\n",
    "                self.data['Id']  = np.hstack((self.data['Id'],  id_range))\n",
    "\n",
    "        self.data['Vds'] = self.data['Vds'].tolist()\n",
    "        self.data['Vgs'] = self.data['Vgs'].tolist()\n",
    "        self.data['L']   = self.data['L'].tolist()\n",
    "        self.data['W']   = self.data['W'].tolist()\n",
    "        self.data['T']   = self.data['T'].tolist()\n",
    "        self.data['Id']  = self.data['Id'].tolist()\n",
    "        \n",
    "        return self.data_to_pandas()\n",
    "    \n",
    "    def data_to_pandas(self):\n",
    "        \"\"\"Получение датасета в виде pandas file\"\"\"\n",
    "#         print(len(dataset['Vds']), len(dataset['Vgs']), len(dataset['L']), len(dataset['Id']))\n",
    "        return pd.DataFrame(self.data, index=None)\n",
    "    \n",
    "    def to_csv(self, file_name):\n",
    "        self.data_to_pandas().to_csv(file_name, index=None)\n",
    "        print(f'Save as {file_name}')"
   ]
  },
  {
   "cell_type": "code",
   "execution_count": null,
   "id": "d40bc663",
   "metadata": {},
   "outputs": [],
   "source": []
  },
  {
   "cell_type": "code",
   "execution_count": 9,
   "id": "1a2adbdb",
   "metadata": {},
   "outputs": [],
   "source": [
    "class Database:\n",
    "    def __init__(self, model, vd_slice, vg_range, t_range, fet_range, noise=None):\n",
    "        self.data = { i: [] for i in ['Vds', 'Vgs', 'L', 'W', 'T', 'Id'] }\n",
    "        self.name_mosfet = model\n",
    "        self.vd_slice = vd_slice\n",
    "        self.noise = noise \n",
    "        self.params = self._next_params(vg_range, fet_range, t_range)\n",
    "        self.len_params = len(vg_range) * len(fet_range) * len(t_range)\n",
    "        \n",
    "    def modeling_circuit(self, vg, l, w, t):\n",
    "        \"\"\"Моделирование цепи, получение ВАХ (при Vgs == const)\n",
    "        vg, l, w, temp : float - параметры цепи\n",
    "        \n",
    "        return: id_range - значения тока\n",
    "        \"\"\"\n",
    "        mosfet = Mosfet(self.name_mosfet)\n",
    "        mosfet.create_circuit({'vd': 1,'vg':vg, 'l': l, 'w': w, 't': t}, self.noise)\n",
    "        simulator = mosfet.circuit.simulator(temperature=t, normal_temperature=25)\n",
    "        analysis = simulator.dc(VD=self.vd_slice)\n",
    "        id_range = analysis.branches['vd'].tolist()\n",
    "        \n",
    "        if self.noise == None:\n",
    "            id_range = list(map(lambda x: -x, id_range))\n",
    "        else:\n",
    "            id_range = list(map(lambda x: -x * np.random.normal(1, self.noise['id'], len(id_range)), id_range))\n",
    "                            \n",
    "        return id_range\n",
    "    \n",
    "    def get_vd_range(self):\n",
    "        vd_range = np.arange(self.vd_slice.start, self.vd_slice.stop, self.vd_slice.step)\n",
    "#         vd_range = range(self.vd_slice.start, self.vd_slice.stop, self.vd_slice.step)\n",
    "#         return vd_range\n",
    "        return list(vd_range)\n",
    "        \n",
    "    def _next_params(self, vg_range, fet_range, t_range):\n",
    "        \"\"\"генератор для параметров\"\"\"\n",
    "        for vg in vg_range:\n",
    "            for w, l in fet_range:\n",
    "                for t in t_range:\n",
    "                    yield vg, l, w, t\n",
    "        \n",
    "    def create_dataset(self, num_of_meas=1):        \n",
    "        for _ in tqdm(range(self.len_params)):\n",
    "            vg, l, w, temp = next(self.params)\n",
    "            \n",
    "            for _ in range(num_of_meas):\n",
    "                id_range = self.modeling_circuit(vg, l, w, temp)\n",
    "                    \n",
    "                vd_range = self.get_vd_range()\n",
    "            \n",
    "                len_id = len(id_range)\n",
    "                \n",
    "#                 print(len(vd_range), len_id, len(id_range))\n",
    "                            \n",
    "                self.data['Vds'] += vd_range\n",
    "                self.data['Vgs'] += [vg] * len_id\n",
    "                self.data['L']   += [l] * len_id\n",
    "                self.data['W']   += [w] * len_id\n",
    "                self.data['T']   += [temp] * len_id\n",
    "                self.data['Id']  += id_range\n",
    "\n",
    "#         self.data['Vds'] = self.data['Vds'].tolist()\n",
    "#         self.data['Vgs'] = self.data['Vgs'].tolist()\n",
    "#         self.data['L']   = self.data['L'].tolist()\n",
    "#         self.data['W']   = self.data['W'].tolist()\n",
    "#         self.data['T']   = self.data['T'].tolist()\n",
    "#         self.data['Id']  = self.data['Id'].tolist()\n",
    "        \n",
    "        return self.data_to_pandas()\n",
    "    \n",
    "    def data_to_pandas(self):\n",
    "        \"\"\"Получение датасета в виде pandas file\"\"\"\n",
    "#         print(len(dataset['Vds']), len(dataset['Vgs']), len(dataset['L']), len(dataset['Id']))\n",
    "        return pd.DataFrame(self.data, index=None)\n",
    "    \n",
    "    def to_csv(self, file_name):\n",
    "        self.data_to_pandas().to_csv(file_name, index=None)\n",
    "        print(f'Save as {file_name}')"
   ]
  },
  {
   "cell_type": "code",
   "execution_count": 10,
   "id": "525211c5",
   "metadata": {},
   "outputs": [],
   "source": [
    "# %%timeit -n 5 -r 3\n",
    "# database_simple = DatabaseOld(\n",
    "#         model='tsmc018nfet',\n",
    "#         vd_slice = slice(0, 3.1, .25),\n",
    "#         vg_range = np.arange(0, 3.1, .25),\n",
    "#         fet_range = list_of_fet,\n",
    "#         t_range  = np.arange(0, 51, 25),\n",
    "#     )\n",
    "# data = database_simple.create_dataset()"
   ]
  },
  {
   "cell_type": "code",
   "execution_count": 11,
   "id": "03671a5c",
   "metadata": {
    "scrolled": true
   },
   "outputs": [],
   "source": [
    "# %%timeit -n 5 -r 3\n",
    "# database_simple = Database(\n",
    "#         model='tsmc018nfet',\n",
    "#         vd_slice = slice(0, 3.1, .25),\n",
    "#         vg_range = np.arange(0, 3.1, .25),\n",
    "#         fet_range = list_of_fet,\n",
    "#         t_range  = np.arange(0, 51, 25),\n",
    "#     )\n",
    "# data = database_simple.create_dataset()"
   ]
  },
  {
   "cell_type": "code",
   "execution_count": 12,
   "id": "00edd56b",
   "metadata": {},
   "outputs": [],
   "source": [
    "# %%timeit -n 5 -r 3\n",
    "# database_simple = Database(\n",
    "#         model='tsmc018nfet',\n",
    "#         vd_slice = slice(0, 3.1, .25),\n",
    "#         vg_range = np.arange(0, 3.1, .25),\n",
    "#         fet_range = list_of_fet,\n",
    "#         t_range  = np.arange(0, 51, 25),\n",
    "#     )\n",
    "# data = database_simple.create_dataset()"
   ]
  },
  {
   "cell_type": "code",
   "execution_count": 12,
   "id": "341b82de",
   "metadata": {},
   "outputs": [],
   "source": [
    "class ProcessDataSimple(object):\n",
    "  \"\"\"Миксин создания модели подготовки данных\"\"\"\n",
    "  def __init__(self, df, test_size=0.2, random_state=42):\n",
    "\n",
    "    X, y = self._split_x_y(df)\n",
    "    X_train, X_test, y_train, y_test = self._split_train_test(\n",
    "        X, y, test_size=test_size, random_state=random_state\n",
    "        )\n",
    "    \n",
    "    self.X_train = X_train\n",
    "    self.X_test = X_test\n",
    "    self.y_train = y_train\n",
    "    self.y_test = y_test\n",
    "\n",
    "\n",
    "  def _split_x_y(self, df):\n",
    "    \"\"\"разделение df на X и Y\"\"\"\n",
    "    X = df.iloc[:,0:5]\n",
    "    y = np.ravel(df[\"Id\"])\n",
    "    return X, y\n",
    "\n",
    "\n",
    "  def _split_train_test(self, X, y, test_size, random_state):\n",
    "    \"\"\"разделение на train и test\"\"\"\n",
    "    X_train, X_test, y_train, y_test = train_test_split(X, y, test_size=test_size, \n",
    "                                                        random_state=random_state)\n",
    "    return X_train, X_test, y_train, y_test\n",
    "\n",
    "\n",
    "  def transform(self, df):\n",
    "    \"\"\"функция подготовки данных\n",
    "        return: X и y\"\"\"\n",
    "    return self._split_x_y(df)\n",
    "\n",
    "  def retransform_y(self, y):\n",
    "    \"\"\"функция перевода,\n",
    "     полученного Y в нормальный вид\"\"\"\n",
    "    return y"
   ]
  },
  {
   "cell_type": "code",
   "execution_count": 13,
   "id": "ec50df6f",
   "metadata": {},
   "outputs": [],
   "source": [
    "# NEED CHANGE\n",
    "class ProcessDataLog(ProcessDataSimple):\n",
    "  \"\"\"Действуем на X функцией log10\n",
    "      На Y функцией - 1 / log10\"\"\"\n",
    "\n",
    "  REPLACE_ZERO_ID = 1e-20\n",
    "  REPLACE_ZERO_VGS = 1e-3\n",
    "  REPLACE_ZERO_VDS = 1e-3\n",
    "  REPLACE_ZERO_T = 1e-3\n",
    "\n",
    "  def __init__(self, df, test_size=0.2, random_state=42):\n",
    "    data  = df.copy()\n",
    "    self._replace_X(data)\n",
    "    self._replace_y(data)\n",
    "\n",
    "    self._log_x(data)\n",
    "    self._log_y(data)\n",
    "\n",
    "    X, y = self._split_x_y(data)\n",
    "\n",
    "    X_train, X_test, y_train, y_test = self._split_train_test(\n",
    "        X, y, test_size=test_size, random_state=random_state\n",
    "        )\n",
    "    \n",
    "    self.X_train = X_train\n",
    "    self.X_test = X_test\n",
    "    self.y_train = y_train\n",
    "    self.y_test = y_test\n",
    "\n",
    "  def _replace_y(self, data):\n",
    "    # замена отрицательных значений на нули\n",
    "    data.loc[data[\"Id\"] < 0, \"Id\"] = 0\n",
    "    # Replace zeros\n",
    "    data[\"Id\"].replace({0:self.REPLACE_ZERO_ID}, inplace=True)\n",
    "\n",
    "  def _replace_X(self, data):\n",
    "    # Replace zeros\n",
    "    data[\"Vgs\"].replace({0:self.REPLACE_ZERO_VGS}, inplace=True)\n",
    "    data[\"Vds\"].replace({0:self.REPLACE_ZERO_VDS}, inplace=True)\n",
    "    data[\"T\"].replace({0:self.REPLACE_ZERO_T}, inplace=True)\n",
    "  \n",
    "  def _log_x(self, data):\n",
    "    data.loc[:, 'Vds'] = data['Vds'].apply(np.log10)\n",
    "    data.loc[:, 'Vgs'] = data['Vgs'].apply(np.log10)\n",
    "\n",
    "  def _log_y(self, data):\n",
    "    data.loc[:, 'Id'] = data['Id'].apply(lambda x: -1/np.log10(x))\n",
    "\n",
    "\n",
    "  def transform(self, df):\n",
    "    data = df.copy()\n",
    "    self._replace_X(data)\n",
    "    self._replace_y(data)\n",
    "\n",
    "    self._log_x(data)\n",
    "    self._log_y(data)\n",
    "\n",
    "    X, y = self._split_x_y(data)\n",
    "    return X, y\n",
    "\n",
    "  def retransform_y(self, y):\n",
    "    # y_new = (y - min) / (max - min)\n",
    "    # return y * (self.scaler_y.data_max_ - self.scaler_y.data_min_) + self.scaler_y.data_min_\n",
    "    return 10 ** (-1 / y)"
   ]
  },
  {
   "cell_type": "code",
   "execution_count": 14,
   "id": "9c4c75fd",
   "metadata": {},
   "outputs": [],
   "source": [
    "class ProcessDataLogNorm(ProcessDataLog):\n",
    "  \"\"\"Действуем на данные функцией с LOG10 и нормализируем тестувую выборку\"\"\"\n",
    "\n",
    "  def __init__(self, df, test_size=0.2, random_state=42):\n",
    "    data = df.copy()\n",
    "    self._replace_X(data)\n",
    "    self._replace_y(data)\n",
    "\n",
    "    self._log_x(data)\n",
    "    self._log_y(data)\n",
    "\n",
    "    X, y = self._split_x_y(data)\n",
    "\n",
    "    self.scaler_X, self.scaler_Y = self._scaler(data)\n",
    "\n",
    "    X_train, X_test, y_train, y_test = self._split_train_test(\n",
    "        X, y, test_size=test_size, random_state=random_state\n",
    "        )\n",
    "    \n",
    "    self.data = data\n",
    "    self.X_train = X_train\n",
    "    self.X_test = X_test\n",
    "    self.y_train = y_train\n",
    "    self.y_test = y_test\n",
    "\n",
    "\n",
    "  def _scaler(self, data):\n",
    "    scaler_X = preprocessing.StandardScaler().fit(data.iloc[:,0:5])\n",
    "    data.iloc[:,0:5] = scaler_X.transform(data.iloc[:,0:5])\n",
    "\n",
    "    y = data.loc[:, 'Id'].values.reshape(-1, 1)\n",
    "    scaler_Y = preprocessing.StandardScaler().fit(y)\n",
    "    data.loc[:, 'Id'] = scaler_Y.transform(y)\n",
    "    return scaler_X, scaler_Y\n",
    "\n",
    "\n",
    "  def transform(self, df):\n",
    "    data = df.copy()\n",
    "    self._replace_X(data)\n",
    "    self._replace_y(data)\n",
    "\n",
    "    self._log_x(data)\n",
    "    self._log_y(data)\n",
    "\n",
    "    X, y = self._split_x_y(data)\n",
    "    return self.scaler_X.transform(X), self.scaler_Y.transform(y.reshape(-1, 1))\n",
    "\n",
    "  def retransform_y(self, y_in):\n",
    "    y = y_in.copy()\n",
    "    y = y * self.scaler_Y.scale_ + self.scaler_Y.mean_\n",
    "    return 10 ** (-1 / y)"
   ]
  },
  {
   "cell_type": "code",
   "execution_count": null,
   "id": "ab1206ae",
   "metadata": {},
   "outputs": [],
   "source": []
  },
  {
   "cell_type": "code",
   "execution_count": 16,
   "id": "89711ccf",
   "metadata": {},
   "outputs": [],
   "source": [
    "# list_of_fet = []\n",
    "# for w in np.array([200e-9, 300e-9, 400e-9, 500e-9, 600e-9, 700e-9, 800e-9, 900e-9, 1000e-9]):\n",
    "#     for l in np.array([200e-9, 300e-9, 400e-9, 500e-9, 600e-9, 700e-9, 800e-9, 900e-9, 1000e-9]):\n",
    "#         list_of_fet.append([w, l])\n",
    "# print(list_of_fet)"
   ]
  },
  {
   "cell_type": "code",
   "execution_count": 38,
   "id": "c4719d8f",
   "metadata": {},
   "outputs": [
    {
     "name": "stdout",
     "output_type": "stream",
     "text": [
      "[[2e-07, 2e-07], [2e-07, 4e-07], [2e-07, 6e-07], [2e-07, 8e-07], [2e-07, 1e-06], [4e-07, 2e-07], [4e-07, 4e-07], [4e-07, 6e-07], [4e-07, 8e-07], [4e-07, 1e-06], [6e-07, 2e-07], [6e-07, 4e-07], [6e-07, 6e-07], [6e-07, 8e-07], [6e-07, 1e-06], [8e-07, 2e-07], [8e-07, 4e-07], [8e-07, 6e-07], [8e-07, 8e-07], [8e-07, 1e-06], [1e-06, 2e-07], [1e-06, 4e-07], [1e-06, 6e-07], [1e-06, 8e-07], [1e-06, 1e-06]]\n"
     ]
    }
   ],
   "source": [
    "list_of_fet = []\n",
    "for w in np.array([200e-9, 400e-9, 600e-9, 800e-9, 1000e-9]):\n",
    "    for l in np.array([200e-9, 400e-9, 600e-9, 800e-9, 1000e-9]):\n",
    "        list_of_fet.append([w, l])\n",
    "print(list_of_fet)"
   ]
  },
  {
   "cell_type": "code",
   "execution_count": 39,
   "id": "b8b8168f",
   "metadata": {},
   "outputs": [],
   "source": [
    "# list_of_fet = []\n",
    "# for w in np.array([200e-9, 600e-9, 1000e-9]):\n",
    "#     for l in np.array([200e-9, 600e-9, 1000e-9]):\n",
    "#         list_of_fet.append([w, l])\n",
    "# print(list_of_fet)"
   ]
  },
  {
   "cell_type": "code",
   "execution_count": 40,
   "id": "ae0213a7",
   "metadata": {},
   "outputs": [
    {
     "data": {
      "text/plain": [
       "<matplotlib.collections.PathCollection at 0x27e42613190>"
      ]
     },
     "execution_count": 40,
     "metadata": {},
     "output_type": "execute_result"
    },
    {
     "data": {
      "image/png": "[encoded data removed]",
      "text/plain": [
       "<Figure size 640x480 with 1 Axes>"
      ]
     },
     "metadata": {},
     "output_type": "display_data"
    }
   ],
   "source": [
    "list_of_fet = np.array(list_of_fet)\n",
    "\n",
    "plt.scatter(list_of_fet[:, 0], list_of_fet[:, 1])"
   ]
  },
  {
   "cell_type": "code",
   "execution_count": 41,
   "id": "319576bc",
   "metadata": {},
   "outputs": [],
   "source": [
    "# def create_model():\n",
    "#     model = tf.keras.Sequential()\n",
    "#     model.add(keras.layers.Dense(30, activation='tanh', input_shape=(5,)))\n",
    "#     model.add(keras.layers.Dense(20, activation='tanh'))\n",
    "#     model.add(keras.layers.Dense(1, activation='sigmoid'))\n",
    "#     model.compile(optimizer='adam', loss='mse', metrics=['mae'])\n",
    "#     # model.summary()\n",
    "#     return model"
   ]
  },
  {
   "cell_type": "code",
   "execution_count": 31,
   "id": "827c1338",
   "metadata": {},
   "outputs": [],
   "source": [
    "def create_model():\n",
    "    model = tf.keras.Sequential()\n",
    "    model.add(keras.layers.Dense(25, activation='relu', input_shape=(5,)))\n",
    "    model.add(keras.layers.Dense(30, activation='softmax'))\n",
    "    model.add(keras.layers.Dense(1, activation='tanh'))\n",
    "    model.compile(optimizer='adam', loss='mape', metrics=['mse'])\n",
    "    return model"
   ]
  },
  {
   "cell_type": "code",
   "execution_count": 32,
   "id": "0533ea85",
   "metadata": {},
   "outputs": [],
   "source": [
    "df_val = pd.read_csv('data_val_in.csv')\n",
    "\n",
    "\n",
    "def train_and_test(fet, epochs=1000, frac=1):\n",
    "    database_simple = Database(\n",
    "        model='tsmc018nfet',\n",
    "        vd_slice = slice(0, 3.1, .5),\n",
    "        vg_range = np.arange(0, 3.1, .5),\n",
    "        fet_range = fet,\n",
    "        t_range  = np.arange(0, 51, 25),\n",
    "    )\n",
    "    data = database_simple.create_dataset()\n",
    "#     database_simple.to_csv('mosfet_simple.csv')\n",
    "\n",
    "    data = ProcessDataLogNorm(data)\n",
    "    \n",
    "    print('Learning')\n",
    "    \n",
    "    model = create_model()\n",
    "    model.fit(data.X_train, data.y_train, epochs=epochs, batch_size=256, shuffle=True, verbose=0)\n",
    "    results = model.evaluate(data.X_test, data.y_test, batch_size=256)\n",
    "    results = results[0]\n",
    "    \n",
    "    print('Testing')\n",
    "    Xval, yval = data.transform(df_val.sample(frac=frac))\n",
    "    yval = data.retransform_y(yval)\n",
    "    \n",
    "    y_pred = model.predict(Xval)\n",
    "    y_pred = data.retransform_y(y_pred)\n",
    "    \n",
    "    mse = np.mean(tf.keras.metrics.mean_squared_error(yval, y_pred))\n",
    "    mape = np.mean(tf.keras.metrics.mean_absolute_percentage_error(yval, y_pred))\n",
    "    \n",
    "    print(f'Loss train: {results}, MSE: {mse}, MAPE: {mape}')\n",
    "    \n",
    "    return results, mse, mape"
   ]
  },
  {
   "cell_type": "code",
   "execution_count": 28,
   "id": "2a9dfa09",
   "metadata": {},
   "outputs": [],
   "source": [
    "from random import shuffle"
   ]
  },
  {
   "cell_type": "code",
   "execution_count": 19,
   "id": "aaa56c68",
   "metadata": {},
   "outputs": [
    {
     "data": {
      "text/plain": [
       "<Figure size 640x480 with 0 Axes>"
      ]
     },
     "metadata": {},
     "output_type": "display_data"
    }
   ],
   "source": [
    "list_of_fet = list(list_of_fet)\n",
    "history_fet = []\n",
    "history = []\n",
    "history1 = []\n",
    "history2 = []\n",
    "\n",
    "del_fet=None\n",
    "\n",
    "fig = plt.figure()\n",
    "\n",
    "while len(list_of_fet) > 5:\n",
    "    print('===== ', len(list_of_fet))\n",
    "    results, mse, mape = train_and_test(list_of_fet, 300, 300)\n",
    "    \n",
    "    shuffle(list_of_fet)\n",
    "\n",
    "    history.append(results)\n",
    "    history1.append(mse)\n",
    "    history2.append(mape)\n",
    "    history_fet.append([results, del_fet])\n",
    "    print('Deleted: ', del_fet, results, mse, mape)\n",
    "    \n",
    "    del_fet = list_of_fet.pop()\n",
    "    \n",
    "    plt.subplot(3, 1, 1)\n",
    "    plt.plot(history)\n",
    "    plt.subplot(3, 1, 2)\n",
    "    plt.plot(history1)\n",
    "    plt.subplot(3, 1, 3)\n",
    "    plt.plot(history2)\n",
    "    plt.savefig('history.png')"
   ]
  },
  {
   "cell_type": "code",
   "execution_count": 51,
   "id": "b34548a1",
   "metadata": {},
   "outputs": [
    {
     "data": {
      "text/plain": [
       "[<matplotlib.lines.Line2D at 0x15ad56b6af0>]"
      ]
     },
     "execution_count": 51,
     "metadata": {},
     "output_type": "execute_result"
    },
    {
     "data": {
      "image/png": "[encoded data removed]",
      "text/plain": [
       "<Figure size 640x480 with 1 Axes>"
      ]
     },
     "metadata": {},
     "output_type": "display_data"
    }
   ],
   "source": [
    "plt.plot(history)"
   ]
  },
  {
   "cell_type": "code",
   "execution_count": 52,
   "id": "871a7d32",
   "metadata": {},
   "outputs": [
    {
     "data": {
      "text/plain": [
       "[<matplotlib.lines.Line2D at 0x15ac0e62c40>]"
      ]
     },
     "execution_count": 52,
     "metadata": {},
     "output_type": "execute_result"
    },
    {
     "data": {
      "image/png": "[encoded data removed]",
      "text/plain": [
       "<Figure size 640x480 with 1 Axes>"
      ]
     },
     "metadata": {},
     "output_type": "display_data"
    }
   ],
   "source": [
    "plt.plot(history1)"
   ]
  },
  {
   "cell_type": "code",
   "execution_count": 53,
   "id": "eaa00035",
   "metadata": {},
   "outputs": [
    {
     "data": {
      "text/plain": [
       "<matplotlib.collections.PathCollection at 0x15aae969c70>"
      ]
     },
     "execution_count": 53,
     "metadata": {},
     "output_type": "execute_result"
    },
    {
     "data": {
      "image/png": "[encoded data removed]",
      "text/plain": [
       "<Figure size 640x480 with 1 Axes>"
      ]
     },
     "metadata": {},
     "output_type": "display_data"
    }
   ],
   "source": [
    "list_of_fet = np.array(list_of_fet)\n",
    "\n",
    "plt.scatter(list_of_fet[:, 0], list_of_fet[:, 1])"
   ]
  },
  {
   "cell_type": "code",
   "execution_count": null,
   "id": "0ffc2ac9",
   "metadata": {},
   "outputs": [],
   "source": []
  },
  {
   "cell_type": "code",
   "execution_count": 15,
   "id": "3d44ee48",
   "metadata": {},
   "outputs": [],
   "source": [
    "list_of_fet = []\n",
    "for w in np.array([200e-9, 300e-9, 400e-9, 500e-9, 600e-9, 700e-9, 800e-9, 900e-9, 1000e-9]):\n",
    "    for l in np.array([200e-9, 300e-9, 400e-9, 500e-9, 600e-9, 700e-9, 800e-9, 900e-9, 1000e-9]):\n",
    "        list_of_fet.append([w, l])\n",
    "# print(list_of_fet)"
   ]
  },
  {
   "cell_type": "code",
   "execution_count": 58,
   "id": "ec4e414f",
   "metadata": {},
   "outputs": [],
   "source": [
    "# list_of_fet = []\n",
    "# for w in np.array([200e-9, 400e-9, 600e-9, 800e-9, 1000e-9]):\n",
    "#     for l in np.array([200e-9, 400e-9, 600e-9, 800e-9, 1000e-9]):\n",
    "#         list_of_fet.append([w, l])\n",
    "# print(list_of_fet)"
   ]
  },
  {
   "cell_type": "code",
   "execution_count": 22,
   "id": "2f8a4525",
   "metadata": {},
   "outputs": [
    {
     "name": "stderr",
     "output_type": "stream",
     "text": [
      "100%|██████████████████████████████████████████████████████████████████████████████| 1701/1701 [00:35<00:00, 48.09it/s]\n"
     ]
    },
    {
     "name": "stdout",
     "output_type": "stream",
     "text": [
      "Learning\n",
      "10/10 [==============================] - 0s 3ms/step - loss: 30.7869 - mse: 0.1055\n",
      "Testing\n",
      "17403/17403 [==============================] - 27s 2ms/step\n",
      "Loss train: 30.786907196044922, MSE: 3.4646265536654856e-08, MAPE: 27573.298936445808\n"
     ]
    },
    {
     "name": "stderr",
     "output_type": "stream",
     "text": [
      "100%|██████████████████████████████████████████████████████████████████████████████| 1680/1680 [00:27<00:00, 60.20it/s]\n"
     ]
    },
    {
     "name": "stdout",
     "output_type": "stream",
     "text": [
      "Learning\n",
      "10/10 [==============================] - 0s 3ms/step - loss: 39.5042 - mse: 0.1475\n",
      "Testing\n",
      "1741/1741 [==============================] - 3s 2ms/step\n",
      "Loss train: 39.50419616699219, MSE: 2.373231854482182e-08, MAPE: 13336.572413405465\n",
      "===  0 39.50419616699219 2.373231854482182e-08 13336.572413405465\n"
     ]
    },
    {
     "name": "stderr",
     "output_type": "stream",
     "text": [
      "100%|██████████████████████████████████████████████████████████████████████████████| 1680/1680 [00:27<00:00, 60.70it/s]\n"
     ]
    },
    {
     "name": "stdout",
     "output_type": "stream",
     "text": [
      "Learning\n",
      "10/10 [==============================] - 0s 3ms/step - loss: 35.6995 - mse: 0.1342\n",
      "Testing\n",
      "1741/1741 [==============================] - 2s 1ms/step\n",
      "Loss train: 35.69951248168945, MSE: 2.5624229341676503e-08, MAPE: 15908.68236367268\n",
      "===  1 35.69951248168945 2.5624229341676503e-08 15908.68236367268\n"
     ]
    },
    {
     "name": "stderr",
     "output_type": "stream",
     "text": [
      "100%|██████████████████████████████████████████████████████████████████████████████| 1680/1680 [00:26<00:00, 63.20it/s]\n"
     ]
    },
    {
     "name": "stdout",
     "output_type": "stream",
     "text": [
      "Learning\n",
      "10/10 [==============================] - 0s 4ms/step - loss: 46.3257 - mse: 0.1826\n",
      "Testing\n",
      "1741/1741 [==============================] - 2s 1ms/step\n",
      "Loss train: 46.3256721496582, MSE: 2.025600946282089e-08, MAPE: 5546.805303010877\n",
      "===  2 46.3256721496582 2.025600946282089e-08 5546.805303010877\n"
     ]
    },
    {
     "name": "stderr",
     "output_type": "stream",
     "text": [
      "100%|██████████████████████████████████████████████████████████████████████████████| 1680/1680 [00:26<00:00, 63.86it/s]\n"
     ]
    },
    {
     "name": "stdout",
     "output_type": "stream",
     "text": [
      "Learning\n",
      "10/10 [==============================] - 0s 4ms/step - loss: 37.4619 - mse: 0.1626\n",
      "Testing\n",
      "1741/1741 [==============================] - 2s 1ms/step\n",
      "Loss train: 37.46194839477539, MSE: 2.235707553266693e-08, MAPE: 10939.282584136783\n",
      "===  3 37.46194839477539 2.235707553266693e-08 10939.282584136783\n"
     ]
    },
    {
     "name": "stderr",
     "output_type": "stream",
     "text": [
      "100%|██████████████████████████████████████████████████████████████████████████████| 1680/1680 [00:26<00:00, 64.07it/s]\n"
     ]
    },
    {
     "name": "stdout",
     "output_type": "stream",
     "text": [
      "Learning\n",
      "10/10 [==============================] - 0s 4ms/step - loss: 35.4199 - mse: 0.1243\n",
      "Testing\n",
      "1741/1741 [==============================] - 3s 2ms/step\n",
      "Loss train: 35.41985321044922, MSE: 2.6028043092046098e-08, MAPE: 15783.591222462544\n",
      "===  4 35.41985321044922 2.6028043092046098e-08 15783.591222462544\n"
     ]
    },
    {
     "name": "stderr",
     "output_type": "stream",
     "text": [
      "100%|██████████████████████████████████████████████████████████████████████████████| 1680/1680 [00:28<00:00, 58.87it/s]\n"
     ]
    },
    {
     "name": "stdout",
     "output_type": "stream",
     "text": [
      "Learning\n",
      "10/10 [==============================] - 0s 3ms/step - loss: 36.2990 - mse: 0.1285\n",
      "Testing\n",
      "1741/1741 [==============================] - 2s 1ms/step\n",
      "Loss train: 36.29901123046875, MSE: 2.4529896163407282e-08, MAPE: 15509.261495420586\n",
      "===  5 36.29901123046875 2.4529896163407282e-08 15509.261495420586\n"
     ]
    },
    {
     "name": "stderr",
     "output_type": "stream",
     "text": [
      "100%|██████████████████████████████████████████████████████████████████████████████| 1680/1680 [00:28<00:00, 59.52it/s]\n"
     ]
    },
    {
     "name": "stdout",
     "output_type": "stream",
     "text": [
      "Learning\n",
      "10/10 [==============================] - 0s 3ms/step - loss: 34.3730 - mse: 0.1132\n",
      "Testing\n",
      "1741/1741 [==============================] - 2s 1ms/step\n",
      "Loss train: 34.37303161621094, MSE: 2.3563436476056356e-08, MAPE: 14423.090538355125\n",
      "===  6 34.37303161621094 2.3563436476056356e-08 14423.090538355125\n"
     ]
    },
    {
     "name": "stderr",
     "output_type": "stream",
     "text": [
      "100%|██████████████████████████████████████████████████████████████████████████████| 1680/1680 [00:26<00:00, 62.81it/s]\n"
     ]
    },
    {
     "name": "stdout",
     "output_type": "stream",
     "text": [
      "Learning\n",
      "10/10 [==============================] - 0s 3ms/step - loss: 39.6877 - mse: 0.1387\n",
      "Testing\n",
      "1741/1741 [==============================] - 2s 1ms/step\n",
      "Loss train: 39.687705993652344, MSE: 2.6042729513645418e-08, MAPE: 16805.466799301586\n",
      "===  7 39.687705993652344 2.6042729513645418e-08 16805.466799301586\n"
     ]
    },
    {
     "name": "stderr",
     "output_type": "stream",
     "text": [
      "100%|██████████████████████████████████████████████████████████████████████████████| 1680/1680 [00:27<00:00, 61.90it/s]\n"
     ]
    },
    {
     "name": "stdout",
     "output_type": "stream",
     "text": [
      "Learning\n",
      "10/10 [==============================] - 0s 4ms/step - loss: 38.1544 - mse: 0.1371\n",
      "Testing\n",
      "1741/1741 [==============================] - 3s 2ms/step\n",
      "Loss train: 38.15439224243164, MSE: 2.2250671095947227e-08, MAPE: 9857.836823505504\n",
      "===  8 38.15439224243164 2.2250671095947227e-08 9857.836823505504\n"
     ]
    },
    {
     "name": "stderr",
     "output_type": "stream",
     "text": [
      "100%|██████████████████████████████████████████████████████████████████████████████| 1680/1680 [00:28<00:00, 58.46it/s]\n"
     ]
    },
    {
     "name": "stdout",
     "output_type": "stream",
     "text": [
      "Learning\n",
      "10/10 [==============================] - 0s 3ms/step - loss: 38.8792 - mse: 0.1326\n",
      "Testing\n",
      "1741/1741 [==============================] - 3s 2ms/step\n",
      "Loss train: 38.879150390625, MSE: 2.5719897100853227e-08, MAPE: 16321.79689699268\n",
      "===  9 38.879150390625 2.5719897100853227e-08 16321.79689699268\n"
     ]
    },
    {
     "name": "stderr",
     "output_type": "stream",
     "text": [
      "100%|██████████████████████████████████████████████████████████████████████████████| 1680/1680 [00:29<00:00, 57.76it/s]\n"
     ]
    },
    {
     "name": "stdout",
     "output_type": "stream",
     "text": [
      "Learning\n",
      "10/10 [==============================] - 0s 3ms/step - loss: 59.1590 - mse: 0.1136\n",
      "Testing\n",
      "1741/1741 [==============================] - 2s 1ms/step\n",
      "Loss train: 59.15901184082031, MSE: 2.6253446454615014e-08, MAPE: 18160.82018938199\n",
      "===  10 59.15901184082031 2.6253446454615014e-08 18160.82018938199\n"
     ]
    },
    {
     "name": "stderr",
     "output_type": "stream",
     "text": [
      "100%|██████████████████████████████████████████████████████████████████████████████| 1680/1680 [00:28<00:00, 58.34it/s]\n"
     ]
    },
    {
     "name": "stdout",
     "output_type": "stream",
     "text": [
      "Learning\n",
      "10/10 [==============================] - 0s 3ms/step - loss: 37.2467 - mse: 0.1298\n",
      "Testing\n",
      "1741/1741 [==============================] - 2s 1ms/step\n",
      "Loss train: 37.24673843383789, MSE: 2.5164988805454625e-08, MAPE: 14079.436565067197\n",
      "===  11 37.24673843383789 2.5164988805454625e-08 14079.436565067197\n"
     ]
    },
    {
     "name": "stderr",
     "output_type": "stream",
     "text": [
      "100%|██████████████████████████████████████████████████████████████████████████████| 1680/1680 [00:27<00:00, 61.19it/s]\n"
     ]
    },
    {
     "name": "stdout",
     "output_type": "stream",
     "text": [
      "Learning\n",
      "10/10 [==============================] - 0s 2ms/step - loss: 40.8035 - mse: 0.1284\n",
      "Testing\n",
      "1741/1741 [==============================] - 2s 1ms/step\n",
      "Loss train: 40.80354309082031, MSE: 2.4340125350261804e-08, MAPE: 13617.006262682764\n",
      "===  12 40.80354309082031 2.4340125350261804e-08 13617.006262682764\n"
     ]
    },
    {
     "name": "stderr",
     "output_type": "stream",
     "text": [
      "100%|██████████████████████████████████████████████████████████████████████████████| 1680/1680 [00:28<00:00, 58.46it/s]\n"
     ]
    },
    {
     "name": "stdout",
     "output_type": "stream",
     "text": [
      "Learning\n",
      "10/10 [==============================] - 0s 2ms/step - loss: 43.2107 - mse: 0.1533\n",
      "Testing\n",
      "1741/1741 [==============================] - 2s 1ms/step\n",
      "Loss train: 43.210731506347656, MSE: 1.7227131596511764e-08, MAPE: 4604.067022227701\n",
      "===  13 43.210731506347656 1.7227131596511764e-08 4604.067022227701\n"
     ]
    },
    {
     "name": "stderr",
     "output_type": "stream",
     "text": [
      "100%|██████████████████████████████████████████████████████████████████████████████| 1680/1680 [00:27<00:00, 60.38it/s]\n"
     ]
    },
    {
     "name": "stdout",
     "output_type": "stream",
     "text": [
      "Learning\n",
      "10/10 [==============================] - 0s 4ms/step - loss: 42.1602 - mse: 0.1341\n",
      "Testing\n",
      "1741/1741 [==============================] - 3s 2ms/step\n",
      "Loss train: 42.160179138183594, MSE: 1.972640780797721e-08, MAPE: 6000.852555427527\n",
      "===  14 42.160179138183594 1.972640780797721e-08 6000.852555427527\n"
     ]
    },
    {
     "name": "stderr",
     "output_type": "stream",
     "text": [
      "100%|██████████████████████████████████████████████████████████████████████████████| 1680/1680 [00:30<00:00, 54.68it/s]\n"
     ]
    },
    {
     "name": "stdout",
     "output_type": "stream",
     "text": [
      "Learning\n",
      "10/10 [==============================] - 0s 3ms/step - loss: 40.3308 - mse: 0.1493\n",
      "Testing\n",
      "1741/1741 [==============================] - 3s 2ms/step\n",
      "Loss train: 40.330841064453125, MSE: 2.3975130141451236e-08, MAPE: 13338.655214362952\n",
      "===  15 40.330841064453125 2.3975130141451236e-08 13338.655214362952\n"
     ]
    },
    {
     "name": "stderr",
     "output_type": "stream",
     "text": [
      "100%|██████████████████████████████████████████████████████████████████████████████| 1680/1680 [00:29<00:00, 56.94it/s]\n"
     ]
    },
    {
     "name": "stdout",
     "output_type": "stream",
     "text": [
      "Learning\n",
      "10/10 [==============================] - 0s 3ms/step - loss: 53.0649 - mse: 0.1661\n",
      "Testing\n",
      "1741/1741 [==============================] - 2s 1ms/step\n",
      "Loss train: 53.06486129760742, MSE: 2.640981080667049e-08, MAPE: 15594.688659412252\n",
      "===  16 53.06486129760742 2.640981080667049e-08 15594.688659412252\n"
     ]
    },
    {
     "name": "stderr",
     "output_type": "stream",
     "text": [
      "100%|██████████████████████████████████████████████████████████████████████████████| 1680/1680 [00:28<00:00, 58.02it/s]\n"
     ]
    },
    {
     "name": "stdout",
     "output_type": "stream",
     "text": [
      "Learning\n",
      "10/10 [==============================] - 0s 2ms/step - loss: 38.7626 - mse: 0.1341\n",
      "Testing\n",
      "1741/1741 [==============================] - 2s 1ms/step\n",
      "Loss train: 38.76259994506836, MSE: 2.684833015876857e-08, MAPE: 16885.397996120864\n",
      "===  17 38.76259994506836 2.684833015876857e-08 16885.397996120864\n"
     ]
    },
    {
     "name": "stderr",
     "output_type": "stream",
     "text": [
      "100%|██████████████████████████████████████████████████████████████████████████████| 1680/1680 [00:28<00:00, 58.70it/s]\n"
     ]
    },
    {
     "name": "stdout",
     "output_type": "stream",
     "text": [
      "Learning\n",
      "10/10 [==============================] - 0s 3ms/step - loss: 42.7204 - mse: 0.1514\n",
      "Testing\n",
      "1741/1741 [==============================] - 2s 1ms/step\n",
      "Loss train: 42.72040939331055, MSE: 1.6334358534327826e-08, MAPE: 4204.249242846861\n",
      "===  18 42.72040939331055 1.6334358534327826e-08 4204.249242846861\n"
     ]
    },
    {
     "name": "stderr",
     "output_type": "stream",
     "text": [
      "100%|██████████████████████████████████████████████████████████████████████████████| 1680/1680 [00:28<00:00, 58.10it/s]\n"
     ]
    },
    {
     "name": "stdout",
     "output_type": "stream",
     "text": [
      "Learning\n",
      "10/10 [==============================] - 0s 3ms/step - loss: 38.6671 - mse: 0.1224\n",
      "Testing\n",
      "1741/1741 [==============================] - 3s 2ms/step\n",
      "Loss train: 38.667057037353516, MSE: 2.508366966829538e-08, MAPE: 15717.59759174238\n",
      "===  19 38.667057037353516 2.508366966829538e-08 15717.59759174238\n"
     ]
    },
    {
     "name": "stderr",
     "output_type": "stream",
     "text": [
      "100%|██████████████████████████████████████████████████████████████████████████████| 1680/1680 [00:30<00:00, 55.00it/s]\n"
     ]
    },
    {
     "name": "stdout",
     "output_type": "stream",
     "text": [
      "Learning\n",
      "10/10 [==============================] - 0s 3ms/step - loss: 48.3918 - mse: 0.1143\n",
      "Testing\n",
      "1741/1741 [==============================] - 3s 2ms/step\n",
      "Loss train: 48.391807556152344, MSE: 2.7205223112444682e-08, MAPE: 18224.496030306927\n",
      "===  20 48.391807556152344 2.7205223112444682e-08 18224.496030306927\n"
     ]
    },
    {
     "name": "stderr",
     "output_type": "stream",
     "text": [
      "100%|██████████████████████████████████████████████████████████████████████████████| 1680/1680 [00:32<00:00, 52.50it/s]\n"
     ]
    },
    {
     "name": "stdout",
     "output_type": "stream",
     "text": [
      "Learning\n",
      "10/10 [==============================] - 0s 3ms/step - loss: 43.4953 - mse: 0.1161\n",
      "Testing\n",
      "1741/1741 [==============================] - 2s 1ms/step\n",
      "Loss train: 43.49531173706055, MSE: 2.5210775877788582e-08, MAPE: 15460.43139891311\n",
      "===  21 43.49531173706055 2.5210775877788582e-08 15460.43139891311\n"
     ]
    },
    {
     "name": "stderr",
     "output_type": "stream",
     "text": [
      "100%|██████████████████████████████████████████████████████████████████████████████| 1680/1680 [00:30<00:00, 55.37it/s]\n"
     ]
    },
    {
     "name": "stdout",
     "output_type": "stream",
     "text": [
      "Learning\n",
      "10/10 [==============================] - 0s 3ms/step - loss: 43.7412 - mse: 0.1162\n",
      "Testing\n",
      "1741/1741 [==============================] - 2s 1ms/step\n",
      "Loss train: 43.741180419921875, MSE: 2.6296945519526162e-08, MAPE: 16927.84602545844\n",
      "===  22 43.741180419921875 2.6296945519526162e-08 16927.84602545844\n"
     ]
    },
    {
     "name": "stderr",
     "output_type": "stream",
     "text": [
      "100%|██████████████████████████████████████████████████████████████████████████████| 1680/1680 [00:29<00:00, 56.01it/s]\n"
     ]
    },
    {
     "name": "stdout",
     "output_type": "stream",
     "text": [
      "Learning\n",
      "10/10 [==============================] - 0s 3ms/step - loss: 40.2541 - mse: 0.1445\n",
      "Testing\n",
      "1741/1741 [==============================] - 3s 2ms/step\n",
      "Loss train: 40.2541389465332, MSE: 2.289700655872411e-08, MAPE: 12952.06692659274\n",
      "===  23 40.2541389465332 2.289700655872411e-08 12952.06692659274\n"
     ]
    },
    {
     "name": "stderr",
     "output_type": "stream",
     "text": [
      "100%|██████████████████████████████████████████████████████████████████████████████| 1680/1680 [00:32<00:00, 52.20it/s]\n"
     ]
    },
    {
     "name": "stdout",
     "output_type": "stream",
     "text": [
      "Learning\n",
      "10/10 [==============================] - 0s 3ms/step - loss: 41.0226 - mse: 0.1620\n",
      "Testing\n",
      "1741/1741 [==============================] - 2s 1ms/step\n",
      "Loss train: 41.02260971069336, MSE: 2.1708740638699313e-08, MAPE: 11784.323169687756\n",
      "===  24 41.02260971069336 2.1708740638699313e-08 11784.323169687756\n"
     ]
    },
    {
     "name": "stderr",
     "output_type": "stream",
     "text": [
      "100%|██████████████████████████████████████████████████████████████████████████████| 1680/1680 [00:29<00:00, 56.26it/s]\n"
     ]
    },
    {
     "name": "stdout",
     "output_type": "stream",
     "text": [
      "Learning\n",
      "10/10 [==============================] - 0s 3ms/step - loss: 46.4772 - mse: 0.1868\n",
      "Testing\n",
      "1741/1741 [==============================] - 2s 1ms/step\n",
      "Loss train: 46.47719192504883, MSE: 1.8862380123956756e-08, MAPE: 4665.9860807911755\n",
      "===  25 46.47719192504883 1.8862380123956756e-08 4665.9860807911755\n"
     ]
    },
    {
     "name": "stderr",
     "output_type": "stream",
     "text": [
      "100%|██████████████████████████████████████████████████████████████████████████████| 1680/1680 [00:30<00:00, 54.35it/s]\n"
     ]
    },
    {
     "name": "stdout",
     "output_type": "stream",
     "text": [
      "Learning\n",
      "10/10 [==============================] - 0s 3ms/step - loss: 39.6044 - mse: 0.1524\n",
      "Testing\n",
      "1741/1741 [==============================] - 2s 1ms/step\n",
      "Loss train: 39.604400634765625, MSE: 1.9615503333829524e-08, MAPE: 6659.881308233001\n",
      "===  26 39.604400634765625 1.9615503333829524e-08 6659.881308233001\n"
     ]
    },
    {
     "name": "stderr",
     "output_type": "stream",
     "text": [
      "100%|██████████████████████████████████████████████████████████████████████████████| 1680/1680 [00:31<00:00, 54.09it/s]\n"
     ]
    },
    {
     "name": "stdout",
     "output_type": "stream",
     "text": [
      "Learning\n",
      "10/10 [==============================] - 0s 3ms/step - loss: 35.7237 - mse: 0.1164\n",
      "Testing\n",
      "1741/1741 [==============================] - 2s 1ms/step\n",
      "Loss train: 35.72370910644531, MSE: 2.4426926627647374e-08, MAPE: 15257.85884784939\n",
      "===  27 35.72370910644531 2.4426926627647374e-08 15257.85884784939\n"
     ]
    },
    {
     "name": "stderr",
     "output_type": "stream",
     "text": [
      "100%|██████████████████████████████████████████████████████████████████████████████| 1680/1680 [00:31<00:00, 53.86it/s]\n"
     ]
    },
    {
     "name": "stdout",
     "output_type": "stream",
     "text": [
      "Learning\n",
      "10/10 [==============================] - 0s 3ms/step - loss: 35.3068 - mse: 0.1154\n",
      "Testing\n",
      "1741/1741 [==============================] - 3s 2ms/step\n",
      "Loss train: 35.30680847167969, MSE: 2.3323259207479678e-08, MAPE: 13345.600669631214\n",
      "===  28 35.30680847167969 2.3323259207479678e-08 13345.600669631214\n"
     ]
    },
    {
     "name": "stderr",
     "output_type": "stream",
     "text": [
      "100%|██████████████████████████████████████████████████████████████████████████████| 1680/1680 [00:32<00:00, 50.92it/s]\n"
     ]
    },
    {
     "name": "stdout",
     "output_type": "stream",
     "text": [
      "Learning\n",
      "10/10 [==============================] - 0s 3ms/step - loss: 39.8267 - mse: 0.1347\n",
      "Testing\n",
      "1741/1741 [==============================] - 3s 2ms/step\n",
      "Loss train: 39.82673645019531, MSE: 2.6195238896045788e-08, MAPE: 16141.13171204237\n",
      "===  29 39.82673645019531 2.6195238896045788e-08 16141.13171204237\n"
     ]
    },
    {
     "name": "stderr",
     "output_type": "stream",
     "text": [
      "100%|██████████████████████████████████████████████████████████████████████████████| 1680/1680 [00:33<00:00, 50.73it/s]\n"
     ]
    },
    {
     "name": "stdout",
     "output_type": "stream",
     "text": [
      "Learning\n",
      "10/10 [==============================] - 0s 2ms/step - loss: 56.0341 - mse: 0.1131\n",
      "Testing\n",
      "1741/1741 [==============================] - 2s 1ms/step\n",
      "Loss train: 56.034088134765625, MSE: 2.5906203803310915e-08, MAPE: 17525.062408223916\n",
      "===  30 56.034088134765625 2.5906203803310915e-08 17525.062408223916\n"
     ]
    },
    {
     "name": "stderr",
     "output_type": "stream",
     "text": [
      "100%|██████████████████████████████████████████████████████████████████████████████| 1680/1680 [00:32<00:00, 50.96it/s]\n"
     ]
    },
    {
     "name": "stdout",
     "output_type": "stream",
     "text": [
      "Learning\n",
      "10/10 [==============================] - 0s 3ms/step - loss: 47.0423 - mse: 0.1200\n",
      "Testing\n",
      "1741/1741 [==============================] - 3s 2ms/step\n",
      "Loss train: 47.04228210449219, MSE: 2.5053413700500193e-08, MAPE: 16012.25295978409\n",
      "===  31 47.04228210449219 2.5053413700500193e-08 16012.25295978409\n"
     ]
    },
    {
     "name": "stderr",
     "output_type": "stream",
     "text": [
      "100%|██████████████████████████████████████████████████████████████████████████████| 1680/1680 [00:33<00:00, 50.07it/s]\n"
     ]
    },
    {
     "name": "stdout",
     "output_type": "stream",
     "text": [
      "Learning\n",
      "10/10 [==============================] - 0s 3ms/step - loss: 39.7582 - mse: 0.1162\n",
      "Testing\n",
      "1741/1741 [==============================] - 2s 1ms/step\n",
      "Loss train: 39.758216857910156, MSE: 2.4430634476360968e-08, MAPE: 15449.48202647584\n",
      "===  32 39.758216857910156 2.4430634476360968e-08 15449.48202647584\n"
     ]
    },
    {
     "name": "stderr",
     "output_type": "stream",
     "text": [
      "100%|██████████████████████████████████████████████████████████████████████████████| 1680/1680 [00:32<00:00, 51.97it/s]\n"
     ]
    },
    {
     "name": "stdout",
     "output_type": "stream",
     "text": [
      "Learning\n",
      "10/10 [==============================] - 0s 3ms/step - loss: 41.6511 - mse: 0.1179\n",
      "Testing\n",
      "1741/1741 [==============================] - 2s 1ms/step\n",
      "Loss train: 41.6511116027832, MSE: 2.6571155522107704e-08, MAPE: 16935.897007519554\n",
      "===  33 41.6511116027832 2.6571155522107704e-08 16935.897007519554\n"
     ]
    },
    {
     "name": "stderr",
     "output_type": "stream",
     "text": [
      "100%|██████████████████████████████████████████████████████████████████████████████| 1680/1680 [00:32<00:00, 51.00it/s]\n"
     ]
    },
    {
     "name": "stdout",
     "output_type": "stream",
     "text": [
      "Learning\n",
      "10/10 [==============================] - 0s 2ms/step - loss: 38.8974 - mse: 0.1309\n",
      "Testing\n",
      "1741/1741 [==============================] - 2s 1ms/step\n",
      "Loss train: 38.89735794067383, MSE: 2.280962685367654e-08, MAPE: 12405.064115277324\n",
      "===  34 38.89735794067383 2.280962685367654e-08 12405.064115277324\n"
     ]
    },
    {
     "name": "stderr",
     "output_type": "stream",
     "text": [
      "100%|██████████████████████████████████████████████████████████████████████████████| 1680/1680 [00:31<00:00, 52.67it/s]\n"
     ]
    },
    {
     "name": "stdout",
     "output_type": "stream",
     "text": [
      "Learning\n",
      "10/10 [==============================] - 0s 3ms/step - loss: 38.1442 - mse: 0.1279\n",
      "Testing\n",
      "1741/1741 [==============================] - 2s 1ms/step\n",
      "Loss train: 38.144203186035156, MSE: 1.9962607884579587e-08, MAPE: 9052.783823168471\n",
      "===  35 38.144203186035156 1.9962607884579587e-08 9052.783823168471\n"
     ]
    },
    {
     "name": "stderr",
     "output_type": "stream",
     "text": [
      "100%|██████████████████████████████████████████████████████████████████████████████| 1680/1680 [00:32<00:00, 52.47it/s]\n"
     ]
    },
    {
     "name": "stdout",
     "output_type": "stream",
     "text": [
      "Learning\n",
      "10/10 [==============================] - 0s 3ms/step - loss: 38.8564 - mse: 0.1400\n",
      "Testing\n",
      "1741/1741 [==============================] - 2s 1ms/step\n",
      "Loss train: 38.85642623901367, MSE: 2.227973217805462e-08, MAPE: 11587.313652700002\n",
      "===  36 38.85642623901367 2.227973217805462e-08 11587.313652700002\n"
     ]
    },
    {
     "name": "stderr",
     "output_type": "stream",
     "text": [
      "100%|██████████████████████████████████████████████████████████████████████████████| 1680/1680 [00:32<00:00, 52.04it/s]\n"
     ]
    },
    {
     "name": "stdout",
     "output_type": "stream",
     "text": [
      "Learning\n",
      "10/10 [==============================] - 0s 3ms/step - loss: 67.2473 - mse: 0.4012\n",
      "Testing\n",
      "1741/1741 [==============================] - 3s 2ms/step\n",
      "Loss train: 67.24734497070312, MSE: 1.945859986075384e-08, MAPE: 8096.883455557582\n",
      "===  37 67.24734497070312 1.945859986075384e-08 8096.883455557582\n"
     ]
    },
    {
     "name": "stderr",
     "output_type": "stream",
     "text": [
      "100%|██████████████████████████████████████████████████████████████████████████████| 1680/1680 [00:33<00:00, 50.06it/s]\n"
     ]
    },
    {
     "name": "stdout",
     "output_type": "stream",
     "text": [
      "Learning\n",
      "10/10 [==============================] - 0s 3ms/step - loss: 41.7564 - mse: 0.1236\n",
      "Testing\n",
      "1741/1741 [==============================] - 2s 1ms/step\n",
      "Loss train: 41.756378173828125, MSE: 2.5364588093107046e-08, MAPE: 15451.800759241753\n",
      "===  38 41.756378173828125 2.5364588093107046e-08 15451.800759241753\n"
     ]
    },
    {
     "name": "stderr",
     "output_type": "stream",
     "text": [
      "100%|██████████████████████████████████████████████████████████████████████████████| 1680/1680 [00:32<00:00, 51.35it/s]\n"
     ]
    },
    {
     "name": "stdout",
     "output_type": "stream",
     "text": [
      "Learning\n",
      "10/10 [==============================] - 0s 3ms/step - loss: 38.2542 - mse: 0.1191\n",
      "Testing\n",
      "1741/1741 [==============================] - 3s 2ms/step\n",
      "Loss train: 38.254150390625, MSE: 2.518453195244941e-08, MAPE: 16026.05503657188\n",
      "===  39 38.254150390625 2.518453195244941e-08 16026.05503657188\n"
     ]
    },
    {
     "name": "stderr",
     "output_type": "stream",
     "text": [
      "100%|██████████████████████████████████████████████████████████████████████████████| 1680/1680 [00:34<00:00, 48.46it/s]\n"
     ]
    },
    {
     "name": "stdout",
     "output_type": "stream",
     "text": [
      "Learning\n",
      "10/10 [==============================] - 0s 3ms/step - loss: 43.0520 - mse: 0.1135\n",
      "Testing\n",
      "1741/1741 [==============================] - 2s 1ms/step\n",
      "Loss train: 43.052005767822266, MSE: 2.5607863168355682e-08, MAPE: 16938.54901946975\n",
      "===  40 43.052005767822266 2.5607863168355682e-08 16938.54901946975\n"
     ]
    },
    {
     "name": "stderr",
     "output_type": "stream",
     "text": [
      "100%|██████████████████████████████████████████████████████████████████████████████| 1680/1680 [00:33<00:00, 50.77it/s]\n"
     ]
    },
    {
     "name": "stdout",
     "output_type": "stream",
     "text": [
      "Learning\n",
      "10/10 [==============================] - 0s 3ms/step - loss: 147.6535 - mse: 0.1184\n",
      "Testing\n",
      "1741/1741 [==============================] - 2s 1ms/step\n",
      "Loss train: 147.65347290039062, MSE: 2.54714229199491e-08, MAPE: 16130.952850692744\n",
      "===  41 147.65347290039062 2.54714229199491e-08 16130.952850692744\n"
     ]
    },
    {
     "name": "stderr",
     "output_type": "stream",
     "text": [
      "100%|██████████████████████████████████████████████████████████████████████████████| 1680/1680 [00:33<00:00, 50.08it/s]\n"
     ]
    },
    {
     "name": "stdout",
     "output_type": "stream",
     "text": [
      "Learning\n",
      "10/10 [==============================] - 0s 3ms/step - loss: 55.1401 - mse: 0.1425\n",
      "Testing\n",
      "1741/1741 [==============================] - 2s 1ms/step\n",
      "Loss train: 55.140140533447266, MSE: 2.8127610708100956e-08, MAPE: 19122.47443066004\n",
      "===  42 55.140140533447266 2.8127610708100956e-08 19122.47443066004\n"
     ]
    },
    {
     "name": "stderr",
     "output_type": "stream",
     "text": [
      "100%|██████████████████████████████████████████████████████████████████████████████| 1680/1680 [00:34<00:00, 49.30it/s]\n"
     ]
    },
    {
     "name": "stdout",
     "output_type": "stream",
     "text": [
      "Learning\n",
      "10/10 [==============================] - 0s 3ms/step - loss: 47.1434 - mse: 0.1129\n",
      "Testing\n",
      "1741/1741 [==============================] - 3s 2ms/step\n",
      "Loss train: 47.14344024658203, MSE: 2.726940751993966e-08, MAPE: 18556.05613831175\n",
      "===  43 47.14344024658203 2.726940751993966e-08 18556.05613831175\n"
     ]
    },
    {
     "name": "stderr",
     "output_type": "stream",
     "text": [
      "100%|██████████████████████████████████████████████████████████████████████████████| 1680/1680 [00:36<00:00, 46.09it/s]\n"
     ]
    },
    {
     "name": "stdout",
     "output_type": "stream",
     "text": [
      "Learning\n",
      "10/10 [==============================] - 0s 2ms/step - loss: 42.8856 - mse: 0.1179\n",
      "Testing\n",
      "1741/1741 [==============================] - 2s 1ms/step\n",
      "Loss train: 42.8856086730957, MSE: 2.5970403865286954e-08, MAPE: 15201.276830109997\n",
      "===  44 42.8856086730957 2.5970403865286954e-08 15201.276830109997\n"
     ]
    },
    {
     "name": "stderr",
     "output_type": "stream",
     "text": [
      "100%|██████████████████████████████████████████████████████████████████████████████| 1680/1680 [00:33<00:00, 49.43it/s]\n"
     ]
    },
    {
     "name": "stdout",
     "output_type": "stream",
     "text": [
      "Learning\n",
      "10/10 [==============================] - 0s 3ms/step - loss: 37.5172 - mse: 0.1438\n",
      "Testing\n",
      "1741/1741 [==============================] - 2s 1ms/step\n",
      "Loss train: 37.51716995239258, MSE: 2.2073021639448543e-08, MAPE: 12423.031791280118\n",
      "===  45 37.51716995239258 2.2073021639448543e-08 12423.031791280118\n"
     ]
    },
    {
     "name": "stderr",
     "output_type": "stream",
     "text": [
      "100%|██████████████████████████████████████████████████████████████████████████████| 1680/1680 [00:34<00:00, 48.17it/s]\n"
     ]
    },
    {
     "name": "stdout",
     "output_type": "stream",
     "text": [
      "Learning\n",
      "10/10 [==============================] - 0s 3ms/step - loss: 37.3161 - mse: 0.1269\n",
      "Testing\n",
      "1741/1741 [==============================] - 2s 1ms/step\n",
      "Loss train: 37.31608963012695, MSE: 2.124483594852469e-08, MAPE: 10589.765789882083\n",
      "===  46 37.31608963012695 2.124483594852469e-08 10589.765789882083\n"
     ]
    },
    {
     "name": "stderr",
     "output_type": "stream",
     "text": [
      "100%|██████████████████████████████████████████████████████████████████████████████| 1680/1680 [00:34<00:00, 49.16it/s]\n"
     ]
    },
    {
     "name": "stdout",
     "output_type": "stream",
     "text": [
      "Learning\n",
      "10/10 [==============================] - 0s 3ms/step - loss: 42.8180 - mse: 0.1449\n",
      "Testing\n",
      "1741/1741 [==============================] - 3s 2ms/step\n",
      "Loss train: 42.81801223754883, MSE: 2.045368166162673e-08, MAPE: 10721.932063742133\n",
      "===  47 42.81801223754883 2.045368166162673e-08 10721.932063742133\n"
     ]
    },
    {
     "name": "stderr",
     "output_type": "stream",
     "text": [
      "100%|██████████████████████████████████████████████████████████████████████████████| 1680/1680 [00:35<00:00, 47.54it/s]\n"
     ]
    },
    {
     "name": "stdout",
     "output_type": "stream",
     "text": [
      "Learning\n",
      "10/10 [==============================] - 0s 3ms/step - loss: 43.7693 - mse: 0.1313\n",
      "Testing\n",
      "1741/1741 [==============================] - 2s 1ms/step\n",
      "Loss train: 43.76926803588867, MSE: 2.4252872761755134e-08, MAPE: 14813.141365423835\n",
      "===  48 43.76926803588867 2.4252872761755134e-08 14813.141365423835\n"
     ]
    },
    {
     "name": "stderr",
     "output_type": "stream",
     "text": [
      "100%|██████████████████████████████████████████████████████████████████████████████| 1680/1680 [00:34<00:00, 48.75it/s]\n"
     ]
    },
    {
     "name": "stdout",
     "output_type": "stream",
     "text": [
      "Learning\n",
      "10/10 [==============================] - 0s 3ms/step - loss: 36.5334 - mse: 0.1327\n",
      "Testing\n",
      "1741/1741 [==============================] - 2s 1ms/step\n",
      "Loss train: 36.53342056274414, MSE: 2.4548168981919013e-08, MAPE: 14975.124748090819\n",
      "===  49 36.53342056274414 2.4548168981919013e-08 14975.124748090819\n"
     ]
    },
    {
     "name": "stderr",
     "output_type": "stream",
     "text": [
      "100%|██████████████████████████████████████████████████████████████████████████████| 1680/1680 [00:34<00:00, 48.27it/s]\n"
     ]
    },
    {
     "name": "stdout",
     "output_type": "stream",
     "text": [
      "Learning\n",
      "10/10 [==============================] - 0s 3ms/step - loss: 42.9686 - mse: 0.1209\n",
      "Testing\n",
      "1741/1741 [==============================] - 3s 2ms/step\n",
      "Loss train: 42.968631744384766, MSE: 2.4822327862562936e-08, MAPE: 16173.140972193132\n",
      "===  50 42.968631744384766 2.4822327862562936e-08 16173.140972193132\n"
     ]
    },
    {
     "name": "stderr",
     "output_type": "stream",
     "text": [
      "100%|██████████████████████████████████████████████████████████████████████████████| 1680/1680 [00:36<00:00, 45.60it/s]\n"
     ]
    },
    {
     "name": "stdout",
     "output_type": "stream",
     "text": [
      "Learning\n",
      "10/10 [==============================] - 0s 3ms/step - loss: 80.8237 - mse: 0.1113\n",
      "Testing\n",
      "1741/1741 [==============================] - 2s 1ms/step\n",
      "Loss train: 80.82366943359375, MSE: 2.7533360469635444e-08, MAPE: 18497.487103469946\n",
      "===  51 80.82366943359375 2.7533360469635444e-08 18497.487103469946\n"
     ]
    },
    {
     "name": "stderr",
     "output_type": "stream",
     "text": [
      "100%|██████████████████████████████████████████████████████████████████████████████| 1680/1680 [00:35<00:00, 47.60it/s]\n"
     ]
    },
    {
     "name": "stdout",
     "output_type": "stream",
     "text": [
      "Learning\n",
      "10/10 [==============================] - 0s 3ms/step - loss: 170.3526 - mse: 0.1264\n",
      "Testing\n",
      "1741/1741 [==============================] - 2s 1ms/step\n",
      "Loss train: 170.35264587402344, MSE: 2.678446147861062e-08, MAPE: 18073.684296508032\n",
      "===  52 170.35264587402344 2.678446147861062e-08 18073.684296508032\n"
     ]
    },
    {
     "name": "stderr",
     "output_type": "stream",
     "text": [
      "100%|██████████████████████████████████████████████████████████████████████████████| 1680/1680 [00:35<00:00, 47.52it/s]\n"
     ]
    },
    {
     "name": "stdout",
     "output_type": "stream",
     "text": [
      "Learning\n",
      "10/10 [==============================] - 0s 4ms/step - loss: 39.9880 - mse: 0.1260\n",
      "Testing\n",
      "1741/1741 [==============================] - 2s 1ms/step\n",
      "Loss train: 39.988033294677734, MSE: 2.5621811055636034e-08, MAPE: 16812.719285785406\n",
      "===  53 39.988033294677734 2.5621811055636034e-08 16812.719285785406\n"
     ]
    },
    {
     "name": "stderr",
     "output_type": "stream",
     "text": [
      "100%|██████████████████████████████████████████████████████████████████████████████| 1680/1680 [00:35<00:00, 47.11it/s]\n"
     ]
    },
    {
     "name": "stdout",
     "output_type": "stream",
     "text": [
      "Learning\n",
      "10/10 [==============================] - 0s 3ms/step - loss: 39.3036 - mse: 0.1249\n",
      "Testing\n",
      "1741/1741 [==============================] - 2s 1ms/step\n",
      "Loss train: 39.3035774230957, MSE: 2.4021441177154544e-08, MAPE: 15000.411201058525\n",
      "===  54 39.3035774230957 2.4021441177154544e-08 15000.411201058525\n"
     ]
    },
    {
     "name": "stderr",
     "output_type": "stream",
     "text": [
      "100%|██████████████████████████████████████████████████████████████████████████████| 1680/1680 [00:35<00:00, 46.96it/s]\n"
     ]
    },
    {
     "name": "stdout",
     "output_type": "stream",
     "text": [
      "Learning\n",
      "10/10 [==============================] - 0s 3ms/step - loss: 38.3484 - mse: 0.1657\n",
      "Testing\n",
      "1741/1741 [==============================] - 2s 1ms/step\n",
      "Loss train: 38.34842300415039, MSE: 2.283578235987664e-08, MAPE: 12140.166563629164\n",
      "===  55 38.34842300415039 2.283578235987664e-08 12140.166563629164\n"
     ]
    },
    {
     "name": "stderr",
     "output_type": "stream",
     "text": [
      "100%|██████████████████████████████████████████████████████████████████████████████| 1680/1680 [00:35<00:00, 46.67it/s]\n"
     ]
    },
    {
     "name": "stdout",
     "output_type": "stream",
     "text": [
      "Learning\n",
      "10/10 [==============================] - 0s 3ms/step - loss: 42.8437 - mse: 0.1742\n",
      "Testing\n",
      "1741/1741 [==============================] - 2s 1ms/step\n",
      "Loss train: 42.84372329711914, MSE: 1.813633273569173e-08, MAPE: 3764.609254829623\n",
      "===  56 42.84372329711914 1.813633273569173e-08 3764.609254829623\n"
     ]
    },
    {
     "name": "stderr",
     "output_type": "stream",
     "text": [
      "100%|██████████████████████████████████████████████████████████████████████████████| 1680/1680 [00:36<00:00, 46.49it/s]\n"
     ]
    },
    {
     "name": "stdout",
     "output_type": "stream",
     "text": [
      "Learning\n",
      "10/10 [==============================] - 0s 3ms/step - loss: 38.6678 - mse: 0.1348\n",
      "Testing\n",
      "1741/1741 [==============================] - 2s 1ms/step\n",
      "Loss train: 38.66783142089844, MSE: 2.1178035973378424e-08, MAPE: 11650.935802208585\n",
      "===  57 38.66783142089844 2.1178035973378424e-08 11650.935802208585\n"
     ]
    },
    {
     "name": "stderr",
     "output_type": "stream",
     "text": [
      "100%|██████████████████████████████████████████████████████████████████████████████| 1680/1680 [00:36<00:00, 45.78it/s]\n"
     ]
    },
    {
     "name": "stdout",
     "output_type": "stream",
     "text": [
      "Learning\n",
      "10/10 [==============================] - 0s 3ms/step - loss: 46.7885 - mse: 0.1211\n",
      "Testing\n",
      "1741/1741 [==============================] - 2s 1ms/step\n",
      "Loss train: 46.78850173950195, MSE: 2.4578675296600918e-08, MAPE: 14772.24732181927\n",
      "===  58 46.78850173950195 2.4578675296600918e-08 14772.24732181927\n"
     ]
    },
    {
     "name": "stderr",
     "output_type": "stream",
     "text": [
      "100%|██████████████████████████████████████████████████████████████████████████████| 1680/1680 [00:36<00:00, 46.08it/s]\n"
     ]
    },
    {
     "name": "stdout",
     "output_type": "stream",
     "text": [
      "Learning\n",
      "10/10 [==============================] - 0s 3ms/step - loss: 41.0809 - mse: 0.1382\n",
      "Testing\n",
      "1741/1741 [==============================] - 3s 2ms/step\n",
      "Loss train: 41.08087921142578, MSE: 2.5496601453653746e-08, MAPE: 17225.461694511956\n",
      "===  59 41.08087921142578 2.5496601453653746e-08 17225.461694511956\n"
     ]
    },
    {
     "name": "stderr",
     "output_type": "stream",
     "text": [
      "100%|██████████████████████████████████████████████████████████████████████████████| 1680/1680 [00:37<00:00, 44.59it/s]\n"
     ]
    },
    {
     "name": "stdout",
     "output_type": "stream",
     "text": [
      "Learning\n",
      "10/10 [==============================] - 0s 3ms/step - loss: 42.0739 - mse: 0.1323\n",
      "Testing\n",
      "1741/1741 [==============================] - 2s 1ms/step\n",
      "Loss train: 42.07392120361328, MSE: 2.4844546540501987e-08, MAPE: 15432.534258621248\n",
      "===  60 42.07392120361328 2.4844546540501987e-08 15432.534258621248\n"
     ]
    },
    {
     "name": "stderr",
     "output_type": "stream",
     "text": [
      "100%|██████████████████████████████████████████████████████████████████████████████| 1680/1680 [00:36<00:00, 45.57it/s]\n"
     ]
    },
    {
     "name": "stdout",
     "output_type": "stream",
     "text": [
      "Learning\n",
      "10/10 [==============================] - 0s 3ms/step - loss: 41.5359 - mse: 0.1123\n",
      "Testing\n",
      "1741/1741 [==============================] - 2s 1ms/step\n",
      "Loss train: 41.53593444824219, MSE: 2.6011727370679783e-08, MAPE: 18513.254798867896\n",
      "===  61 41.53593444824219 2.6011727370679783e-08 18513.254798867896\n"
     ]
    },
    {
     "name": "stderr",
     "output_type": "stream",
     "text": [
      "100%|██████████████████████████████████████████████████████████████████████████████| 1680/1680 [00:37<00:00, 44.85it/s]\n"
     ]
    },
    {
     "name": "stdout",
     "output_type": "stream",
     "text": [
      "Learning\n",
      "10/10 [==============================] - 0s 3ms/step - loss: 72.1038 - mse: 0.1377\n",
      "Testing\n",
      "1741/1741 [==============================] - 2s 1ms/step\n",
      "Loss train: 72.10377502441406, MSE: 2.774059135270695e-08, MAPE: 18990.696027342798\n",
      "===  62 72.10377502441406 2.774059135270695e-08 18990.696027342798\n"
     ]
    },
    {
     "name": "stderr",
     "output_type": "stream",
     "text": [
      "100%|██████████████████████████████████████████████████████████████████████████████| 1680/1680 [00:37<00:00, 45.03it/s]\n"
     ]
    },
    {
     "name": "stdout",
     "output_type": "stream",
     "text": [
      "Learning\n",
      "10/10 [==============================] - 0s 3ms/step - loss: 35.6185 - mse: 0.1343\n",
      "Testing\n",
      "1741/1741 [==============================] - 2s 1ms/step\n",
      "Loss train: 35.61845397949219, MSE: 2.472269023426191e-08, MAPE: 15846.790237922349\n",
      "===  63 35.61845397949219 2.472269023426191e-08 15846.790237922349\n"
     ]
    },
    {
     "name": "stderr",
     "output_type": "stream",
     "text": [
      "100%|██████████████████████████████████████████████████████████████████████████████| 1680/1680 [00:37<00:00, 44.86it/s]\n"
     ]
    },
    {
     "name": "stdout",
     "output_type": "stream",
     "text": [
      "Learning\n",
      "10/10 [==============================] - 0s 3ms/step - loss: 46.1857 - mse: 0.3650\n",
      "Testing\n",
      "1741/1741 [==============================] - 3s 2ms/step\n",
      "Loss train: 46.18567657470703, MSE: 1.6432630898160005e-08, MAPE: 2418.2730804496396\n",
      "===  64 46.18567657470703 1.6432630898160005e-08 2418.2730804496396\n"
     ]
    },
    {
     "name": "stderr",
     "output_type": "stream",
     "text": [
      "100%|██████████████████████████████████████████████████████████████████████████████| 1680/1680 [00:37<00:00, 44.92it/s]\n"
     ]
    },
    {
     "name": "stdout",
     "output_type": "stream",
     "text": [
      "Learning\n",
      "10/10 [==============================] - 0s 2ms/step - loss: 35.5084 - mse: 0.1219\n",
      "Testing\n",
      "1741/1741 [==============================] - 3s 2ms/step\n",
      "Loss train: 35.50844192504883, MSE: 2.204157928458897e-08, MAPE: 11965.88791796664\n",
      "===  65 35.50844192504883 2.204157928458897e-08 11965.88791796664\n"
     ]
    },
    {
     "name": "stderr",
     "output_type": "stream",
     "text": [
      "100%|██████████████████████████████████████████████████████████████████████████████| 1680/1680 [00:38<00:00, 43.47it/s]\n"
     ]
    },
    {
     "name": "stdout",
     "output_type": "stream",
     "text": [
      "Learning\n",
      "10/10 [==============================] - 0s 2ms/step - loss: 45.0287 - mse: 0.1821\n",
      "Testing\n",
      "1741/1741 [==============================] - 2s 1ms/step\n",
      "Loss train: 45.02873229980469, MSE: 1.6936236338566258e-08, MAPE: 5342.424730219482\n",
      "===  66 45.02873229980469 1.6936236338566258e-08 5342.424730219482\n"
     ]
    },
    {
     "name": "stderr",
     "output_type": "stream",
     "text": [
      "100%|██████████████████████████████████████████████████████████████████████████████| 1680/1680 [00:38<00:00, 44.00it/s]\n"
     ]
    },
    {
     "name": "stdout",
     "output_type": "stream",
     "text": [
      "Learning\n",
      "10/10 [==============================] - 0s 3ms/step - loss: 40.2525 - mse: 0.1249\n",
      "Testing\n",
      "1741/1741 [==============================] - 2s 1ms/step\n",
      "Loss train: 40.25252151489258, MSE: 2.3476216438435027e-08, MAPE: 13202.635348028844\n",
      "===  67 40.25252151489258 2.3476216438435027e-08 13202.635348028844\n"
     ]
    },
    {
     "name": "stderr",
     "output_type": "stream",
     "text": [
      "100%|██████████████████████████████████████████████████████████████████████████████| 1680/1680 [00:38<00:00, 43.94it/s]\n"
     ]
    },
    {
     "name": "stdout",
     "output_type": "stream",
     "text": [
      "Learning\n",
      "10/10 [==============================] - 0s 3ms/step - loss: 38.4988 - mse: 0.1209\n",
      "Testing\n",
      "1741/1741 [==============================] - 2s 1ms/step\n",
      "Loss train: 38.49879837036133, MSE: 2.566444649713258e-08, MAPE: 16048.586386989413\n",
      "===  68 38.49879837036133 2.566444649713258e-08 16048.586386989413\n"
     ]
    },
    {
     "name": "stderr",
     "output_type": "stream",
     "text": [
      "100%|██████████████████████████████████████████████████████████████████████████████| 1680/1680 [00:38<00:00, 43.71it/s]\n"
     ]
    },
    {
     "name": "stdout",
     "output_type": "stream",
     "text": [
      "Learning\n",
      "10/10 [==============================] - 0s 2ms/step - loss: 35.7463 - mse: 0.1234\n",
      "Testing\n",
      "1741/1741 [==============================] - 2s 1ms/step\n",
      "Loss train: 35.74628829956055, MSE: 2.541393440151982e-08, MAPE: 16663.437057620627\n",
      "===  69 35.74628829956055 2.541393440151982e-08 16663.437057620627\n"
     ]
    },
    {
     "name": "stderr",
     "output_type": "stream",
     "text": [
      "100%|██████████████████████████████████████████████████████████████████████████████| 1680/1680 [00:38<00:00, 43.16it/s]\n"
     ]
    },
    {
     "name": "stdout",
     "output_type": "stream",
     "text": [
      "Learning\n",
      "10/10 [==============================] - 0s 3ms/step - loss: 35.7980 - mse: 0.1217\n",
      "Testing\n",
      "1741/1741 [==============================] - 2s 1ms/step\n",
      "Loss train: 35.79798889160156, MSE: 2.478474132496825e-08, MAPE: 15733.070561858669\n",
      "===  70 35.79798889160156 2.478474132496825e-08 15733.070561858669\n"
     ]
    },
    {
     "name": "stderr",
     "output_type": "stream",
     "text": [
      "100%|██████████████████████████████████████████████████████████████████████████████| 1680/1680 [00:39<00:00, 43.04it/s]\n"
     ]
    },
    {
     "name": "stdout",
     "output_type": "stream",
     "text": [
      "Learning\n",
      "10/10 [==============================] - 0s 3ms/step - loss: 46.5362 - mse: 0.1170\n",
      "Testing\n",
      "1741/1741 [==============================] - 2s 1ms/step\n",
      "Loss train: 46.536216735839844, MSE: 2.6169014391321667e-08, MAPE: 17038.018953594434\n",
      "===  71 46.536216735839844 2.6169014391321667e-08 17038.018953594434\n"
     ]
    },
    {
     "name": "stderr",
     "output_type": "stream",
     "text": [
      "100%|██████████████████████████████████████████████████████████████████████████████| 1680/1680 [00:39<00:00, 42.99it/s]\n"
     ]
    },
    {
     "name": "stdout",
     "output_type": "stream",
     "text": [
      "Learning\n",
      "10/10 [==============================] - 0s 3ms/step - loss: 35.9341 - mse: 0.1170\n",
      "Testing\n",
      "1741/1741 [==============================] - 2s 1ms/step\n",
      "Loss train: 35.934112548828125, MSE: 2.3098202101738802e-08, MAPE: 13515.472952026299\n",
      "===  72 35.934112548828125 2.3098202101738802e-08 13515.472952026299\n"
     ]
    },
    {
     "name": "stderr",
     "output_type": "stream",
     "text": [
      "100%|██████████████████████████████████████████████████████████████████████████████| 1680/1680 [00:40<00:00, 41.64it/s]\n"
     ]
    },
    {
     "name": "stdout",
     "output_type": "stream",
     "text": [
      "Learning\n",
      "10/10 [==============================] - 0s 3ms/step - loss: 45.6961 - mse: 0.1417\n",
      "Testing\n",
      "1741/1741 [==============================] - 2s 1ms/step\n",
      "Loss train: 45.69610595703125, MSE: 2.2148707230220837e-08, MAPE: 11622.25454965342\n",
      "===  73 45.69610595703125 2.2148707230220837e-08 11622.25454965342\n"
     ]
    },
    {
     "name": "stderr",
     "output_type": "stream",
     "text": [
      "100%|██████████████████████████████████████████████████████████████████████████████| 1680/1680 [00:39<00:00, 42.44it/s]\n"
     ]
    },
    {
     "name": "stdout",
     "output_type": "stream",
     "text": [
      "Learning\n",
      "10/10 [==============================] - 0s 3ms/step - loss: 39.6266 - mse: 0.1529\n",
      "Testing\n",
      "1741/1741 [==============================] - 2s 1ms/step\n",
      "Loss train: 39.6265869140625, MSE: 2.2790548970912e-08, MAPE: 14196.818564950012\n",
      "===  74 39.6265869140625 2.2790548970912e-08 14196.818564950012\n"
     ]
    },
    {
     "name": "stderr",
     "output_type": "stream",
     "text": [
      "100%|██████████████████████████████████████████████████████████████████████████████| 1680/1680 [00:40<00:00, 41.54it/s]\n"
     ]
    },
    {
     "name": "stdout",
     "output_type": "stream",
     "text": [
      "Learning\n",
      "10/10 [==============================] - 0s 3ms/step - loss: 42.5485 - mse: 0.1570\n",
      "Testing\n",
      "1741/1741 [==============================] - 2s 1ms/step\n",
      "Loss train: 42.54854202270508, MSE: 1.9721199413246582e-08, MAPE: 9490.148983807374\n",
      "===  75 42.54854202270508 1.9721199413246582e-08 9490.148983807374\n"
     ]
    },
    {
     "name": "stderr",
     "output_type": "stream",
     "text": [
      "100%|██████████████████████████████████████████████████████████████████████████████| 1680/1680 [00:39<00:00, 42.24it/s]\n"
     ]
    },
    {
     "name": "stdout",
     "output_type": "stream",
     "text": [
      "Learning\n",
      "10/10 [==============================] - 0s 3ms/step - loss: 47.8021 - mse: 0.2443\n",
      "Testing\n",
      "1741/1741 [==============================] - 2s 1ms/step\n",
      "Loss train: 47.802085876464844, MSE: 1.8612157791529908e-08, MAPE: 7454.6292945881705\n",
      "===  76 47.802085876464844 1.8612157791529908e-08 7454.6292945881705\n"
     ]
    },
    {
     "name": "stderr",
     "output_type": "stream",
     "text": [
      "100%|██████████████████████████████████████████████████████████████████████████████| 1680/1680 [00:40<00:00, 41.84it/s]\n"
     ]
    },
    {
     "name": "stdout",
     "output_type": "stream",
     "text": [
      "Learning\n",
      "10/10 [==============================] - 0s 3ms/step - loss: 35.2383 - mse: 0.1155\n",
      "Testing\n",
      "1741/1741 [==============================] - 2s 1ms/step\n",
      "Loss train: 35.23826217651367, MSE: 2.5337241704832812e-08, MAPE: 13992.606586793816\n",
      "===  77 35.23826217651367 2.5337241704832812e-08 13992.606586793816\n"
     ]
    },
    {
     "name": "stderr",
     "output_type": "stream",
     "text": [
      "100%|██████████████████████████████████████████████████████████████████████████████| 1680/1680 [00:40<00:00, 41.61it/s]\n"
     ]
    },
    {
     "name": "stdout",
     "output_type": "stream",
     "text": [
      "Learning\n",
      "10/10 [==============================] - 0s 3ms/step - loss: 40.3363 - mse: 0.1370\n",
      "Testing\n",
      "1741/1741 [==============================] - 2s 1ms/step\n",
      "Loss train: 40.33633804321289, MSE: 2.6719181265319095e-08, MAPE: 17980.86162401215\n",
      "===  78 40.33633804321289 2.6719181265319095e-08 17980.86162401215\n"
     ]
    },
    {
     "name": "stderr",
     "output_type": "stream",
     "text": [
      "100%|██████████████████████████████████████████████████████████████████████████████| 1680/1680 [00:47<00:00, 35.68it/s]\n"
     ]
    },
    {
     "name": "stdout",
     "output_type": "stream",
     "text": [
      "Learning\n",
      "10/10 [==============================] - 0s 3ms/step - loss: 44.0419 - mse: 0.1247\n",
      "Testing\n",
      "1741/1741 [==============================] - 3s 2ms/step\n",
      "Loss train: 44.041893005371094, MSE: 2.4282845004733144e-08, MAPE: 14840.892941740049\n",
      "===  79 44.041893005371094 2.4282845004733144e-08 14840.892941740049\n"
     ]
    },
    {
     "name": "stderr",
     "output_type": "stream",
     "text": [
      "100%|██████████████████████████████████████████████████████████████████████████████| 1680/1680 [00:41<00:00, 40.33it/s]\n"
     ]
    },
    {
     "name": "stdout",
     "output_type": "stream",
     "text": [
      "Learning\n",
      "10/10 [==============================] - 0s 3ms/step - loss: 41.5395 - mse: 0.1239\n",
      "Testing\n",
      "1741/1741 [==============================] - 2s 1ms/step\n",
      "Loss train: 41.539512634277344, MSE: 2.534968546709382e-08, MAPE: 16601.291593303402\n",
      "===  80 41.539512634277344 2.534968546709382e-08 16601.291593303402\n",
      "[(170.35264587402344, [7e-07, 9e-07]), (147.65347290039062, [6e-07, 7e-07]), (80.82366943359375, [7e-07, 8e-07]), (72.10377502441406, [8e-07, 1e-06]), (67.24734497070312, [6e-07, 3e-07]), (59.15901184082031, [3e-07, 3e-07]), (56.034088134765625, [5e-07, 5e-07]), (55.140140533447266, [6e-07, 8e-07]), (53.06486129760742, [3e-07, 9e-07]), (48.391807556152344, [4e-07, 4e-07]), (47.802085876464844, [1e-06, 6e-07]), (47.14344024658203, [6e-07, 9e-07]), (47.04228210449219, [5e-07, 6e-07]), (46.78850173950195, [8e-07, 6e-07]), (46.536216735839844, [9e-07, 1e-06]), (46.47719192504883, [4e-07, 9e-07]), (46.3256721496582, [2e-07, 4e-07]), (46.18567657470703, [9e-07, 3e-07]), (45.69610595703125, [1e-06, 3e-07]), (45.02873229980469, [9e-07, 5e-07]), (44.041893005371094, [1e-06, 9e-07]), (43.76926803588867, [7e-07, 5e-07]), (43.741180419921875, [4e-07, 6e-07]), (43.49531173706055, [4e-07, 5e-07]), (43.210731506347656, [3e-07, 6e-07]), (43.052005767822266, [6e-07, 6e-07]), (42.968631744384766, [7e-07, 7e-07]), (42.8856086730957, [6e-07, 1e-06]), (42.84372329711914, [8e-07, 4e-07]), (42.81801223754883, [7e-07, 4e-07]), (42.72040939331055, [4e-07, 2e-07]), (42.54854202270508, [1e-06, 5e-07]), (42.160179138183594, [3e-07, 7e-07]), (42.07392120361328, [8e-07, 8e-07]), (41.756378173828125, [6e-07, 4e-07]), (41.6511116027832, [5e-07, 8e-07]), (41.539512634277344, [1e-06, 1e-06]), (41.53593444824219, [8e-07, 9e-07]), (41.08087921142578, [8e-07, 7e-07]), (41.02260971069336, [4e-07, 8e-07]), (40.80354309082031, [3e-07, 5e-07]), (40.33633804321289, [1e-06, 8e-07]), (40.330841064453125, [3e-07, 8e-07]), (40.2541389465332, [4e-07, 7e-07]), (40.25252151489258, [9e-07, 6e-07]), (39.988033294677734, [7e-07, 1e-06]), (39.82673645019531, [5e-07, 4e-07]), (39.758216857910156, [5e-07, 7e-07]), (39.687705993652344, [2e-07, 9e-07]), (39.6265869140625, [1e-06, 4e-07]), (39.604400634765625, [4e-07, 1e-06]), (39.50419616699219, [2e-07, 2e-07]), (39.3035774230957, [8e-07, 2e-07]), (38.89735794067383, [5e-07, 9e-07]), (38.879150390625, [3e-07, 2e-07]), (38.85642623901367, [6e-07, 2e-07]), (38.76259994506836, [3e-07, 1e-06]), (38.66783142089844, [8e-07, 5e-07]), (38.667057037353516, [4e-07, 3e-07]), (38.49879837036133, [9e-07, 7e-07]), (38.34842300415039, [8e-07, 3e-07]), (38.254150390625, [6e-07, 5e-07]), (38.15439224243164, [2e-07, 1e-06]), (38.144203186035156, [5e-07, 1e-06]), (37.51716995239258, [7e-07, 2e-07]), (37.46194839477539, [2e-07, 5e-07]), (37.31608963012695, [7e-07, 3e-07]), (37.24673843383789, [3e-07, 4e-07]), (36.53342056274414, [7e-07, 6e-07]), (36.29901123046875, [2e-07, 7e-07]), (35.934112548828125, [1e-06, 2e-07]), (35.79798889160156, [9e-07, 9e-07]), (35.74628829956055, [9e-07, 8e-07]), (35.72370910644531, [5e-07, 2e-07]), (35.69951248168945, [2e-07, 3e-07]), (35.61845397949219, [9e-07, 2e-07]), (35.50844192504883, [9e-07, 4e-07]), (35.41985321044922, [2e-07, 6e-07]), (35.30680847167969, [5e-07, 3e-07]), (35.23826217651367, [1e-06, 7e-07]), (34.37303161621094, [2e-07, 8e-07])]\n"
     ]
    },
    {
     "name": "stderr",
     "output_type": "stream",
     "text": [
      "100%|██████████████████████████████████████████████████████████████████████████████| 1596/1596 [00:39<00:00, 40.73it/s]\n"
     ]
    },
    {
     "name": "stdout",
     "output_type": "stream",
     "text": [
      "Learning\n",
      "9/9 [==============================] - 0s 3ms/step - loss: 34.5553 - mse: 0.1146\n",
      "Testing\n",
      "17403/17403 [==============================] - 31s 2ms/step\n",
      "Loss train: 34.55529022216797, MSE: 3.2722646207807014e-08, MAPE: 26768.11809089432\n"
     ]
    },
    {
     "ename": "TypeError",
     "evalue": "scatter() missing 1 required positional argument: 'y'",
     "output_type": "error",
     "traceback": [
      "\u001b[1;31m---------------------------------------------------------------------------\u001b[0m",
      "\u001b[1;31mTypeError\u001b[0m                                 Traceback (most recent call last)",
      "Cell \u001b[1;32mIn [22], line 36\u001b[0m\n\u001b[0;32m     33\u001b[0m history\u001b[38;5;241m.\u001b[39mappend([loss, mse, mape])\n\u001b[0;32m     35\u001b[0m ax\u001b[38;5;241m.\u001b[39mclear()\n\u001b[1;32m---> 36\u001b[0m \u001b[43max\u001b[49m\u001b[38;5;241;43m.\u001b[39;49m\u001b[43mscatter\u001b[49m\u001b[43m(\u001b[49m\u001b[43mlist_of_fet\u001b[49m\u001b[43m)\u001b[49m\n\u001b[0;32m     37\u001b[0m fig\u001b[38;5;241m.\u001b[39mcanvas\u001b[38;5;241m.\u001b[39mdraw()\n",
      "File \u001b[1;32m~\\anaconda3\\envs\\pythonProject\\lib\\site-packages\\matplotlib\\__init__.py:1412\u001b[0m, in \u001b[0;36m_preprocess_data.<locals>.inner\u001b[1;34m(ax, data, *args, **kwargs)\u001b[0m\n\u001b[0;32m   1409\u001b[0m \u001b[38;5;129m@functools\u001b[39m\u001b[38;5;241m.\u001b[39mwraps(func)\n\u001b[0;32m   1410\u001b[0m \u001b[38;5;28;01mdef\u001b[39;00m \u001b[38;5;21minner\u001b[39m(ax, \u001b[38;5;241m*\u001b[39margs, data\u001b[38;5;241m=\u001b[39m\u001b[38;5;28;01mNone\u001b[39;00m, \u001b[38;5;241m*\u001b[39m\u001b[38;5;241m*\u001b[39mkwargs):\n\u001b[0;32m   1411\u001b[0m     \u001b[38;5;28;01mif\u001b[39;00m data \u001b[38;5;129;01mis\u001b[39;00m \u001b[38;5;28;01mNone\u001b[39;00m:\n\u001b[1;32m-> 1412\u001b[0m         \u001b[38;5;28;01mreturn\u001b[39;00m func(ax, \u001b[38;5;241m*\u001b[39m\u001b[38;5;28mmap\u001b[39m(sanitize_sequence, args), \u001b[38;5;241m*\u001b[39m\u001b[38;5;241m*\u001b[39mkwargs)\n\u001b[0;32m   1414\u001b[0m     bound \u001b[38;5;241m=\u001b[39m new_sig\u001b[38;5;241m.\u001b[39mbind(ax, \u001b[38;5;241m*\u001b[39margs, \u001b[38;5;241m*\u001b[39m\u001b[38;5;241m*\u001b[39mkwargs)\n\u001b[0;32m   1415\u001b[0m     auto_label \u001b[38;5;241m=\u001b[39m (bound\u001b[38;5;241m.\u001b[39marguments\u001b[38;5;241m.\u001b[39mget(label_namer)\n\u001b[0;32m   1416\u001b[0m                   \u001b[38;5;129;01mor\u001b[39;00m bound\u001b[38;5;241m.\u001b[39mkwargs\u001b[38;5;241m.\u001b[39mget(label_namer))\n",
      "\u001b[1;31mTypeError\u001b[0m: scatter() missing 1 required positional argument: 'y'"
     ]
    },
    {
     "data": {
      "image/png": "[encoded data removed]",
      "text/plain": [
       "<Figure size 500x500 with 1 Axes>"
      ]
     },
     "metadata": {},
     "output_type": "display_data"
    }
   ],
   "source": [
    "list_of_fet = list(list_of_fet)\n",
    "history = []\n",
    "history1 = []\n",
    "\n",
    "loss, mse, mape = train_and_test(list_of_fet)\n",
    "history.append([loss, mse, mape])\n",
    "\n",
    "fig, ax = plt.subplots(figsize=(5,5))\n",
    "\n",
    "for _ in range(1):\n",
    "    matrix = []\n",
    "    \n",
    "    for i in range(len(list_of_fet)):\n",
    "        lst = list_of_fet.copy()\n",
    "        fet = lst.pop(i)\n",
    "        \n",
    "        loss, mse, mape = train_and_test(lst, 100, 0.1)\n",
    "        print('=== ', i, loss, mse, mape)\n",
    "        \n",
    "        matrix.append((loss, fet))\n",
    "    \n",
    "        \n",
    "    history1.append((fet, loss, mse, mape))\n",
    "    matrix.sort(key=lambda x: -x[0])\n",
    "    print(matrix)\n",
    "    matrix = matrix[5:]\n",
    "    \n",
    "    list_of_fet = []\n",
    "    for _, x in matrix:\n",
    "        list_of_fet.append(x)\n",
    "        \n",
    "    loss, mse, mape = train_and_test(list_of_fet)\n",
    "    history.append([loss, mse, mape])\n",
    "        \n",
    "    ax.clear()\n",
    "    ax.scatter(list_of_fet)\n",
    "    fig.canvas.draw()"
   ]
  },
  {
   "cell_type": "code",
   "execution_count": 23,
   "id": "4b96fb75",
   "metadata": {},
   "outputs": [
    {
     "data": {
      "text/plain": [
       "[[30.786907196044922, 3.4646265536654856e-08, 27573.298936445808],\n",
       " [34.55529022216797, 3.2722646207807014e-08, 26768.11809089432]]"
      ]
     },
     "execution_count": 23,
     "metadata": {},
     "output_type": "execute_result"
    }
   ],
   "source": [
    "history"
   ]
  },
  {
   "cell_type": "code",
   "execution_count": 16,
   "id": "3f1cfdcf",
   "metadata": {},
   "outputs": [],
   "source": [
    "# history = [[30.786907196044922, 3.4646265536654856e-08, 27573.298936445808],\n",
    "#  [34.55529022216797, 3.2722646207807014e-08, 26768.11809089432]]"
   ]
  },
  {
   "cell_type": "code",
   "execution_count": 24,
   "id": "cb54c2e3",
   "metadata": {},
   "outputs": [
    {
     "data": {
      "text/plain": [
       "[([1e-06, 1e-06],\n",
       "  41.539512634277344,\n",
       "  2.534968546709382e-08,\n",
       "  16601.291593303402)]"
      ]
     },
     "execution_count": 24,
     "metadata": {},
     "output_type": "execute_result"
    }
   ],
   "source": [
    "history1"
   ]
  },
  {
   "cell_type": "code",
   "execution_count": 17,
   "id": "4070457b",
   "metadata": {},
   "outputs": [],
   "source": [
    "# history1 = [([1e-06, 1e-06],\n",
    "#   41.539512634277344,\n",
    "#   2.534968546709382e-08,\n",
    "#   16601.291593303402)]"
   ]
  },
  {
   "cell_type": "code",
   "execution_count": 35,
   "id": "bc06d8c5",
   "metadata": {},
   "outputs": [],
   "source": [
    "# list_of_fet = [[4e-07, 4e-07], [3e-07, 3e-07], [6e-07, 8e-07], [5e-07, 5e-07], [8e-07, 9e-07], [6e-07, 6e-07], [9e-07, 1e-06], [7e-07, 1e-06], [4e-07, 5e-07], [6e-07, 9e-07], [8e-07, 8e-07], [5e-07, 7e-07], [5e-07, 4e-07], [7e-07, 7e-07], [3e-07, 4e-07], [6e-07, 1e-06], [4e-07, 6e-07], [4e-07, 8e-07], [9e-07, 9e-07], [1e-06, 1e-06], [5e-07, 9e-07], [3e-07, 5e-07], [4e-07, 7e-07], [7e-07, 6e-07], [6e-07, 4e-07], [9e-07, 7e-07], [1e-06, 8e-07], [5e-07, 8e-07], [6e-07, 5e-07], [8e-07, 7e-07], [2e-07, 2e-07], [3e-07, 7e-07], [9e-07, 8e-07], [2e-07, 9e-07], [1e-06, 9e-07], [4e-07, 1e-06], [8e-07, 6e-07], [3e-07, 9e-07], [3e-07, 1e-06], [5e-07, 1e-06], [4e-07, 9e-07], [7e-07, 5e-07], [9e-07, 5e-07], [1e-06, 7e-07], [3e-07, 2e-07], [8e-07, 5e-07], [4e-07, 3e-07], [6e-07, 2e-07], [3e-07, 6e-07], [3e-07, 8e-07], [1e-06, 5e-07], [7e-07, 4e-07], [2e-07, 3e-07], [2e-07, 6e-07], [9e-07, 6e-07], [1e-06, 4e-07], [1e-06, 6e-07], [1e-06, 2e-07], [2e-07, 4e-07], [2e-07, 7e-07], [5e-07, 3e-07], [6e-07, 3e-07], [2e-07, 5e-07], [4e-07, 2e-07], [9e-07, 4e-07], [1e-06, 3e-07], [8e-07, 4e-07], [2e-07, 8e-07], [8e-07, 3e-07], [7e-07, 3e-07], [5e-07, 2e-07], [8e-07, 2e-07], [7e-07, 2e-07], [9e-07, 3e-07], [9e-07, 2e-07], [2e-07, 1e-06]]"
   ]
  },
  {
   "cell_type": "code",
   "execution_count": 26,
   "id": "a9b58d0d",
   "metadata": {},
   "outputs": [
    {
     "data": {
      "text/plain": [
       "<matplotlib.collections.PathCollection at 0x29541205910>"
      ]
     },
     "execution_count": 26,
     "metadata": {},
     "output_type": "execute_result"
    },
    {
     "data": {
      "image/png": "[encoded data removed]",
      "text/plain": [
       "<Figure size 640x480 with 1 Axes>"
      ]
     },
     "metadata": {},
     "output_type": "display_data"
    }
   ],
   "source": [
    "list_of_fet = np.array(list_of_fet)\n",
    "\n",
    "plt.scatter(list_of_fet[:, 0], list_of_fet[:, 1])"
   ]
  },
  {
   "cell_type": "code",
   "execution_count": 27,
   "id": "8b38e19c",
   "metadata": {},
   "outputs": [
    {
     "name": "stderr",
     "output_type": "stream",
     "text": [
      "100%|██████████████████████████████████████████████████████████████████████████████| 1575/1575 [00:39<00:00, 39.39it/s]\n"
     ]
    },
    {
     "name": "stdout",
     "output_type": "stream",
     "text": [
      "Learning\n",
      "9/9 [==============================] - 0s 4ms/step - loss: 39.6442 - mse: 0.1197\n",
      "Testing\n",
      "1741/1741 [==============================] - 3s 2ms/step\n",
      "Loss train: 39.64423370361328, MSE: 2.3825442873003178e-08, MAPE: 12780.657246112281\n",
      "0 39.64423370361328 2.3825442873003178e-08 12780.657246112281\n"
     ]
    },
    {
     "name": "stderr",
     "output_type": "stream",
     "text": [
      "100%|██████████████████████████████████████████████████████████████████████████████| 1575/1575 [00:40<00:00, 39.26it/s]\n"
     ]
    },
    {
     "name": "stdout",
     "output_type": "stream",
     "text": [
      "Learning\n",
      "9/9 [==============================] - 0s 4ms/step - loss: 43.4581 - mse: 0.1753\n",
      "Testing\n",
      "1741/1741 [==============================] - 3s 2ms/step\n",
      "Loss train: 43.45805740356445, MSE: 2.357896858250105e-08, MAPE: 12261.272243705416\n",
      "1 43.45805740356445 2.357896858250105e-08 12261.272243705416\n"
     ]
    },
    {
     "name": "stderr",
     "output_type": "stream",
     "text": [
      "100%|██████████████████████████████████████████████████████████████████████████████| 1575/1575 [00:41<00:00, 38.13it/s]\n"
     ]
    },
    {
     "name": "stdout",
     "output_type": "stream",
     "text": [
      "Learning\n",
      "9/9 [==============================] - 0s 3ms/step - loss: 46.9709 - mse: 0.1112\n",
      "Testing\n",
      "1741/1741 [==============================] - 3s 2ms/step\n",
      "Loss train: 46.97091293334961, MSE: 2.6599622167992417e-08, MAPE: 20052.466319010215\n",
      "2 46.97091293334961 2.6599622167992417e-08 20052.466319010215\n"
     ]
    },
    {
     "name": "stderr",
     "output_type": "stream",
     "text": [
      "100%|██████████████████████████████████████████████████████████████████████████████| 1575/1575 [00:42<00:00, 36.94it/s]\n"
     ]
    },
    {
     "name": "stdout",
     "output_type": "stream",
     "text": [
      "Learning\n",
      "9/9 [==============================] - 0s 3ms/step - loss: 39.8185 - mse: 0.1176\n",
      "Testing\n",
      "1741/1741 [==============================] - 3s 2ms/step\n",
      "Loss train: 39.81853103637695, MSE: 2.6640351713379412e-08, MAPE: 18462.195080741247\n",
      "3 39.81853103637695 2.6640351713379412e-08 18462.195080741247\n"
     ]
    },
    {
     "name": "stderr",
     "output_type": "stream",
     "text": [
      "100%|██████████████████████████████████████████████████████████████████████████████| 1575/1575 [00:42<00:00, 36.63it/s]\n"
     ]
    },
    {
     "name": "stdout",
     "output_type": "stream",
     "text": [
      "Learning\n",
      "9/9 [==============================] - 0s 4ms/step - loss: 41.1837 - mse: 0.1154\n",
      "Testing\n",
      "1741/1741 [==============================] - 3s 2ms/step\n",
      "Loss train: 41.183650970458984, MSE: 2.5559324985068396e-08, MAPE: 16363.759984371121\n",
      "4 41.183650970458984 2.5559324985068396e-08 16363.759984371121\n"
     ]
    },
    {
     "name": "stderr",
     "output_type": "stream",
     "text": [
      "100%|██████████████████████████████████████████████████████████████████████████████| 1575/1575 [00:42<00:00, 37.13it/s]\n"
     ]
    },
    {
     "name": "stdout",
     "output_type": "stream",
     "text": [
      "Learning\n",
      "9/9 [==============================] - 0s 4ms/step - loss: 47.5120 - mse: 0.1090\n",
      "Testing\n",
      "1741/1741 [==============================] - 3s 2ms/step\n",
      "Loss train: 47.51203918457031, MSE: 2.8114596507677364e-08, MAPE: 21374.67843624683\n",
      "5 47.51203918457031 2.8114596507677364e-08 21374.67843624683\n"
     ]
    },
    {
     "name": "stderr",
     "output_type": "stream",
     "text": [
      "100%|██████████████████████████████████████████████████████████████████████████████| 1575/1575 [00:41<00:00, 37.62it/s]\n"
     ]
    },
    {
     "name": "stdout",
     "output_type": "stream",
     "text": [
      "Learning\n",
      "9/9 [==============================] - 0s 4ms/step - loss: 45.9783 - mse: 0.1145\n",
      "Testing\n",
      "1741/1741 [==============================] - 3s 2ms/step\n",
      "Loss train: 45.97825622558594, MSE: 2.7126876121546775e-08, MAPE: 19552.64391579558\n",
      "6 45.97825622558594 2.7126876121546775e-08 19552.64391579558\n"
     ]
    },
    {
     "name": "stderr",
     "output_type": "stream",
     "text": [
      "100%|██████████████████████████████████████████████████████████████████████████████| 1575/1575 [00:40<00:00, 39.16it/s]\n"
     ]
    },
    {
     "name": "stdout",
     "output_type": "stream",
     "text": [
      "Learning\n",
      "9/9 [==============================] - 0s 3ms/step - loss: 41.6614 - mse: 0.1178\n",
      "Testing\n",
      "1741/1741 [==============================] - 3s 2ms/step\n",
      "Loss train: 41.66139602661133, MSE: 2.685239522430362e-08, MAPE: 19947.40058645806\n",
      "7 41.66139602661133 2.685239522430362e-08 19947.40058645806\n"
     ]
    },
    {
     "name": "stderr",
     "output_type": "stream",
     "text": [
      "100%|██████████████████████████████████████████████████████████████████████████████| 1575/1575 [00:40<00:00, 39.33it/s]\n"
     ]
    },
    {
     "name": "stdout",
     "output_type": "stream",
     "text": [
      "Learning\n",
      "9/9 [==============================] - 0s 4ms/step - loss: 37.6382 - mse: 0.1195\n",
      "Testing\n",
      "1741/1741 [==============================] - 3s 2ms/step\n",
      "Loss train: 37.638221740722656, MSE: 3.0188517344050074e-08, MAPE: 22348.75945679695\n",
      "8 37.638221740722656 3.0188517344050074e-08 22348.75945679695\n"
     ]
    },
    {
     "name": "stderr",
     "output_type": "stream",
     "text": [
      "100%|██████████████████████████████████████████████████████████████████████████████| 1575/1575 [00:40<00:00, 38.90it/s]\n"
     ]
    },
    {
     "name": "stdout",
     "output_type": "stream",
     "text": [
      "Learning\n",
      "9/9 [==============================] - 0s 3ms/step - loss: 39.2439 - mse: 0.1319\n",
      "Testing\n",
      "1741/1741 [==============================] - 3s 2ms/step\n",
      "Loss train: 39.243919372558594, MSE: 1.857205825050675e-08, MAPE: 4905.243249968325\n",
      "9 39.243919372558594 1.857205825050675e-08 4905.243249968325\n"
     ]
    },
    {
     "name": "stderr",
     "output_type": "stream",
     "text": [
      "100%|██████████████████████████████████████████████████████████████████████████████| 1575/1575 [00:40<00:00, 38.84it/s]\n"
     ]
    },
    {
     "name": "stdout",
     "output_type": "stream",
     "text": [
      "Learning\n",
      "9/9 [==============================] - 0s 3ms/step - loss: 47.9058 - mse: 0.1121\n",
      "Testing\n",
      "1741/1741 [==============================] - 3s 2ms/step\n",
      "Loss train: 47.905826568603516, MSE: 3.04477886923351e-08, MAPE: 22435.31321040125\n",
      "10 47.905826568603516 3.04477886923351e-08 22435.31321040125\n"
     ]
    },
    {
     "name": "stderr",
     "output_type": "stream",
     "text": [
      "100%|██████████████████████████████████████████████████████████████████████████████| 1575/1575 [00:40<00:00, 38.94it/s]\n"
     ]
    },
    {
     "name": "stdout",
     "output_type": "stream",
     "text": [
      "Learning\n",
      "9/9 [==============================] - 0s 3ms/step - loss: 51.8708 - mse: 0.1092\n",
      "Testing\n",
      "1741/1741 [==============================] - 3s 2ms/step\n",
      "Loss train: 51.87077331542969, MSE: 2.8413617647543426e-08, MAPE: 21166.124295974936\n",
      "11 51.87077331542969 2.8413617647543426e-08 21166.124295974936\n"
     ]
    },
    {
     "name": "stderr",
     "output_type": "stream",
     "text": [
      "100%|██████████████████████████████████████████████████████████████████████████████| 1575/1575 [00:40<00:00, 38.91it/s]\n"
     ]
    },
    {
     "name": "stdout",
     "output_type": "stream",
     "text": [
      "Learning\n",
      "9/9 [==============================] - 0s 3ms/step - loss: 44.5784 - mse: 0.1240\n",
      "Testing\n",
      "1741/1741 [==============================] - 3s 2ms/step\n",
      "Loss train: 44.5783805847168, MSE: 2.4640535675358734e-08, MAPE: 17121.51482070969\n",
      "12 44.5783805847168 2.4640535675358734e-08 17121.51482070969\n"
     ]
    },
    {
     "name": "stderr",
     "output_type": "stream",
     "text": [
      "100%|██████████████████████████████████████████████████████████████████████████████| 1575/1575 [00:41<00:00, 37.79it/s]\n"
     ]
    },
    {
     "name": "stdout",
     "output_type": "stream",
     "text": [
      "Learning\n",
      "9/9 [==============================] - 0s 3ms/step - loss: 43.4218 - mse: 0.1315\n",
      "Testing\n",
      "1741/1741 [==============================] - 3s 2ms/step\n",
      "Loss train: 43.4217643737793, MSE: 2.333098172394006e-08, MAPE: 11764.764222992324\n",
      "13 43.4217643737793 2.333098172394006e-08 11764.764222992324\n"
     ]
    },
    {
     "name": "stderr",
     "output_type": "stream",
     "text": [
      "100%|██████████████████████████████████████████████████████████████████████████████| 1575/1575 [00:40<00:00, 38.61it/s]\n"
     ]
    },
    {
     "name": "stdout",
     "output_type": "stream",
     "text": [
      "Learning\n",
      "9/9 [==============================] - 0s 4ms/step - loss: 51.2710 - mse: 0.1107\n",
      "Testing\n",
      "1741/1741 [==============================] - 3s 2ms/step\n",
      "Loss train: 51.270973205566406, MSE: 2.7239051111050085e-08, MAPE: 20182.926996459944\n",
      "14 51.270973205566406 2.7239051111050085e-08 20182.926996459944\n"
     ]
    },
    {
     "name": "stderr",
     "output_type": "stream",
     "text": [
      "100%|██████████████████████████████████████████████████████████████████████████████| 1575/1575 [00:41<00:00, 38.40it/s]\n"
     ]
    },
    {
     "name": "stdout",
     "output_type": "stream",
     "text": [
      "Learning\n",
      "9/9 [==============================] - 0s 4ms/step - loss: 38.1967 - mse: 0.1170\n",
      "Testing\n",
      "1741/1741 [==============================] - 3s 2ms/step\n",
      "Loss train: 38.196746826171875, MSE: 2.6021458066199975e-08, MAPE: 18328.932203140135\n",
      "15 38.196746826171875 2.6021458066199975e-08 18328.932203140135\n"
     ]
    },
    {
     "name": "stderr",
     "output_type": "stream",
     "text": [
      "100%|██████████████████████████████████████████████████████████████████████████████| 1575/1575 [00:41<00:00, 38.31it/s]\n"
     ]
    },
    {
     "name": "stdout",
     "output_type": "stream",
     "text": [
      "Learning\n",
      "9/9 [==============================] - 0s 3ms/step - loss: 39.0345 - mse: 0.1313\n",
      "Testing\n",
      "1741/1741 [==============================] - 3s 2ms/step\n",
      "Loss train: 39.034454345703125, MSE: 2.6362682742834726e-08, MAPE: 18235.648570225836\n",
      "16 39.034454345703125 2.6362682742834726e-08 18235.648570225836\n"
     ]
    },
    {
     "name": "stderr",
     "output_type": "stream",
     "text": [
      "100%|██████████████████████████████████████████████████████████████████████████████| 1575/1575 [00:41<00:00, 38.17it/s]\n"
     ]
    },
    {
     "name": "stdout",
     "output_type": "stream",
     "text": [
      "Learning\n",
      "9/9 [==============================] - 0s 3ms/step - loss: 52.1489 - mse: 0.1114\n",
      "Testing\n",
      "1741/1741 [==============================] - 3s 2ms/step\n",
      "Loss train: 52.14888000488281, MSE: 2.9390918564368876e-08, MAPE: 20683.75538770232\n",
      "17 52.14888000488281 2.9390918564368876e-08 20683.75538770232\n"
     ]
    },
    {
     "name": "stderr",
     "output_type": "stream",
     "text": [
      "100%|██████████████████████████████████████████████████████████████████████████████| 1575/1575 [00:41<00:00, 38.02it/s]\n"
     ]
    },
    {
     "name": "stdout",
     "output_type": "stream",
     "text": [
      "Learning\n",
      "9/9 [==============================] - 0s 3ms/step - loss: 53.3946 - mse: 0.1225\n",
      "Testing\n",
      "1741/1741 [==============================] - 3s 2ms/step\n",
      "Loss train: 53.394622802734375, MSE: 2.9521613156227713e-08, MAPE: 23859.00307297777\n",
      "18 53.394622802734375 2.9521613156227713e-08 23859.00307297777\n"
     ]
    },
    {
     "name": "stderr",
     "output_type": "stream",
     "text": [
      "100%|██████████████████████████████████████████████████████████████████████████████| 1575/1575 [00:41<00:00, 37.88it/s]\n"
     ]
    },
    {
     "name": "stdout",
     "output_type": "stream",
     "text": [
      "Learning\n",
      "9/9 [==============================] - 0s 3ms/step - loss: 43.0649 - mse: 0.1242\n",
      "Testing\n",
      "1741/1741 [==============================] - 3s 2ms/step\n",
      "Loss train: 43.064918518066406, MSE: 3.023684874676477e-08, MAPE: 22502.63442428813\n",
      "19 43.064918518066406 3.023684874676477e-08 22502.63442428813\n"
     ]
    },
    {
     "name": "stderr",
     "output_type": "stream",
     "text": [
      "100%|██████████████████████████████████████████████████████████████████████████████| 1575/1575 [00:41<00:00, 37.86it/s]\n"
     ]
    },
    {
     "name": "stdout",
     "output_type": "stream",
     "text": [
      "Learning\n",
      "9/9 [==============================] - 0s 3ms/step - loss: 40.1795 - mse: 0.1348\n",
      "Testing\n",
      "1741/1741 [==============================] - 3s 2ms/step\n",
      "Loss train: 40.179542541503906, MSE: 2.181989421802259e-08, MAPE: 7511.464834926133\n",
      "20 40.179542541503906 2.181989421802259e-08 7511.464834926133\n"
     ]
    },
    {
     "name": "stderr",
     "output_type": "stream",
     "text": [
      "100%|██████████████████████████████████████████████████████████████████████████████| 1575/1575 [00:41<00:00, 37.64it/s]\n"
     ]
    },
    {
     "name": "stdout",
     "output_type": "stream",
     "text": [
      "Learning\n",
      "9/9 [==============================] - 0s 3ms/step - loss: 42.0366 - mse: 0.1176\n",
      "Testing\n",
      "1741/1741 [==============================] - 3s 2ms/step\n",
      "Loss train: 42.03661346435547, MSE: 2.381119178462149e-08, MAPE: 14137.396878398005\n",
      "21 42.03661346435547 2.381119178462149e-08 14137.396878398005\n"
     ]
    },
    {
     "name": "stderr",
     "output_type": "stream",
     "text": [
      "100%|██████████████████████████████████████████████████████████████████████████████| 1575/1575 [00:42<00:00, 37.38it/s]\n"
     ]
    },
    {
     "name": "stdout",
     "output_type": "stream",
     "text": [
      "Learning\n",
      "9/9 [==============================] - 0s 3ms/step - loss: 64.0792 - mse: 0.1120\n",
      "Testing\n",
      "1741/1741 [==============================] - 3s 2ms/step\n",
      "Loss train: 64.07923889160156, MSE: 2.786298317305652e-08, MAPE: 21064.077795995923\n",
      "22 64.07923889160156 2.786298317305652e-08 21064.077795995923\n"
     ]
    },
    {
     "name": "stderr",
     "output_type": "stream",
     "text": [
      "100%|██████████████████████████████████████████████████████████████████████████████| 1575/1575 [00:42<00:00, 37.24it/s]\n"
     ]
    },
    {
     "name": "stdout",
     "output_type": "stream",
     "text": [
      "Learning\n",
      "9/9 [==============================] - 0s 3ms/step - loss: 73.7374 - mse: 0.1151\n",
      "Testing\n",
      "1741/1741 [==============================] - 3s 2ms/step\n",
      "Loss train: 73.73738098144531, MSE: 2.6975326407538954e-08, MAPE: 19156.935541695966\n",
      "23 73.73738098144531 2.6975326407538954e-08 19156.935541695966\n"
     ]
    },
    {
     "name": "stderr",
     "output_type": "stream",
     "text": [
      "100%|██████████████████████████████████████████████████████████████████████████████| 1575/1575 [00:42<00:00, 37.16it/s]\n"
     ]
    },
    {
     "name": "stdout",
     "output_type": "stream",
     "text": [
      "Learning\n",
      "9/9 [==============================] - 0s 3ms/step - loss: 41.1290 - mse: 0.1116\n",
      "Testing\n",
      "1741/1741 [==============================] - 3s 2ms/step\n",
      "Loss train: 41.12898254394531, MSE: 2.8846156249258423e-08, MAPE: 22406.354234226714\n",
      "24 41.12898254394531 2.8846156249258423e-08 22406.354234226714\n"
     ]
    },
    {
     "name": "stderr",
     "output_type": "stream",
     "text": [
      "100%|██████████████████████████████████████████████████████████████████████████████| 1575/1575 [00:42<00:00, 37.00it/s]\n"
     ]
    },
    {
     "name": "stdout",
     "output_type": "stream",
     "text": [
      "Learning\n",
      "9/9 [==============================] - 0s 3ms/step - loss: 64.2733 - mse: 0.1146\n",
      "Testing\n",
      "1741/1741 [==============================] - 3s 2ms/step\n",
      "Loss train: 64.27334594726562, MSE: 2.851459840010849e-08, MAPE: 21589.665198015133\n",
      "25 64.27334594726562 2.851459840010849e-08 21589.665198015133\n"
     ]
    },
    {
     "name": "stderr",
     "output_type": "stream",
     "text": [
      "100%|██████████████████████████████████████████████████████████████████████████████| 1575/1575 [00:42<00:00, 36.93it/s]\n"
     ]
    },
    {
     "name": "stdout",
     "output_type": "stream",
     "text": [
      "Learning\n",
      "9/9 [==============================] - 0s 4ms/step - loss: 390.8933 - mse: 0.1108\n",
      "Testing\n",
      "1741/1741 [==============================] - 3s 2ms/step\n",
      "Loss train: 390.8932800292969, MSE: 3.0000292972012875e-08, MAPE: 22966.2359363413\n",
      "26 390.8932800292969 3.0000292972012875e-08 22966.2359363413\n"
     ]
    },
    {
     "name": "stderr",
     "output_type": "stream",
     "text": [
      "100%|██████████████████████████████████████████████████████████████████████████████| 1575/1575 [00:42<00:00, 37.30it/s]\n"
     ]
    },
    {
     "name": "stdout",
     "output_type": "stream",
     "text": [
      "Learning\n",
      "9/9 [==============================] - 0s 3ms/step - loss: 41.1511 - mse: 0.1156\n",
      "Testing\n",
      "1741/1741 [==============================] - 3s 2ms/step\n",
      "Loss train: 41.151058197021484, MSE: 2.7429712512214577e-08, MAPE: 19131.0880900524\n",
      "27 41.151058197021484 2.7429712512214577e-08 19131.0880900524\n"
     ]
    },
    {
     "name": "stderr",
     "output_type": "stream",
     "text": [
      "100%|██████████████████████████████████████████████████████████████████████████████| 1575/1575 [00:42<00:00, 37.08it/s]\n"
     ]
    },
    {
     "name": "stdout",
     "output_type": "stream",
     "text": [
      "Learning\n",
      "9/9 [==============================] - 0s 3ms/step - loss: 48.7261 - mse: 0.2154\n",
      "Testing\n",
      "1741/1741 [==============================] - 2s 1ms/step\n",
      "Loss train: 48.72608947753906, MSE: 2.3013800689416774e-08, MAPE: 14494.579710795035\n",
      "28 48.72608947753906 2.3013800689416774e-08 14494.579710795035\n"
     ]
    },
    {
     "name": "stderr",
     "output_type": "stream",
     "text": [
      "100%|██████████████████████████████████████████████████████████████████████████████| 1575/1575 [00:42<00:00, 36.81it/s]\n"
     ]
    },
    {
     "name": "stdout",
     "output_type": "stream",
     "text": [
      "Learning\n",
      "9/9 [==============================] - 0s 3ms/step - loss: 42.0747 - mse: 0.1156\n",
      "Testing\n",
      "1741/1741 [==============================] - 2s 1ms/step\n",
      "Loss train: 42.07472229003906, MSE: 2.6825701043051553e-08, MAPE: 19243.13745164521\n",
      "29 42.07472229003906 2.6825701043051553e-08 19243.13745164521\n"
     ]
    },
    {
     "name": "stderr",
     "output_type": "stream",
     "text": [
      "100%|██████████████████████████████████████████████████████████████████████████████| 1575/1575 [00:42<00:00, 36.87it/s]\n"
     ]
    },
    {
     "name": "stdout",
     "output_type": "stream",
     "text": [
      "Learning\n",
      "9/9 [==============================] - 0s 3ms/step - loss: 50.4995 - mse: 0.1204\n",
      "Testing\n",
      "1741/1741 [==============================] - 3s 2ms/step\n",
      "Loss train: 50.49953079223633, MSE: 2.994684798962947e-08, MAPE: 22096.305191104122\n",
      "30 50.49953079223633 2.994684798962947e-08 22096.305191104122\n"
     ]
    },
    {
     "name": "stderr",
     "output_type": "stream",
     "text": [
      "100%|██████████████████████████████████████████████████████████████████████████████| 1575/1575 [00:42<00:00, 36.71it/s]\n"
     ]
    },
    {
     "name": "stdout",
     "output_type": "stream",
     "text": [
      "Learning\n",
      "9/9 [==============================] - 0s 3ms/step - loss: 37.2846 - mse: 0.1263\n",
      "Testing\n",
      "1741/1741 [==============================] - 3s 2ms/step\n",
      "Loss train: 37.284610748291016, MSE: 2.6316016674308355e-08, MAPE: 18899.60990655253\n",
      "31 37.284610748291016 2.6316016674308355e-08 18899.60990655253\n"
     ]
    },
    {
     "name": "stderr",
     "output_type": "stream",
     "text": [
      "100%|██████████████████████████████████████████████████████████████████████████████| 1575/1575 [00:43<00:00, 36.29it/s]\n"
     ]
    },
    {
     "name": "stdout",
     "output_type": "stream",
     "text": [
      "Learning\n",
      "9/9 [==============================] - 0s 3ms/step - loss: 40.9751 - mse: 0.1313\n",
      "Testing\n",
      "1741/1741 [==============================] - 3s 2ms/step\n",
      "Loss train: 40.975059509277344, MSE: 2.127602014702355e-08, MAPE: 9804.135026024207\n",
      "32 40.975059509277344 2.127602014702355e-08 9804.135026024207\n"
     ]
    },
    {
     "name": "stderr",
     "output_type": "stream",
     "text": [
      "100%|██████████████████████████████████████████████████████████████████████████████| 1575/1575 [00:43<00:00, 36.08it/s]\n"
     ]
    },
    {
     "name": "stdout",
     "output_type": "stream",
     "text": [
      "Learning\n",
      "9/9 [==============================] - 0s 3ms/step - loss: 39.2452 - mse: 0.1255\n",
      "Testing\n",
      "1741/1741 [==============================] - 3s 2ms/step\n",
      "Loss train: 39.24516296386719, MSE: 2.56497967175429e-08, MAPE: 17690.178353635318\n",
      "33 39.24516296386719 2.56497967175429e-08 17690.178353635318\n"
     ]
    },
    {
     "name": "stderr",
     "output_type": "stream",
     "text": [
      "100%|██████████████████████████████████████████████████████████████████████████████| 1575/1575 [00:43<00:00, 36.17it/s]\n"
     ]
    },
    {
     "name": "stdout",
     "output_type": "stream",
     "text": [
      "Learning\n",
      "9/9 [==============================] - 0s 3ms/step - loss: 47.1441 - mse: 0.1180\n",
      "Testing\n",
      "1741/1741 [==============================] - 3s 2ms/step\n",
      "Loss train: 47.144142150878906, MSE: 2.975723174703098e-08, MAPE: 21863.17630469124\n",
      "34 47.144142150878906 2.975723174703098e-08 21863.17630469124\n"
     ]
    },
    {
     "name": "stderr",
     "output_type": "stream",
     "text": [
      "100%|██████████████████████████████████████████████████████████████████████████████| 1575/1575 [00:43<00:00, 35.88it/s]\n"
     ]
    },
    {
     "name": "stdout",
     "output_type": "stream",
     "text": [
      "Learning\n",
      "9/9 [==============================] - 0s 3ms/step - loss: 95.7438 - mse: 0.1123\n",
      "Testing\n",
      "1741/1741 [==============================] - 3s 2ms/step\n",
      "Loss train: 95.74378204345703, MSE: 2.6935647754815518e-08, MAPE: 19239.74659684062\n",
      "35 95.74378204345703 2.6935647754815518e-08 19239.74659684062\n"
     ]
    },
    {
     "name": "stderr",
     "output_type": "stream",
     "text": [
      "100%|██████████████████████████████████████████████████████████████████████████████| 1575/1575 [00:43<00:00, 35.97it/s]\n"
     ]
    },
    {
     "name": "stdout",
     "output_type": "stream",
     "text": [
      "Learning\n",
      "9/9 [==============================] - 0s 3ms/step - loss: 37.3357 - mse: 0.1294\n",
      "Testing\n",
      "1741/1741 [==============================] - 2s 1ms/step\n",
      "Loss train: 37.335731506347656, MSE: 2.906263484083721e-08, MAPE: 20402.300971396493\n",
      "36 37.335731506347656 2.906263484083721e-08 20402.300971396493\n"
     ]
    },
    {
     "name": "stderr",
     "output_type": "stream",
     "text": [
      "100%|██████████████████████████████████████████████████████████████████████████████| 1575/1575 [00:44<00:00, 35.51it/s]\n"
     ]
    },
    {
     "name": "stdout",
     "output_type": "stream",
     "text": [
      "Learning\n",
      "9/9 [==============================] - 0s 4ms/step - loss: 42.4023 - mse: 0.1118\n",
      "Testing\n",
      "1741/1741 [==============================] - 3s 2ms/step\n",
      "Loss train: 42.4023323059082, MSE: 2.6876944270779693e-08, MAPE: 19685.76011049466\n",
      "37 42.4023323059082 2.6876944270779693e-08 19685.76011049466\n"
     ]
    },
    {
     "name": "stderr",
     "output_type": "stream",
     "text": [
      "100%|██████████████████████████████████████████████████████████████████████████████| 1575/1575 [00:44<00:00, 35.02it/s]\n"
     ]
    },
    {
     "name": "stdout",
     "output_type": "stream",
     "text": [
      "Learning\n",
      "9/9 [==============================] - 0s 3ms/step - loss: 235.4647 - mse: 0.1148\n",
      "Testing\n",
      "1741/1741 [==============================] - 3s 2ms/step\n",
      "Loss train: 235.46470642089844, MSE: 2.762470537665414e-08, MAPE: 20343.222575431242\n",
      "38 235.46470642089844 2.762470537665414e-08 20343.222575431242\n"
     ]
    },
    {
     "name": "stderr",
     "output_type": "stream",
     "text": [
      "100%|██████████████████████████████████████████████████████████████████████████████| 1575/1575 [00:44<00:00, 35.12it/s]\n"
     ]
    },
    {
     "name": "stdout",
     "output_type": "stream",
     "text": [
      "Learning\n",
      "9/9 [==============================] - 0s 3ms/step - loss: 41.8611 - mse: 0.1114\n",
      "Testing\n",
      "1741/1741 [==============================] - 3s 2ms/step\n",
      "Loss train: 41.86110305786133, MSE: 3.06517152630476e-08, MAPE: 22726.16461049757\n",
      "39 41.86110305786133 3.06517152630476e-08 22726.16461049757\n"
     ]
    },
    {
     "name": "stderr",
     "output_type": "stream",
     "text": [
      "100%|██████████████████████████████████████████████████████████████████████████████| 1575/1575 [00:45<00:00, 34.66it/s]\n"
     ]
    },
    {
     "name": "stdout",
     "output_type": "stream",
     "text": [
      "Learning\n",
      "9/9 [==============================] - 0s 3ms/step - loss: 46.0387 - mse: 0.1167\n",
      "Testing\n",
      "1741/1741 [==============================] - 3s 2ms/step\n",
      "Loss train: 46.03872299194336, MSE: 2.5412534644793042e-08, MAPE: 17694.456089310162\n",
      "40 46.03872299194336 2.5412534644793042e-08 17694.456089310162\n"
     ]
    },
    {
     "name": "stderr",
     "output_type": "stream",
     "text": [
      "100%|██████████████████████████████████████████████████████████████████████████████| 1575/1575 [00:45<00:00, 34.45it/s]\n"
     ]
    },
    {
     "name": "stdout",
     "output_type": "stream",
     "text": [
      "Learning\n",
      "9/9 [==============================] - 0s 4ms/step - loss: 40.9849 - mse: 0.1181\n",
      "Testing\n",
      "1741/1741 [==============================] - 3s 2ms/step\n",
      "Loss train: 40.98488998413086, MSE: 2.566633426045278e-08, MAPE: 16283.223766899293\n",
      "41 40.98488998413086 2.566633426045278e-08 16283.223766899293\n"
     ]
    },
    {
     "name": "stderr",
     "output_type": "stream",
     "text": [
      "100%|██████████████████████████████████████████████████████████████████████████████| 1575/1575 [00:46<00:00, 33.59it/s]\n"
     ]
    },
    {
     "name": "stdout",
     "output_type": "stream",
     "text": [
      "Learning\n",
      "9/9 [==============================] - 0s 3ms/step - loss: 48.0857 - mse: 0.1161\n",
      "Testing\n",
      "1741/1741 [==============================] - 3s 2ms/step\n",
      "Loss train: 48.08565902709961, MSE: 2.668822257927764e-08, MAPE: 18853.916183594618\n",
      "42 48.08565902709961 2.668822257927764e-08 18853.916183594618\n"
     ]
    },
    {
     "name": "stderr",
     "output_type": "stream",
     "text": [
      "100%|██████████████████████████████████████████████████████████████████████████████| 1575/1575 [00:45<00:00, 34.31it/s]\n"
     ]
    },
    {
     "name": "stdout",
     "output_type": "stream",
     "text": [
      "Learning\n",
      "9/9 [==============================] - 0s 3ms/step - loss: 44.2074 - mse: 0.1187\n",
      "Testing\n",
      "1741/1741 [==============================] - 3s 2ms/step\n",
      "Loss train: 44.20738220214844, MSE: 2.7913558029519382e-08, MAPE: 20695.06707479031\n",
      "43 44.20738220214844 2.7913558029519382e-08 20695.06707479031\n"
     ]
    },
    {
     "name": "stderr",
     "output_type": "stream",
     "text": [
      "100%|██████████████████████████████████████████████████████████████████████████████| 1575/1575 [00:45<00:00, 34.45it/s]\n"
     ]
    },
    {
     "name": "stdout",
     "output_type": "stream",
     "text": [
      "Learning\n",
      "9/9 [==============================] - 0s 4ms/step - loss: 56.5100 - mse: 0.1065\n",
      "Testing\n",
      "1741/1741 [==============================] - 3s 2ms/step\n",
      "Loss train: 56.50996398925781, MSE: 2.971824659115556e-08, MAPE: 22435.77369959321\n",
      "44 56.50996398925781 2.971824659115556e-08 22435.77369959321\n"
     ]
    },
    {
     "name": "stderr",
     "output_type": "stream",
     "text": [
      "100%|██████████████████████████████████████████████████████████████████████████████| 1575/1575 [00:46<00:00, 34.17it/s]\n"
     ]
    },
    {
     "name": "stdout",
     "output_type": "stream",
     "text": [
      "Learning\n",
      "9/9 [==============================] - 0s 3ms/step - loss: 39.7178 - mse: 0.1183\n",
      "Testing\n",
      "1741/1741 [==============================] - 3s 2ms/step\n",
      "Loss train: 39.71784210205078, MSE: 2.843559040632414e-08, MAPE: 22291.789131271536\n",
      "45 39.71784210205078 2.843559040632414e-08 22291.789131271536\n"
     ]
    },
    {
     "name": "stderr",
     "output_type": "stream",
     "text": [
      "100%|██████████████████████████████████████████████████████████████████████████████| 1575/1575 [00:46<00:00, 34.04it/s]\n"
     ]
    },
    {
     "name": "stdout",
     "output_type": "stream",
     "text": [
      "Learning\n",
      "9/9 [==============================] - 0s 3ms/step - loss: 38.0070 - mse: 0.1308\n",
      "Testing\n",
      "1741/1741 [==============================] - 3s 2ms/step\n",
      "Loss train: 38.00701904296875, MSE: 2.525191414501318e-08, MAPE: 16254.358465900843\n",
      "46 38.00701904296875 2.525191414501318e-08 16254.358465900843\n"
     ]
    },
    {
     "name": "stderr",
     "output_type": "stream",
     "text": [
      "100%|██████████████████████████████████████████████████████████████████████████████| 1575/1575 [00:46<00:00, 33.83it/s]\n"
     ]
    },
    {
     "name": "stdout",
     "output_type": "stream",
     "text": [
      "Learning\n",
      "9/9 [==============================] - 0s 3ms/step - loss: 49.8994 - mse: 0.1123\n",
      "Testing\n",
      "1741/1741 [==============================] - 3s 2ms/step\n",
      "Loss train: 49.89936065673828, MSE: 2.8913806292617012e-08, MAPE: 22404.453938599192\n",
      "47 49.89936065673828 2.8913806292617012e-08 22404.453938599192\n"
     ]
    },
    {
     "name": "stderr",
     "output_type": "stream",
     "text": [
      "100%|██████████████████████████████████████████████████████████████████████████████| 1575/1575 [00:46<00:00, 33.64it/s]\n"
     ]
    },
    {
     "name": "stdout",
     "output_type": "stream",
     "text": [
      "Learning\n",
      "9/9 [==============================] - 0s 3ms/step - loss: 758.3572 - mse: 0.1144\n",
      "Testing\n",
      "1741/1741 [==============================] - 3s 2ms/step\n",
      "Loss train: 758.3572387695312, MSE: 2.8524746612038126e-08, MAPE: 21207.766791711263\n",
      "48 758.3572387695312 2.8524746612038126e-08 21207.766791711263\n"
     ]
    },
    {
     "name": "stderr",
     "output_type": "stream",
     "text": [
      "100%|██████████████████████████████████████████████████████████████████████████████| 1575/1575 [00:46<00:00, 33.56it/s]\n"
     ]
    },
    {
     "name": "stdout",
     "output_type": "stream",
     "text": [
      "Learning\n",
      "9/9 [==============================] - 0s 4ms/step - loss: 39.8593 - mse: 0.1228\n",
      "Testing\n",
      "1741/1741 [==============================] - 3s 2ms/step\n",
      "Loss train: 39.85926818847656, MSE: 2.6486345358955133e-08, MAPE: 19662.7512551121\n",
      "49 39.85926818847656 2.6486345358955133e-08 19662.7512551121\n"
     ]
    },
    {
     "name": "stderr",
     "output_type": "stream",
     "text": [
      "100%|██████████████████████████████████████████████████████████████████████████████| 1575/1575 [00:46<00:00, 33.70it/s]\n"
     ]
    },
    {
     "name": "stdout",
     "output_type": "stream",
     "text": [
      "Learning\n",
      "9/9 [==============================] - 0s 3ms/step - loss: 43.4738 - mse: 0.1150\n",
      "Testing\n",
      "1741/1741 [==============================] - 3s 2ms/step\n",
      "Loss train: 43.47380065917969, MSE: 2.732787468398613e-08, MAPE: 21059.68772199181\n",
      "50 43.47380065917969 2.732787468398613e-08 21059.68772199181\n"
     ]
    },
    {
     "name": "stderr",
     "output_type": "stream",
     "text": [
      "100%|██████████████████████████████████████████████████████████████████████████████| 1575/1575 [00:46<00:00, 33.55it/s]\n"
     ]
    },
    {
     "name": "stdout",
     "output_type": "stream",
     "text": [
      "Learning\n",
      "9/9 [==============================] - 0s 3ms/step - loss: 40.1969 - mse: 0.1207\n",
      "Testing\n",
      "1741/1741 [==============================] - 3s 2ms/step\n",
      "Loss train: 40.196929931640625, MSE: 2.868886822028441e-08, MAPE: 18339.46304650773\n",
      "51 40.196929931640625 2.868886822028441e-08 18339.46304650773\n"
     ]
    },
    {
     "name": "stderr",
     "output_type": "stream",
     "text": [
      "100%|██████████████████████████████████████████████████████████████████████████████| 1575/1575 [00:47<00:00, 33.39it/s]\n"
     ]
    },
    {
     "name": "stdout",
     "output_type": "stream",
     "text": [
      "Learning\n",
      "9/9 [==============================] - 0s 3ms/step - loss: 40.2180 - mse: 0.1170\n",
      "Testing\n",
      "1741/1741 [==============================] - 3s 2ms/step\n",
      "Loss train: 40.21800994873047, MSE: 2.931893058978735e-08, MAPE: 21471.988568192504\n",
      "52 40.21800994873047 2.931893058978735e-08 21471.988568192504\n"
     ]
    },
    {
     "name": "stderr",
     "output_type": "stream",
     "text": [
      "100%|██████████████████████████████████████████████████████████████████████████████| 1575/1575 [00:47<00:00, 33.43it/s]\n"
     ]
    },
    {
     "name": "stdout",
     "output_type": "stream",
     "text": [
      "Learning\n",
      "9/9 [==============================] - 0s 3ms/step - loss: 39.5736 - mse: 0.1201\n",
      "Testing\n",
      "1741/1741 [==============================] - 3s 2ms/step\n",
      "Loss train: 39.5736198425293, MSE: 2.7099979222311203e-08, MAPE: 20460.359064876386\n",
      "53 39.5736198425293 2.7099979222311203e-08 20460.359064876386\n"
     ]
    },
    {
     "name": "stderr",
     "output_type": "stream",
     "text": [
      "100%|██████████████████████████████████████████████████████████████████████████████| 1575/1575 [00:47<00:00, 33.42it/s]\n"
     ]
    },
    {
     "name": "stdout",
     "output_type": "stream",
     "text": [
      "Learning\n",
      "9/9 [==============================] - 0s 4ms/step - loss: 38.4118 - mse: 0.1184\n",
      "Testing\n",
      "1741/1741 [==============================] - 3s 2ms/step\n",
      "Loss train: 38.41179275512695, MSE: 2.520091355394757e-08, MAPE: 17909.9398107479\n",
      "54 38.41179275512695 2.520091355394757e-08 17909.9398107479\n"
     ]
    },
    {
     "name": "stderr",
     "output_type": "stream",
     "text": [
      "100%|██████████████████████████████████████████████████████████████████████████████| 1575/1575 [00:47<00:00, 33.22it/s]\n"
     ]
    },
    {
     "name": "stdout",
     "output_type": "stream",
     "text": [
      "Learning\n",
      "9/9 [==============================] - 0s 3ms/step - loss: 38.3404 - mse: 0.1273\n",
      "Testing\n",
      "1741/1741 [==============================] - 3s 2ms/step\n",
      "Loss train: 38.34042739868164, MSE: 2.8541147865154282e-08, MAPE: 22066.1968470358\n",
      "55 38.34042739868164 2.8541147865154282e-08 22066.1968470358\n"
     ]
    },
    {
     "name": "stderr",
     "output_type": "stream",
     "text": [
      "100%|██████████████████████████████████████████████████████████████████████████████| 1575/1575 [00:47<00:00, 33.16it/s]\n"
     ]
    },
    {
     "name": "stdout",
     "output_type": "stream",
     "text": [
      "Learning\n",
      "9/9 [==============================] - 0s 4ms/step - loss: 44.1560 - mse: 0.1159\n",
      "Testing\n",
      "1741/1741 [==============================] - 3s 2ms/step\n",
      "Loss train: 44.155975341796875, MSE: 3.1267591351430024e-08, MAPE: 23400.891405948\n",
      "56 44.155975341796875 3.1267591351430024e-08 23400.891405948\n"
     ]
    },
    {
     "name": "stderr",
     "output_type": "stream",
     "text": [
      "100%|██████████████████████████████████████████████████████████████████████████████| 1575/1575 [00:47<00:00, 32.93it/s]\n"
     ]
    },
    {
     "name": "stdout",
     "output_type": "stream",
     "text": [
      "Learning\n",
      "9/9 [==============================] - 0s 4ms/step - loss: 32.0843 - mse: 0.1157\n",
      "Testing\n",
      "1741/1741 [==============================] - 3s 2ms/step\n",
      "Loss train: 32.08433532714844, MSE: 2.9074095453451223e-08, MAPE: 20029.129000259953\n",
      "57 32.08433532714844 2.9074095453451223e-08 20029.129000259953\n"
     ]
    },
    {
     "name": "stderr",
     "output_type": "stream",
     "text": [
      "100%|██████████████████████████████████████████████████████████████████████████████| 1575/1575 [00:47<00:00, 32.86it/s]\n"
     ]
    },
    {
     "name": "stdout",
     "output_type": "stream",
     "text": [
      "Learning\n",
      "9/9 [==============================] - 0s 3ms/step - loss: 35.1662 - mse: 0.1345\n",
      "Testing\n",
      "1741/1741 [==============================] - 3s 2ms/step\n",
      "Loss train: 35.166236877441406, MSE: 2.2005912664172434e-08, MAPE: 10628.40557610208\n",
      "58 35.166236877441406 2.2005912664172434e-08 10628.40557610208\n"
     ]
    },
    {
     "name": "stderr",
     "output_type": "stream",
     "text": [
      "100%|██████████████████████████████████████████████████████████████████████████████| 1575/1575 [00:47<00:00, 32.81it/s]\n"
     ]
    },
    {
     "name": "stdout",
     "output_type": "stream",
     "text": [
      "Learning\n",
      "9/9 [==============================] - 0s 3ms/step - loss: 55.2973 - mse: 0.1151\n",
      "Testing\n",
      "1741/1741 [==============================] - 3s 2ms/step\n",
      "Loss train: 55.29726028442383, MSE: 2.7835759404186525e-08, MAPE: 21295.42425377279\n",
      "59 55.29726028442383 2.7835759404186525e-08 21295.42425377279\n"
     ]
    },
    {
     "name": "stderr",
     "output_type": "stream",
     "text": [
      "100%|██████████████████████████████████████████████████████████████████████████████| 1575/1575 [00:48<00:00, 32.73it/s]\n"
     ]
    },
    {
     "name": "stdout",
     "output_type": "stream",
     "text": [
      "Learning\n",
      "9/9 [==============================] - 0s 4ms/step - loss: 32.4758 - mse: 0.1190\n",
      "Testing\n",
      "1741/1741 [==============================] - 3s 2ms/step\n",
      "Loss train: 32.47582244873047, MSE: 2.5749796599720843e-08, MAPE: 17912.093823074563\n",
      "60 32.47582244873047 2.5749796599720843e-08 17912.093823074563\n"
     ]
    },
    {
     "name": "stderr",
     "output_type": "stream",
     "text": [
      "100%|██████████████████████████████████████████████████████████████████████████████| 1575/1575 [00:48<00:00, 32.57it/s]\n"
     ]
    },
    {
     "name": "stdout",
     "output_type": "stream",
     "text": [
      "Learning\n",
      "9/9 [==============================] - 0s 3ms/step - loss: 35.7200 - mse: 0.1279\n",
      "Testing\n",
      "1741/1741 [==============================] - 3s 2ms/step\n",
      "Loss train: 35.72003936767578, MSE: 2.522927663279842e-08, MAPE: 16253.691590107286\n",
      "61 35.72003936767578 2.522927663279842e-08 16253.691590107286\n"
     ]
    },
    {
     "name": "stderr",
     "output_type": "stream",
     "text": [
      "100%|██████████████████████████████████████████████████████████████████████████████| 1575/1575 [00:48<00:00, 32.41it/s]\n"
     ]
    },
    {
     "name": "stdout",
     "output_type": "stream",
     "text": [
      "Learning\n",
      "9/9 [==============================] - 0s 3ms/step - loss: 34.0972 - mse: 0.1230\n",
      "Testing\n",
      "1741/1741 [==============================] - 3s 2ms/step\n",
      "Loss train: 34.097206115722656, MSE: 2.45139817454054e-08, MAPE: 14821.806480816193\n",
      "62 34.097206115722656 2.45139817454054e-08 14821.806480816193\n"
     ]
    },
    {
     "name": "stderr",
     "output_type": "stream",
     "text": [
      "100%|██████████████████████████████████████████████████████████████████████████████| 1575/1575 [00:48<00:00, 32.30it/s]\n"
     ]
    },
    {
     "name": "stdout",
     "output_type": "stream",
     "text": [
      "Learning\n",
      "9/9 [==============================] - 0s 4ms/step - loss: 33.7415 - mse: 0.1268\n",
      "Testing\n",
      "1741/1741 [==============================] - 3s 2ms/step\n",
      "Loss train: 33.74148178100586, MSE: 2.4537509948263122e-08, MAPE: 15320.387742271387\n",
      "63 33.74148178100586 2.4537509948263122e-08 15320.387742271387\n"
     ]
    },
    {
     "name": "stderr",
     "output_type": "stream",
     "text": [
      "100%|██████████████████████████████████████████████████████████████████████████████| 1575/1575 [00:49<00:00, 32.09it/s]\n"
     ]
    },
    {
     "name": "stdout",
     "output_type": "stream",
     "text": [
      "Learning\n",
      "9/9 [==============================] - 0s 3ms/step - loss: 32.9641 - mse: 0.1189\n",
      "Testing\n",
      "1741/1741 [==============================] - 3s 2ms/step\n",
      "Loss train: 32.96414566040039, MSE: 2.4945067075703283e-08, MAPE: 14605.205740832294\n",
      "64 32.96414566040039 2.4945067075703283e-08 14605.205740832294\n"
     ]
    },
    {
     "name": "stderr",
     "output_type": "stream",
     "text": [
      "100%|██████████████████████████████████████████████████████████████████████████████| 1575/1575 [00:49<00:00, 32.06it/s]\n"
     ]
    },
    {
     "name": "stdout",
     "output_type": "stream",
     "text": [
      "Learning\n",
      "9/9 [==============================] - 0s 3ms/step - loss: 35.3915 - mse: 0.1128\n",
      "Testing\n",
      "1741/1741 [==============================] - 3s 2ms/step\n",
      "Loss train: 35.391510009765625, MSE: 2.747642369133124e-08, MAPE: 18802.414337251153\n",
      "65 35.391510009765625 2.747642369133124e-08 18802.414337251153\n"
     ]
    },
    {
     "name": "stderr",
     "output_type": "stream",
     "text": [
      "100%|██████████████████████████████████████████████████████████████████████████████| 1575/1575 [00:49<00:00, 31.90it/s]\n"
     ]
    },
    {
     "name": "stdout",
     "output_type": "stream",
     "text": [
      "Learning\n",
      "9/9 [==============================] - 0s 4ms/step - loss: 34.6246 - mse: 0.1272\n",
      "Testing\n",
      "1741/1741 [==============================] - 3s 2ms/step\n",
      "Loss train: 34.62458038330078, MSE: 2.569781795930798e-08, MAPE: 18068.045664341083\n",
      "66 34.62458038330078 2.569781795930798e-08 18068.045664341083\n"
     ]
    },
    {
     "name": "stderr",
     "output_type": "stream",
     "text": [
      "100%|██████████████████████████████████████████████████████████████████████████████| 1575/1575 [00:49<00:00, 31.72it/s]\n"
     ]
    },
    {
     "name": "stdout",
     "output_type": "stream",
     "text": [
      "Learning\n",
      "9/9 [==============================] - 0s 3ms/step - loss: 33.7037 - mse: 0.1169\n",
      "Testing\n",
      "1741/1741 [==============================] - 3s 2ms/step\n",
      "Loss train: 33.703731536865234, MSE: 2.5112147538099303e-08, MAPE: 16050.08386962614\n",
      "67 33.703731536865234 2.5112147538099303e-08 16050.08386962614\n"
     ]
    },
    {
     "name": "stderr",
     "output_type": "stream",
     "text": [
      "100%|██████████████████████████████████████████████████████████████████████████████| 1575/1575 [00:49<00:00, 31.78it/s]\n"
     ]
    },
    {
     "name": "stdout",
     "output_type": "stream",
     "text": [
      "Learning\n",
      "9/9 [==============================] - 0s 3ms/step - loss: 34.7340 - mse: 0.1251\n",
      "Testing\n",
      "1741/1741 [==============================] - 2s 1ms/step\n",
      "Loss train: 34.73402404785156, MSE: 2.3971151607089033e-08, MAPE: 14686.850526876153\n",
      "68 34.73402404785156 2.3971151607089033e-08 14686.850526876153\n"
     ]
    },
    {
     "name": "stderr",
     "output_type": "stream",
     "text": [
      "100%|██████████████████████████████████████████████████████████████████████████████| 1575/1575 [00:49<00:00, 31.72it/s]\n"
     ]
    },
    {
     "name": "stdout",
     "output_type": "stream",
     "text": [
      "Learning\n",
      "9/9 [==============================] - 0s 3ms/step - loss: 33.6063 - mse: 0.1280\n",
      "Testing\n",
      "1741/1741 [==============================] - 3s 2ms/step\n",
      "Loss train: 33.60627746582031, MSE: 2.372333785574397e-08, MAPE: 13384.167761619066\n",
      "69 33.60627746582031 2.372333785574397e-08 13384.167761619066\n"
     ]
    },
    {
     "name": "stderr",
     "output_type": "stream",
     "text": [
      "100%|██████████████████████████████████████████████████████████████████████████████| 1575/1575 [00:50<00:00, 31.47it/s]\n"
     ]
    },
    {
     "name": "stdout",
     "output_type": "stream",
     "text": [
      "Learning\n",
      "9/9 [==============================] - 0s 3ms/step - loss: 34.4491 - mse: 0.1131\n",
      "Testing\n",
      "1741/1741 [==============================] - 3s 2ms/step\n",
      "Loss train: 34.44912338256836, MSE: 3.033897516086038e-08, MAPE: 22462.23933755059\n",
      "70 34.44912338256836 3.033897516086038e-08 22462.23933755059\n"
     ]
    },
    {
     "name": "stderr",
     "output_type": "stream",
     "text": [
      "100%|██████████████████████████████████████████████████████████████████████████████| 1575/1575 [00:50<00:00, 31.29it/s]\n"
     ]
    },
    {
     "name": "stdout",
     "output_type": "stream",
     "text": [
      "Learning\n",
      "9/9 [==============================] - 0s 3ms/step - loss: 34.7675 - mse: 0.1270\n",
      "Testing\n",
      "1741/1741 [==============================] - 3s 2ms/step\n",
      "Loss train: 34.76747512817383, MSE: 2.298308029161443e-08, MAPE: 13396.231822177924\n",
      "71 34.76747512817383 2.298308029161443e-08 13396.231822177924\n"
     ]
    },
    {
     "name": "stderr",
     "output_type": "stream",
     "text": [
      "100%|██████████████████████████████████████████████████████████████████████████████| 1575/1575 [00:50<00:00, 31.08it/s]\n"
     ]
    },
    {
     "name": "stdout",
     "output_type": "stream",
     "text": [
      "Learning\n",
      "9/9 [==============================] - 0s 3ms/step - loss: 32.7990 - mse: 0.1133\n",
      "Testing\n",
      "1741/1741 [==============================] - 3s 2ms/step\n",
      "Loss train: 32.798980712890625, MSE: 3.0185470178635635e-08, MAPE: 21627.25558656142\n",
      "72 32.798980712890625 3.0185470178635635e-08 21627.25558656142\n"
     ]
    },
    {
     "name": "stderr",
     "output_type": "stream",
     "text": [
      "100%|██████████████████████████████████████████████████████████████████████████████| 1575/1575 [00:50<00:00, 31.19it/s]\n"
     ]
    },
    {
     "name": "stdout",
     "output_type": "stream",
     "text": [
      "Learning\n",
      "9/9 [==============================] - 0s 4ms/step - loss: 32.3293 - mse: 0.1181\n",
      "Testing\n",
      "1741/1741 [==============================] - 3s 2ms/step\n",
      "Loss train: 32.32933807373047, MSE: 2.729357089949401e-08, MAPE: 19585.429427236726\n",
      "73 32.32933807373047 2.729357089949401e-08 19585.429427236726\n"
     ]
    },
    {
     "name": "stderr",
     "output_type": "stream",
     "text": [
      "100%|██████████████████████████████████████████████████████████████████████████████| 1575/1575 [00:50<00:00, 30.93it/s]\n"
     ]
    },
    {
     "name": "stdout",
     "output_type": "stream",
     "text": [
      "Learning\n",
      "9/9 [==============================] - 0s 3ms/step - loss: 32.6420 - mse: 0.1148\n",
      "Testing\n",
      "1741/1741 [==============================] - 3s 2ms/step\n",
      "Loss train: 32.64204406738281, MSE: 2.9122447494188288e-08, MAPE: 21845.75105315768\n",
      "74 32.64204406738281 2.9122447494188288e-08 21845.75105315768\n"
     ]
    },
    {
     "name": "stderr",
     "output_type": "stream",
     "text": [
      "100%|██████████████████████████████████████████████████████████████████████████████| 1575/1575 [00:51<00:00, 30.65it/s]\n"
     ]
    },
    {
     "name": "stdout",
     "output_type": "stream",
     "text": [
      "Learning\n",
      "9/9 [==============================] - 0s 3ms/step - loss: 35.7938 - mse: 0.1219\n",
      "Testing\n",
      "1741/1741 [==============================] - 3s 2ms/step\n",
      "Loss train: 35.79377365112305, MSE: 2.3600876115393516e-08, MAPE: 12409.983754303501\n",
      "75 35.79377365112305 2.3600876115393516e-08 12409.983754303501\n"
     ]
    },
    {
     "name": "stderr",
     "output_type": "stream",
     "text": [
      "100%|██████████████████████████████████████████████████████████████████████████████| 1491/1491 [00:48<00:00, 30.82it/s]\n"
     ]
    },
    {
     "name": "stdout",
     "output_type": "stream",
     "text": [
      "Learning\n",
      "9/9 [==============================] - 0s 4ms/step - loss: 30.1251 - mse: 0.1046\n",
      "Testing\n",
      "17403/17403 [==============================] - 31s 2ms/step\n",
      "Loss train: 30.12510108947754, MSE: 3.563449064019196e-08, MAPE: 29421.025648762494\n"
     ]
    },
    {
     "data": {
      "image/png": "[encoded data removed]",
      "text/plain": [
       "<Figure size 500x500 with 1 Axes>"
      ]
     },
     "metadata": {},
     "output_type": "display_data"
    }
   ],
   "source": [
    "list_of_fet = list(list_of_fet)\n",
    "\n",
    "fig, ax = plt.subplots(figsize=(5,5))\n",
    "\n",
    "for _ in range(1):\n",
    "    matrix = []\n",
    "    \n",
    "    for i in range(len(list_of_fet)):\n",
    "        lst = list_of_fet.copy()\n",
    "        fet = lst.pop(i)\n",
    "        \n",
    "        ans, loss, loss_mean = train_and_test(lst, 200, .1)\n",
    "        print(i, ans, loss, loss_mean)\n",
    "        \n",
    "        matrix.append((ans, fet))\n",
    "        \n",
    "    \n",
    "        \n",
    "    history1.append((ans, fet))\n",
    "    matrix.sort(key=lambda x: -x[0])\n",
    "    matrix = matrix[:-5]\n",
    "    \n",
    "    list_of_fet = []\n",
    "    for _, x in matrix:\n",
    "        list_of_fet.append(x)\n",
    "        \n",
    "    ans, loss, loss_mean = train_and_test(list_of_fet)\n",
    "    history.append([ans, loss, loss_mean])\n",
    "        \n",
    "    ax.clear()\n",
    "    ax.plot(list_of_fet)\n",
    "    fig.canvas.draw()"
   ]
  },
  {
   "cell_type": "code",
   "execution_count": 28,
   "id": "8a9b590a",
   "metadata": {},
   "outputs": [
    {
     "data": {
      "text/plain": [
       "[[30.786907196044922, 3.4646265536654856e-08, 27573.298936445808],\n",
       " [34.55529022216797, 3.2722646207807014e-08, 26768.11809089432],\n",
       " [30.12510108947754, 3.563449064019196e-08, 29421.025648762494]]"
      ]
     },
     "execution_count": 28,
     "metadata": {},
     "output_type": "execute_result"
    }
   ],
   "source": [
    "history"
   ]
  },
  {
   "cell_type": "code",
   "execution_count": 29,
   "id": "c7b9f185",
   "metadata": {},
   "outputs": [
    {
     "data": {
      "text/plain": [
       "[array([5.e-07, 9.e-07]),\n",
       " array([1.e-06, 5.e-07]),\n",
       " array([4.e-07, 7.e-07]),\n",
       " array([3.e-07, 5.e-07]),\n",
       " array([8.e-07, 4.e-07]),\n",
       " array([4.e-07, 2.e-07]),\n",
       " array([6.e-07, 1.e-06]),\n",
       " array([1.e-06, 4.e-07]),\n",
       " array([7.e-07, 2.e-07]),\n",
       " array([4.e-07, 5.e-07]),\n",
       " array([4.e-07, 6.e-07]),\n",
       " array([2.e-07, 4.e-07]),\n",
       " array([9.e-07, 5.e-07]),\n",
       " array([5.e-07, 8.e-07]),\n",
       " array([8.e-07, 2.e-07]),\n",
       " array([8.e-07, 8.e-07]),\n",
       " array([5.e-07, 7.e-07]),\n",
       " array([4.e-07, 9.e-07]),\n",
       " array([1.e-06, 6.e-07]),\n",
       " array([4.e-07, 8.e-07]),\n",
       " array([6.e-07, 8.e-07]),\n",
       " array([7.e-07, 1.e-06]),\n",
       " array([6.e-07, 9.e-07]),\n",
       " array([9.e-07, 3.e-07]),\n",
       " array([2.e-07, 9.e-07]),\n",
       " array([6.e-07, 5.e-07]),\n",
       " array([6.e-07, 2.e-07]),\n",
       " array([5.e-07, 5.e-07]),\n",
       " array([1.e-06, 3.e-07]),\n",
       " array([3.e-07, 6.e-07]),\n",
       " array([3.e-07, 8.e-07]),\n",
       " array([6.e-07, 4.e-07]),\n",
       " array([7.e-07, 7.e-07]),\n",
       " array([9.e-07, 6.e-07]),\n",
       " array([5.e-07, 6.e-07]),\n",
       " array([4.e-07, 4.e-07]),\n",
       " array([3.e-07, 7.e-07]),\n",
       " array([7.e-07, 4.e-07]),\n",
       " array([5.e-07, 4.e-07]),\n",
       " array([8.e-07, 9.e-07]),\n",
       " array([8.e-07, 5.e-07]),\n",
       " array([3.e-07, 1.e-06]),\n",
       " array([6.e-07, 6.e-07]),\n",
       " array([3.e-07, 2.e-07]),\n",
       " array([3.e-07, 9.e-07]),\n",
       " array([4.e-07, 1.e-06]),\n",
       " array([3.e-07, 3.e-07]),\n",
       " array([4.e-07, 3.e-07]),\n",
       " array([8.e-07, 7.e-07]),\n",
       " array([9.e-07, 1.e-06]),\n",
       " array([7.e-07, 5.e-07]),\n",
       " array([9.e-07, 7.e-07]),\n",
       " array([8.e-07, 3.e-07]),\n",
       " array([1.e-06, 9.e-07]),\n",
       " array([2.e-07, 2.e-07]),\n",
       " array([8.e-07, 6.e-07]),\n",
       " array([1.e-06, 8.e-07]),\n",
       " array([1.e-06, 1.e-06]),\n",
       " array([2.e-07, 8.e-07]),\n",
       " array([7.e-07, 3.e-07]),\n",
       " array([1.e-06, 2.e-07]),\n",
       " array([5.e-07, 1.e-06]),\n",
       " array([9.e-07, 4.e-07]),\n",
       " array([5.e-07, 2.e-07]),\n",
       " array([9.e-07, 9.e-07]),\n",
       " array([9.e-07, 2.e-07]),\n",
       " array([3.e-07, 4.e-07]),\n",
       " array([7.e-07, 6.e-07]),\n",
       " array([9.e-07, 8.e-07]),\n",
       " array([2.e-07, 3.e-07]),\n",
       " array([2.e-07, 7.e-07])]"
      ]
     },
     "execution_count": 29,
     "metadata": {},
     "output_type": "execute_result"
    }
   ],
   "source": [
    "list_of_fet"
   ]
  },
  {
   "cell_type": "code",
   "execution_count": 30,
   "id": "35b73b16",
   "metadata": {},
   "outputs": [
    {
     "data": {
      "text/plain": [
       "<matplotlib.collections.PathCollection at 0x296131f5b80>"
      ]
     },
     "execution_count": 30,
     "metadata": {},
     "output_type": "execute_result"
    },
    {
     "data": {
      "image/png": "[encoded data removed]",
      "text/plain": [
       "<Figure size 640x480 with 1 Axes>"
      ]
     },
     "metadata": {},
     "output_type": "display_data"
    }
   ],
   "source": [
    "list_of_fet = np.array(list_of_fet)\n",
    "\n",
    "plt.scatter(list_of_fet[:, 0], list_of_fet[:, 1])"
   ]
  },
  {
   "cell_type": "code",
   "execution_count": 31,
   "id": "44fd3ee2",
   "metadata": {},
   "outputs": [
    {
     "name": "stderr",
     "output_type": "stream",
     "text": [
      "100%|██████████████████████████████████████████████████████████████████████████████| 1491/1491 [00:48<00:00, 30.58it/s]\n"
     ]
    },
    {
     "name": "stdout",
     "output_type": "stream",
     "text": [
      "Learning\n",
      "9/9 [==============================] - 0s 3ms/step - loss: 30.6966 - mse: 0.1056\n",
      "Testing\n",
      "17403/17403 [==============================] - 27s 2ms/step\n",
      "Loss train: 30.696571350097656, MSE: 3.519449627237198e-08, MAPE: 27933.24806063747\n"
     ]
    },
    {
     "data": {
      "text/plain": [
       "(30.696571350097656, 3.519449627237198e-08, 27933.24806063747)"
      ]
     },
     "execution_count": 31,
     "metadata": {},
     "output_type": "execute_result"
    }
   ],
   "source": [
    "train_and_test(list_of_fet)"
   ]
  },
  {
   "cell_type": "code",
   "execution_count": 32,
   "id": "f730f3ab",
   "metadata": {},
   "outputs": [
    {
     "name": "stderr",
     "output_type": "stream",
     "text": [
      "100%|██████████████████████████████████████████████████████████████████████████████| 1470/1470 [00:48<00:00, 30.50it/s]\n"
     ]
    },
    {
     "name": "stdout",
     "output_type": "stream",
     "text": [
      "Learning\n",
      "9/9 [==============================] - 0s 4ms/step - loss: 31.4314 - mse: 0.1103\n",
      "Testing\n",
      "1741/1741 [==============================] - 3s 2ms/step\n",
      "Loss train: 31.431413650512695, MSE: 2.8814367994397963e-08, MAPE: 21713.366919008255\n",
      "0 31.431413650512695 2.8814367994397963e-08 21713.366919008255\n"
     ]
    },
    {
     "name": "stderr",
     "output_type": "stream",
     "text": [
      "100%|██████████████████████████████████████████████████████████████████████████████| 1470/1470 [00:48<00:00, 30.43it/s]\n"
     ]
    },
    {
     "name": "stdout",
     "output_type": "stream",
     "text": [
      "Learning\n",
      "9/9 [==============================] - 0s 4ms/step - loss: 30.4574 - mse: 0.1108\n",
      "Testing\n",
      "1741/1741 [==============================] - 3s 2ms/step\n",
      "Loss train: 30.45743751525879, MSE: 2.5153459962292153e-08, MAPE: 16112.667168504253\n",
      "1 30.45743751525879 2.5153459962292153e-08 16112.667168504253\n"
     ]
    },
    {
     "name": "stderr",
     "output_type": "stream",
     "text": [
      "100%|██████████████████████████████████████████████████████████████████████████████| 1470/1470 [00:48<00:00, 30.36it/s]\n"
     ]
    },
    {
     "name": "stdout",
     "output_type": "stream",
     "text": [
      "Learning\n",
      "9/9 [==============================] - 0s 4ms/step - loss: 31.6710 - mse: 0.1145\n",
      "Testing\n",
      "1741/1741 [==============================] - 3s 2ms/step\n",
      "Loss train: 31.67096519470215, MSE: 2.9510218437953185e-08, MAPE: 20895.578900717217\n",
      "2 31.67096519470215 2.9510218437953185e-08 20895.578900717217\n"
     ]
    },
    {
     "name": "stderr",
     "output_type": "stream",
     "text": [
      "100%|██████████████████████████████████████████████████████████████████████████████| 1470/1470 [00:48<00:00, 30.14it/s]\n"
     ]
    },
    {
     "name": "stdout",
     "output_type": "stream",
     "text": [
      "Learning\n",
      "9/9 [==============================] - 0s 3ms/step - loss: 30.4891 - mse: 0.1089\n",
      "Testing\n",
      "1741/1741 [==============================] - 3s 2ms/step\n",
      "Loss train: 30.48914909362793, MSE: 3.005534078237466e-08, MAPE: 20404.9744960233\n",
      "3 30.48914909362793 3.005534078237466e-08 20404.9744960233\n"
     ]
    },
    {
     "name": "stderr",
     "output_type": "stream",
     "text": [
      "100%|██████████████████████████████████████████████████████████████████████████████| 1470/1470 [00:48<00:00, 30.11it/s]\n"
     ]
    },
    {
     "name": "stdout",
     "output_type": "stream",
     "text": [
      "Learning\n",
      "9/9 [==============================] - 0s 4ms/step - loss: 36.9608 - mse: 0.1399\n",
      "Testing\n",
      "1741/1741 [==============================] - 3s 2ms/step\n",
      "Loss train: 36.960758209228516, MSE: 2.907919345765756e-08, MAPE: 20645.392457759535\n",
      "4 36.960758209228516 2.907919345765756e-08 20645.392457759535\n"
     ]
    },
    {
     "name": "stderr",
     "output_type": "stream",
     "text": [
      "100%|██████████████████████████████████████████████████████████████████████████████| 1470/1470 [00:48<00:00, 30.08it/s]\n"
     ]
    },
    {
     "name": "stdout",
     "output_type": "stream",
     "text": [
      "Learning\n",
      "9/9 [==============================] - 0s 4ms/step - loss: 37.2156 - mse: 0.1285\n",
      "Testing\n",
      "1741/1741 [==============================] - 3s 2ms/step\n",
      "Loss train: 37.2155876159668, MSE: 2.8434434494421573e-08, MAPE: 19793.81814182869\n",
      "5 37.2155876159668 2.8434434494421573e-08 19793.81814182869\n"
     ]
    },
    {
     "name": "stderr",
     "output_type": "stream",
     "text": [
      "100%|██████████████████████████████████████████████████████████████████████████████| 1470/1470 [00:49<00:00, 29.96it/s]\n"
     ]
    },
    {
     "name": "stdout",
     "output_type": "stream",
     "text": [
      "Learning\n",
      "9/9 [==============================] - 0s 3ms/step - loss: 31.8169 - mse: 0.1123\n",
      "Testing\n",
      "1741/1741 [==============================] - 3s 2ms/step\n",
      "Loss train: 31.816946029663086, MSE: 2.691661072689413e-08, MAPE: 17508.39006797559\n",
      "6 31.816946029663086 2.691661072689413e-08 17508.39006797559\n"
     ]
    },
    {
     "name": "stderr",
     "output_type": "stream",
     "text": [
      "100%|██████████████████████████████████████████████████████████████████████████████| 1470/1470 [00:49<00:00, 29.82it/s]\n"
     ]
    },
    {
     "name": "stdout",
     "output_type": "stream",
     "text": [
      "Learning\n",
      "9/9 [==============================] - 0s 5ms/step - loss: 31.8342 - mse: 0.1144\n",
      "Testing\n",
      "1741/1741 [==============================] - 3s 2ms/step\n",
      "Loss train: 31.834245681762695, MSE: 2.405010888560335e-08, MAPE: 14467.847708129015\n",
      "7 31.834245681762695 2.405010888560335e-08 14467.847708129015\n"
     ]
    },
    {
     "name": "stderr",
     "output_type": "stream",
     "text": [
      "100%|██████████████████████████████████████████████████████████████████████████████| 1470/1470 [00:49<00:00, 29.78it/s]\n"
     ]
    },
    {
     "name": "stdout",
     "output_type": "stream",
     "text": [
      "Learning\n",
      "9/9 [==============================] - 0s 3ms/step - loss: 31.9475 - mse: 0.1203\n",
      "Testing\n",
      "1741/1741 [==============================] - 3s 2ms/step\n",
      "Loss train: 31.947458267211914, MSE: 2.3038699121799432e-08, MAPE: 13335.469954258038\n",
      "8 31.947458267211914 2.3038699121799432e-08 13335.469954258038\n"
     ]
    },
    {
     "name": "stderr",
     "output_type": "stream",
     "text": [
      "100%|██████████████████████████████████████████████████████████████████████████████| 1470/1470 [00:49<00:00, 29.61it/s]\n"
     ]
    },
    {
     "name": "stdout",
     "output_type": "stream",
     "text": [
      "Learning\n",
      "9/9 [==============================] - 0s 3ms/step - loss: 32.3938 - mse: 0.1206\n",
      "Testing\n",
      "1741/1741 [==============================] - 3s 2ms/step\n",
      "Loss train: 32.393795013427734, MSE: 2.604872247518384e-08, MAPE: 14595.189057763868\n",
      "9 32.393795013427734 2.604872247518384e-08 14595.189057763868\n"
     ]
    },
    {
     "name": "stderr",
     "output_type": "stream",
     "text": [
      "100%|██████████████████████████████████████████████████████████████████████████████| 1470/1470 [00:49<00:00, 29.60it/s]\n"
     ]
    },
    {
     "name": "stdout",
     "output_type": "stream",
     "text": [
      "Learning\n",
      "9/9 [==============================] - 0s 4ms/step - loss: 30.9119 - mse: 0.1152\n",
      "Testing\n"
     ]
    },
    {
     "ename": "MemoryError",
     "evalue": "Unable to allocate 2.55 MiB for an array with shape (6, 55688) and data type float64",
     "output_type": "error",
     "traceback": [
      "\u001b[1;31m---------------------------------------------------------------------------\u001b[0m",
      "\u001b[1;31mMemoryError\u001b[0m                               Traceback (most recent call last)",
      "Cell \u001b[1;32mIn [32], line 12\u001b[0m\n\u001b[0;32m      9\u001b[0m lst \u001b[38;5;241m=\u001b[39m list_of_fet\u001b[38;5;241m.\u001b[39mcopy()\n\u001b[0;32m     10\u001b[0m fet \u001b[38;5;241m=\u001b[39m lst\u001b[38;5;241m.\u001b[39mpop(i)\n\u001b[1;32m---> 12\u001b[0m ans, loss, loss_mean \u001b[38;5;241m=\u001b[39m \u001b[43mtrain_and_test\u001b[49m\u001b[43m(\u001b[49m\u001b[43mlst\u001b[49m\u001b[43m,\u001b[49m\u001b[43m \u001b[49m\u001b[38;5;241;43m200\u001b[39;49m\u001b[43m,\u001b[49m\u001b[43m \u001b[49m\u001b[38;5;241;43m.1\u001b[39;49m\u001b[43m)\u001b[49m\n\u001b[0;32m     13\u001b[0m \u001b[38;5;28mprint\u001b[39m(i, ans, loss, loss_mean)\n\u001b[0;32m     15\u001b[0m matrix\u001b[38;5;241m.\u001b[39mappend((ans, fet))\n",
      "Cell \u001b[1;32mIn [17], line 25\u001b[0m, in \u001b[0;36mtrain_and_test\u001b[1;34m(fet, epochs, frac)\u001b[0m\n\u001b[0;32m     22\u001b[0m results \u001b[38;5;241m=\u001b[39m results[\u001b[38;5;241m0\u001b[39m]\n\u001b[0;32m     24\u001b[0m \u001b[38;5;28mprint\u001b[39m(\u001b[38;5;124m'\u001b[39m\u001b[38;5;124mTesting\u001b[39m\u001b[38;5;124m'\u001b[39m)\n\u001b[1;32m---> 25\u001b[0m Xval, yval \u001b[38;5;241m=\u001b[39m \u001b[43mdata\u001b[49m\u001b[38;5;241;43m.\u001b[39;49m\u001b[43mtransform\u001b[49m\u001b[43m(\u001b[49m\u001b[43mdf_val\u001b[49m\u001b[38;5;241;43m.\u001b[39;49m\u001b[43msample\u001b[49m\u001b[43m(\u001b[49m\u001b[43mfrac\u001b[49m\u001b[38;5;241;43m=\u001b[39;49m\u001b[43mfrac\u001b[49m\u001b[43m)\u001b[49m\u001b[43m)\u001b[49m\n\u001b[0;32m     26\u001b[0m yval \u001b[38;5;241m=\u001b[39m data\u001b[38;5;241m.\u001b[39mretransform_y(yval)\n\u001b[0;32m     28\u001b[0m y_pred \u001b[38;5;241m=\u001b[39m model\u001b[38;5;241m.\u001b[39mpredict(Xval)\n",
      "Cell \u001b[1;32mIn [15], line 38\u001b[0m, in \u001b[0;36mProcessDataLogNorm.transform\u001b[1;34m(self, df)\u001b[0m\n\u001b[0;32m     37\u001b[0m \u001b[38;5;28;01mdef\u001b[39;00m \u001b[38;5;21mtransform\u001b[39m(\u001b[38;5;28mself\u001b[39m, df):\n\u001b[1;32m---> 38\u001b[0m   data \u001b[38;5;241m=\u001b[39m \u001b[43mdf\u001b[49m\u001b[38;5;241;43m.\u001b[39;49m\u001b[43mcopy\u001b[49m\u001b[43m(\u001b[49m\u001b[43m)\u001b[49m\n\u001b[0;32m     39\u001b[0m   \u001b[38;5;28mself\u001b[39m\u001b[38;5;241m.\u001b[39m_replace_X(data)\n\u001b[0;32m     40\u001b[0m   \u001b[38;5;28mself\u001b[39m\u001b[38;5;241m.\u001b[39m_replace_y(data)\n",
      "File \u001b[1;32m~\\anaconda3\\envs\\pythonProject\\lib\\site-packages\\pandas\\core\\generic.py:6032\u001b[0m, in \u001b[0;36mNDFrame.copy\u001b[1;34m(self, deep)\u001b[0m\n\u001b[0;32m   5926\u001b[0m \u001b[38;5;129m@final\u001b[39m\n\u001b[0;32m   5927\u001b[0m \u001b[38;5;28;01mdef\u001b[39;00m \u001b[38;5;21mcopy\u001b[39m(\u001b[38;5;28mself\u001b[39m: NDFrameT, deep: bool_t \u001b[38;5;241m=\u001b[39m \u001b[38;5;28;01mTrue\u001b[39;00m) \u001b[38;5;241m-\u001b[39m\u001b[38;5;241m>\u001b[39m NDFrameT:\n\u001b[0;32m   5928\u001b[0m     \u001b[38;5;124;03m\"\"\"\u001b[39;00m\n\u001b[0;32m   5929\u001b[0m \u001b[38;5;124;03m    Make a copy of this object's indices and data.\u001b[39;00m\n\u001b[0;32m   5930\u001b[0m \n\u001b[1;32m   (...)\u001b[0m\n\u001b[0;32m   6030\u001b[0m \u001b[38;5;124;03m    dtype: object\u001b[39;00m\n\u001b[0;32m   6031\u001b[0m \u001b[38;5;124;03m    \"\"\"\u001b[39;00m\n\u001b[1;32m-> 6032\u001b[0m     data \u001b[38;5;241m=\u001b[39m \u001b[38;5;28;43mself\u001b[39;49m\u001b[38;5;241;43m.\u001b[39;49m\u001b[43m_mgr\u001b[49m\u001b[38;5;241;43m.\u001b[39;49m\u001b[43mcopy\u001b[49m\u001b[43m(\u001b[49m\u001b[43mdeep\u001b[49m\u001b[38;5;241;43m=\u001b[39;49m\u001b[43mdeep\u001b[49m\u001b[43m)\u001b[49m\n\u001b[0;32m   6033\u001b[0m     \u001b[38;5;28mself\u001b[39m\u001b[38;5;241m.\u001b[39m_clear_item_cache()\n\u001b[0;32m   6034\u001b[0m     \u001b[38;5;28;01mreturn\u001b[39;00m \u001b[38;5;28mself\u001b[39m\u001b[38;5;241m.\u001b[39m_constructor(data)\u001b[38;5;241m.\u001b[39m__finalize__(\u001b[38;5;28mself\u001b[39m, method\u001b[38;5;241m=\u001b[39m\u001b[38;5;124m\"\u001b[39m\u001b[38;5;124mcopy\u001b[39m\u001b[38;5;124m\"\u001b[39m)\n",
      "File \u001b[1;32m~\\anaconda3\\envs\\pythonProject\\lib\\site-packages\\pandas\\core\\internals\\managers.py:603\u001b[0m, in \u001b[0;36mBaseBlockManager.copy\u001b[1;34m(self, deep)\u001b[0m\n\u001b[0;32m    600\u001b[0m \u001b[38;5;28;01melse\u001b[39;00m:\n\u001b[0;32m    601\u001b[0m     new_axes \u001b[38;5;241m=\u001b[39m \u001b[38;5;28mlist\u001b[39m(\u001b[38;5;28mself\u001b[39m\u001b[38;5;241m.\u001b[39maxes)\n\u001b[1;32m--> 603\u001b[0m res \u001b[38;5;241m=\u001b[39m \u001b[38;5;28;43mself\u001b[39;49m\u001b[38;5;241;43m.\u001b[39;49m\u001b[43mapply\u001b[49m\u001b[43m(\u001b[49m\u001b[38;5;124;43m\"\u001b[39;49m\u001b[38;5;124;43mcopy\u001b[39;49m\u001b[38;5;124;43m\"\u001b[39;49m\u001b[43m,\u001b[49m\u001b[43m \u001b[49m\u001b[43mdeep\u001b[49m\u001b[38;5;241;43m=\u001b[39;49m\u001b[43mdeep\u001b[49m\u001b[43m)\u001b[49m\n\u001b[0;32m    605\u001b[0m res\u001b[38;5;241m.\u001b[39maxes \u001b[38;5;241m=\u001b[39m new_axes\n\u001b[0;32m    607\u001b[0m \u001b[38;5;28;01mif\u001b[39;00m \u001b[38;5;28mself\u001b[39m\u001b[38;5;241m.\u001b[39mndim \u001b[38;5;241m>\u001b[39m \u001b[38;5;241m1\u001b[39m:\n\u001b[0;32m    608\u001b[0m     \u001b[38;5;66;03m# Avoid needing to re-compute these\u001b[39;00m\n",
      "File \u001b[1;32m~\\anaconda3\\envs\\pythonProject\\lib\\site-packages\\pandas\\core\\internals\\managers.py:304\u001b[0m, in \u001b[0;36mBaseBlockManager.apply\u001b[1;34m(self, f, align_keys, ignore_failures, **kwargs)\u001b[0m\n\u001b[0;32m    302\u001b[0m         applied \u001b[38;5;241m=\u001b[39m b\u001b[38;5;241m.\u001b[39mapply(f, \u001b[38;5;241m*\u001b[39m\u001b[38;5;241m*\u001b[39mkwargs)\n\u001b[0;32m    303\u001b[0m     \u001b[38;5;28;01melse\u001b[39;00m:\n\u001b[1;32m--> 304\u001b[0m         applied \u001b[38;5;241m=\u001b[39m \u001b[38;5;28mgetattr\u001b[39m(b, f)(\u001b[38;5;241m*\u001b[39m\u001b[38;5;241m*\u001b[39mkwargs)\n\u001b[0;32m    305\u001b[0m \u001b[38;5;28;01mexcept\u001b[39;00m (\u001b[38;5;167;01mTypeError\u001b[39;00m, \u001b[38;5;167;01mNotImplementedError\u001b[39;00m):\n\u001b[0;32m    306\u001b[0m     \u001b[38;5;28;01mif\u001b[39;00m \u001b[38;5;129;01mnot\u001b[39;00m ignore_failures:\n",
      "File \u001b[1;32m~\\anaconda3\\envs\\pythonProject\\lib\\site-packages\\pandas\\core\\internals\\blocks.py:643\u001b[0m, in \u001b[0;36mBlock.copy\u001b[1;34m(self, deep)\u001b[0m\n\u001b[0;32m    641\u001b[0m values \u001b[38;5;241m=\u001b[39m \u001b[38;5;28mself\u001b[39m\u001b[38;5;241m.\u001b[39mvalues\n\u001b[0;32m    642\u001b[0m \u001b[38;5;28;01mif\u001b[39;00m deep:\n\u001b[1;32m--> 643\u001b[0m     values \u001b[38;5;241m=\u001b[39m \u001b[43mvalues\u001b[49m\u001b[38;5;241;43m.\u001b[39;49m\u001b[43mcopy\u001b[49m\u001b[43m(\u001b[49m\u001b[43m)\u001b[49m\n\u001b[0;32m    644\u001b[0m \u001b[38;5;28;01mreturn\u001b[39;00m \u001b[38;5;28mtype\u001b[39m(\u001b[38;5;28mself\u001b[39m)(values, placement\u001b[38;5;241m=\u001b[39m\u001b[38;5;28mself\u001b[39m\u001b[38;5;241m.\u001b[39m_mgr_locs, ndim\u001b[38;5;241m=\u001b[39m\u001b[38;5;28mself\u001b[39m\u001b[38;5;241m.\u001b[39mndim)\n",
      "\u001b[1;31mMemoryError\u001b[0m: Unable to allocate 2.55 MiB for an array with shape (6, 55688) and data type float64"
     ]
    },
    {
     "data": {
      "image/png": "[encoded data removed]",
      "text/plain": [
       "<Figure size 500x500 with 1 Axes>"
      ]
     },
     "metadata": {},
     "output_type": "display_data"
    }
   ],
   "source": [
    "list_of_fet = list(list_of_fet)\n",
    "\n",
    "fig, ax = plt.subplots(figsize=(5,5))\n",
    "\n",
    "for _ in range(1):\n",
    "    matrix = []\n",
    "    \n",
    "    for i in range(len(list_of_fet)):\n",
    "        lst = list_of_fet.copy()\n",
    "        fet = lst.pop(i)\n",
    "        \n",
    "        ans, loss, loss_mean = train_and_test(lst, 200, .1)\n",
    "        print(i, ans, loss, loss_mean)\n",
    "        \n",
    "        matrix.append((ans, fet))\n",
    "        \n",
    "    \n",
    "        \n",
    "    history1.append((ans, fet))\n",
    "    matrix.sort(key=lambda x: -x[0])\n",
    "    matrix = matrix[:-5]\n",
    "    \n",
    "    list_of_fet = []\n",
    "    for _, x in matrix:\n",
    "        list_of_fet.append(x)\n",
    "        \n",
    "    ans, loss, loss_mean = train_and_test(list_of_fet)\n",
    "    history.append([ans, loss, loss_mean])\n",
    "        \n",
    "    ax.clear()\n",
    "    ax.plot(list_of_fet)\n",
    "    fig.canvas.draw()"
   ]
  },
  {
   "cell_type": "code",
   "execution_count": 33,
   "id": "af9293d5",
   "metadata": {},
   "outputs": [
    {
     "data": {
      "text/plain": [
       "[[30.786907196044922, 3.4646265536654856e-08, 27573.298936445808],\n",
       " [34.55529022216797, 3.2722646207807014e-08, 26768.11809089432],\n",
       " [30.12510108947754, 3.563449064019196e-08, 29421.025648762494]]"
      ]
     },
     "execution_count": 33,
     "metadata": {},
     "output_type": "execute_result"
    }
   ],
   "source": [
    "history"
   ]
  },
  {
   "cell_type": "code",
   "execution_count": 18,
   "id": "96e47b2e",
   "metadata": {},
   "outputs": [],
   "source": [
    "# history = [[30.786907196044922, 3.4646265536654856e-08, 27573.298936445808],\n",
    "#  [34.55529022216797, 3.2722646207807014e-08, 26768.11809089432],\n",
    "#  [30.12510108947754, 3.563449064019196e-08, 29421.025648762494]]"
   ]
  },
  {
   "cell_type": "code",
   "execution_count": 34,
   "id": "9d6c46b6",
   "metadata": {},
   "outputs": [
    {
     "data": {
      "text/plain": [
       "[array([5.e-07, 9.e-07]),\n",
       " array([1.e-06, 5.e-07]),\n",
       " array([4.e-07, 7.e-07]),\n",
       " array([3.e-07, 5.e-07]),\n",
       " array([8.e-07, 4.e-07]),\n",
       " array([4.e-07, 2.e-07]),\n",
       " array([6.e-07, 1.e-06]),\n",
       " array([1.e-06, 4.e-07]),\n",
       " array([7.e-07, 2.e-07]),\n",
       " array([4.e-07, 5.e-07]),\n",
       " array([4.e-07, 6.e-07]),\n",
       " array([2.e-07, 4.e-07]),\n",
       " array([9.e-07, 5.e-07]),\n",
       " array([5.e-07, 8.e-07]),\n",
       " array([8.e-07, 2.e-07]),\n",
       " array([8.e-07, 8.e-07]),\n",
       " array([5.e-07, 7.e-07]),\n",
       " array([4.e-07, 9.e-07]),\n",
       " array([1.e-06, 6.e-07]),\n",
       " array([4.e-07, 8.e-07]),\n",
       " array([6.e-07, 8.e-07]),\n",
       " array([7.e-07, 1.e-06]),\n",
       " array([6.e-07, 9.e-07]),\n",
       " array([9.e-07, 3.e-07]),\n",
       " array([2.e-07, 9.e-07]),\n",
       " array([6.e-07, 5.e-07]),\n",
       " array([6.e-07, 2.e-07]),\n",
       " array([5.e-07, 5.e-07]),\n",
       " array([1.e-06, 3.e-07]),\n",
       " array([3.e-07, 6.e-07]),\n",
       " array([3.e-07, 8.e-07]),\n",
       " array([6.e-07, 4.e-07]),\n",
       " array([7.e-07, 7.e-07]),\n",
       " array([9.e-07, 6.e-07]),\n",
       " array([5.e-07, 6.e-07]),\n",
       " array([4.e-07, 4.e-07]),\n",
       " array([3.e-07, 7.e-07]),\n",
       " array([7.e-07, 4.e-07]),\n",
       " array([5.e-07, 4.e-07]),\n",
       " array([8.e-07, 9.e-07]),\n",
       " array([8.e-07, 5.e-07]),\n",
       " array([3.e-07, 1.e-06]),\n",
       " array([6.e-07, 6.e-07]),\n",
       " array([3.e-07, 2.e-07]),\n",
       " array([3.e-07, 9.e-07]),\n",
       " array([4.e-07, 1.e-06]),\n",
       " array([3.e-07, 3.e-07]),\n",
       " array([4.e-07, 3.e-07]),\n",
       " array([8.e-07, 7.e-07]),\n",
       " array([9.e-07, 1.e-06]),\n",
       " array([7.e-07, 5.e-07]),\n",
       " array([9.e-07, 7.e-07]),\n",
       " array([8.e-07, 3.e-07]),\n",
       " array([1.e-06, 9.e-07]),\n",
       " array([2.e-07, 2.e-07]),\n",
       " array([8.e-07, 6.e-07]),\n",
       " array([1.e-06, 8.e-07]),\n",
       " array([1.e-06, 1.e-06]),\n",
       " array([2.e-07, 8.e-07]),\n",
       " array([7.e-07, 3.e-07]),\n",
       " array([1.e-06, 2.e-07]),\n",
       " array([5.e-07, 1.e-06]),\n",
       " array([9.e-07, 4.e-07]),\n",
       " array([5.e-07, 2.e-07]),\n",
       " array([9.e-07, 9.e-07]),\n",
       " array([9.e-07, 2.e-07]),\n",
       " array([3.e-07, 4.e-07]),\n",
       " array([7.e-07, 6.e-07]),\n",
       " array([9.e-07, 8.e-07]),\n",
       " array([2.e-07, 3.e-07]),\n",
       " array([2.e-07, 7.e-07])]"
      ]
     },
     "execution_count": 34,
     "metadata": {},
     "output_type": "execute_result"
    }
   ],
   "source": [
    "list_of_fet"
   ]
  },
  {
   "cell_type": "code",
   "execution_count": 37,
   "id": "f72145a0",
   "metadata": {},
   "outputs": [],
   "source": [
    "list_of_fet = [[5.e-07, 9.e-07],[1.e-06, 5.e-07],[4.e-07, 7.e-07],[3.e-07, 5.e-07],[8.e-07, 4.e-07],[4.e-07, 2.e-07],[6.e-07, 1.e-06],[1.e-06, 4.e-07],[7.e-07, 2.e-07],[4.e-07, 5.e-07],[4.e-07, 6.e-07],[2.e-07, 4.e-07],[9.e-07, 5.e-07],[5.e-07, 8.e-07],[8.e-07, 2.e-07],[8.e-07, 8.e-07],[5.e-07, 7.e-07],[4.e-07, 9.e-07],[1.e-06, 6.e-07],[4.e-07, 8.e-07],[6.e-07, 8.e-07],[7.e-07, 1.e-06],[6.e-07, 9.e-07],[9.e-07, 3.e-07],[2.e-07, 9.e-07],[6.e-07, 5.e-07],[6.e-07, 2.e-07],[5.e-07, 5.e-07],[1.e-06, 3.e-07],[3.e-07, 6.e-07],[3.e-07, 8.e-07],[6.e-07, 4.e-07],[7.e-07, 7.e-07],[9.e-07, 6.e-07],[5.e-07, 6.e-07],[4.e-07, 4.e-07],[3.e-07, 7.e-07],[7.e-07, 4.e-07],[5.e-07, 4.e-07],[8.e-07, 9.e-07],[8.e-07, 5.e-07],[3.e-07, 1.e-06],[6.e-07, 6.e-07],[3.e-07, 2.e-07],[3.e-07, 9.e-07],[4.e-07, 1.e-06],[3.e-07, 3.e-07],[4.e-07, 3.e-07],[8.e-07, 7.e-07],[9.e-07, 1.e-06],[7.e-07, 5.e-07],[9.e-07, 7.e-07],[8.e-07, 3.e-07],[1.e-06, 9.e-07],[2.e-07, 2.e-07],[8.e-07, 6.e-07],[1.e-06, 8.e-07],[1.e-06, 1.e-06],[2.e-07, 8.e-07],[7.e-07, 3.e-07],[1.e-06, 2.e-07],[5.e-07, 1.e-06],[9.e-07, 4.e-07],[5.e-07, 2.e-07],[9.e-07, 9.e-07],[9.e-07, 2.e-07],[3.e-07, 4.e-07],[7.e-07, 6.e-07],[9.e-07, 8.e-07],[2.e-07, 3.e-07],[2.e-07, 7.e-07]]"
   ]
  },
  {
   "cell_type": "code",
   "execution_count": 38,
   "id": "50bb57d9",
   "metadata": {},
   "outputs": [
    {
     "data": {
      "text/plain": [
       "<matplotlib.collections.PathCollection at 0x17b5a831dc0>"
      ]
     },
     "execution_count": 38,
     "metadata": {},
     "output_type": "execute_result"
    },
    {
     "data": {
      "image/png": "[encoded data removed]",
      "text/plain": [
       "<Figure size 640x480 with 1 Axes>"
      ]
     },
     "metadata": {},
     "output_type": "display_data"
    }
   ],
   "source": [
    "list_of_fet = np.array(list_of_fet)\n",
    "\n",
    "plt.scatter(list_of_fet[:, 0], list_of_fet[:, 1])"
   ]
  },
  {
   "cell_type": "code",
   "execution_count": 36,
   "id": "564d3c60",
   "metadata": {},
   "outputs": [
    {
     "name": "stderr",
     "output_type": "stream",
     "text": [
      "100%|██████████████████████████████████████████████████████████████████████████████| 1491/1491 [00:53<00:00, 27.80it/s]\n"
     ]
    },
    {
     "name": "stdout",
     "output_type": "stream",
     "text": [
      "Learning\n",
      "9/9 [==============================] - 0s 4ms/step - loss: 30.3911 - mse: 0.1060\n",
      "Testing\n",
      "17403/17403 [==============================] - 28s 2ms/step\n",
      "Loss train: 30.3911190032959, MSE: 3.631369807427138e-08, MAPE: 28925.232531281108\n"
     ]
    },
    {
     "data": {
      "text/plain": [
       "(30.3911190032959, 3.631369807427138e-08, 28925.232531281108)"
      ]
     },
     "execution_count": 36,
     "metadata": {},
     "output_type": "execute_result"
    }
   ],
   "source": [
    "train_and_test(list_of_fet)"
   ]
  },
  {
   "cell_type": "code",
   "execution_count": 62,
   "id": "97876199",
   "metadata": {},
   "outputs": [],
   "source": [
    "list_of_fet = [[8.e-07, 4.e-07],[4.e-07, 2.e-07],[6.e-07, 1.e-06],[1.e-06, 4.e-07],\n",
    "               [7.e-07, 2.e-07],[4.e-07, 5.e-07],[4.e-07, 6.e-07],[2.e-07, 4.e-07],\n",
    "               [9.e-07, 5.e-07],[5.e-07, 8.e-07],[8.e-07, 2.e-07],[8.e-07, 8.e-07],\n",
    "               [5.e-07, 7.e-07],[4.e-07, 9.e-07],[1.e-06, 6.e-07],[4.e-07, 8.e-07],\n",
    "               [6.e-07, 8.e-07],[7.e-07, 1.e-06],[6.e-07, 9.e-07],[9.e-07, 3.e-07],\n",
    "               [2.e-07, 9.e-07],[6.e-07, 5.e-07],[6.e-07, 2.e-07],[5.e-07, 5.e-07],\n",
    "               [1.e-06, 3.e-07],[3.e-07, 6.e-07],[3.e-07, 8.e-07],[6.e-07, 4.e-07],\n",
    "               [7.e-07, 7.e-07],[9.e-07, 6.e-07],[5.e-07, 6.e-07],[4.e-07, 4.e-07],\n",
    "               [3.e-07, 7.e-07],[7.e-07, 4.e-07],[5.e-07, 4.e-07],[8.e-07, 9.e-07],\n",
    "               [8.e-07, 5.e-07],[3.e-07, 1.e-06],[6.e-07, 6.e-07],[3.e-07, 2.e-07],\n",
    "               [3.e-07, 9.e-07],[4.e-07, 1.e-06],[3.e-07, 3.e-07],[4.e-07, 3.e-07],\n",
    "               [8.e-07, 7.e-07],[9.e-07, 1.e-06],[7.e-07, 5.e-07],[9.e-07, 7.e-07],\n",
    "               [8.e-07, 3.e-07],[1.e-06, 9.e-07],[2.e-07, 2.e-07],[8.e-07, 6.e-07],\n",
    "               [1.e-06, 8.e-07],[1.e-06, 1.e-06],[2.e-07, 8.e-07],[7.e-07, 3.e-07],\n",
    "               [1.e-06, 2.e-07],[5.e-07, 1.e-06],[9.e-07, 4.e-07],[5.e-07, 2.e-07],\n",
    "               [9.e-07, 9.e-07],[9.e-07, 2.e-07],[3.e-07, 4.e-07],[7.e-07, 6.e-07],\n",
    "               [9.e-07, 8.e-07],[2.e-07, 3.e-07],[2.e-07, 7.e-07]]"
   ]
  },
  {
   "cell_type": "code",
   "execution_count": 59,
   "id": "bdf05e6c",
   "metadata": {},
   "outputs": [
    {
     "name": "stderr",
     "output_type": "stream",
     "text": [
      "100%|██████████████████████████████████████████████████████████████████████████████| 1407/1407 [00:22<00:00, 63.66it/s]\n"
     ]
    },
    {
     "name": "stdout",
     "output_type": "stream",
     "text": [
      "Learning\n",
      "8/8 [==============================] - 0s 4ms/step - loss: 31.0608 - mse: 0.1078\n",
      "Testing\n",
      "1741/1741 [==============================] - 2s 1ms/step\n",
      "Loss train: 31.06080436706543, MSE: 3.15746778560466e-08, MAPE: 23475.36926096944\n"
     ]
    },
    {
     "data": {
      "text/plain": [
       "(31.06080436706543, 3.15746778560466e-08, 23475.36926096944)"
      ]
     },
     "execution_count": 59,
     "metadata": {},
     "output_type": "execute_result"
    }
   ],
   "source": [
    "train_and_test(list_of_fet, 300, .1)"
   ]
  },
  {
   "cell_type": "code",
   "execution_count": 63,
   "id": "6565c32a",
   "metadata": {},
   "outputs": [],
   "source": [
    "list_of_fet = [[7.e-07, 2.e-07],[4.e-07, 5.e-07],[4.e-07, 6.e-07],[2.e-07, 4.e-07],\n",
    "               [9.e-07, 5.e-07],[5.e-07, 8.e-07],[8.e-07, 2.e-07],[8.e-07, 8.e-07],\n",
    "               [5.e-07, 7.e-07],[4.e-07, 9.e-07],[1.e-06, 6.e-07],[4.e-07, 8.e-07],\n",
    "               [6.e-07, 8.e-07],[7.e-07, 1.e-06],[6.e-07, 9.e-07],[9.e-07, 3.e-07],\n",
    "               [2.e-07, 9.e-07],[6.e-07, 5.e-07],[6.e-07, 2.e-07],[5.e-07, 5.e-07],\n",
    "               [1.e-06, 3.e-07],[3.e-07, 6.e-07],[3.e-07, 8.e-07],[6.e-07, 4.e-07],\n",
    "               [7.e-07, 7.e-07],[9.e-07, 6.e-07],[5.e-07, 6.e-07],[4.e-07, 4.e-07],\n",
    "               [3.e-07, 7.e-07],[7.e-07, 4.e-07],[5.e-07, 4.e-07],[8.e-07, 9.e-07],\n",
    "               [8.e-07, 5.e-07],[3.e-07, 1.e-06],[6.e-07, 6.e-07],[3.e-07, 2.e-07],\n",
    "               [3.e-07, 9.e-07],[4.e-07, 1.e-06],[3.e-07, 3.e-07],[4.e-07, 3.e-07],\n",
    "               [8.e-07, 7.e-07],[9.e-07, 1.e-06],[7.e-07, 5.e-07],[9.e-07, 7.e-07],\n",
    "               [8.e-07, 3.e-07],[1.e-06, 9.e-07],[2.e-07, 2.e-07],[8.e-07, 6.e-07],\n",
    "               [1.e-06, 8.e-07],[1.e-06, 1.e-06],[2.e-07, 8.e-07],[7.e-07, 3.e-07],\n",
    "               [1.e-06, 2.e-07],[5.e-07, 1.e-06],[9.e-07, 4.e-07],[5.e-07, 2.e-07],\n",
    "               [9.e-07, 9.e-07],[9.e-07, 2.e-07],[3.e-07, 4.e-07],[7.e-07, 6.e-07],\n",
    "               [9.e-07, 8.e-07],[2.e-07, 3.e-07],[2.e-07, 7.e-07]]"
   ]
  },
  {
   "cell_type": "code",
   "execution_count": 61,
   "id": "e56401e0",
   "metadata": {},
   "outputs": [
    {
     "name": "stderr",
     "output_type": "stream",
     "text": [
      "100%|██████████████████████████████████████████████████████████████████████████████| 1323/1323 [00:20<00:00, 64.03it/s]\n"
     ]
    },
    {
     "name": "stdout",
     "output_type": "stream",
     "text": [
      "Learning\n",
      "8/8 [==============================] - 0s 3ms/step - loss: 33.1454 - mse: 0.1132\n",
      "Testing\n",
      "1741/1741 [==============================] - 3s 2ms/step\n",
      "Loss train: 33.145408630371094, MSE: 2.859853465501378e-08, MAPE: 22153.937579424168\n"
     ]
    },
    {
     "data": {
      "text/plain": [
       "(33.145408630371094, 2.859853465501378e-08, 22153.937579424168)"
      ]
     },
     "execution_count": 61,
     "metadata": {},
     "output_type": "execute_result"
    }
   ],
   "source": [
    "train_and_test(list_of_fet, 300, .1)"
   ]
  },
  {
   "cell_type": "code",
   "execution_count": 65,
   "id": "09f4ee3c",
   "metadata": {},
   "outputs": [
    {
     "data": {
      "text/plain": [
       "63"
      ]
     },
     "execution_count": 65,
     "metadata": {},
     "output_type": "execute_result"
    }
   ],
   "source": [
    "len(list_of_fet)"
   ]
  },
  {
   "cell_type": "code",
   "execution_count": 67,
   "id": "d74c2d21",
   "metadata": {},
   "outputs": [
    {
     "name": "stderr",
     "output_type": "stream",
     "text": [
      "100%|██████████████████████████████████████████████████████████████████████████████| 1302/1302 [00:23<00:00, 54.59it/s]\n"
     ]
    },
    {
     "name": "stdout",
     "output_type": "stream",
     "text": [
      "Learning\n",
      "8/8 [==============================] - 0s 3ms/step - loss: 29.4779 - mse: 0.1145\n",
      "Testing\n",
      "1741/1741 [==============================] - 3s 2ms/step\n",
      "Loss train: 29.477933883666992, MSE: 2.858412759767229e-08, MAPE: 22020.36644204219\n",
      "0 29.477933883666992 2.858412759767229e-08 22020.36644204219\n"
     ]
    },
    {
     "name": "stderr",
     "output_type": "stream",
     "text": [
      "100%|██████████████████████████████████████████████████████████████████████████████| 1302/1302 [00:37<00:00, 34.32it/s]\n"
     ]
    },
    {
     "name": "stdout",
     "output_type": "stream",
     "text": [
      "Learning\n",
      "8/8 [==============================] - 0s 5ms/step - loss: 30.0766 - mse: 0.1200\n",
      "Testing\n",
      "1741/1741 [==============================] - 5s 3ms/step\n",
      "Loss train: 30.076602935791016, MSE: 2.6906889594122192e-08, MAPE: 18143.442017334408\n",
      "1 30.076602935791016 2.6906889594122192e-08 18143.442017334408\n"
     ]
    },
    {
     "name": "stderr",
     "output_type": "stream",
     "text": [
      "100%|██████████████████████████████████████████████████████████████████████████████| 1302/1302 [00:23<00:00, 54.37it/s]\n"
     ]
    },
    {
     "name": "stdout",
     "output_type": "stream",
     "text": [
      "Learning\n",
      "8/8 [==============================] - 0s 4ms/step - loss: 30.5864 - mse: 0.1190\n",
      "Testing\n",
      "1741/1741 [==============================] - 3s 2ms/step\n",
      "Loss train: 30.586366653442383, MSE: 2.7195418458308574e-08, MAPE: 18162.48445314965\n",
      "2 30.586366653442383 2.7195418458308574e-08 18162.48445314965\n"
     ]
    },
    {
     "name": "stderr",
     "output_type": "stream",
     "text": [
      "100%|██████████████████████████████████████████████████████████████████████████████| 1302/1302 [00:24<00:00, 54.04it/s]\n"
     ]
    },
    {
     "name": "stdout",
     "output_type": "stream",
     "text": [
      "Learning\n",
      "8/8 [==============================] - 0s 4ms/step - loss: 32.6489 - mse: 0.1328\n",
      "Testing\n",
      "1741/1741 [==============================] - 3s 2ms/step\n",
      "Loss train: 32.648860931396484, MSE: 2.8494815771440132e-08, MAPE: 16291.577033043215\n",
      "3 32.648860931396484 2.8494815771440132e-08 16291.577033043215\n"
     ]
    },
    {
     "name": "stderr",
     "output_type": "stream",
     "text": [
      "100%|██████████████████████████████████████████████████████████████████████████████| 1302/1302 [00:24<00:00, 53.58it/s]\n"
     ]
    },
    {
     "name": "stdout",
     "output_type": "stream",
     "text": [
      "Learning\n",
      "8/8 [==============================] - 0s 3ms/step - loss: 30.5976 - mse: 0.1206\n",
      "Testing\n",
      "1741/1741 [==============================] - 2s 1ms/step\n",
      "Loss train: 30.59763526916504, MSE: 3.1684652026009997e-08, MAPE: 23095.03619963527\n",
      "4 30.59763526916504 3.1684652026009997e-08 23095.03619963527\n"
     ]
    },
    {
     "name": "stderr",
     "output_type": "stream",
     "text": [
      "100%|██████████████████████████████████████████████████████████████████████████████| 1302/1302 [00:22<00:00, 58.66it/s]\n"
     ]
    },
    {
     "name": "stdout",
     "output_type": "stream",
     "text": [
      "Learning\n",
      "8/8 [==============================] - 0s 3ms/step - loss: 30.5558 - mse: 0.1185\n",
      "Testing\n",
      "1741/1741 [==============================] - 2s 1ms/step\n",
      "Loss train: 30.555774688720703, MSE: 2.5997675375393542e-08, MAPE: 17462.465131839803\n",
      "5 30.555774688720703 2.5997675375393542e-08 17462.465131839803\n"
     ]
    },
    {
     "name": "stderr",
     "output_type": "stream",
     "text": [
      "100%|██████████████████████████████████████████████████████████████████████████████| 1302/1302 [00:23<00:00, 56.26it/s]\n"
     ]
    },
    {
     "name": "stdout",
     "output_type": "stream",
     "text": [
      "Learning\n",
      "8/8 [==============================] - 0s 4ms/step - loss: 30.7248 - mse: 0.1177\n",
      "Testing\n",
      "1741/1741 [==============================] - 3s 2ms/step\n",
      "Loss train: 30.724794387817383, MSE: 2.7502271968617645e-08, MAPE: 19740.724282792427\n",
      "6 30.724794387817383 2.7502271968617645e-08 19740.724282792427\n"
     ]
    },
    {
     "name": "stderr",
     "output_type": "stream",
     "text": [
      "100%|██████████████████████████████████████████████████████████████████████████████| 1302/1302 [00:25<00:00, 51.97it/s]\n"
     ]
    },
    {
     "name": "stdout",
     "output_type": "stream",
     "text": [
      "Learning\n",
      "8/8 [==============================] - 0s 3ms/step - loss: 31.8615 - mse: 0.1230\n",
      "Testing\n",
      "1741/1741 [==============================] - 2s 1ms/step\n",
      "Loss train: 31.861461639404297, MSE: 2.7660139002005968e-08, MAPE: 19446.87324898297\n",
      "7 31.861461639404297 2.7660139002005968e-08 19446.87324898297\n"
     ]
    },
    {
     "name": "stderr",
     "output_type": "stream",
     "text": [
      "100%|██████████████████████████████████████████████████████████████████████████████| 1302/1302 [00:24<00:00, 53.07it/s]\n"
     ]
    },
    {
     "name": "stdout",
     "output_type": "stream",
     "text": [
      "Learning\n",
      "8/8 [==============================] - 0s 3ms/step - loss: 30.2206 - mse: 0.1162\n",
      "Testing\n",
      "1741/1741 [==============================] - 2s 1ms/step\n",
      "Loss train: 30.220645904541016, MSE: 2.773423100014237e-08, MAPE: 20478.906491671998\n",
      "8 30.220645904541016 2.773423100014237e-08 20478.906491671998\n"
     ]
    },
    {
     "name": "stderr",
     "output_type": "stream",
     "text": [
      "100%|██████████████████████████████████████████████████████████████████████████████| 1302/1302 [00:24<00:00, 52.25it/s]\n"
     ]
    },
    {
     "name": "stdout",
     "output_type": "stream",
     "text": [
      "Learning\n",
      "8/8 [==============================] - 0s 3ms/step - loss: 29.9277 - mse: 0.1190\n",
      "Testing\n",
      "1741/1741 [==============================] - 2s 1ms/step\n",
      "Loss train: 29.92766761779785, MSE: 2.7576334518695937e-08, MAPE: 16657.745052741757\n",
      "9 29.92766761779785 2.7576334518695937e-08 16657.745052741757\n"
     ]
    },
    {
     "name": "stderr",
     "output_type": "stream",
     "text": [
      "100%|██████████████████████████████████████████████████████████████████████████████| 1302/1302 [00:25<00:00, 50.44it/s]\n"
     ]
    },
    {
     "name": "stdout",
     "output_type": "stream",
     "text": [
      "Learning\n",
      "8/8 [==============================] - 0s 4ms/step - loss: 30.1580 - mse: 0.1188\n",
      "Testing\n",
      "1741/1741 [==============================] - 4s 2ms/step\n",
      "Loss train: 30.157983779907227, MSE: 2.7108442734353033e-08, MAPE: 20125.34182410335\n",
      "10 30.157983779907227 2.7108442734353033e-08 20125.34182410335\n"
     ]
    },
    {
     "name": "stderr",
     "output_type": "stream",
     "text": [
      "100%|██████████████████████████████████████████████████████████████████████████████| 1302/1302 [00:46<00:00, 28.27it/s]\n"
     ]
    },
    {
     "name": "stdout",
     "output_type": "stream",
     "text": [
      "Learning\n",
      "8/8 [==============================] - 0s 7ms/step - loss: 61.6190 - mse: 0.3521\n",
      "Testing\n",
      "1741/1741 [==============================] - 7s 4ms/step\n",
      "Loss train: 61.61895751953125, MSE: 3.338663436381904e-08, MAPE: 25405.55980666461\n",
      "11 61.61895751953125 3.338663436381904e-08 25405.55980666461\n"
     ]
    },
    {
     "name": "stderr",
     "output_type": "stream",
     "text": [
      "100%|██████████████████████████████████████████████████████████████████████████████| 1302/1302 [00:52<00:00, 24.60it/s]\n"
     ]
    },
    {
     "name": "stdout",
     "output_type": "stream",
     "text": [
      "Learning\n",
      "8/8 [==============================] - 0s 5ms/step - loss: 30.2081 - mse: 0.1187\n",
      "Testing\n",
      "1741/1741 [==============================] - 5s 3ms/step\n",
      "Loss train: 30.208126068115234, MSE: 2.650490102304283e-08, MAPE: 18805.690235071914\n",
      "12 30.208126068115234 2.650490102304283e-08 18805.690235071914\n"
     ]
    },
    {
     "name": "stderr",
     "output_type": "stream",
     "text": [
      "100%|██████████████████████████████████████████████████████████████████████████████| 1302/1302 [00:48<00:00, 27.04it/s]\n"
     ]
    },
    {
     "name": "stdout",
     "output_type": "stream",
     "text": [
      "Learning\n",
      "8/8 [==============================] - 0s 5ms/step - loss: 31.8356 - mse: 0.1225\n",
      "Testing\n",
      "1741/1741 [==============================] - 4s 2ms/step\n",
      "Loss train: 31.83559226989746, MSE: 2.8252146040328748e-08, MAPE: 21159.116249597915\n",
      "13 31.83559226989746 2.8252146040328748e-08 21159.116249597915\n"
     ]
    },
    {
     "name": "stderr",
     "output_type": "stream",
     "text": [
      "100%|██████████████████████████████████████████████████████████████████████████████| 1302/1302 [00:41<00:00, 31.63it/s]\n"
     ]
    },
    {
     "name": "stdout",
     "output_type": "stream",
     "text": [
      "Learning\n",
      "8/8 [==============================] - 0s 6ms/step - loss: 30.5183 - mse: 0.1182\n",
      "Testing\n",
      "1741/1741 [==============================] - 5s 3ms/step\n",
      "Loss train: 30.518325805664062, MSE: 2.753678547221323e-08, MAPE: 19583.53351249189\n",
      "14 30.518325805664062 2.753678547221323e-08 19583.53351249189\n"
     ]
    },
    {
     "name": "stderr",
     "output_type": "stream",
     "text": [
      "100%|██████████████████████████████████████████████████████████████████████████████| 1302/1302 [00:41<00:00, 31.65it/s]\n"
     ]
    },
    {
     "name": "stdout",
     "output_type": "stream",
     "text": [
      "Learning\n",
      "8/8 [==============================] - 0s 4ms/step - loss: 29.7113 - mse: 0.1155\n",
      "Testing\n",
      "1741/1741 [==============================] - 7s 4ms/step\n",
      "Loss train: 29.711286544799805, MSE: 2.7200117099699285e-08, MAPE: 19407.183020395685\n",
      "15 29.711286544799805 2.7200117099699285e-08 19407.183020395685\n"
     ]
    },
    {
     "name": "stderr",
     "output_type": "stream",
     "text": [
      "100%|██████████████████████████████████████████████████████████████████████████████| 1302/1302 [00:42<00:00, 30.46it/s]\n"
     ]
    },
    {
     "name": "stdout",
     "output_type": "stream",
     "text": [
      "Learning\n",
      "8/8 [==============================] - 0s 4ms/step - loss: 27.2505 - mse: 0.1100\n",
      "Testing\n",
      "1741/1741 [==============================] - 4s 2ms/step\n",
      "Loss train: 27.25048065185547, MSE: 3.19348558491156e-08, MAPE: 24189.944170787337\n",
      "16 27.25048065185547 3.19348558491156e-08 24189.944170787337\n"
     ]
    },
    {
     "name": "stderr",
     "output_type": "stream",
     "text": [
      "100%|██████████████████████████████████████████████████████████████████████████████| 1302/1302 [00:37<00:00, 34.28it/s]\n"
     ]
    },
    {
     "name": "stdout",
     "output_type": "stream",
     "text": [
      "Learning\n",
      "8/8 [==============================] - 0s 5ms/step - loss: 34.4357 - mse: 0.1202\n",
      "Testing\n",
      "1741/1741 [==============================] - 5s 3ms/step\n",
      "Loss train: 34.43574142456055, MSE: 2.6645350888060646e-08, MAPE: 18374.22477295545\n",
      "17 34.43574142456055 2.6645350888060646e-08 18374.22477295545\n"
     ]
    },
    {
     "name": "stderr",
     "output_type": "stream",
     "text": [
      "100%|██████████████████████████████████████████████████████████████████████████████| 1302/1302 [00:43<00:00, 30.26it/s]\n"
     ]
    },
    {
     "name": "stdout",
     "output_type": "stream",
     "text": [
      "Learning\n",
      "8/8 [==============================] - 0s 4ms/step - loss: 35.4189 - mse: 0.1136\n",
      "Testing\n",
      "1741/1741 [==============================] - 5s 3ms/step\n",
      "Loss train: 35.41889953613281, MSE: 2.971054162602613e-08, MAPE: 22721.26710033031\n",
      "18 35.41889953613281 2.971054162602613e-08 22721.26710033031\n"
     ]
    },
    {
     "name": "stderr",
     "output_type": "stream",
     "text": [
      "100%|██████████████████████████████████████████████████████████████████████████████| 1302/1302 [00:55<00:00, 23.67it/s]\n"
     ]
    },
    {
     "name": "stdout",
     "output_type": "stream",
     "text": [
      "Learning\n",
      "8/8 [==============================] - 0s 5ms/step - loss: 35.6858 - mse: 0.1172\n",
      "Testing\n",
      "1741/1741 [==============================] - 5s 3ms/step\n",
      "Loss train: 35.68581008911133, MSE: 2.869385737425242e-08, MAPE: 21447.932415932723\n",
      "19 35.68581008911133 2.869385737425242e-08 21447.932415932723\n"
     ]
    },
    {
     "name": "stderr",
     "output_type": "stream",
     "text": [
      "100%|██████████████████████████████████████████████████████████████████████████████| 1302/1302 [00:43<00:00, 29.68it/s]\n"
     ]
    },
    {
     "name": "stdout",
     "output_type": "stream",
     "text": [
      "Learning\n",
      "8/8 [==============================] - 0s 4ms/step - loss: 33.3674 - mse: 0.1151\n",
      "Testing\n",
      "1741/1741 [==============================] - 4s 2ms/step\n",
      "Loss train: 33.36741256713867, MSE: 2.920443550187092e-08, MAPE: 22724.711480347276\n",
      "20 33.36741256713867 2.920443550187092e-08 22724.711480347276\n"
     ]
    },
    {
     "name": "stderr",
     "output_type": "stream",
     "text": [
      "100%|██████████████████████████████████████████████████████████████████████████████| 1302/1302 [00:41<00:00, 31.43it/s]\n"
     ]
    },
    {
     "name": "stdout",
     "output_type": "stream",
     "text": [
      "Learning\n",
      "8/8 [==============================] - 0s 3ms/step - loss: 44.8373 - mse: 0.1197\n",
      "Testing\n",
      "1741/1741 [==============================] - 4s 2ms/step\n",
      "Loss train: 44.8372688293457, MSE: 3.2553533951067395e-08, MAPE: 26548.58938300866\n",
      "21 44.8372688293457 3.2553533951067395e-08 26548.58938300866\n"
     ]
    },
    {
     "name": "stderr",
     "output_type": "stream",
     "text": [
      "100%|██████████████████████████████████████████████████████████████████████████████| 1302/1302 [00:45<00:00, 28.47it/s]\n"
     ]
    },
    {
     "name": "stdout",
     "output_type": "stream",
     "text": [
      "Learning\n",
      "8/8 [==============================] - 0s 3ms/step - loss: 37.1066 - mse: 0.1139\n",
      "Testing\n",
      "1741/1741 [==============================] - 4s 2ms/step\n",
      "Loss train: 37.10662841796875, MSE: 3.1073087867545896e-08, MAPE: 24128.78908541745\n",
      "22 37.10662841796875 3.1073087867545896e-08 24128.78908541745\n"
     ]
    },
    {
     "name": "stderr",
     "output_type": "stream",
     "text": [
      "100%|██████████████████████████████████████████████████████████████████████████████| 1302/1302 [00:37<00:00, 34.95it/s]\n"
     ]
    },
    {
     "name": "stdout",
     "output_type": "stream",
     "text": [
      "Learning\n",
      "8/8 [==============================] - 0s 5ms/step - loss: 39.9621 - mse: 0.1356\n",
      "Testing\n",
      "1741/1741 [==============================] - 4s 2ms/step\n",
      "Loss train: 39.96205139160156, MSE: 2.3271735100998574e-08, MAPE: 11502.941638284774\n",
      "23 39.96205139160156 2.3271735100998574e-08 11502.941638284774\n"
     ]
    },
    {
     "name": "stderr",
     "output_type": "stream",
     "text": [
      "100%|██████████████████████████████████████████████████████████████████████████████| 1302/1302 [00:36<00:00, 35.89it/s]\n"
     ]
    },
    {
     "name": "stdout",
     "output_type": "stream",
     "text": [
      "Learning\n",
      "8/8 [==============================] - 0s 4ms/step - loss: 35.5064 - mse: 0.1166\n",
      "Testing\n",
      "1741/1741 [==============================] - 4s 2ms/step\n",
      "Loss train: 35.50637435913086, MSE: 2.7708651185141075e-08, MAPE: 18726.052599326307\n",
      "24 35.50637435913086 2.7708651185141075e-08 18726.052599326307\n"
     ]
    },
    {
     "name": "stderr",
     "output_type": "stream",
     "text": [
      "100%|██████████████████████████████████████████████████████████████████████████████| 1302/1302 [00:38<00:00, 33.47it/s]\n"
     ]
    },
    {
     "name": "stdout",
     "output_type": "stream",
     "text": [
      "Learning\n",
      "8/8 [==============================] - 0s 4ms/step - loss: 34.4256 - mse: 0.1213\n",
      "Testing\n",
      "1741/1741 [==============================] - 4s 2ms/step\n",
      "Loss train: 34.425594329833984, MSE: 2.48688212339395e-08, MAPE: 15293.91293573674\n",
      "25 34.425594329833984 2.48688212339395e-08 15293.91293573674\n"
     ]
    },
    {
     "name": "stderr",
     "output_type": "stream",
     "text": [
      "100%|██████████████████████████████████████████████████████████████████████████████| 1302/1302 [00:34<00:00, 37.63it/s]\n"
     ]
    },
    {
     "name": "stdout",
     "output_type": "stream",
     "text": [
      "Learning\n",
      "8/8 [==============================] - 0s 4ms/step - loss: 34.5575 - mse: 0.1180\n",
      "Testing\n",
      "1741/1741 [==============================] - 4s 2ms/step\n",
      "Loss train: 34.55748748779297, MSE: 3.0600590809944814e-08, MAPE: 24224.593201724067\n",
      "26 34.55748748779297 3.0600590809944814e-08 24224.593201724067\n"
     ]
    },
    {
     "name": "stderr",
     "output_type": "stream",
     "text": [
      "100%|██████████████████████████████████████████████████████████████████████████████| 1302/1302 [00:39<00:00, 32.69it/s]\n"
     ]
    },
    {
     "name": "stdout",
     "output_type": "stream",
     "text": [
      "Learning\n",
      "8/8 [==============================] - 0s 5ms/step - loss: 36.3213 - mse: 0.1150\n",
      "Testing\n",
      "1741/1741 [==============================] - 4s 3ms/step\n",
      "Loss train: 36.3212776184082, MSE: 2.773924570412288e-08, MAPE: 20372.02722028271\n",
      "27 36.3212776184082 2.773924570412288e-08 20372.02722028271\n"
     ]
    },
    {
     "name": "stderr",
     "output_type": "stream",
     "text": [
      "100%|██████████████████████████████████████████████████████████████████████████████| 1302/1302 [00:40<00:00, 31.83it/s]\n"
     ]
    },
    {
     "name": "stdout",
     "output_type": "stream",
     "text": [
      "Learning\n",
      "8/8 [==============================] - 0s 4ms/step - loss: 38.5998 - mse: 0.1147\n",
      "Testing\n",
      "1741/1741 [==============================] - 4s 2ms/step\n",
      "Loss train: 38.59978103637695, MSE: 3.3031616688893204e-08, MAPE: 26060.11338176235\n",
      "28 38.59978103637695 3.3031616688893204e-08 26060.11338176235\n"
     ]
    },
    {
     "name": "stderr",
     "output_type": "stream",
     "text": [
      "100%|██████████████████████████████████████████████████████████████████████████████| 1302/1302 [00:40<00:00, 31.98it/s]\n"
     ]
    },
    {
     "name": "stdout",
     "output_type": "stream",
     "text": [
      "Learning\n",
      "8/8 [==============================] - 0s 5ms/step - loss: 37.8786 - mse: 0.1185\n",
      "Testing\n",
      "1741/1741 [==============================] - 4s 2ms/step\n",
      "Loss train: 37.87864303588867, MSE: 3.093290626142658e-08, MAPE: 22704.611313343237\n",
      "29 37.87864303588867 3.093290626142658e-08 22704.611313343237\n"
     ]
    },
    {
     "name": "stderr",
     "output_type": "stream",
     "text": [
      "100%|██████████████████████████████████████████████████████████████████████████████| 1302/1302 [00:40<00:00, 31.90it/s]\n"
     ]
    },
    {
     "name": "stdout",
     "output_type": "stream",
     "text": [
      "Learning\n",
      "8/8 [==============================] - 0s 4ms/step - loss: 33.0232 - mse: 0.1203\n",
      "Testing\n",
      "1741/1741 [==============================] - 4s 2ms/step\n",
      "Loss train: 33.0231819152832, MSE: 2.9048640836046886e-08, MAPE: 20174.524162269696\n",
      "30 33.0231819152832 2.9048640836046886e-08 20174.524162269696\n"
     ]
    },
    {
     "name": "stderr",
     "output_type": "stream",
     "text": [
      "100%|██████████████████████████████████████████████████████████████████████████████| 1302/1302 [00:42<00:00, 30.56it/s]\n"
     ]
    },
    {
     "name": "stdout",
     "output_type": "stream",
     "text": [
      "Learning\n",
      "8/8 [==============================] - 0s 4ms/step - loss: 37.2968 - mse: 0.1145\n",
      "Testing\n",
      "1741/1741 [==============================] - 5s 3ms/step\n",
      "Loss train: 37.29680633544922, MSE: 2.7752279895535932e-08, MAPE: 21854.820857714305\n",
      "31 37.29680633544922 2.7752279895535932e-08 21854.820857714305\n"
     ]
    },
    {
     "name": "stderr",
     "output_type": "stream",
     "text": [
      "100%|██████████████████████████████████████████████████████████████████████████████| 1302/1302 [00:37<00:00, 34.78it/s]\n"
     ]
    },
    {
     "name": "stdout",
     "output_type": "stream",
     "text": [
      "Learning\n",
      "8/8 [==============================] - 0s 4ms/step - loss: 35.5227 - mse: 0.1187\n",
      "Testing\n",
      "1741/1741 [==============================] - 5s 3ms/step\n",
      "Loss train: 35.52268600463867, MSE: 2.5762438290366795e-08, MAPE: 17343.46949193436\n",
      "32 35.52268600463867 2.5762438290366795e-08 17343.46949193436\n"
     ]
    },
    {
     "name": "stderr",
     "output_type": "stream",
     "text": [
      "100%|██████████████████████████████████████████████████████████████████████████████| 1302/1302 [00:42<00:00, 30.30it/s]\n"
     ]
    },
    {
     "name": "stdout",
     "output_type": "stream",
     "text": [
      "Learning\n",
      "8/8 [==============================] - 0s 3ms/step - loss: 33.3970 - mse: 0.1133\n",
      "Testing\n",
      "1741/1741 [==============================] - 4s 2ms/step\n",
      "Loss train: 33.396976470947266, MSE: 3.0599450335481096e-08, MAPE: 23404.229020958668\n",
      "33 33.396976470947266 3.0599450335481096e-08 23404.229020958668\n"
     ]
    },
    {
     "name": "stderr",
     "output_type": "stream",
     "text": [
      "100%|██████████████████████████████████████████████████████████████████████████████| 1302/1302 [00:38<00:00, 33.93it/s]\n"
     ]
    },
    {
     "name": "stdout",
     "output_type": "stream",
     "text": [
      "Learning\n",
      "8/8 [==============================] - 0s 4ms/step - loss: 34.2349 - mse: 0.1138\n",
      "Testing\n",
      "1741/1741 [==============================] - 4s 2ms/step\n",
      "Loss train: 34.23491287231445, MSE: 2.9355846081643864e-08, MAPE: 22309.6619099311\n",
      "34 34.23491287231445 2.9355846081643864e-08 22309.6619099311\n"
     ]
    },
    {
     "name": "stderr",
     "output_type": "stream",
     "text": [
      "100%|██████████████████████████████████████████████████████████████████████████████| 1302/1302 [00:42<00:00, 30.41it/s]\n"
     ]
    },
    {
     "name": "stdout",
     "output_type": "stream",
     "text": [
      "Learning\n",
      "8/8 [==============================] - 0s 3ms/step - loss: 33.4912 - mse: 0.1189\n",
      "Testing\n",
      "1741/1741 [==============================] - 4s 3ms/step\n",
      "Loss train: 33.491241455078125, MSE: 2.7972902249137947e-08, MAPE: 19615.474388757204\n",
      "35 33.491241455078125 2.7972902249137947e-08 19615.474388757204\n"
     ]
    },
    {
     "name": "stderr",
     "output_type": "stream",
     "text": [
      "100%|██████████████████████████████████████████████████████████████████████████████| 1302/1302 [00:43<00:00, 29.69it/s]\n"
     ]
    },
    {
     "name": "stdout",
     "output_type": "stream",
     "text": [
      "Learning\n",
      "8/8 [==============================] - 0s 4ms/step - loss: 37.4210 - mse: 0.1126\n",
      "Testing\n",
      "1741/1741 [==============================] - 4s 2ms/step\n",
      "Loss train: 37.42103576660156, MSE: 3.0865463266692225e-08, MAPE: 24577.944311871626\n",
      "36 37.42103576660156 3.0865463266692225e-08 24577.944311871626\n"
     ]
    },
    {
     "name": "stderr",
     "output_type": "stream",
     "text": [
      "100%|██████████████████████████████████████████████████████████████████████████████| 1302/1302 [00:43<00:00, 29.64it/s]\n"
     ]
    },
    {
     "name": "stdout",
     "output_type": "stream",
     "text": [
      "Learning\n",
      "8/8 [==============================] - 0s 4ms/step - loss: 36.5625 - mse: 0.1148\n",
      "Testing\n",
      "1741/1741 [==============================] - 5s 3ms/step\n",
      "Loss train: 36.562503814697266, MSE: 3.3181078561079875e-08, MAPE: 26860.123376939137\n",
      "37 36.562503814697266 3.3181078561079875e-08 26860.123376939137\n"
     ]
    },
    {
     "name": "stderr",
     "output_type": "stream",
     "text": [
      "100%|██████████████████████████████████████████████████████████████████████████████| 1302/1302 [00:48<00:00, 27.09it/s]\n"
     ]
    },
    {
     "name": "stdout",
     "output_type": "stream",
     "text": [
      "Learning\n",
      "8/8 [==============================] - 0s 5ms/step - loss: 33.1065 - mse: 0.1154\n",
      "Testing\n",
      "1741/1741 [==============================] - 5s 3ms/step\n",
      "Loss train: 33.10649871826172, MSE: 3.004053010762302e-08, MAPE: 22094.083869879243\n",
      "38 33.10649871826172 3.004053010762302e-08 22094.083869879243\n"
     ]
    },
    {
     "name": "stderr",
     "output_type": "stream",
     "text": [
      "100%|██████████████████████████████████████████████████████████████████████████████| 1302/1302 [00:44<00:00, 29.50it/s]\n"
     ]
    },
    {
     "name": "stdout",
     "output_type": "stream",
     "text": [
      "Learning\n",
      "8/8 [==============================] - 0s 5ms/step - loss: 32.9312 - mse: 0.1188\n",
      "Testing\n",
      "1741/1741 [==============================] - 4s 2ms/step\n",
      "Loss train: 32.93121337890625, MSE: 2.6500988128409718e-08, MAPE: 18537.16963800702\n",
      "39 32.93121337890625 2.6500988128409718e-08 18537.16963800702\n"
     ]
    },
    {
     "name": "stderr",
     "output_type": "stream",
     "text": [
      "100%|██████████████████████████████████████████████████████████████████████████████| 1302/1302 [00:38<00:00, 34.24it/s]\n"
     ]
    },
    {
     "name": "stdout",
     "output_type": "stream",
     "text": [
      "Learning\n",
      "8/8 [==============================] - 0s 3ms/step - loss: 34.4644 - mse: 0.1192\n",
      "Testing\n",
      "1741/1741 [==============================] - 3s 2ms/step\n",
      "Loss train: 34.46435546875, MSE: 2.5574111214108022e-08, MAPE: 16502.764287189337\n",
      "40 34.46435546875 2.5574111214108022e-08 16502.764287189337\n"
     ]
    },
    {
     "name": "stderr",
     "output_type": "stream",
     "text": [
      "100%|██████████████████████████████████████████████████████████████████████████████| 1302/1302 [00:38<00:00, 33.71it/s]\n"
     ]
    },
    {
     "name": "stdout",
     "output_type": "stream",
     "text": [
      "Learning\n",
      "8/8 [==============================] - 0s 4ms/step - loss: 33.8333 - mse: 0.1151\n",
      "Testing\n",
      "1741/1741 [==============================] - 4s 2ms/step\n",
      "Loss train: 33.83333206176758, MSE: 3.185599593191732e-08, MAPE: 23650.58496498457\n",
      "41 33.83333206176758 3.185599593191732e-08 23650.58496498457\n"
     ]
    },
    {
     "name": "stderr",
     "output_type": "stream",
     "text": [
      "100%|██████████████████████████████████████████████████████████████████████████████| 1302/1302 [00:38<00:00, 33.65it/s]\n"
     ]
    },
    {
     "name": "stdout",
     "output_type": "stream",
     "text": [
      "Learning\n",
      "8/8 [==============================] - 0s 4ms/step - loss: 32.7692 - mse: 0.1298\n",
      "Testing\n",
      "1741/1741 [==============================] - 4s 2ms/step\n",
      "Loss train: 32.7691764831543, MSE: 2.5226957935452223e-08, MAPE: 14957.057134182463\n",
      "42 32.7691764831543 2.5226957935452223e-08 14957.057134182463\n"
     ]
    },
    {
     "name": "stderr",
     "output_type": "stream",
     "text": [
      "100%|██████████████████████████████████████████████████████████████████████████████| 1302/1302 [00:40<00:00, 32.11it/s]\n"
     ]
    },
    {
     "name": "stdout",
     "output_type": "stream",
     "text": [
      "Learning\n",
      "8/8 [==============================] - 0s 4ms/step - loss: 35.7737 - mse: 0.1315\n",
      "Testing\n",
      "1741/1741 [==============================] - 4s 2ms/step\n",
      "Loss train: 35.773738861083984, MSE: 2.3691643346872433e-08, MAPE: 15649.504924962675\n",
      "43 35.773738861083984 2.3691643346872433e-08 15649.504924962675\n"
     ]
    },
    {
     "name": "stderr",
     "output_type": "stream",
     "text": [
      "100%|██████████████████████████████████████████████████████████████████████████████| 1302/1302 [00:40<00:00, 32.10it/s]\n"
     ]
    },
    {
     "name": "stdout",
     "output_type": "stream",
     "text": [
      "Learning\n",
      "8/8 [==============================] - 0s 4ms/step - loss: 36.0293 - mse: 0.1142\n",
      "Testing\n",
      "1741/1741 [==============================] - 5s 3ms/step\n",
      "Loss train: 36.029319763183594, MSE: 2.9975015879559115e-08, MAPE: 24408.506548240384\n",
      "44 36.029319763183594 2.9975015879559115e-08 24408.506548240384\n"
     ]
    },
    {
     "name": "stderr",
     "output_type": "stream",
     "text": [
      "100%|██████████████████████████████████████████████████████████████████████████████| 1302/1302 [00:45<00:00, 28.86it/s]\n"
     ]
    },
    {
     "name": "stdout",
     "output_type": "stream",
     "text": [
      "Learning\n",
      "8/8 [==============================] - 0s 5ms/step - loss: 33.8747 - mse: 0.1170\n",
      "Testing\n",
      "1741/1741 [==============================] - 4s 2ms/step\n",
      "Loss train: 33.87474060058594, MSE: 2.9431477289170276e-08, MAPE: 19261.905215290302\n",
      "45 33.87474060058594 2.9431477289170276e-08 19261.905215290302\n"
     ]
    },
    {
     "name": "stderr",
     "output_type": "stream",
     "text": [
      "100%|██████████████████████████████████████████████████████████████████████████████| 1302/1302 [00:41<00:00, 31.21it/s]\n"
     ]
    },
    {
     "name": "stdout",
     "output_type": "stream",
     "text": [
      "Learning\n",
      "8/8 [==============================] - 0s 5ms/step - loss: 36.5952 - mse: 0.1163\n",
      "Testing\n",
      "1741/1741 [==============================] - 4s 3ms/step\n",
      "Loss train: 36.595218658447266, MSE: 3.227835891997825e-08, MAPE: 23564.967715999304\n",
      "46 36.595218658447266 3.227835891997825e-08 23564.967715999304\n"
     ]
    },
    {
     "name": "stderr",
     "output_type": "stream",
     "text": [
      "100%|██████████████████████████████████████████████████████████████████████████████| 1302/1302 [00:44<00:00, 29.25it/s]\n"
     ]
    },
    {
     "name": "stdout",
     "output_type": "stream",
     "text": [
      "Learning\n",
      "8/8 [==============================] - 0s 4ms/step - loss: 39.0146 - mse: 0.1400\n",
      "Testing\n",
      "1741/1741 [==============================] - 4s 2ms/step\n",
      "Loss train: 39.01464080810547, MSE: 2.2985297342598198e-08, MAPE: 12044.583592289548\n",
      "47 39.01464080810547 2.2985297342598198e-08 12044.583592289548\n"
     ]
    },
    {
     "name": "stderr",
     "output_type": "stream",
     "text": [
      "100%|██████████████████████████████████████████████████████████████████████████████| 1302/1302 [00:42<00:00, 30.77it/s]\n"
     ]
    },
    {
     "name": "stdout",
     "output_type": "stream",
     "text": [
      "Learning\n",
      "8/8 [==============================] - 0s 5ms/step - loss: 38.8416 - mse: 0.1253\n",
      "Testing\n",
      "1741/1741 [==============================] - 5s 3ms/step\n",
      "Loss train: 38.84162902832031, MSE: 2.6324970219410438e-08, MAPE: 16394.457418426868\n",
      "48 38.84162902832031 2.6324970219410438e-08 16394.457418426868\n"
     ]
    },
    {
     "name": "stderr",
     "output_type": "stream",
     "text": [
      "100%|██████████████████████████████████████████████████████████████████████████████| 1302/1302 [00:44<00:00, 29.49it/s]\n"
     ]
    },
    {
     "name": "stdout",
     "output_type": "stream",
     "text": [
      "Learning\n",
      "8/8 [==============================] - 0s 4ms/step - loss: 34.1321 - mse: 0.1164\n",
      "Testing\n",
      "1741/1741 [==============================] - 4s 2ms/step\n",
      "Loss train: 34.13206481933594, MSE: 2.9517298210906245e-08, MAPE: 21723.220551326755\n",
      "49 34.13206481933594 2.9517298210906245e-08 21723.220551326755\n"
     ]
    },
    {
     "name": "stderr",
     "output_type": "stream",
     "text": [
      "100%|██████████████████████████████████████████████████████████████████████████████| 1302/1302 [00:46<00:00, 28.12it/s]\n"
     ]
    },
    {
     "name": "stdout",
     "output_type": "stream",
     "text": [
      "Learning\n",
      "8/8 [==============================] - 0s 7ms/step - loss: 34.9732 - mse: 0.1111\n",
      "Testing\n",
      "1741/1741 [==============================] - 5s 3ms/step\n",
      "Loss train: 34.97315216064453, MSE: 3.22039941344279e-08, MAPE: 25816.858286088525\n",
      "50 34.97315216064453 3.22039941344279e-08 25816.858286088525\n"
     ]
    },
    {
     "name": "stderr",
     "output_type": "stream",
     "text": [
      "100%|██████████████████████████████████████████████████████████████████████████████| 1302/1302 [00:57<00:00, 22.48it/s]\n"
     ]
    },
    {
     "name": "stdout",
     "output_type": "stream",
     "text": [
      "Learning\n",
      "8/8 [==============================] - 0s 5ms/step - loss: 37.4870 - mse: 0.1144\n",
      "Testing\n",
      "1741/1741 [==============================] - 5s 3ms/step\n",
      "Loss train: 37.487003326416016, MSE: 2.850807623716581e-08, MAPE: 22024.621065872303\n",
      "51 37.487003326416016 2.850807623716581e-08 22024.621065872303\n"
     ]
    },
    {
     "name": "stderr",
     "output_type": "stream",
     "text": [
      "100%|██████████████████████████████████████████████████████████████████████████████| 1302/1302 [00:44<00:00, 29.24it/s]\n"
     ]
    },
    {
     "name": "stdout",
     "output_type": "stream",
     "text": [
      "Learning\n",
      "8/8 [==============================] - 0s 4ms/step - loss: 37.1822 - mse: 0.1653\n",
      "Testing\n",
      "1741/1741 [==============================] - 5s 3ms/step\n",
      "Loss train: 37.182193756103516, MSE: 2.027618459215439e-08, MAPE: 5166.268387402043\n",
      "52 37.182193756103516 2.027618459215439e-08 5166.268387402043\n"
     ]
    },
    {
     "name": "stderr",
     "output_type": "stream",
     "text": [
      "100%|██████████████████████████████████████████████████████████████████████████████| 1302/1302 [00:43<00:00, 29.63it/s]\n"
     ]
    },
    {
     "name": "stdout",
     "output_type": "stream",
     "text": [
      "Learning\n",
      "8/8 [==============================] - 0s 4ms/step - loss: 202.4082 - mse: 0.1119\n",
      "Testing\n",
      "1741/1741 [==============================] - 4s 2ms/step\n",
      "Loss train: 202.40823364257812, MSE: 3.183914363843923e-08, MAPE: 25698.288363306045\n",
      "53 202.40823364257812 3.183914363843923e-08 25698.288363306045\n"
     ]
    },
    {
     "name": "stderr",
     "output_type": "stream",
     "text": [
      "100%|██████████████████████████████████████████████████████████████████████████████| 1302/1302 [00:43<00:00, 29.72it/s]\n"
     ]
    },
    {
     "name": "stdout",
     "output_type": "stream",
     "text": [
      "Learning\n",
      "8/8 [==============================] - 0s 4ms/step - loss: 39.4117 - mse: 0.1141\n",
      "Testing\n",
      "1741/1741 [==============================] - 4s 2ms/step\n",
      "Loss train: 39.411746978759766, MSE: 3.2971720344626395e-08, MAPE: 25180.462011419782\n",
      "54 39.411746978759766 3.2971720344626395e-08 25180.462011419782\n"
     ]
    },
    {
     "name": "stderr",
     "output_type": "stream",
     "text": [
      "100%|██████████████████████████████████████████████████████████████████████████████| 1302/1302 [00:45<00:00, 28.69it/s]\n"
     ]
    },
    {
     "name": "stdout",
     "output_type": "stream",
     "text": [
      "Learning\n",
      "8/8 [==============================] - 0s 4ms/step - loss: 33.8412 - mse: 0.1151\n",
      "Testing\n",
      "1741/1741 [==============================] - 4s 2ms/step\n",
      "Loss train: 33.84117889404297, MSE: 2.8761004138693406e-08, MAPE: 21852.590479205748\n",
      "55 33.84117889404297 2.8761004138693406e-08 21852.590479205748\n"
     ]
    },
    {
     "name": "stderr",
     "output_type": "stream",
     "text": [
      "100%|██████████████████████████████████████████████████████████████████████████████| 1302/1302 [00:39<00:00, 33.23it/s]\n"
     ]
    },
    {
     "name": "stdout",
     "output_type": "stream",
     "text": [
      "Learning\n",
      "8/8 [==============================] - 0s 4ms/step - loss: 33.1017 - mse: 0.1198\n",
      "Testing\n",
      "1741/1741 [==============================] - 3s 2ms/step\n",
      "Loss train: 33.1016960144043, MSE: 2.91997704482603e-08, MAPE: 22964.330108564616\n",
      "56 33.1016960144043 2.91997704482603e-08 22964.330108564616\n"
     ]
    },
    {
     "name": "stderr",
     "output_type": "stream",
     "text": [
      "100%|██████████████████████████████████████████████████████████████████████████████| 1302/1302 [00:45<00:00, 28.74it/s]\n"
     ]
    },
    {
     "name": "stdout",
     "output_type": "stream",
     "text": [
      "Learning\n",
      "8/8 [==============================] - 0s 3ms/step - loss: 33.1381 - mse: 0.1238\n",
      "Testing\n",
      "1741/1741 [==============================] - 3s 2ms/step\n",
      "Loss train: 33.13812255859375, MSE: 2.5298249176105743e-08, MAPE: 16724.876561377532\n",
      "57 33.13812255859375 2.5298249176105743e-08 16724.876561377532\n"
     ]
    },
    {
     "name": "stderr",
     "output_type": "stream",
     "text": [
      "100%|██████████████████████████████████████████████████████████████████████████████| 1302/1302 [00:33<00:00, 39.09it/s]\n"
     ]
    },
    {
     "name": "stdout",
     "output_type": "stream",
     "text": [
      "Learning\n",
      "8/8 [==============================] - 0s 3ms/step - loss: 35.5549 - mse: 0.1145\n",
      "Testing\n",
      "1741/1741 [==============================] - 4s 2ms/step\n",
      "Loss train: 35.554927825927734, MSE: 2.989045502634993e-08, MAPE: 23993.953384938173\n",
      "58 35.554927825927734 2.989045502634993e-08 23993.953384938173\n"
     ]
    },
    {
     "name": "stderr",
     "output_type": "stream",
     "text": [
      "100%|██████████████████████████████████████████████████████████████████████████████| 1302/1302 [00:42<00:00, 30.59it/s]\n"
     ]
    },
    {
     "name": "stdout",
     "output_type": "stream",
     "text": [
      "Learning\n",
      "8/8 [==============================] - 0s 5ms/step - loss: 33.4274 - mse: 0.1188\n",
      "Testing\n",
      "1741/1741 [==============================] - 4s 2ms/step\n",
      "Loss train: 33.42741775512695, MSE: 2.9587885523750822e-08, MAPE: 20037.538460476015\n",
      "59 33.42741775512695 2.9587885523750822e-08 20037.538460476015\n"
     ]
    },
    {
     "name": "stderr",
     "output_type": "stream",
     "text": [
      "100%|██████████████████████████████████████████████████████████████████████████████| 1302/1302 [00:47<00:00, 27.60it/s]\n"
     ]
    },
    {
     "name": "stdout",
     "output_type": "stream",
     "text": [
      "Learning\n",
      "8/8 [==============================] - 0s 5ms/step - loss: 35.2793 - mse: 0.1144\n",
      "Testing\n",
      "1741/1741 [==============================] - 4s 2ms/step\n",
      "Loss train: 35.27933120727539, MSE: 2.8021698689212055e-08, MAPE: 20497.22244568558\n",
      "60 35.27933120727539 2.8021698689212055e-08 20497.22244568558\n"
     ]
    },
    {
     "name": "stderr",
     "output_type": "stream",
     "text": [
      "100%|██████████████████████████████████████████████████████████████████████████████| 1302/1302 [00:46<00:00, 28.08it/s]\n"
     ]
    },
    {
     "name": "stdout",
     "output_type": "stream",
     "text": [
      "Learning\n",
      "8/8 [==============================] - 0s 5ms/step - loss: 37.1715 - mse: 0.1181\n",
      "Testing\n",
      "1741/1741 [==============================] - 4s 2ms/step\n",
      "Loss train: 37.171451568603516, MSE: 3.103681924218945e-08, MAPE: 24534.100923326343\n",
      "61 37.171451568603516 3.103681924218945e-08 24534.100923326343\n"
     ]
    },
    {
     "name": "stderr",
     "output_type": "stream",
     "text": [
      "100%|██████████████████████████████████████████████████████████████████████████████| 1302/1302 [00:46<00:00, 27.95it/s]\n"
     ]
    },
    {
     "name": "stdout",
     "output_type": "stream",
     "text": [
      "Learning\n",
      "8/8 [==============================] - 0s 4ms/step - loss: 34.3782 - mse: 0.1137\n",
      "Testing\n",
      "1741/1741 [==============================] - 4s 2ms/step\n",
      "Loss train: 34.3781852722168, MSE: 3.32983080453317e-08, MAPE: 25455.269155253685\n",
      "62 34.3781852722168 3.32983080453317e-08 25455.269155253685\n",
      "[(202.40823364257812, [5e-07, 1e-06]), (61.61895751953125, [4e-07, 8e-07]), (44.8372688293457, [3e-07, 6e-07]), (39.96205139160156, [6e-07, 4e-07]), (39.411746978759766, [9e-07, 4e-07]), (39.01464080810547, [8e-07, 6e-07]), (38.84162902832031, [1e-06, 8e-07]), (38.59978103637695, [3e-07, 7e-07]), (37.87864303588867, [7e-07, 4e-07]), (37.487003326416016, [7e-07, 3e-07]), (37.42103576660156, [3e-07, 9e-07]), (37.29680633544922, [8e-07, 9e-07]), (37.182193756103516, [1e-06, 2e-07]), (37.171451568603516, [2e-07, 3e-07]), (37.10662841796875, [3e-07, 8e-07]), (36.595218658447266, [2e-07, 2e-07]), (36.562503814697266, [4e-07, 1e-06]), (36.3212776184082, [4e-07, 4e-07]), (36.029319763183594, [8e-07, 3e-07]), (35.773738861083984, [9e-07, 7e-07]), (35.68581008911133, [5e-07, 5e-07]), (35.554927825927734, [3e-07, 4e-07]), (35.52268600463867, [8e-07, 5e-07]), (35.50637435913086, [7e-07, 7e-07]), (35.41889953613281, [6e-07, 2e-07]), (35.27933120727539, [9e-07, 8e-07]), (34.97315216064453, [2e-07, 8e-07]), (34.55748748779297, [5e-07, 6e-07]), (34.46435546875, [8e-07, 7e-07]), (34.43574142456055, [6e-07, 5e-07]), (34.425594329833984, [9e-07, 6e-07]), (34.3781852722168, [2e-07, 7e-07]), (34.23491287231445, [6e-07, 6e-07]), (34.13206481933594, [1e-06, 1e-06]), (33.87474060058594, [1e-06, 9e-07]), (33.84117889404297, [5e-07, 2e-07]), (33.83333206176758, [9e-07, 1e-06]), (33.491241455078125, [3e-07, 2e-07]), (33.42741775512695, [7e-07, 6e-07]), (33.396976470947266, [3e-07, 1e-06]), (33.36741256713867, [1e-06, 3e-07]), (33.13812255859375, [9e-07, 2e-07]), (33.10649871826172, [3e-07, 3e-07]), (33.1016960144043, [9e-07, 9e-07]), (33.0231819152832, [5e-07, 4e-07]), (32.93121337890625, [4e-07, 3e-07]), (32.7691764831543, [7e-07, 5e-07]), (32.648860931396484, [2e-07, 4e-07]), (31.861461639404297, [8e-07, 8e-07]), (31.83559226989746, [7e-07, 1e-06]), (30.724794387817383, [8e-07, 2e-07]), (30.59763526916504, [9e-07, 5e-07]), (30.586366653442383, [4e-07, 6e-07]), (30.555774688720703, [5e-07, 8e-07]), (30.518325805664062, [6e-07, 9e-07]), (30.220645904541016, [5e-07, 7e-07]), (30.208126068115234, [6e-07, 8e-07]), (30.157983779907227, [1e-06, 6e-07]), (30.076602935791016, [4e-07, 5e-07]), (29.92766761779785, [4e-07, 9e-07]), (29.711286544799805, [9e-07, 3e-07]), (29.477933883666992, [7e-07, 2e-07]), (27.25048065185547, [2e-07, 9e-07])]\n"
     ]
    },
    {
     "name": "stderr",
     "output_type": "stream",
     "text": [
      "100%|██████████████████████████████████████████████████████████████████████████████| 1218/1218 [00:42<00:00, 28.42it/s]\n"
     ]
    },
    {
     "name": "stdout",
     "output_type": "stream",
     "text": [
      "Learning\n",
      "7/7 [==============================] - 0s 3ms/step - loss: 32.4830 - mse: 0.0987\n",
      "Testing\n",
      "17403/17403 [==============================] - 40s 2ms/step\n",
      "Loss train: 32.48299789428711, MSE: 3.548104555917323e-08, MAPE: 29659.738604450144\n"
     ]
    },
    {
     "data": {
      "image/png": "[encoded data removed]",
      "text/plain": [
       "<Figure size 500x500 with 1 Axes>"
      ]
     },
     "metadata": {},
     "output_type": "display_data"
    }
   ],
   "source": [
    "list_of_fet = list(list_of_fet)\n",
    "\n",
    "fig, ax = plt.subplots(figsize=(5,5))\n",
    "\n",
    "for _ in range(1):\n",
    "    matrix = []\n",
    "    \n",
    "    for i in range(len(list_of_fet)):\n",
    "        lst = list_of_fet.copy()\n",
    "        fet = lst.pop(i)\n",
    "        \n",
    "        ans, loss, loss_mean = train_and_test(lst, 300, .1)\n",
    "        print(i, ans, loss, loss_mean)\n",
    "        \n",
    "        matrix.append((ans, fet))\n",
    "        \n",
    "    \n",
    "        \n",
    "    history1.append((ans, fet))\n",
    "    matrix.sort(key=lambda x: -x[0])\n",
    "    print(matrix)\n",
    "    matrix = matrix[:-5]\n",
    "    \n",
    "    list_of_fet = []\n",
    "    for _, x in matrix:\n",
    "        list_of_fet.append(x)\n",
    "        \n",
    "    ans, loss, loss_mean = train_and_test(list_of_fet)\n",
    "    history.append([ans, loss, loss_mean])\n",
    "        \n",
    "#     ax.clear()\n",
    "#     ax.plot(list_of_fet)\n",
    "#     fig.canvas.draw()"
   ]
  },
  {
   "cell_type": "code",
   "execution_count": 68,
   "id": "67570ceb",
   "metadata": {},
   "outputs": [
    {
     "data": {
      "text/plain": [
       "[[30.786907196044922, 3.4646265536654856e-08, 27573.298936445808],\n",
       " [34.55529022216797, 3.2722646207807014e-08, 26768.11809089432],\n",
       " [30.12510108947754, 3.563449064019196e-08, 29421.025648762494],\n",
       " [32.48299789428711, 3.548104555917323e-08, 29659.738604450144]]"
      ]
     },
     "execution_count": 68,
     "metadata": {},
     "output_type": "execute_result"
    }
   ],
   "source": [
    "history"
   ]
  },
  {
   "cell_type": "code",
   "execution_count": 73,
   "id": "65e9c1b3",
   "metadata": {},
   "outputs": [
    {
     "data": {
      "text/plain": [
       "[[5e-07, 1e-06],\n",
       " [4e-07, 8e-07],\n",
       " [3e-07, 6e-07],\n",
       " [6e-07, 4e-07],\n",
       " [9e-07, 4e-07],\n",
       " [8e-07, 6e-07],\n",
       " [1e-06, 8e-07],\n",
       " [3e-07, 7e-07],\n",
       " [7e-07, 4e-07],\n",
       " [7e-07, 3e-07],\n",
       " [3e-07, 9e-07],\n",
       " [8e-07, 9e-07],\n",
       " [1e-06, 2e-07],\n",
       " [2e-07, 3e-07],\n",
       " [3e-07, 8e-07],\n",
       " [2e-07, 2e-07],\n",
       " [4e-07, 1e-06],\n",
       " [4e-07, 4e-07],\n",
       " [8e-07, 3e-07],\n",
       " [9e-07, 7e-07],\n",
       " [5e-07, 5e-07],\n",
       " [3e-07, 4e-07],\n",
       " [8e-07, 5e-07],\n",
       " [7e-07, 7e-07],\n",
       " [6e-07, 2e-07],\n",
       " [9e-07, 8e-07],\n",
       " [2e-07, 8e-07],\n",
       " [5e-07, 6e-07],\n",
       " [8e-07, 7e-07],\n",
       " [6e-07, 5e-07],\n",
       " [9e-07, 6e-07],\n",
       " [2e-07, 7e-07],\n",
       " [6e-07, 6e-07],\n",
       " [1e-06, 1e-06],\n",
       " [1e-06, 9e-07],\n",
       " [5e-07, 2e-07],\n",
       " [9e-07, 1e-06],\n",
       " [3e-07, 2e-07],\n",
       " [7e-07, 6e-07],\n",
       " [3e-07, 1e-06],\n",
       " [1e-06, 3e-07],\n",
       " [9e-07, 2e-07],\n",
       " [3e-07, 3e-07],\n",
       " [9e-07, 9e-07],\n",
       " [5e-07, 4e-07],\n",
       " [4e-07, 3e-07],\n",
       " [7e-07, 5e-07],\n",
       " [2e-07, 4e-07],\n",
       " [8e-07, 8e-07],\n",
       " [7e-07, 1e-06],\n",
       " [8e-07, 2e-07],\n",
       " [9e-07, 5e-07],\n",
       " [4e-07, 6e-07],\n",
       " [5e-07, 8e-07],\n",
       " [6e-07, 9e-07],\n",
       " [5e-07, 7e-07],\n",
       " [6e-07, 8e-07],\n",
       " [1e-06, 6e-07]]"
      ]
     },
     "execution_count": 73,
     "metadata": {},
     "output_type": "execute_result"
    }
   ],
   "source": [
    "list_of_fet"
   ]
  },
  {
   "cell_type": "code",
   "execution_count": 74,
   "id": "af8614e5",
   "metadata": {},
   "outputs": [
    {
     "data": {
      "text/plain": [
       "<matplotlib.collections.PathCollection at 0x17c16e25a00>"
      ]
     },
     "execution_count": 74,
     "metadata": {},
     "output_type": "execute_result"
    },
    {
     "data": {
      "image/png": "[encoded data removed]",
      "text/plain": [
       "<Figure size 640x480 with 1 Axes>"
      ]
     },
     "metadata": {},
     "output_type": "display_data"
    }
   ],
   "source": [
    "list_of_fet = np.array(list_of_fet)\n",
    "\n",
    "plt.scatter(list_of_fet[:, 0], list_of_fet[:, 1])"
   ]
  },
  {
   "cell_type": "code",
   "execution_count": 75,
   "id": "f00af351",
   "metadata": {},
   "outputs": [
    {
     "name": "stderr",
     "output_type": "stream",
     "text": [
      "100%|██████████████████████████████████████████████████████████████████████████████| 1218/1218 [00:39<00:00, 30.86it/s]\n"
     ]
    },
    {
     "name": "stdout",
     "output_type": "stream",
     "text": [
      "Learning\n",
      "7/7 [==============================] - 0s 4ms/step - loss: 33.8338 - mse: 0.0984\n",
      "Testing\n",
      "17403/17403 [==============================] - 38s 2ms/step\n",
      "Loss train: 33.83380126953125, MSE: 3.5873978136614834e-08, MAPE: 29661.626579621174\n"
     ]
    },
    {
     "data": {
      "text/plain": [
       "(33.83380126953125, 3.5873978136614834e-08, 29661.626579621174)"
      ]
     },
     "execution_count": 75,
     "metadata": {},
     "output_type": "execute_result"
    }
   ],
   "source": [
    "train_and_test(list_of_fet)"
   ]
  },
  {
   "cell_type": "code",
   "execution_count": 77,
   "id": "f2540adb",
   "metadata": {
    "scrolled": true
   },
   "outputs": [
    {
     "name": "stdout",
     "output_type": "stream",
     "text": [
      "[(202.40823364257812, [5e-07, 1e-06]), (61.61895751953125, [4e-07, 8e-07]), (44.8372688293457, [3e-07, 6e-07]), (39.96205139160156, [6e-07, 4e-07]), (39.411746978759766, [9e-07, 4e-07]), (39.01464080810547, [8e-07, 6e-07]), (38.84162902832031, [1e-06, 8e-07]), (38.59978103637695, [3e-07, 7e-07]), (37.87864303588867, [7e-07, 4e-07]), (37.487003326416016, [7e-07, 3e-07]), (37.42103576660156, [3e-07, 9e-07]), (37.29680633544922, [8e-07, 9e-07]), (37.182193756103516, [1e-06, 2e-07]), (37.171451568603516, [2e-07, 3e-07]), (37.10662841796875, [3e-07, 8e-07]), (36.595218658447266, [2e-07, 2e-07]), (36.562503814697266, [4e-07, 1e-06]), (36.3212776184082, [4e-07, 4e-07]), (36.029319763183594, [8e-07, 3e-07]), (35.773738861083984, [9e-07, 7e-07]), (35.68581008911133, [5e-07, 5e-07]), (35.554927825927734, [3e-07, 4e-07]), (35.52268600463867, [8e-07, 5e-07]), (35.50637435913086, [7e-07, 7e-07]), (35.41889953613281, [6e-07, 2e-07]), (35.27933120727539, [9e-07, 8e-07]), (34.97315216064453, [2e-07, 8e-07]), (34.55748748779297, [5e-07, 6e-07]), (34.46435546875, [8e-07, 7e-07]), (34.43574142456055, [6e-07, 5e-07]), (34.425594329833984, [9e-07, 6e-07]), (34.3781852722168, [2e-07, 7e-07]), (34.23491287231445, [6e-07, 6e-07]), (34.13206481933594, [1e-06, 1e-06]), (33.87474060058594, [1e-06, 9e-07]), (33.84117889404297, [5e-07, 2e-07]), (33.83333206176758, [9e-07, 1e-06]), (33.491241455078125, [3e-07, 2e-07]), (33.42741775512695, [7e-07, 6e-07]), (33.396976470947266, [3e-07, 1e-06]), (33.36741256713867, [1e-06, 3e-07]), (33.13812255859375, [9e-07, 2e-07]), (33.10649871826172, [3e-07, 3e-07]), (33.1016960144043, [9e-07, 9e-07]), (33.0231819152832, [5e-07, 4e-07]), (32.93121337890625, [4e-07, 3e-07]), (32.7691764831543, [7e-07, 5e-07]), (32.648860931396484, [2e-07, 4e-07]), (31.861461639404297, [8e-07, 8e-07]), (31.83559226989746, [7e-07, 1e-06]), (30.724794387817383, [8e-07, 2e-07]), (30.59763526916504, [9e-07, 5e-07]), (30.586366653442383, [4e-07, 6e-07]), (30.555774688720703, [5e-07, 8e-07]), (30.518325805664062, [6e-07, 9e-07]), (30.220645904541016, [5e-07, 7e-07]), (30.208126068115234, [6e-07, 8e-07]), (30.157983779907227, [1e-06, 6e-07])]\n"
     ]
    }
   ],
   "source": [
    "matrix.sort(key=lambda x: -x[0])\n",
    "print(matrix)\n",
    "matrix = matrix[:-10]\n",
    "    \n",
    "list_of_fet = []\n",
    "for _, x in matrix:\n",
    "    list_of_fet.append(x)"
   ]
  },
  {
   "cell_type": "code",
   "execution_count": 79,
   "id": "9f0dcbe8",
   "metadata": {},
   "outputs": [
    {
     "data": {
      "text/plain": [
       "<matplotlib.collections.PathCollection at 0x17c1d43cac0>"
      ]
     },
     "execution_count": 79,
     "metadata": {},
     "output_type": "execute_result"
    },
    {
     "data": {
      "image/png": "[encoded data removed]",
      "text/plain": [
       "<Figure size 640x480 with 1 Axes>"
      ]
     },
     "metadata": {},
     "output_type": "display_data"
    }
   ],
   "source": [
    "list_of_fet = np.array(list_of_fet)\n",
    "\n",
    "plt.scatter(list_of_fet[:, 0], list_of_fet[:, 1])"
   ]
  },
  {
   "cell_type": "code",
   "execution_count": 78,
   "id": "c8a02ccc",
   "metadata": {},
   "outputs": [
    {
     "name": "stderr",
     "output_type": "stream",
     "text": [
      "100%|██████████████████████████████████████████████████████████████████████████████| 1008/1008 [00:36<00:00, 27.95it/s]\n"
     ]
    },
    {
     "name": "stdout",
     "output_type": "stream",
     "text": [
      "Learning\n",
      "6/6 [==============================] - 0s 4ms/step - loss: 31.9872 - mse: 0.1025\n",
      "Testing\n",
      "17403/17403 [==============================] - 41s 2ms/step\n",
      "Loss train: 31.987224578857422, MSE: 3.5064010453582105e-08, MAPE: 27032.779173611725\n"
     ]
    },
    {
     "data": {
      "text/plain": [
       "(31.987224578857422, 3.5064010453582105e-08, 27032.779173611725)"
      ]
     },
     "execution_count": 78,
     "metadata": {},
     "output_type": "execute_result"
    }
   ],
   "source": [
    "train_and_test(list_of_fet)"
   ]
  },
  {
   "cell_type": "code",
   "execution_count": 80,
   "id": "d0214a5b",
   "metadata": {},
   "outputs": [
    {
     "data": {
      "text/plain": [
       "48"
      ]
     },
     "execution_count": 80,
     "metadata": {},
     "output_type": "execute_result"
    }
   ],
   "source": [
    "len(list_of_fet)"
   ]
  },
  {
   "cell_type": "code",
   "execution_count": 81,
   "id": "61a4f0bc",
   "metadata": {},
   "outputs": [
    {
     "name": "stderr",
     "output_type": "stream",
     "text": [
      "100%|████████████████████████████████████████████████████████████████████████████████| 987/987 [00:30<00:00, 32.53it/s]\n"
     ]
    },
    {
     "name": "stdout",
     "output_type": "stream",
     "text": [
      "Learning\n",
      "6/6 [==============================] - 0s 4ms/step - loss: 30.1176 - mse: 0.1129\n",
      "Testing\n",
      "3481/3481 [==============================] - 7s 2ms/step\n",
      "Loss train: 30.117643356323242, MSE: 3.456034359691236e-08, MAPE: 25672.316767408753\n",
      "0 30.117643356323242 3.456034359691236e-08 25672.316767408753\n"
     ]
    },
    {
     "name": "stderr",
     "output_type": "stream",
     "text": [
      "100%|████████████████████████████████████████████████████████████████████████████████| 987/987 [00:29<00:00, 33.40it/s]\n"
     ]
    },
    {
     "name": "stdout",
     "output_type": "stream",
     "text": [
      "Learning\n",
      "6/6 [==============================] - 0s 5ms/step - loss: 29.6100 - mse: 0.1115\n",
      "Testing\n",
      "3481/3481 [==============================] - 7s 2ms/step\n",
      "Loss train: 29.609996795654297, MSE: 3.354193880235952e-08, MAPE: 26265.32143535043\n",
      "1 29.609996795654297 3.354193880235952e-08 26265.32143535043\n"
     ]
    },
    {
     "name": "stderr",
     "output_type": "stream",
     "text": [
      "100%|████████████████████████████████████████████████████████████████████████████████| 987/987 [00:32<00:00, 30.60it/s]\n"
     ]
    },
    {
     "name": "stdout",
     "output_type": "stream",
     "text": [
      "Learning\n",
      "6/6 [==============================] - 0s 4ms/step - loss: 30.1172 - mse: 0.1136\n",
      "Testing\n",
      "3481/3481 [==============================] - 7s 2ms/step\n",
      "Loss train: 30.117246627807617, MSE: 3.0460508471978616e-08, MAPE: 24204.93653826182\n",
      "2 30.117246627807617 3.0460508471978616e-08 24204.93653826182\n"
     ]
    },
    {
     "name": "stderr",
     "output_type": "stream",
     "text": [
      "100%|████████████████████████████████████████████████████████████████████████████████| 987/987 [00:32<00:00, 30.37it/s]\n"
     ]
    },
    {
     "name": "stdout",
     "output_type": "stream",
     "text": [
      "Learning\n",
      "6/6 [==============================] - 0s 4ms/step - loss: 29.6792 - mse: 0.1139\n",
      "Testing\n",
      "3481/3481 [==============================] - 7s 2ms/step\n",
      "Loss train: 29.679187774658203, MSE: 2.7722006267540187e-08, MAPE: 19783.110809584396\n",
      "3 29.679187774658203 2.7722006267540187e-08 19783.110809584396\n"
     ]
    },
    {
     "name": "stderr",
     "output_type": "stream",
     "text": [
      "100%|████████████████████████████████████████████████████████████████████████████████| 987/987 [00:30<00:00, 32.78it/s]\n"
     ]
    },
    {
     "name": "stdout",
     "output_type": "stream",
     "text": [
      "Learning\n",
      "6/6 [==============================] - 0s 4ms/step - loss: 28.7458 - mse: 0.1133\n",
      "Testing\n",
      "3481/3481 [==============================] - 8s 2ms/step\n",
      "Loss train: 28.745805740356445, MSE: 3.1182203195892095e-08, MAPE: 24368.9279376761\n",
      "4 28.745805740356445 3.1182203195892095e-08 24368.9279376761\n"
     ]
    },
    {
     "name": "stderr",
     "output_type": "stream",
     "text": [
      "100%|████████████████████████████████████████████████████████████████████████████████| 987/987 [00:31<00:00, 31.73it/s]\n"
     ]
    },
    {
     "name": "stdout",
     "output_type": "stream",
     "text": [
      "Learning\n",
      "6/6 [==============================] - 0s 3ms/step - loss: 28.9393 - mse: 0.1125\n",
      "Testing\n",
      "3481/3481 [==============================] - 9s 3ms/step\n",
      "Loss train: 28.939266204833984, MSE: 3.210806983119213e-08, MAPE: 25191.639965357783\n",
      "5 28.939266204833984 3.210806983119213e-08 25191.639965357783\n"
     ]
    },
    {
     "name": "stderr",
     "output_type": "stream",
     "text": [
      "100%|████████████████████████████████████████████████████████████████████████████████| 987/987 [00:41<00:00, 23.91it/s]\n"
     ]
    },
    {
     "name": "stdout",
     "output_type": "stream",
     "text": [
      "Learning\n",
      "6/6 [==============================] - 0s 6ms/step - loss: 29.2725 - mse: 0.1120\n",
      "Testing\n",
      "3481/3481 [==============================] - 8s 2ms/step\n",
      "Loss train: 29.272476196289062, MSE: 3.2528890975397685e-08, MAPE: 25038.155834327197\n",
      "6 29.272476196289062 3.2528890975397685e-08 25038.155834327197\n"
     ]
    },
    {
     "name": "stderr",
     "output_type": "stream",
     "text": [
      "100%|████████████████████████████████████████████████████████████████████████████████| 987/987 [00:35<00:00, 27.94it/s]\n"
     ]
    },
    {
     "name": "stdout",
     "output_type": "stream",
     "text": [
      "Learning\n",
      "6/6 [==============================] - 0s 14ms/step - loss: 29.5824 - mse: 0.1137\n",
      "Testing\n",
      "3481/3481 [==============================] - 10s 3ms/step\n",
      "Loss train: 29.582372665405273, MSE: 3.257377087400696e-08, MAPE: 26110.371959202097\n",
      "7 29.582372665405273 3.257377087400696e-08 26110.371959202097\n"
     ]
    },
    {
     "name": "stderr",
     "output_type": "stream",
     "text": [
      "100%|████████████████████████████████████████████████████████████████████████████████| 987/987 [00:31<00:00, 31.13it/s]\n"
     ]
    },
    {
     "name": "stdout",
     "output_type": "stream",
     "text": [
      "Learning\n",
      "6/6 [==============================] - 0s 5ms/step - loss: 36.9856 - mse: 0.1530\n",
      "Testing\n",
      "3481/3481 [==============================] - 8s 2ms/step\n",
      "Loss train: 36.98563766479492, MSE: 2.3244932814890756e-08, MAPE: 13189.719501552532\n",
      "8 36.98563766479492 2.3244932814890756e-08 13189.719501552532\n"
     ]
    },
    {
     "name": "stderr",
     "output_type": "stream",
     "text": [
      "100%|████████████████████████████████████████████████████████████████████████████████| 987/987 [00:42<00:00, 23.40it/s]\n"
     ]
    },
    {
     "name": "stdout",
     "output_type": "stream",
     "text": [
      "Learning\n",
      "6/6 [==============================] - 0s 5ms/step - loss: 29.0110 - mse: 0.1131\n",
      "Testing\n",
      "3481/3481 [==============================] - 8s 2ms/step\n",
      "Loss train: 29.01095199584961, MSE: 3.082725834821793e-08, MAPE: 24746.669218714524\n",
      "9 29.01095199584961 3.082725834821793e-08 24746.669218714524\n"
     ]
    },
    {
     "name": "stderr",
     "output_type": "stream",
     "text": [
      "100%|████████████████████████████████████████████████████████████████████████████████| 987/987 [00:32<00:00, 30.77it/s]\n"
     ]
    },
    {
     "name": "stdout",
     "output_type": "stream",
     "text": [
      "Learning\n",
      "6/6 [==============================] - 0s 6ms/step - loss: 32.8492 - mse: 0.1103\n",
      "Testing\n",
      "3481/3481 [==============================] - 11s 3ms/step\n",
      "Loss train: 32.84920120239258, MSE: 3.3079325567526424e-08, MAPE: 25545.681562949405\n",
      "10 32.84920120239258 3.3079325567526424e-08 25545.681562949405\n"
     ]
    },
    {
     "name": "stderr",
     "output_type": "stream",
     "text": [
      "100%|████████████████████████████████████████████████████████████████████████████████| 987/987 [00:44<00:00, 22.09it/s]\n"
     ]
    },
    {
     "name": "stdout",
     "output_type": "stream",
     "text": [
      "Learning\n",
      "6/6 [==============================] - 0s 4ms/step - loss: 29.7206 - mse: 0.1147\n",
      "Testing\n",
      "3481/3481 [==============================] - 7s 2ms/step\n",
      "Loss train: 29.720626831054688, MSE: 3.14492381124608e-08, MAPE: 26228.44039439204\n",
      "11 29.720626831054688 3.14492381124608e-08 26228.44039439204\n"
     ]
    },
    {
     "name": "stderr",
     "output_type": "stream",
     "text": [
      "100%|████████████████████████████████████████████████████████████████████████████████| 987/987 [00:36<00:00, 26.80it/s]\n"
     ]
    },
    {
     "name": "stdout",
     "output_type": "stream",
     "text": [
      "Learning\n",
      "6/6 [==============================] - 0s 5ms/step - loss: 28.4653 - mse: 0.1107\n",
      "Testing\n",
      "3481/3481 [==============================] - 9s 2ms/step\n",
      "Loss train: 28.46527671813965, MSE: 3.3766656121872824e-08, MAPE: 27856.101836586808\n",
      "12 28.46527671813965 3.3766656121872824e-08 27856.101836586808\n"
     ]
    },
    {
     "name": "stderr",
     "output_type": "stream",
     "text": [
      "100%|████████████████████████████████████████████████████████████████████████████████| 987/987 [00:43<00:00, 22.61it/s]\n"
     ]
    },
    {
     "name": "stdout",
     "output_type": "stream",
     "text": [
      "Learning\n",
      "6/6 [==============================] - 0s 6ms/step - loss: 30.4311 - mse: 0.1117\n",
      "Testing\n",
      "3481/3481 [==============================] - 9s 2ms/step\n",
      "Loss train: 30.43107032775879, MSE: 3.106608494234516e-08, MAPE: 25368.635225904407\n",
      "13 30.43107032775879 3.106608494234516e-08 25368.635225904407\n"
     ]
    },
    {
     "name": "stderr",
     "output_type": "stream",
     "text": [
      "100%|████████████████████████████████████████████████████████████████████████████████| 987/987 [00:37<00:00, 26.35it/s]\n"
     ]
    },
    {
     "name": "stdout",
     "output_type": "stream",
     "text": [
      "Learning\n",
      "6/6 [==============================] - 0s 3ms/step - loss: 30.6949 - mse: 0.1116\n",
      "Testing\n",
      "3481/3481 [==============================] - 7s 2ms/step\n",
      "Loss train: 30.69493865966797, MSE: 3.419593736201675e-08, MAPE: 26936.173242913646\n",
      "14 30.69493865966797 3.419593736201675e-08 26936.173242913646\n"
     ]
    },
    {
     "name": "stderr",
     "output_type": "stream",
     "text": [
      "100%|████████████████████████████████████████████████████████████████████████████████| 987/987 [00:39<00:00, 25.10it/s]\n"
     ]
    },
    {
     "name": "stdout",
     "output_type": "stream",
     "text": [
      "Learning\n",
      "6/6 [==============================] - 0s 4ms/step - loss: 30.0360 - mse: 0.1121\n",
      "Testing\n",
      "3481/3481 [==============================] - 8s 2ms/step\n",
      "Loss train: 30.035993576049805, MSE: 3.149784677702045e-08, MAPE: 23814.099309697787\n",
      "15 30.035993576049805 3.149784677702045e-08 23814.099309697787\n"
     ]
    },
    {
     "name": "stderr",
     "output_type": "stream",
     "text": [
      "100%|████████████████████████████████████████████████████████████████████████████████| 987/987 [00:33<00:00, 29.65it/s]\n"
     ]
    },
    {
     "name": "stdout",
     "output_type": "stream",
     "text": [
      "Learning\n",
      "6/6 [==============================] - 0s 4ms/step - loss: 31.3701 - mse: 0.1161\n",
      "Testing\n",
      "3481/3481 [==============================] - 7s 2ms/step\n",
      "Loss train: 31.370073318481445, MSE: 3.345848915311585e-08, MAPE: 26775.87854130379\n",
      "16 31.370073318481445 3.345848915311585e-08 26775.87854130379\n"
     ]
    },
    {
     "name": "stderr",
     "output_type": "stream",
     "text": [
      "100%|████████████████████████████████████████████████████████████████████████████████| 987/987 [00:30<00:00, 32.77it/s]\n"
     ]
    },
    {
     "name": "stdout",
     "output_type": "stream",
     "text": [
      "Learning\n",
      "6/6 [==============================] - 0s 6ms/step - loss: 30.2881 - mse: 0.1120\n",
      "Testing\n",
      "3481/3481 [==============================] - 8s 2ms/step\n",
      "Loss train: 30.288118362426758, MSE: 2.9651491873391355e-08, MAPE: 24506.072105961153\n",
      "17 30.288118362426758 2.9651491873391355e-08 24506.072105961153\n"
     ]
    },
    {
     "name": "stderr",
     "output_type": "stream",
     "text": [
      "100%|████████████████████████████████████████████████████████████████████████████████| 987/987 [00:38<00:00, 25.39it/s]\n"
     ]
    },
    {
     "name": "stdout",
     "output_type": "stream",
     "text": [
      "Learning\n",
      "6/6 [==============================] - 0s 5ms/step - loss: 29.1622 - mse: 0.1106\n",
      "Testing\n",
      "3481/3481 [==============================] - 8s 2ms/step\n",
      "Loss train: 29.162193298339844, MSE: 3.176474744277763e-08, MAPE: 25840.62017367785\n",
      "18 29.162193298339844 3.176474744277763e-08 25840.62017367785\n"
     ]
    },
    {
     "name": "stderr",
     "output_type": "stream",
     "text": [
      "100%|████████████████████████████████████████████████████████████████████████████████| 987/987 [00:39<00:00, 25.01it/s]\n"
     ]
    },
    {
     "name": "stdout",
     "output_type": "stream",
     "text": [
      "Learning\n",
      "6/6 [==============================] - 0s 6ms/step - loss: 29.7493 - mse: 0.1127\n",
      "Testing\n",
      "3481/3481 [==============================] - 8s 2ms/step\n",
      "Loss train: 29.749296188354492, MSE: 3.106218131470221e-08, MAPE: 23648.898119542377\n",
      "19 29.749296188354492 3.106218131470221e-08 23648.898119542377\n"
     ]
    },
    {
     "name": "stderr",
     "output_type": "stream",
     "text": [
      "100%|████████████████████████████████████████████████████████████████████████████████| 987/987 [00:39<00:00, 24.98it/s]\n"
     ]
    },
    {
     "name": "stdout",
     "output_type": "stream",
     "text": [
      "Learning\n",
      "6/6 [==============================] - 0s 5ms/step - loss: 30.1700 - mse: 0.1122\n",
      "Testing\n",
      "3481/3481 [==============================] - 9s 3ms/step\n",
      "Loss train: 30.170034408569336, MSE: 2.9520578834611674e-08, MAPE: 23456.60642617706\n",
      "20 30.170034408569336 2.9520578834611674e-08 23456.60642617706\n"
     ]
    },
    {
     "name": "stderr",
     "output_type": "stream",
     "text": [
      "100%|████████████████████████████████████████████████████████████████████████████████| 987/987 [00:38<00:00, 25.64it/s]\n"
     ]
    },
    {
     "name": "stdout",
     "output_type": "stream",
     "text": [
      "Learning\n",
      "6/6 [==============================] - 0s 6ms/step - loss: 30.5942 - mse: 0.1120\n",
      "Testing\n",
      "3481/3481 [==============================] - 8s 2ms/step\n",
      "Loss train: 30.594219207763672, MSE: 3.19893941837284e-08, MAPE: 25849.27922842649\n",
      "21 30.594219207763672 3.19893941837284e-08 25849.27922842649\n"
     ]
    },
    {
     "name": "stderr",
     "output_type": "stream",
     "text": [
      "100%|████████████████████████████████████████████████████████████████████████████████| 987/987 [00:40<00:00, 24.09it/s]\n"
     ]
    },
    {
     "name": "stdout",
     "output_type": "stream",
     "text": [
      "Learning\n",
      "6/6 [==============================] - 0s 5ms/step - loss: 33.5775 - mse: 0.1206\n",
      "Testing\n",
      "3481/3481 [==============================] - 8s 2ms/step\n",
      "Loss train: 33.57746887207031, MSE: 2.9490377699972138e-08, MAPE: 22507.93817429296\n",
      "22 33.57746887207031 2.9490377699972138e-08 22507.93817429296\n"
     ]
    },
    {
     "name": "stderr",
     "output_type": "stream",
     "text": [
      "100%|████████████████████████████████████████████████████████████████████████████████| 987/987 [00:39<00:00, 24.99it/s]\n"
     ]
    },
    {
     "name": "stdout",
     "output_type": "stream",
     "text": [
      "Learning\n",
      "6/6 [==============================] - 0s 5ms/step - loss: 30.7317 - mse: 0.1128\n",
      "Testing\n",
      "3481/3481 [==============================] - 9s 2ms/step\n",
      "Loss train: 30.731653213500977, MSE: 3.068868122363431e-08, MAPE: 25029.957977842514\n",
      "23 30.731653213500977 3.068868122363431e-08 25029.957977842514\n"
     ]
    },
    {
     "name": "stderr",
     "output_type": "stream",
     "text": [
      "100%|████████████████████████████████████████████████████████████████████████████████| 987/987 [00:40<00:00, 24.34it/s]\n"
     ]
    },
    {
     "name": "stdout",
     "output_type": "stream",
     "text": [
      "Learning\n",
      "6/6 [==============================] - 0s 5ms/step - loss: 29.3787 - mse: 0.1117\n",
      "Testing\n",
      "3481/3481 [==============================] - 8s 2ms/step\n",
      "Loss train: 29.37872314453125, MSE: 3.258473772151564e-08, MAPE: 26318.365934633843\n",
      "24 29.37872314453125 3.258473772151564e-08 26318.365934633843\n"
     ]
    },
    {
     "name": "stderr",
     "output_type": "stream",
     "text": [
      "100%|████████████████████████████████████████████████████████████████████████████████| 987/987 [00:39<00:00, 25.09it/s]\n"
     ]
    },
    {
     "name": "stdout",
     "output_type": "stream",
     "text": [
      "Learning\n",
      "6/6 [==============================] - 0s 6ms/step - loss: 33.8199 - mse: 0.1207\n",
      "Testing\n",
      "3481/3481 [==============================] - 9s 3ms/step\n",
      "Loss train: 33.81991195678711, MSE: 3.458523891062946e-08, MAPE: 27279.857776952544\n",
      "25 33.81991195678711 3.458523891062946e-08 27279.857776952544\n"
     ]
    },
    {
     "name": "stderr",
     "output_type": "stream",
     "text": [
      "100%|████████████████████████████████████████████████████████████████████████████████| 987/987 [00:40<00:00, 24.43it/s]\n"
     ]
    },
    {
     "name": "stdout",
     "output_type": "stream",
     "text": [
      "Learning\n",
      "6/6 [==============================] - 0s 4ms/step - loss: 28.1552 - mse: 0.1060\n",
      "Testing\n",
      "3481/3481 [==============================] - 9s 2ms/step\n",
      "Loss train: 28.15520477294922, MSE: 3.4246359321410986e-08, MAPE: 26325.29105732939\n",
      "26 28.15520477294922 3.4246359321410986e-08 26325.29105732939\n"
     ]
    },
    {
     "name": "stderr",
     "output_type": "stream",
     "text": [
      "100%|████████████████████████████████████████████████████████████████████████████████| 987/987 [00:39<00:00, 25.02it/s]\n"
     ]
    },
    {
     "name": "stdout",
     "output_type": "stream",
     "text": [
      "Learning\n",
      "6/6 [==============================] - 0s 4ms/step - loss: 29.9676 - mse: 0.1102\n",
      "Testing\n",
      "3481/3481 [==============================] - 9s 3ms/step\n",
      "Loss train: 29.967554092407227, MSE: 3.306864097713671e-08, MAPE: 25690.993462556784\n",
      "27 29.967554092407227 3.306864097713671e-08 25690.993462556784\n"
     ]
    },
    {
     "name": "stderr",
     "output_type": "stream",
     "text": [
      "100%|████████████████████████████████████████████████████████████████████████████████| 987/987 [00:39<00:00, 24.80it/s]\n"
     ]
    },
    {
     "name": "stdout",
     "output_type": "stream",
     "text": [
      "Learning\n",
      "6/6 [==============================] - 0s 6ms/step - loss: 29.4467 - mse: 0.1097\n",
      "Testing\n",
      "3481/3481 [==============================] - 8s 2ms/step\n",
      "Loss train: 29.446712493896484, MSE: 3.074780224550724e-08, MAPE: 24601.077418187746\n",
      "28 29.446712493896484 3.074780224550724e-08 24601.077418187746\n"
     ]
    },
    {
     "name": "stderr",
     "output_type": "stream",
     "text": [
      "100%|████████████████████████████████████████████████████████████████████████████████| 987/987 [00:40<00:00, 24.26it/s]\n"
     ]
    },
    {
     "name": "stdout",
     "output_type": "stream",
     "text": [
      "Learning\n",
      "6/6 [==============================] - 0s 4ms/step - loss: 29.9504 - mse: 0.1112\n",
      "Testing\n",
      "3481/3481 [==============================] - 8s 2ms/step\n",
      "Loss train: 29.950422286987305, MSE: 3.1053057739305817e-08, MAPE: 24142.889006633777\n",
      "29 29.950422286987305 3.1053057739305817e-08 24142.889006633777\n"
     ]
    },
    {
     "name": "stderr",
     "output_type": "stream",
     "text": [
      "100%|████████████████████████████████████████████████████████████████████████████████| 987/987 [00:39<00:00, 25.14it/s]\n"
     ]
    },
    {
     "name": "stdout",
     "output_type": "stream",
     "text": [
      "Learning\n",
      "6/6 [==============================] - 0s 5ms/step - loss: 30.5974 - mse: 0.1151\n",
      "Testing\n",
      "3481/3481 [==============================] - 9s 2ms/step\n",
      "Loss train: 30.59738540649414, MSE: 2.724673026351803e-08, MAPE: 19500.901959849405\n",
      "30 30.59738540649414 2.724673026351803e-08 19500.901959849405\n"
     ]
    },
    {
     "name": "stderr",
     "output_type": "stream",
     "text": [
      "100%|████████████████████████████████████████████████████████████████████████████████| 987/987 [00:40<00:00, 24.35it/s]\n"
     ]
    },
    {
     "name": "stdout",
     "output_type": "stream",
     "text": [
      "Learning\n",
      "6/6 [==============================] - 0s 5ms/step - loss: 29.2761 - mse: 0.1095\n",
      "Testing\n",
      "3481/3481 [==============================] - 8s 2ms/step\n",
      "Loss train: 29.276134490966797, MSE: 3.150025804092323e-08, MAPE: 24428.282381787336\n",
      "31 29.276134490966797 3.150025804092323e-08 24428.282381787336\n"
     ]
    },
    {
     "name": "stderr",
     "output_type": "stream",
     "text": [
      "100%|████████████████████████████████████████████████████████████████████████████████| 987/987 [00:40<00:00, 24.66it/s]\n"
     ]
    },
    {
     "name": "stdout",
     "output_type": "stream",
     "text": [
      "Learning\n",
      "6/6 [==============================] - 0s 5ms/step - loss: 30.8658 - mse: 0.1139\n",
      "Testing\n",
      "3481/3481 [==============================] - 9s 3ms/step\n",
      "Loss train: 30.865842819213867, MSE: 3.4926092083997035e-08, MAPE: 27328.13356546292\n",
      "32 30.865842819213867 3.4926092083997035e-08 27328.13356546292\n"
     ]
    },
    {
     "name": "stderr",
     "output_type": "stream",
     "text": [
      "100%|████████████████████████████████████████████████████████████████████████████████| 987/987 [00:41<00:00, 23.67it/s]\n"
     ]
    },
    {
     "name": "stdout",
     "output_type": "stream",
     "text": [
      "Learning\n",
      "6/6 [==============================] - 0s 5ms/step - loss: 29.7941 - mse: 0.1122\n",
      "Testing\n",
      "3481/3481 [==============================] - 8s 2ms/step\n",
      "Loss train: 29.79409408569336, MSE: 3.199054733577066e-08, MAPE: 25792.557157179475\n",
      "33 29.79409408569336 3.199054733577066e-08 25792.557157179475\n"
     ]
    },
    {
     "name": "stderr",
     "output_type": "stream",
     "text": [
      "100%|████████████████████████████████████████████████████████████████████████████████| 987/987 [00:41<00:00, 24.05it/s]\n"
     ]
    },
    {
     "name": "stdout",
     "output_type": "stream",
     "text": [
      "Learning\n",
      "6/6 [==============================] - 0s 5ms/step - loss: 29.5729 - mse: 0.1104\n",
      "Testing\n",
      "3481/3481 [==============================] - 9s 2ms/step\n",
      "Loss train: 29.57286834716797, MSE: 3.210670367233332e-08, MAPE: 26507.647119618687\n",
      "34 29.57286834716797 3.210670367233332e-08 26507.647119618687\n"
     ]
    },
    {
     "name": "stderr",
     "output_type": "stream",
     "text": [
      "100%|████████████████████████████████████████████████████████████████████████████████| 987/987 [00:40<00:00, 24.58it/s]\n"
     ]
    },
    {
     "name": "stdout",
     "output_type": "stream",
     "text": [
      "Learning\n",
      "6/6 [==============================] - 0s 6ms/step - loss: 30.3065 - mse: 0.1134\n",
      "Testing\n",
      "3481/3481 [==============================] - 8s 2ms/step\n",
      "Loss train: 30.306528091430664, MSE: 3.378968847885657e-08, MAPE: 26506.19560000651\n",
      "35 30.306528091430664 3.378968847885657e-08 26506.19560000651\n"
     ]
    },
    {
     "name": "stderr",
     "output_type": "stream",
     "text": [
      "100%|████████████████████████████████████████████████████████████████████████████████| 987/987 [00:40<00:00, 24.46it/s]\n"
     ]
    },
    {
     "name": "stdout",
     "output_type": "stream",
     "text": [
      "Learning\n",
      "6/6 [==============================] - 0s 6ms/step - loss: 29.7771 - mse: 0.1102\n",
      "Testing\n",
      "3481/3481 [==============================] - 8s 2ms/step\n",
      "Loss train: 29.777095794677734, MSE: 3.1546701109603124e-08, MAPE: 26027.185390799565\n",
      "36 29.777095794677734 3.1546701109603124e-08 26027.185390799565\n"
     ]
    },
    {
     "name": "stderr",
     "output_type": "stream",
     "text": [
      "100%|████████████████████████████████████████████████████████████████████████████████| 987/987 [00:40<00:00, 24.44it/s]\n"
     ]
    },
    {
     "name": "stdout",
     "output_type": "stream",
     "text": [
      "Learning\n",
      "6/6 [==============================] - 0s 5ms/step - loss: 30.3107 - mse: 0.1124\n",
      "Testing\n",
      "3481/3481 [==============================] - 9s 3ms/step\n",
      "Loss train: 30.3106632232666, MSE: 2.974453173267504e-08, MAPE: 23176.16617257074\n",
      "37 30.3106632232666 2.974453173267504e-08 23176.16617257074\n"
     ]
    },
    {
     "name": "stderr",
     "output_type": "stream",
     "text": [
      "100%|████████████████████████████████████████████████████████████████████████████████| 987/987 [00:41<00:00, 23.74it/s]\n"
     ]
    },
    {
     "name": "stdout",
     "output_type": "stream",
     "text": [
      "Learning\n",
      "6/6 [==============================] - 0s 5ms/step - loss: 29.6998 - mse: 0.1105\n",
      "Testing\n",
      "3481/3481 [==============================] - 12s 3ms/step\n",
      "Loss train: 29.699750900268555, MSE: 3.101952846908483e-08, MAPE: 23837.648294750095\n",
      "38 29.699750900268555 3.101952846908483e-08 23837.648294750095\n"
     ]
    },
    {
     "name": "stderr",
     "output_type": "stream",
     "text": [
      "100%|████████████████████████████████████████████████████████████████████████████████| 987/987 [00:44<00:00, 22.35it/s]\n"
     ]
    },
    {
     "name": "stdout",
     "output_type": "stream",
     "text": [
      "Learning\n",
      "6/6 [==============================] - 0s 6ms/step - loss: 29.6564 - mse: 0.1107\n",
      "Testing\n",
      "3481/3481 [==============================] - 8s 2ms/step\n",
      "Loss train: 29.656394958496094, MSE: 3.38365142707617e-08, MAPE: 25069.38607794502\n",
      "39 29.656394958496094 3.38365142707617e-08 25069.38607794502\n"
     ]
    },
    {
     "name": "stderr",
     "output_type": "stream",
     "text": [
      "100%|████████████████████████████████████████████████████████████████████████████████| 987/987 [00:40<00:00, 24.10it/s]\n"
     ]
    },
    {
     "name": "stdout",
     "output_type": "stream",
     "text": [
      "Learning\n",
      "6/6 [==============================] - 0s 3ms/step - loss: 29.3739 - mse: 0.1110\n",
      "Testing\n",
      "3481/3481 [==============================] - 8s 2ms/step\n",
      "Loss train: 29.373897552490234, MSE: 3.4331466862864226e-08, MAPE: 29000.37166607401\n",
      "40 29.373897552490234 3.4331466862864226e-08 29000.37166607401\n"
     ]
    },
    {
     "name": "stderr",
     "output_type": "stream",
     "text": [
      "100%|████████████████████████████████████████████████████████████████████████████████| 987/987 [00:43<00:00, 22.89it/s]\n"
     ]
    },
    {
     "name": "stdout",
     "output_type": "stream",
     "text": [
      "Learning\n",
      "6/6 [==============================] - 0s 5ms/step - loss: 29.1894 - mse: 0.1119\n",
      "Testing\n",
      "3481/3481 [==============================] - 7s 2ms/step\n",
      "Loss train: 29.18944549560547, MSE: 3.107465314673613e-08, MAPE: 25735.207306022887\n",
      "41 29.18944549560547 3.107465314673613e-08 25735.207306022887\n"
     ]
    },
    {
     "name": "stderr",
     "output_type": "stream",
     "text": [
      "100%|████████████████████████████████████████████████████████████████████████████████| 987/987 [00:41<00:00, 23.84it/s]\n"
     ]
    },
    {
     "name": "stdout",
     "output_type": "stream",
     "text": [
      "Learning\n",
      "6/6 [==============================] - 0s 6ms/step - loss: 29.7949 - mse: 0.1115\n",
      "Testing\n",
      "3481/3481 [==============================] - 10s 3ms/step\n",
      "Loss train: 29.7949161529541, MSE: 3.163113397658017e-08, MAPE: 25546.678729740575\n",
      "42 29.7949161529541 3.163113397658017e-08 25546.678729740575\n"
     ]
    },
    {
     "name": "stderr",
     "output_type": "stream",
     "text": [
      "100%|████████████████████████████████████████████████████████████████████████████████| 987/987 [00:43<00:00, 22.88it/s]\n"
     ]
    },
    {
     "name": "stdout",
     "output_type": "stream",
     "text": [
      "Learning\n",
      "6/6 [==============================] - 0s 7ms/step - loss: 29.5371 - mse: 0.1121\n",
      "Testing\n",
      "3481/3481 [==============================] - 12s 3ms/step\n",
      "Loss train: 29.537067413330078, MSE: 3.167786862940841e-08, MAPE: 24944.0711939947\n",
      "43 29.537067413330078 3.167786862940841e-08 24944.0711939947\n"
     ]
    },
    {
     "name": "stderr",
     "output_type": "stream",
     "text": [
      "100%|████████████████████████████████████████████████████████████████████████████████| 987/987 [00:53<00:00, 18.35it/s]\n"
     ]
    },
    {
     "name": "stdout",
     "output_type": "stream",
     "text": [
      "Learning\n",
      "6/6 [==============================] - 0s 4ms/step - loss: 29.9957 - mse: 0.1122\n",
      "Testing\n",
      "3481/3481 [==============================] - 7s 2ms/step\n",
      "Loss train: 29.995737075805664, MSE: 3.327624898326291e-08, MAPE: 25776.978218294153\n",
      "44 29.995737075805664 3.327624898326291e-08 25776.978218294153\n"
     ]
    },
    {
     "name": "stderr",
     "output_type": "stream",
     "text": [
      "100%|████████████████████████████████████████████████████████████████████████████████| 987/987 [00:41<00:00, 23.74it/s]\n"
     ]
    },
    {
     "name": "stdout",
     "output_type": "stream",
     "text": [
      "Learning\n",
      "6/6 [==============================] - 0s 5ms/step - loss: 30.2376 - mse: 0.1139\n",
      "Testing\n",
      "3481/3481 [==============================] - 9s 3ms/step\n",
      "Loss train: 30.237579345703125, MSE: 3.437990328803726e-08, MAPE: 26425.029833297092\n",
      "45 30.237579345703125 3.437990328803726e-08 26425.029833297092\n"
     ]
    },
    {
     "name": "stderr",
     "output_type": "stream",
     "text": [
      "100%|████████████████████████████████████████████████████████████████████████████████| 987/987 [00:44<00:00, 22.24it/s]\n"
     ]
    },
    {
     "name": "stdout",
     "output_type": "stream",
     "text": [
      "Learning\n",
      "6/6 [==============================] - 0s 6ms/step - loss: 29.5040 - mse: 0.1112\n",
      "Testing\n",
      "3481/3481 [==============================] - 9s 3ms/step\n",
      "Loss train: 29.50400733947754, MSE: 3.130645878750707e-08, MAPE: 23763.27850425977\n",
      "46 29.50400733947754 3.130645878750707e-08 23763.27850425977\n"
     ]
    },
    {
     "name": "stderr",
     "output_type": "stream",
     "text": [
      "100%|████████████████████████████████████████████████████████████████████████████████| 987/987 [00:40<00:00, 24.16it/s]\n"
     ]
    },
    {
     "name": "stdout",
     "output_type": "stream",
     "text": [
      "Learning\n",
      "6/6 [==============================] - 0s 4ms/step - loss: 30.1778 - mse: 0.1131\n",
      "Testing\n",
      "3481/3481 [==============================] - 8s 2ms/step\n",
      "Loss train: 30.17782974243164, MSE: 3.1145040946451274e-08, MAPE: 24874.75649818437\n",
      "47 30.17782974243164 3.1145040946451274e-08 24874.75649818437\n"
     ]
    },
    {
     "name": "stderr",
     "output_type": "stream",
     "text": [
      "100%|████████████████████████████████████████████████████████████████████████████████| 903/903 [00:39<00:00, 22.68it/s]\n"
     ]
    },
    {
     "name": "stdout",
     "output_type": "stream",
     "text": [
      "Learning\n",
      "5/5 [==============================] - 0s 5ms/step - loss: 26.2505 - mse: 0.0996\n",
      "Testing\n",
      "17403/17403 [==============================] - 34s 2ms/step\n",
      "Loss train: 26.250484466552734, MSE: 3.5523278048775376e-08, MAPE: 30661.309905996564\n"
     ]
    },
    {
     "data": {
      "image/png": "[encoded data removed]",
      "text/plain": [
       "<Figure size 500x500 with 1 Axes>"
      ]
     },
     "metadata": {},
     "output_type": "display_data"
    }
   ],
   "source": [
    "list_of_fet = list(list_of_fet)\n",
    "\n",
    "fig, ax = plt.subplots(figsize=(5,5))\n",
    "\n",
    "for _ in range(1):\n",
    "    matrix = []\n",
    "    \n",
    "    for i in range(len(list_of_fet)):\n",
    "        lst = list_of_fet.copy()\n",
    "        fet = lst.pop(i)\n",
    "        \n",
    "        ans, loss, loss_mean = train_and_test(lst, 500, .2)\n",
    "        print(i, ans, loss, loss_mean)\n",
    "        \n",
    "        matrix.append((ans, fet))\n",
    "        \n",
    "    \n",
    "        \n",
    "    history1.append((ans, fet))\n",
    "    matrix.sort(key=lambda x: -x[0])\n",
    "    matrix = matrix[:-5]\n",
    "    \n",
    "    list_of_fet = []\n",
    "    for _, x in matrix:\n",
    "        list_of_fet.append(x)\n",
    "        \n",
    "    ans, loss, loss_mean = train_and_test(list_of_fet)\n",
    "    history.append([ans, loss, loss_mean])"
   ]
  },
  {
   "cell_type": "code",
   "execution_count": 82,
   "id": "d4276c76",
   "metadata": {},
   "outputs": [
    {
     "data": {
      "text/plain": [
       "[[30.786907196044922, 3.4646265536654856e-08, 27573.298936445808],\n",
       " [34.55529022216797, 3.2722646207807014e-08, 26768.11809089432],\n",
       " [30.12510108947754, 3.563449064019196e-08, 29421.025648762494],\n",
       " [32.48299789428711, 3.548104555917323e-08, 29659.738604450144],\n",
       " [26.250484466552734, 3.5523278048775376e-08, 30661.309905996564]]"
      ]
     },
     "execution_count": 82,
     "metadata": {},
     "output_type": "execute_result"
    }
   ],
   "source": [
    "history"
   ]
  },
  {
   "cell_type": "code",
   "execution_count": 83,
   "id": "13862dd9",
   "metadata": {},
   "outputs": [
    {
     "data": {
      "text/plain": [
       "[array([7.e-07, 4.e-07]),\n",
       " array([9.e-07, 8.e-07]),\n",
       " array([8.e-07, 5.e-07]),\n",
       " array([3.e-07, 9.e-07]),\n",
       " array([4.e-07, 1.e-06]),\n",
       " array([6.e-07, 6.e-07]),\n",
       " array([7.e-07, 7.e-07]),\n",
       " array([3.e-07, 8.e-07]),\n",
       " array([9.e-07, 6.e-07]),\n",
       " array([3.e-07, 4.e-07]),\n",
       " array([2.e-07, 3.e-07]),\n",
       " array([3.e-07, 2.e-07]),\n",
       " array([5.e-07, 2.e-07]),\n",
       " array([4.e-07, 4.e-07]),\n",
       " array([4.e-07, 3.e-07]),\n",
       " array([2.e-07, 4.e-07]),\n",
       " array([5.e-07, 5.e-07]),\n",
       " array([5.e-07, 1.e-06]),\n",
       " array([3.e-07, 6.e-07]),\n",
       " array([2.e-07, 2.e-07]),\n",
       " array([5.e-07, 4.e-07]),\n",
       " array([5.e-07, 6.e-07]),\n",
       " array([6.e-07, 5.e-07]),\n",
       " array([3.e-07, 3.e-07]),\n",
       " array([1.e-06, 1.e-06]),\n",
       " array([9.e-07, 1.e-06]),\n",
       " array([9.e-07, 7.e-07]),\n",
       " array([8.e-07, 9.e-07]),\n",
       " array([7.e-07, 6.e-07]),\n",
       " array([6.e-07, 4.e-07]),\n",
       " array([3.e-07, 1.e-06]),\n",
       " array([4.e-07, 8.e-07]),\n",
       " array([3.e-07, 7.e-07]),\n",
       " array([1.e-06, 9.e-07]),\n",
       " array([9.e-07, 9.e-07]),\n",
       " array([7.e-07, 5.e-07]),\n",
       " array([8.e-07, 7.e-07]),\n",
       " array([6.e-07, 2.e-07]),\n",
       " array([1.e-06, 3.e-07]),\n",
       " array([2.e-07, 7.e-07]),\n",
       " array([1.e-06, 8.e-07]),\n",
       " array([9.e-07, 2.e-07]),\n",
       " array([8.e-07, 3.e-07])]"
      ]
     },
     "execution_count": 83,
     "metadata": {},
     "output_type": "execute_result"
    }
   ],
   "source": [
    "list_of_fet"
   ]
  },
  {
   "cell_type": "code",
   "execution_count": 97,
   "id": "41422f9e",
   "metadata": {},
   "outputs": [
    {
     "data": {
      "text/plain": [
       "<matplotlib.collections.PathCollection at 0x17c1d839730>"
      ]
     },
     "execution_count": 97,
     "metadata": {},
     "output_type": "execute_result"
    },
    {
     "data": {
      "image/png": "[encoded data removed]",
      "text/plain": [
       "<Figure size 640x480 with 1 Axes>"
      ]
     },
     "metadata": {},
     "output_type": "display_data"
    }
   ],
   "source": [
    "list_of_fet = np.array(list_of_fet)\n",
    "\n",
    "plt.scatter(list_of_fet[:, 0], list_of_fet[:, 1])"
   ]
  },
  {
   "cell_type": "code",
   "execution_count": 86,
   "id": "575f1b5f",
   "metadata": {},
   "outputs": [],
   "source": [
    "matrix.sort(key=lambda x: -x[0])\n",
    "# print(matrix)\n",
    "matrix = matrix[:-10]\n",
    "    \n",
    "list_of_fet = []\n",
    "for _, x in matrix:\n",
    "    list_of_fet.append(x)"
   ]
  },
  {
   "cell_type": "code",
   "execution_count": 87,
   "id": "e3210dec",
   "metadata": {},
   "outputs": [
    {
     "name": "stderr",
     "output_type": "stream",
     "text": [
      "100%|████████████████████████████████████████████████████████████████████████████████| 693/693 [00:21<00:00, 32.07it/s]\n"
     ]
    },
    {
     "name": "stdout",
     "output_type": "stream",
     "text": [
      "Learning\n",
      "4/4 [==============================] - 0s 4ms/step - loss: 24.2511 - mse: 0.0943\n",
      "Testing\n",
      "17403/17403 [==============================] - 32s 2ms/step\n",
      "Loss train: 24.25107192993164, MSE: 3.1993615502043086e-08, MAPE: 31085.9435392322\n"
     ]
    },
    {
     "data": {
      "text/plain": [
       "(24.25107192993164, 3.1993615502043086e-08, 31085.9435392322)"
      ]
     },
     "execution_count": 87,
     "metadata": {},
     "output_type": "execute_result"
    }
   ],
   "source": [
    "train_and_test(list_of_fet)"
   ]
  },
  {
   "cell_type": "code",
   "execution_count": 99,
   "id": "f21bc75f",
   "metadata": {},
   "outputs": [
    {
     "data": {
      "text/plain": [
       "33"
      ]
     },
     "execution_count": 99,
     "metadata": {},
     "output_type": "execute_result"
    }
   ],
   "source": [
    "len(list_of_fet)"
   ]
  },
  {
   "cell_type": "code",
   "execution_count": 100,
   "id": "fcd00cf0",
   "metadata": {},
   "outputs": [
    {
     "name": "stderr",
     "output_type": "stream",
     "text": [
      "100%|████████████████████████████████████████████████████████████████████████████████| 672/672 [00:17<00:00, 37.61it/s]\n"
     ]
    },
    {
     "name": "stdout",
     "output_type": "stream",
     "text": [
      "Learning\n",
      "4/4 [==============================] - 0s 4ms/step - loss: 23.3491 - mse: 0.0945\n",
      "Testing\n",
      "3481/3481 [==============================] - 6s 2ms/step\n",
      "Loss train: 23.349050521850586, MSE: 3.020748585685742e-08, MAPE: 29195.243944605183\n",
      "0 23.349050521850586 3.020748585685742e-08 29195.243944605183\n"
     ]
    },
    {
     "name": "stderr",
     "output_type": "stream",
     "text": [
      "100%|████████████████████████████████████████████████████████████████████████████████| 672/672 [00:20<00:00, 32.49it/s]\n"
     ]
    },
    {
     "name": "stdout",
     "output_type": "stream",
     "text": [
      "Learning\n",
      "4/4 [==============================] - 0s 4ms/step - loss: 23.6712 - mse: 0.0944\n",
      "Testing\n",
      "3481/3481 [==============================] - 6s 2ms/step\n",
      "Loss train: 23.671192169189453, MSE: 3.048787836763046e-08, MAPE: 29533.038486889167\n",
      "1 23.671192169189453 3.048787836763046e-08 29533.038486889167\n"
     ]
    },
    {
     "name": "stderr",
     "output_type": "stream",
     "text": [
      "100%|████████████████████████████████████████████████████████████████████████████████| 672/672 [00:21<00:00, 30.65it/s]\n"
     ]
    },
    {
     "name": "stdout",
     "output_type": "stream",
     "text": [
      "Learning\n",
      "4/4 [==============================] - 0s 4ms/step - loss: 23.9715 - mse: 0.0952\n",
      "Testing\n",
      "3481/3481 [==============================] - 7s 2ms/step\n",
      "Loss train: 23.971454620361328, MSE: 2.863808505972757e-08, MAPE: 27416.784437923972\n",
      "2 23.971454620361328 2.863808505972757e-08 27416.784437923972\n"
     ]
    },
    {
     "name": "stderr",
     "output_type": "stream",
     "text": [
      "100%|████████████████████████████████████████████████████████████████████████████████| 672/672 [00:19<00:00, 34.00it/s]\n"
     ]
    },
    {
     "name": "stdout",
     "output_type": "stream",
     "text": [
      "Learning\n",
      "4/4 [==============================] - 0s 4ms/step - loss: 23.2596 - mse: 0.0949\n",
      "Testing\n",
      "3481/3481 [==============================] - 7s 2ms/step\n",
      "Loss train: 23.2596435546875, MSE: 3.130203743434217e-08, MAPE: 28991.680797865014\n",
      "3 23.2596435546875 3.130203743434217e-08 28991.680797865014\n"
     ]
    },
    {
     "name": "stderr",
     "output_type": "stream",
     "text": [
      "100%|████████████████████████████████████████████████████████████████████████████████| 672/672 [00:20<00:00, 33.43it/s]\n"
     ]
    },
    {
     "name": "stdout",
     "output_type": "stream",
     "text": [
      "Learning\n",
      "4/4 [==============================] - 0s 4ms/step - loss: 23.4551 - mse: 0.0936\n",
      "Testing\n",
      "3481/3481 [==============================] - 7s 2ms/step\n",
      "Loss train: 23.45511245727539, MSE: 2.9919221202176884e-08, MAPE: 27707.99237519279\n",
      "4 23.45511245727539 2.9919221202176884e-08 27707.99237519279\n"
     ]
    },
    {
     "name": "stderr",
     "output_type": "stream",
     "text": [
      "100%|████████████████████████████████████████████████████████████████████████████████| 672/672 [00:17<00:00, 37.44it/s]\n"
     ]
    },
    {
     "name": "stdout",
     "output_type": "stream",
     "text": [
      "Learning\n",
      "4/4 [==============================] - 0s 4ms/step - loss: 24.3673 - mse: 0.0977\n",
      "Testing\n",
      "3481/3481 [==============================] - 8s 2ms/step\n",
      "Loss train: 24.367311477661133, MSE: 2.9253377849416185e-08, MAPE: 28414.86873763869\n",
      "5 24.367311477661133 2.9253377849416185e-08 28414.86873763869\n"
     ]
    },
    {
     "name": "stderr",
     "output_type": "stream",
     "text": [
      "100%|████████████████████████████████████████████████████████████████████████████████| 672/672 [00:20<00:00, 32.06it/s]\n"
     ]
    },
    {
     "name": "stdout",
     "output_type": "stream",
     "text": [
      "Learning\n",
      "4/4 [==============================] - 0s 4ms/step - loss: 23.7736 - mse: 0.0950\n",
      "Testing\n",
      "3481/3481 [==============================] - 6s 2ms/step\n",
      "Loss train: 23.773632049560547, MSE: 2.9581528204025284e-08, MAPE: 28490.866450567595\n",
      "6 23.773632049560547 2.9581528204025284e-08 28490.866450567595\n"
     ]
    },
    {
     "name": "stderr",
     "output_type": "stream",
     "text": [
      "100%|████████████████████████████████████████████████████████████████████████████████| 672/672 [00:19<00:00, 34.06it/s]\n"
     ]
    },
    {
     "name": "stdout",
     "output_type": "stream",
     "text": [
      "Learning\n",
      "4/4 [==============================] - 0s 3ms/step - loss: 23.0227 - mse: 0.0938\n",
      "Testing\n",
      "3481/3481 [==============================] - 5s 1ms/step\n",
      "Loss train: 23.022714614868164, MSE: 3.0669031288148745e-08, MAPE: 28468.04502652129\n",
      "7 23.022714614868164 3.0669031288148745e-08 28468.04502652129\n"
     ]
    },
    {
     "name": "stderr",
     "output_type": "stream",
     "text": [
      "100%|████████████████████████████████████████████████████████████████████████████████| 672/672 [00:21<00:00, 31.86it/s]\n"
     ]
    },
    {
     "name": "stdout",
     "output_type": "stream",
     "text": [
      "Learning\n",
      "4/4 [==============================] - 0s 4ms/step - loss: 24.2137 - mse: 0.0980\n",
      "Testing\n",
      "3481/3481 [==============================] - 5s 1ms/step\n",
      "Loss train: 24.213668823242188, MSE: 2.9576670057780275e-08, MAPE: 29347.9581591606\n",
      "8 24.213668823242188 2.9576670057780275e-08 29347.9581591606\n"
     ]
    },
    {
     "name": "stderr",
     "output_type": "stream",
     "text": [
      "100%|████████████████████████████████████████████████████████████████████████████████| 672/672 [00:19<00:00, 34.77it/s]\n"
     ]
    },
    {
     "name": "stdout",
     "output_type": "stream",
     "text": [
      "Learning\n",
      "4/4 [==============================] - 0s 4ms/step - loss: 24.7124 - mse: 0.0981\n",
      "Testing\n",
      "3481/3481 [==============================] - 6s 2ms/step\n",
      "Loss train: 24.712411880493164, MSE: 2.999901135134373e-08, MAPE: 28526.600911137153\n",
      "9 24.712411880493164 2.999901135134373e-08 28526.600911137153\n"
     ]
    },
    {
     "name": "stderr",
     "output_type": "stream",
     "text": [
      "100%|████████████████████████████████████████████████████████████████████████████████| 672/672 [00:18<00:00, 35.97it/s]\n"
     ]
    },
    {
     "name": "stdout",
     "output_type": "stream",
     "text": [
      "Learning\n",
      "4/4 [==============================] - 0s 4ms/step - loss: 25.0004 - mse: 0.0990\n",
      "Testing\n",
      "3481/3481 [==============================] - 6s 2ms/step\n",
      "Loss train: 25.000442504882812, MSE: 2.8556113209342996e-08, MAPE: 27368.27950972126\n",
      "10 25.000442504882812 2.8556113209342996e-08 27368.27950972126\n"
     ]
    },
    {
     "name": "stderr",
     "output_type": "stream",
     "text": [
      "100%|████████████████████████████████████████████████████████████████████████████████| 672/672 [00:18<00:00, 35.55it/s]\n"
     ]
    },
    {
     "name": "stdout",
     "output_type": "stream",
     "text": [
      "Learning\n",
      "4/4 [==============================] - 0s 5ms/step - loss: 23.7816 - mse: 0.0979\n",
      "Testing\n",
      "3481/3481 [==============================] - 5s 1ms/step\n",
      "Loss train: 23.78156089782715, MSE: 2.854182045360823e-08, MAPE: 27474.09249691845\n",
      "11 23.78156089782715 2.854182045360823e-08 27474.09249691845\n"
     ]
    },
    {
     "name": "stderr",
     "output_type": "stream",
     "text": [
      "100%|████████████████████████████████████████████████████████████████████████████████| 672/672 [00:19<00:00, 34.65it/s]\n"
     ]
    },
    {
     "name": "stdout",
     "output_type": "stream",
     "text": [
      "Learning\n",
      "4/4 [==============================] - 0s 3ms/step - loss: 23.3298 - mse: 0.0973\n",
      "Testing\n",
      "3481/3481 [==============================] - 5s 1ms/step\n",
      "Loss train: 23.329837799072266, MSE: 2.9175441792058117e-08, MAPE: 28767.324077979178\n",
      "12 23.329837799072266 2.9175441792058117e-08 28767.324077979178\n"
     ]
    },
    {
     "name": "stderr",
     "output_type": "stream",
     "text": [
      "100%|████████████████████████████████████████████████████████████████████████████████| 672/672 [00:17<00:00, 37.89it/s]\n"
     ]
    },
    {
     "name": "stdout",
     "output_type": "stream",
     "text": [
      "Learning\n",
      "4/4 [==============================] - 0s 4ms/step - loss: 24.1000 - mse: 0.0988\n",
      "Testing\n",
      "3481/3481 [==============================] - 8s 2ms/step\n",
      "Loss train: 24.10000991821289, MSE: 2.9422934652333537e-08, MAPE: 28221.748315137193\n",
      "13 24.10000991821289 2.9422934652333537e-08 28221.748315137193\n"
     ]
    },
    {
     "name": "stderr",
     "output_type": "stream",
     "text": [
      "100%|████████████████████████████████████████████████████████████████████████████████| 672/672 [00:25<00:00, 26.32it/s]\n"
     ]
    },
    {
     "name": "stdout",
     "output_type": "stream",
     "text": [
      "Learning\n",
      "4/4 [==============================] - 0s 3ms/step - loss: 23.7805 - mse: 0.0957\n",
      "Testing\n",
      "3481/3481 [==============================] - 5s 2ms/step\n",
      "Loss train: 23.780506134033203, MSE: 3.013609558590816e-08, MAPE: 29256.555939400085\n",
      "14 23.780506134033203 3.013609558590816e-08 29256.555939400085\n"
     ]
    },
    {
     "name": "stderr",
     "output_type": "stream",
     "text": [
      "100%|████████████████████████████████████████████████████████████████████████████████| 672/672 [00:17<00:00, 39.42it/s]\n"
     ]
    },
    {
     "name": "stdout",
     "output_type": "stream",
     "text": [
      "Learning\n",
      "4/4 [==============================] - 0s 4ms/step - loss: 24.6873 - mse: 0.0971\n",
      "Testing\n",
      "3481/3481 [==============================] - 6s 2ms/step\n",
      "Loss train: 24.687305450439453, MSE: 3.0934918014299854e-08, MAPE: 29563.301753834032\n",
      "15 24.687305450439453 3.0934918014299854e-08 29563.301753834032\n"
     ]
    },
    {
     "name": "stderr",
     "output_type": "stream",
     "text": [
      "100%|████████████████████████████████████████████████████████████████████████████████| 672/672 [00:21<00:00, 31.90it/s]\n"
     ]
    },
    {
     "name": "stdout",
     "output_type": "stream",
     "text": [
      "Learning\n",
      "4/4 [==============================] - 0s 4ms/step - loss: 24.0855 - mse: 0.0986\n",
      "Testing\n",
      "3481/3481 [==============================] - 6s 2ms/step\n",
      "Loss train: 24.085521697998047, MSE: 2.9522253896791536e-08, MAPE: 28272.70560203064\n",
      "16 24.085521697998047 2.9522253896791536e-08 28272.70560203064\n"
     ]
    },
    {
     "name": "stderr",
     "output_type": "stream",
     "text": [
      "100%|████████████████████████████████████████████████████████████████████████████████| 672/672 [00:18<00:00, 36.93it/s]\n"
     ]
    },
    {
     "name": "stdout",
     "output_type": "stream",
     "text": [
      "Learning\n",
      "4/4 [==============================] - 0s 3ms/step - loss: 24.3371 - mse: 0.0970\n",
      "Testing\n",
      "3481/3481 [==============================] - 5s 1ms/step\n",
      "Loss train: 24.337081909179688, MSE: 2.98654143072124e-08, MAPE: 28902.63708158389\n",
      "17 24.337081909179688 2.98654143072124e-08 28902.63708158389\n"
     ]
    },
    {
     "name": "stderr",
     "output_type": "stream",
     "text": [
      "100%|████████████████████████████████████████████████████████████████████████████████| 672/672 [00:17<00:00, 37.73it/s]\n"
     ]
    },
    {
     "name": "stdout",
     "output_type": "stream",
     "text": [
      "Learning\n",
      "4/4 [==============================] - 0s 3ms/step - loss: 24.3256 - mse: 0.0986\n",
      "Testing\n",
      "3481/3481 [==============================] - 5s 2ms/step\n",
      "Loss train: 24.325597763061523, MSE: 2.9563326163961692e-08, MAPE: 27722.44434775157\n",
      "18 24.325597763061523 2.9563326163961692e-08 27722.44434775157\n"
     ]
    },
    {
     "name": "stderr",
     "output_type": "stream",
     "text": [
      "100%|████████████████████████████████████████████████████████████████████████████████| 672/672 [00:19<00:00, 34.74it/s]\n"
     ]
    },
    {
     "name": "stdout",
     "output_type": "stream",
     "text": [
      "Learning\n",
      "4/4 [==============================] - 0s 3ms/step - loss: 24.2685 - mse: 0.1028\n",
      "Testing\n",
      "3481/3481 [==============================] - 4s 1ms/step\n",
      "Loss train: 24.268529891967773, MSE: 2.9536156810384363e-08, MAPE: 28088.460292174397\n",
      "19 24.268529891967773 2.9536156810384363e-08 28088.460292174397\n"
     ]
    },
    {
     "name": "stderr",
     "output_type": "stream",
     "text": [
      "100%|████████████████████████████████████████████████████████████████████████████████| 672/672 [00:16<00:00, 40.05it/s]\n"
     ]
    },
    {
     "name": "stdout",
     "output_type": "stream",
     "text": [
      "Learning\n",
      "4/4 [==============================] - 0s 3ms/step - loss: 24.4156 - mse: 0.0977\n",
      "Testing\n",
      "3481/3481 [==============================] - 4s 1ms/step\n",
      "Loss train: 24.41556739807129, MSE: 2.9056089910048672e-08, MAPE: 28207.088871747055\n",
      "20 24.41556739807129 2.9056089910048672e-08 28207.088871747055\n"
     ]
    },
    {
     "name": "stderr",
     "output_type": "stream",
     "text": [
      "100%|████████████████████████████████████████████████████████████████████████████████| 672/672 [00:16<00:00, 40.06it/s]\n"
     ]
    },
    {
     "name": "stdout",
     "output_type": "stream",
     "text": [
      "Learning\n",
      "4/4 [==============================] - 0s 3ms/step - loss: 24.3774 - mse: 0.1003\n",
      "Testing\n",
      "3481/3481 [==============================] - 5s 1ms/step\n",
      "Loss train: 24.377363204956055, MSE: 2.9398854596566073e-08, MAPE: 27903.39859465191\n",
      "21 24.377363204956055 2.9398854596566073e-08 27903.39859465191\n"
     ]
    },
    {
     "name": "stderr",
     "output_type": "stream",
     "text": [
      "100%|████████████████████████████████████████████████████████████████████████████████| 672/672 [00:16<00:00, 39.82it/s]\n"
     ]
    },
    {
     "name": "stdout",
     "output_type": "stream",
     "text": [
      "Learning\n",
      "4/4 [==============================] - 0s 3ms/step - loss: 25.1254 - mse: 0.1034\n",
      "Testing\n",
      "3481/3481 [==============================] - 5s 1ms/step\n",
      "Loss train: 25.125350952148438, MSE: 3.0248684879925924e-08, MAPE: 29321.530090284654\n",
      "22 25.125350952148438 3.0248684879925924e-08 29321.530090284654\n"
     ]
    },
    {
     "name": "stderr",
     "output_type": "stream",
     "text": [
      "100%|████████████████████████████████████████████████████████████████████████████████| 672/672 [00:16<00:00, 39.57it/s]\n"
     ]
    },
    {
     "name": "stdout",
     "output_type": "stream",
     "text": [
      "Learning\n",
      "4/4 [==============================] - 0s 3ms/step - loss: 24.2911 - mse: 0.1004\n",
      "Testing\n",
      "3481/3481 [==============================] - 5s 1ms/step\n",
      "Loss train: 24.291059494018555, MSE: 2.9055912850282292e-08, MAPE: 27939.213506676984\n",
      "23 24.291059494018555 2.9055912850282292e-08 27939.213506676984\n"
     ]
    },
    {
     "name": "stderr",
     "output_type": "stream",
     "text": [
      "100%|████████████████████████████████████████████████████████████████████████████████| 672/672 [00:17<00:00, 38.89it/s]\n"
     ]
    },
    {
     "name": "stdout",
     "output_type": "stream",
     "text": [
      "Learning\n",
      "4/4 [==============================] - 0s 3ms/step - loss: 24.4005 - mse: 0.0961\n",
      "Testing\n",
      "3481/3481 [==============================] - 5s 1ms/step\n",
      "Loss train: 24.400493621826172, MSE: 3.065802587470814e-08, MAPE: 30141.22283655947\n",
      "24 24.400493621826172 3.065802587470814e-08 30141.22283655947\n"
     ]
    },
    {
     "name": "stderr",
     "output_type": "stream",
     "text": [
      "100%|████████████████████████████████████████████████████████████████████████████████| 672/672 [00:16<00:00, 39.71it/s]\n"
     ]
    },
    {
     "name": "stdout",
     "output_type": "stream",
     "text": [
      "Learning\n",
      "4/4 [==============================] - 0s 3ms/step - loss: 23.9065 - mse: 0.0980\n",
      "Testing\n",
      "3481/3481 [==============================] - 4s 1ms/step\n",
      "Loss train: 23.906490325927734, MSE: 3.0487102919645554e-08, MAPE: 29334.819968179945\n",
      "25 23.906490325927734 3.0487102919645554e-08 29334.819968179945\n"
     ]
    },
    {
     "name": "stderr",
     "output_type": "stream",
     "text": [
      "100%|████████████████████████████████████████████████████████████████████████████████| 672/672 [00:16<00:00, 39.87it/s]\n"
     ]
    },
    {
     "name": "stdout",
     "output_type": "stream",
     "text": [
      "Learning\n",
      "4/4 [==============================] - 0s 3ms/step - loss: 24.1497 - mse: 0.0972\n",
      "Testing\n",
      "3481/3481 [==============================] - 4s 1ms/step\n",
      "Loss train: 24.149723052978516, MSE: 3.037985076875777e-08, MAPE: 29998.89207316507\n",
      "26 24.149723052978516 3.037985076875777e-08 29998.89207316507\n"
     ]
    },
    {
     "name": "stderr",
     "output_type": "stream",
     "text": [
      "100%|████████████████████████████████████████████████████████████████████████████████| 672/672 [00:17<00:00, 38.99it/s]\n"
     ]
    },
    {
     "name": "stdout",
     "output_type": "stream",
     "text": [
      "Learning\n",
      "4/4 [==============================] - 0s 3ms/step - loss: 25.2351 - mse: 0.0998\n",
      "Testing\n",
      "3481/3481 [==============================] - 5s 2ms/step\n",
      "Loss train: 25.23508071899414, MSE: 2.899882842346155e-08, MAPE: 28491.902705212487\n",
      "27 25.23508071899414 2.899882842346155e-08 28491.902705212487\n"
     ]
    },
    {
     "name": "stderr",
     "output_type": "stream",
     "text": [
      "100%|████████████████████████████████████████████████████████████████████████████████| 672/672 [00:17<00:00, 39.05it/s]\n"
     ]
    },
    {
     "name": "stdout",
     "output_type": "stream",
     "text": [
      "Learning\n",
      "4/4 [==============================] - 0s 3ms/step - loss: 24.8345 - mse: 0.1001\n",
      "Testing\n",
      "3481/3481 [==============================] - 5s 2ms/step\n",
      "Loss train: 24.834470748901367, MSE: 2.9419228556661067e-08, MAPE: 28818.702372486612\n",
      "28 24.834470748901367 2.9419228556661067e-08 28818.702372486612\n"
     ]
    },
    {
     "name": "stderr",
     "output_type": "stream",
     "text": [
      "100%|████████████████████████████████████████████████████████████████████████████████| 672/672 [00:17<00:00, 39.01it/s]\n"
     ]
    },
    {
     "name": "stdout",
     "output_type": "stream",
     "text": [
      "Learning\n",
      "4/4 [==============================] - 0s 3ms/step - loss: 23.9526 - mse: 0.0969\n",
      "Testing\n",
      "3481/3481 [==============================] - 5s 2ms/step\n",
      "Loss train: 23.952632904052734, MSE: 2.9692432275157396e-08, MAPE: 28665.764652323105\n",
      "29 23.952632904052734 2.9692432275157396e-08 28665.764652323105\n"
     ]
    },
    {
     "name": "stderr",
     "output_type": "stream",
     "text": [
      "100%|████████████████████████████████████████████████████████████████████████████████| 672/672 [00:17<00:00, 38.12it/s]\n"
     ]
    },
    {
     "name": "stdout",
     "output_type": "stream",
     "text": [
      "Learning\n",
      "4/4 [==============================] - 0s 4ms/step - loss: 23.4763 - mse: 0.0987\n",
      "Testing\n",
      "3481/3481 [==============================] - 5s 1ms/step\n",
      "Loss train: 23.47626495361328, MSE: 3.180727631493544e-08, MAPE: 29866.161543561964\n",
      "30 23.47626495361328 3.180727631493544e-08 29866.161543561964\n"
     ]
    },
    {
     "name": "stderr",
     "output_type": "stream",
     "text": [
      "100%|████████████████████████████████████████████████████████████████████████████████| 672/672 [00:17<00:00, 38.86it/s]\n"
     ]
    },
    {
     "name": "stdout",
     "output_type": "stream",
     "text": [
      "Learning\n",
      "4/4 [==============================] - 0s 3ms/step - loss: 23.9458 - mse: 0.0982\n",
      "Testing\n",
      "3481/3481 [==============================] - 4s 1ms/step\n",
      "Loss train: 23.945758819580078, MSE: 3.023399691005782e-08, MAPE: 28480.120924323106\n",
      "31 23.945758819580078 3.023399691005782e-08 28480.120924323106\n"
     ]
    },
    {
     "name": "stderr",
     "output_type": "stream",
     "text": [
      "100%|████████████████████████████████████████████████████████████████████████████████| 672/672 [00:17<00:00, 38.81it/s]\n"
     ]
    },
    {
     "name": "stdout",
     "output_type": "stream",
     "text": [
      "Learning\n",
      "4/4 [==============================] - 0s 3ms/step - loss: 23.4978 - mse: 0.0975\n",
      "Testing\n",
      "3481/3481 [==============================] - 5s 2ms/step\n",
      "Loss train: 23.497785568237305, MSE: 3.013285494892613e-08, MAPE: 28755.773212072232\n",
      "32 23.497785568237305 3.013285494892613e-08 28755.773212072232\n"
     ]
    },
    {
     "name": "stderr",
     "output_type": "stream",
     "text": [
      "100%|████████████████████████████████████████████████████████████████████████████████| 588/588 [00:15<00:00, 38.90it/s]\n"
     ]
    },
    {
     "name": "stdout",
     "output_type": "stream",
     "text": [
      "Learning\n",
      "4/4 [==============================] - 0s 4ms/step - loss: 20.8423 - mse: 0.0781\n",
      "Testing\n",
      "17403/17403 [==============================] - 25s 1ms/step\n",
      "Loss train: 20.84231185913086, MSE: 3.241110894477414e-08, MAPE: 29475.753135132858\n"
     ]
    },
    {
     "data": {
      "image/png": "[encoded data removed]",
      "text/plain": [
       "<Figure size 500x500 with 1 Axes>"
      ]
     },
     "metadata": {},
     "output_type": "display_data"
    }
   ],
   "source": [
    "list_of_fet = list(list_of_fet)\n",
    "\n",
    "fig, ax = plt.subplots(figsize=(5,5))\n",
    "\n",
    "for _ in range(1):\n",
    "    matrix = []\n",
    "    \n",
    "    for i in range(len(list_of_fet)):\n",
    "        lst = list_of_fet.copy()\n",
    "        fet = lst.pop(i)\n",
    "        \n",
    "        ans, loss, loss_mean = train_and_test(lst, 500, .2)\n",
    "        print(i, ans, loss, loss_mean)\n",
    "        \n",
    "        matrix.append((ans, fet))\n",
    "        \n",
    "    \n",
    "        \n",
    "    history1.append((ans, fet))\n",
    "    matrix.sort(key=lambda x: -x[0])\n",
    "    matrix = matrix[:-5]\n",
    "    \n",
    "    list_of_fet = []\n",
    "    for _, x in matrix:\n",
    "        list_of_fet.append(x)\n",
    "        \n",
    "    ans, loss, loss_mean = train_and_test(list_of_fet)\n",
    "    history.append([ans, loss, loss_mean])"
   ]
  },
  {
   "cell_type": "code",
   "execution_count": 101,
   "id": "7996c41b",
   "metadata": {},
   "outputs": [
    {
     "data": {
      "text/plain": [
       "[[30.786907196044922, 3.4646265536654856e-08, 27573.298936445808],\n",
       " [34.55529022216797, 3.2722646207807014e-08, 26768.11809089432],\n",
       " [30.12510108947754, 3.563449064019196e-08, 29421.025648762494],\n",
       " [32.48299789428711, 3.548104555917323e-08, 29659.738604450144],\n",
       " [26.250484466552734, 3.5523278048775376e-08, 30661.309905996564],\n",
       " [20.84231185913086, 3.241110894477414e-08, 29475.753135132858]]"
      ]
     },
     "execution_count": 101,
     "metadata": {},
     "output_type": "execute_result"
    }
   ],
   "source": [
    "history"
   ]
  },
  {
   "cell_type": "code",
   "execution_count": 102,
   "id": "8f81ba9a",
   "metadata": {},
   "outputs": [
    {
     "data": {
      "text/plain": [
       "[array([8.e-07, 9.e-07]),\n",
       " array([6.e-07, 5.e-07]),\n",
       " array([2.e-07, 3.e-07]),\n",
       " array([7.e-07, 6.e-07]),\n",
       " array([3.e-07, 4.e-07]),\n",
       " array([2.e-07, 4.e-07]),\n",
       " array([5.e-07, 4.e-07]),\n",
       " array([1.e-06, 1.e-06]),\n",
       " array([5.e-07, 6.e-07]),\n",
       " array([6.e-07, 6.e-07]),\n",
       " array([5.e-07, 1.e-06]),\n",
       " array([3.e-07, 6.e-07]),\n",
       " array([3.e-07, 3.e-07]),\n",
       " array([2.e-07, 2.e-07]),\n",
       " array([9.e-07, 6.e-07]),\n",
       " array([9.e-07, 7.e-07]),\n",
       " array([4.e-07, 4.e-07]),\n",
       " array([5.e-07, 5.e-07]),\n",
       " array([8.e-07, 5.e-07]),\n",
       " array([6.e-07, 4.e-07]),\n",
       " array([4.e-07, 8.e-07]),\n",
       " array([9.e-07, 1.e-06]),\n",
       " array([3.e-07, 2.e-07]),\n",
       " array([4.e-07, 3.e-07]),\n",
       " array([7.e-07, 7.e-07]),\n",
       " array([9.e-07, 8.e-07]),\n",
       " array([3.e-07, 7.e-07]),\n",
       " array([3.e-07, 1.e-06])]"
      ]
     },
     "execution_count": 102,
     "metadata": {},
     "output_type": "execute_result"
    }
   ],
   "source": [
    "list_of_fet"
   ]
  },
  {
   "cell_type": "code",
   "execution_count": 103,
   "id": "b5e6e5f3",
   "metadata": {},
   "outputs": [
    {
     "data": {
      "text/plain": [
       "<matplotlib.collections.PathCollection at 0x17b5a821cd0>"
      ]
     },
     "execution_count": 103,
     "metadata": {},
     "output_type": "execute_result"
    },
    {
     "data": {
      "image/png": "[encoded data removed]",
      "text/plain": [
       "<Figure size 640x480 with 1 Axes>"
      ]
     },
     "metadata": {},
     "output_type": "display_data"
    }
   ],
   "source": [
    "list_of_fet = np.array(list_of_fet)\n",
    "\n",
    "plt.scatter(list_of_fet[:, 0], list_of_fet[:, 1])"
   ]
  },
  {
   "cell_type": "code",
   "execution_count": 104,
   "id": "2f7c0472",
   "metadata": {},
   "outputs": [
    {
     "name": "stderr",
     "output_type": "stream",
     "text": [
      "100%|████████████████████████████████████████████████████████████████████████████████| 588/588 [00:15<00:00, 37.73it/s]\n"
     ]
    },
    {
     "name": "stdout",
     "output_type": "stream",
     "text": [
      "Learning\n",
      "4/4 [==============================] - 0s 4ms/step - loss: 20.2043 - mse: 0.0770\n",
      "Testing\n",
      "17403/17403 [==============================] - 35s 2ms/step\n",
      "Loss train: 20.204328536987305, MSE: 3.246361363269793e-08, MAPE: 30213.360547550972\n"
     ]
    },
    {
     "data": {
      "text/plain": [
       "(20.204328536987305, 3.246361363269793e-08, 30213.360547550972)"
      ]
     },
     "execution_count": 104,
     "metadata": {},
     "output_type": "execute_result"
    }
   ],
   "source": [
    "train_and_test(list_of_fet)"
   ]
  },
  {
   "cell_type": "code",
   "execution_count": 105,
   "id": "1365f387",
   "metadata": {},
   "outputs": [],
   "source": [
    "matrix.sort(key=lambda x: -x[0])\n",
    "# print(matrix)\n",
    "    \n",
    "list_of_fet = []\n",
    "for _, x in matrix[:-10]:\n",
    "    list_of_fet.append(x)"
   ]
  },
  {
   "cell_type": "code",
   "execution_count": 106,
   "id": "28d8a53f",
   "metadata": {},
   "outputs": [
    {
     "name": "stderr",
     "output_type": "stream",
     "text": [
      "100%|████████████████████████████████████████████████████████████████████████████████| 378/378 [00:09<00:00, 38.02it/s]\n"
     ]
    },
    {
     "name": "stdout",
     "output_type": "stream",
     "text": [
      "Learning\n",
      "3/3 [==============================] - 0s 4ms/step - loss: 18.0412 - mse: 0.0901\n",
      "Testing\n",
      "17403/17403 [==============================] - 27s 2ms/step\n",
      "Loss train: 18.041200637817383, MSE: 3.502344313022511e-08, MAPE: 30720.919488681484\n"
     ]
    },
    {
     "data": {
      "text/plain": [
       "(18.041200637817383, 3.502344313022511e-08, 30720.919488681484)"
      ]
     },
     "execution_count": 106,
     "metadata": {},
     "output_type": "execute_result"
    }
   ],
   "source": [
    "train_and_test(list_of_fet)"
   ]
  },
  {
   "cell_type": "code",
   "execution_count": 107,
   "id": "2595cbbf",
   "metadata": {},
   "outputs": [
    {
     "data": {
      "text/plain": [
       "<matplotlib.collections.PathCollection at 0x17b534eb2b0>"
      ]
     },
     "execution_count": 107,
     "metadata": {},
     "output_type": "execute_result"
    },
    {
     "data": {
      "image/png": "[encoded data removed]",
      "text/plain": [
       "<Figure size 640x480 with 1 Axes>"
      ]
     },
     "metadata": {},
     "output_type": "display_data"
    }
   ],
   "source": [
    "list_of_fet = np.array(list_of_fet)\n",
    "\n",
    "plt.scatter(list_of_fet[:, 0], list_of_fet[:, 1])"
   ]
  },
  {
   "cell_type": "code",
   "execution_count": 110,
   "id": "2fcdd49f",
   "metadata": {},
   "outputs": [
    {
     "name": "stderr",
     "output_type": "stream",
     "text": [
      "100%|████████████████████████████████████████████████████████████████████████████████| 357/357 [00:09<00:00, 37.94it/s]\n"
     ]
    },
    {
     "name": "stdout",
     "output_type": "stream",
     "text": [
      "Learning\n",
      "2/2 [==============================] - 0s 5ms/step - loss: 20.6572 - mse: 0.1096\n",
      "Testing\n",
      "3481/3481 [==============================] - 5s 2ms/step\n",
      "Loss train: 20.65715217590332, MSE: 2.909063509117736e-08, MAPE: 27113.649180524142\n",
      "0 20.65715217590332 2.909063509117736e-08 27113.649180524142\n"
     ]
    },
    {
     "name": "stderr",
     "output_type": "stream",
     "text": [
      "100%|████████████████████████████████████████████████████████████████████████████████| 357/357 [00:09<00:00, 36.31it/s]\n"
     ]
    },
    {
     "name": "stdout",
     "output_type": "stream",
     "text": [
      "Learning\n",
      "2/2 [==============================] - 0s 4ms/step - loss: 19.6163 - mse: 0.0980\n",
      "Testing\n",
      "3481/3481 [==============================] - 6s 2ms/step\n",
      "Loss train: 19.616336822509766, MSE: 3.3024707694359655e-08, MAPE: 28017.211667025404\n",
      "1 19.616336822509766 3.3024707694359655e-08 28017.211667025404\n"
     ]
    },
    {
     "name": "stderr",
     "output_type": "stream",
     "text": [
      "100%|████████████████████████████████████████████████████████████████████████████████| 357/357 [00:09<00:00, 38.50it/s]\n"
     ]
    },
    {
     "name": "stdout",
     "output_type": "stream",
     "text": [
      "Learning\n",
      "2/2 [==============================] - 0s 5ms/step - loss: 20.0108 - mse: 0.0993\n",
      "Testing\n",
      "3481/3481 [==============================] - 5s 1ms/step\n",
      "Loss train: 20.010766983032227, MSE: 3.11737194985123e-08, MAPE: 26584.441077081316\n",
      "2 20.010766983032227 3.11737194985123e-08 26584.441077081316\n"
     ]
    },
    {
     "name": "stderr",
     "output_type": "stream",
     "text": [
      "100%|████████████████████████████████████████████████████████████████████████████████| 357/357 [00:09<00:00, 37.75it/s]\n"
     ]
    },
    {
     "name": "stdout",
     "output_type": "stream",
     "text": [
      "Learning\n",
      "2/2 [==============================] - 0s 3ms/step - loss: 18.9356 - mse: 0.1025\n",
      "Testing\n",
      "3481/3481 [==============================] - 4s 1ms/step\n",
      "Loss train: 18.935569763183594, MSE: 3.028627631864077e-08, MAPE: 25810.329821287578\n",
      "3 18.935569763183594 3.028627631864077e-08 25810.329821287578\n"
     ]
    },
    {
     "name": "stderr",
     "output_type": "stream",
     "text": [
      "100%|████████████████████████████████████████████████████████████████████████████████| 357/357 [00:09<00:00, 38.53it/s]\n"
     ]
    },
    {
     "name": "stdout",
     "output_type": "stream",
     "text": [
      "Learning\n",
      "2/2 [==============================] - 0s 4ms/step - loss: 19.6781 - mse: 0.1053\n",
      "Testing\n",
      "3481/3481 [==============================] - 4s 1ms/step\n",
      "Loss train: 19.67807388305664, MSE: 3.2514224269958117e-08, MAPE: 26582.279385911705\n",
      "4 19.67807388305664 3.2514224269958117e-08 26582.279385911705\n"
     ]
    },
    {
     "name": "stderr",
     "output_type": "stream",
     "text": [
      "100%|████████████████████████████████████████████████████████████████████████████████| 357/357 [00:09<00:00, 38.20it/s]\n"
     ]
    },
    {
     "name": "stdout",
     "output_type": "stream",
     "text": [
      "Learning\n",
      "2/2 [==============================] - 0s 4ms/step - loss: 18.3972 - mse: 0.1033\n",
      "Testing\n",
      "3481/3481 [==============================] - 7s 2ms/step\n",
      "Loss train: 18.397172927856445, MSE: 3.197089268935209e-08, MAPE: 25810.326860253885\n",
      "5 18.397172927856445 3.197089268935209e-08 25810.326860253885\n"
     ]
    },
    {
     "name": "stderr",
     "output_type": "stream",
     "text": [
      "100%|████████████████████████████████████████████████████████████████████████████████| 357/357 [00:09<00:00, 36.38it/s]\n"
     ]
    },
    {
     "name": "stdout",
     "output_type": "stream",
     "text": [
      "Learning\n",
      "2/2 [==============================] - 0s 4ms/step - loss: 18.9305 - mse: 0.1032\n",
      "Testing\n",
      "3481/3481 [==============================] - 4s 1ms/step\n",
      "Loss train: 18.930526733398438, MSE: 3.2547775106835166e-08, MAPE: 26848.79069795788\n",
      "6 18.930526733398438 3.2547775106835166e-08 26848.79069795788\n"
     ]
    },
    {
     "name": "stderr",
     "output_type": "stream",
     "text": [
      "100%|████████████████████████████████████████████████████████████████████████████████| 357/357 [00:09<00:00, 37.70it/s]\n"
     ]
    },
    {
     "name": "stdout",
     "output_type": "stream",
     "text": [
      "Learning\n",
      "2/2 [==============================] - 0s 5ms/step - loss: 18.3879 - mse: 0.0987\n",
      "Testing\n",
      "3481/3481 [==============================] - 6s 2ms/step\n",
      "Loss train: 18.3879337310791, MSE: 3.1019577122047955e-08, MAPE: 28408.984025073467\n",
      "7 18.3879337310791 3.1019577122047955e-08 28408.984025073467\n"
     ]
    },
    {
     "name": "stderr",
     "output_type": "stream",
     "text": [
      "100%|████████████████████████████████████████████████████████████████████████████████| 357/357 [00:09<00:00, 37.99it/s]\n"
     ]
    },
    {
     "name": "stdout",
     "output_type": "stream",
     "text": [
      "Learning\n",
      "2/2 [==============================] - 0s 4ms/step - loss: 19.9449 - mse: 0.1099\n",
      "Testing\n",
      "3481/3481 [==============================] - 4s 1ms/step\n",
      "Loss train: 19.944883346557617, MSE: 3.2826063813209865e-08, MAPE: 28082.60607742489\n",
      "8 19.944883346557617 3.2826063813209865e-08 28082.60607742489\n"
     ]
    },
    {
     "name": "stderr",
     "output_type": "stream",
     "text": [
      "100%|████████████████████████████████████████████████████████████████████████████████| 357/357 [00:09<00:00, 36.76it/s]\n"
     ]
    },
    {
     "name": "stdout",
     "output_type": "stream",
     "text": [
      "Learning\n",
      "2/2 [==============================] - 0s 5ms/step - loss: 19.4343 - mse: 0.1070\n",
      "Testing\n",
      "3481/3481 [==============================] - 5s 2ms/step\n",
      "Loss train: 19.434268951416016, MSE: 3.072046122555044e-08, MAPE: 28172.056837886234\n",
      "9 19.434268951416016 3.072046122555044e-08 28172.056837886234\n"
     ]
    },
    {
     "name": "stderr",
     "output_type": "stream",
     "text": [
      "100%|████████████████████████████████████████████████████████████████████████████████| 357/357 [00:09<00:00, 37.92it/s]\n"
     ]
    },
    {
     "name": "stdout",
     "output_type": "stream",
     "text": [
      "Learning\n",
      "2/2 [==============================] - 0s 5ms/step - loss: 18.0691 - mse: 0.0975\n",
      "Testing\n",
      "3481/3481 [==============================] - 4s 1ms/step\n",
      "Loss train: 18.069128036499023, MSE: 3.8357027356464534e-08, MAPE: 31125.025108408474\n",
      "10 18.069128036499023 3.8357027356464534e-08 31125.025108408474\n"
     ]
    },
    {
     "name": "stderr",
     "output_type": "stream",
     "text": [
      "100%|████████████████████████████████████████████████████████████████████████████████| 357/357 [00:09<00:00, 38.14it/s]\n"
     ]
    },
    {
     "name": "stdout",
     "output_type": "stream",
     "text": [
      "Learning\n",
      "2/2 [==============================] - 0s 4ms/step - loss: 18.6903 - mse: 0.1029\n",
      "Testing\n",
      "3481/3481 [==============================] - 5s 1ms/step\n",
      "Loss train: 18.69027328491211, MSE: 3.241513832129571e-08, MAPE: 26154.133215575017\n",
      "11 18.69027328491211 3.241513832129571e-08 26154.133215575017\n"
     ]
    },
    {
     "name": "stderr",
     "output_type": "stream",
     "text": [
      "100%|████████████████████████████████████████████████████████████████████████████████| 357/357 [00:09<00:00, 38.66it/s]\n"
     ]
    },
    {
     "name": "stdout",
     "output_type": "stream",
     "text": [
      "Learning\n",
      "2/2 [==============================] - 0s 4ms/step - loss: 18.2955 - mse: 0.1016\n",
      "Testing\n",
      "3481/3481 [==============================] - 4s 1ms/step\n",
      "Loss train: 18.29545783996582, MSE: 3.1026076116977e-08, MAPE: 26123.650284964497\n",
      "12 18.29545783996582 3.1026076116977e-08 26123.650284964497\n"
     ]
    },
    {
     "name": "stderr",
     "output_type": "stream",
     "text": [
      "100%|████████████████████████████████████████████████████████████████████████████████| 357/357 [00:09<00:00, 38.47it/s]\n"
     ]
    },
    {
     "name": "stdout",
     "output_type": "stream",
     "text": [
      "Learning\n",
      "2/2 [==============================] - 0s 5ms/step - loss: 18.5129 - mse: 0.1002\n",
      "Testing\n",
      "3481/3481 [==============================] - 5s 1ms/step\n",
      "Loss train: 18.512853622436523, MSE: 3.190191719712583e-08, MAPE: 25641.96546369848\n",
      "13 18.512853622436523 3.190191719712583e-08 25641.96546369848\n"
     ]
    },
    {
     "name": "stderr",
     "output_type": "stream",
     "text": [
      "100%|████████████████████████████████████████████████████████████████████████████████| 357/357 [00:09<00:00, 38.46it/s]\n"
     ]
    },
    {
     "name": "stdout",
     "output_type": "stream",
     "text": [
      "Learning\n",
      "2/2 [==============================] - 0s 4ms/step - loss: 18.1360 - mse: 0.1021\n",
      "Testing\n",
      "3481/3481 [==============================] - 4s 1ms/step\n",
      "Loss train: 18.13596534729004, MSE: 3.027143081204321e-08, MAPE: 26838.235234731408\n",
      "14 18.13596534729004 3.027143081204321e-08 26838.235234731408\n"
     ]
    },
    {
     "name": "stderr",
     "output_type": "stream",
     "text": [
      "100%|████████████████████████████████████████████████████████████████████████████████| 357/357 [00:09<00:00, 38.35it/s]\n"
     ]
    },
    {
     "name": "stdout",
     "output_type": "stream",
     "text": [
      "Learning\n",
      "2/2 [==============================] - 0s 4ms/step - loss: 18.1307 - mse: 0.1008\n",
      "Testing\n",
      "3481/3481 [==============================] - 5s 1ms/step\n",
      "Loss train: 18.130708694458008, MSE: 3.04796614436957e-08, MAPE: 27036.68435272562\n",
      "15 18.130708694458008 3.04796614436957e-08 27036.68435272562\n"
     ]
    },
    {
     "name": "stderr",
     "output_type": "stream",
     "text": [
      "100%|████████████████████████████████████████████████████████████████████████████████| 357/357 [00:09<00:00, 37.25it/s]\n"
     ]
    },
    {
     "name": "stdout",
     "output_type": "stream",
     "text": [
      "Learning\n",
      "2/2 [==============================] - 0s 4ms/step - loss: 18.4247 - mse: 0.0980\n",
      "Testing\n",
      "3481/3481 [==============================] - 4s 1ms/step\n",
      "Loss train: 18.424718856811523, MSE: 3.2699807985632535e-08, MAPE: 27091.95562951713\n",
      "16 18.424718856811523 3.2699807985632535e-08 27091.95562951713\n"
     ]
    },
    {
     "name": "stderr",
     "output_type": "stream",
     "text": [
      "100%|████████████████████████████████████████████████████████████████████████████████| 357/357 [00:09<00:00, 38.08it/s]\n"
     ]
    },
    {
     "name": "stdout",
     "output_type": "stream",
     "text": [
      "Learning\n",
      "2/2 [==============================] - 0s 4ms/step - loss: 18.5483 - mse: 0.0988\n",
      "Testing\n",
      "3481/3481 [==============================] - 5s 1ms/step\n",
      "Loss train: 18.54825210571289, MSE: 3.174540003381924e-08, MAPE: 27707.118934573915\n",
      "17 18.54825210571289 3.174540003381924e-08 27707.118934573915\n"
     ]
    },
    {
     "name": "stderr",
     "output_type": "stream",
     "text": [
      "100%|████████████████████████████████████████████████████████████████████████████████| 273/273 [00:07<00:00, 38.14it/s]\n"
     ]
    },
    {
     "name": "stdout",
     "output_type": "stream",
     "text": [
      "Learning\n",
      "2/2 [==============================] - 0s 5ms/step - loss: 17.0694 - mse: 0.0896\n",
      "Testing\n",
      "17403/17403 [==============================] - 20s 1ms/step\n",
      "Loss train: 17.06942367553711, MSE: 3.622204892263093e-08, MAPE: 35992.9833826928\n"
     ]
    },
    {
     "data": {
      "image/png": "[encoded data removed]",
      "text/plain": [
       "<Figure size 500x500 with 1 Axes>"
      ]
     },
     "metadata": {},
     "output_type": "display_data"
    }
   ],
   "source": [
    "list_of_fet = list(list_of_fet)\n",
    "\n",
    "fig, ax = plt.subplots(figsize=(5,5))\n",
    "\n",
    "for _ in range(1):\n",
    "    matrix = []\n",
    "    \n",
    "    for i in range(len(list_of_fet)):\n",
    "        lst = list_of_fet.copy()\n",
    "        fet = lst.pop(i)\n",
    "        \n",
    "        ans, loss, loss_mean = train_and_test(lst, 500, .2)\n",
    "        print(i, ans, loss, loss_mean)\n",
    "        \n",
    "        matrix.append((ans, fet))\n",
    "        \n",
    "    \n",
    "        \n",
    "    history1.append((ans, fet))\n",
    "    matrix.sort(key=lambda x: -x[0])\n",
    "    matrix = matrix[:-5]\n",
    "    \n",
    "    list_of_fet = []\n",
    "    for _, x in matrix:\n",
    "        list_of_fet.append(x)\n",
    "        \n",
    "    ans, loss, loss_mean = train_and_test(list_of_fet)\n",
    "    history.append([ans, loss, loss_mean])"
   ]
  },
  {
   "cell_type": "code",
   "execution_count": 111,
   "id": "75ac5438",
   "metadata": {},
   "outputs": [
    {
     "data": {
      "text/plain": [
       "[[30.786907196044922, 3.4646265536654856e-08, 27573.298936445808],\n",
       " [34.55529022216797, 3.2722646207807014e-08, 26768.11809089432],\n",
       " [30.12510108947754, 3.563449064019196e-08, 29421.025648762494],\n",
       " [32.48299789428711, 3.548104555917323e-08, 29659.738604450144],\n",
       " [26.250484466552734, 3.5523278048775376e-08, 30661.309905996564],\n",
       " [20.84231185913086, 3.241110894477414e-08, 29475.753135132858],\n",
       " [17.06942367553711, 3.622204892263093e-08, 35992.9833826928]]"
      ]
     },
     "execution_count": 111,
     "metadata": {},
     "output_type": "execute_result"
    }
   ],
   "source": [
    "history"
   ]
  },
  {
   "cell_type": "code",
   "execution_count": 135,
   "id": "e86ada56",
   "metadata": {},
   "outputs": [
    {
     "data": {
      "text/plain": [
       "[(20.65715217590332, array([8.e-07, 9.e-07])),\n",
       " (20.010766983032227, array([2.e-07, 3.e-07])),\n",
       " (19.944883346557617, array([5.e-07, 6.e-07])),\n",
       " (19.67807388305664, array([3.e-07, 4.e-07])),\n",
       " (19.616336822509766, array([6.e-07, 5.e-07])),\n",
       " (19.434268951416016, array([6.e-07, 6.e-07])),\n",
       " (18.935569763183594, array([7.e-07, 6.e-07])),\n",
       " (18.930526733398438, array([5.e-07, 4.e-07])),\n",
       " (18.69027328491211, array([3.e-07, 6.e-07])),\n",
       " (18.54825210571289, array([5.e-07, 5.e-07])),\n",
       " (18.512853622436523, array([2.e-07, 2.e-07])),\n",
       " (18.424718856811523, array([4.e-07, 4.e-07])),\n",
       " (18.397172927856445, array([2.e-07, 4.e-07]))]"
      ]
     },
     "execution_count": 135,
     "metadata": {},
     "output_type": "execute_result"
    }
   ],
   "source": [
    "matrix"
   ]
  },
  {
   "cell_type": "code",
   "execution_count": 124,
   "id": "bbffcebd",
   "metadata": {},
   "outputs": [
    {
     "data": {
      "text/plain": [
       "array([[8.e-07, 9.e-07],\n",
       "       [2.e-07, 3.e-07],\n",
       "       [5.e-07, 6.e-07],\n",
       "       [3.e-07, 4.e-07],\n",
       "       [6.e-07, 5.e-07],\n",
       "       [6.e-07, 6.e-07],\n",
       "       [7.e-07, 6.e-07],\n",
       "       [5.e-07, 4.e-07],\n",
       "       [3.e-07, 6.e-07],\n",
       "       [5.e-07, 5.e-07],\n",
       "       [2.e-07, 2.e-07],\n",
       "       [4.e-07, 4.e-07],\n",
       "       [2.e-07, 4.e-07]])"
      ]
     },
     "execution_count": 124,
     "metadata": {},
     "output_type": "execute_result"
    }
   ],
   "source": [
    "list_of_fet"
   ]
  },
  {
   "cell_type": "code",
   "execution_count": 133,
   "id": "f7bfd66d",
   "metadata": {},
   "outputs": [],
   "source": [
    "matrix.sort(key=lambda x: -x[0])\n",
    "# print(matrix)\n",
    "    \n",
    "list_of_fet = []\n",
    "for _, x in matrix[:-3]:\n",
    "    list_of_fet.append(x)"
   ]
  },
  {
   "cell_type": "code",
   "execution_count": 134,
   "id": "c6ff2004",
   "metadata": {},
   "outputs": [
    {
     "data": {
      "text/plain": [
       "<matplotlib.collections.PathCollection at 0x17b5a5c0520>"
      ]
     },
     "execution_count": 134,
     "metadata": {},
     "output_type": "execute_result"
    },
    {
     "data": {
      "image/png": "[encoded data removed]",
      "text/plain": [
       "<Figure size 640x480 with 1 Axes>"
      ]
     },
     "metadata": {},
     "output_type": "display_data"
    }
   ],
   "source": [
    "list_of_fet = np.array(list_of_fet)\n",
    "\n",
    "plt.scatter(list_of_fet[:, 0], list_of_fet[:, 1])"
   ]
  },
  {
   "cell_type": "code",
   "execution_count": 136,
   "id": "4ce81b74",
   "metadata": {},
   "outputs": [
    {
     "data": {
      "text/plain": [
       "10"
      ]
     },
     "execution_count": 136,
     "metadata": {},
     "output_type": "execute_result"
    }
   ],
   "source": [
    "len(list_of_fet)"
   ]
  },
  {
   "cell_type": "code",
   "execution_count": 137,
   "id": "3612768e",
   "metadata": {},
   "outputs": [
    {
     "name": "stderr",
     "output_type": "stream",
     "text": [
      "100%|████████████████████████████████████████████████████████████████████████████████| 189/189 [00:05<00:00, 36.44it/s]\n"
     ]
    },
    {
     "name": "stdout",
     "output_type": "stream",
     "text": [
      "Learning\n",
      "2/2 [==============================] - 0s 5ms/step - loss: 19.9016 - mse: 0.1243\n",
      "Testing\n",
      "5221/5221 [==============================] - 8s 1ms/step\n",
      "Loss train: 19.901643753051758, MSE: 3.178906930795573e-08, MAPE: 28603.991472498594\n",
      "0 19.901643753051758 3.178906930795573e-08 28603.991472498594\n"
     ]
    },
    {
     "name": "stderr",
     "output_type": "stream",
     "text": [
      "100%|████████████████████████████████████████████████████████████████████████████████| 189/189 [00:05<00:00, 36.98it/s]\n"
     ]
    },
    {
     "name": "stdout",
     "output_type": "stream",
     "text": [
      "Learning\n",
      "2/2 [==============================] - 0s 4ms/step - loss: 18.4218 - mse: 0.1076\n",
      "Testing\n",
      "5221/5221 [==============================] - 6s 1ms/step\n",
      "Loss train: 18.42180633544922, MSE: 2.626952880713162e-08, MAPE: 19474.33341246512\n",
      "1 18.42180633544922 2.626952880713162e-08 19474.33341246512\n"
     ]
    },
    {
     "name": "stderr",
     "output_type": "stream",
     "text": [
      "100%|████████████████████████████████████████████████████████████████████████████████| 189/189 [00:04<00:00, 38.12it/s]\n"
     ]
    },
    {
     "name": "stdout",
     "output_type": "stream",
     "text": [
      "Learning\n",
      "2/2 [==============================] - 0s 4ms/step - loss: 19.2240 - mse: 0.1122\n",
      "Testing\n",
      "5221/5221 [==============================] - 7s 1ms/step\n",
      "Loss train: 19.224027633666992, MSE: 3.2648539271541914e-08, MAPE: 26949.241058067655\n",
      "2 19.224027633666992 3.2648539271541914e-08 26949.241058067655\n"
     ]
    },
    {
     "name": "stderr",
     "output_type": "stream",
     "text": [
      "100%|████████████████████████████████████████████████████████████████████████████████| 189/189 [00:05<00:00, 37.69it/s]\n"
     ]
    },
    {
     "name": "stdout",
     "output_type": "stream",
     "text": [
      "Learning\n",
      "2/2 [==============================] - 0s 4ms/step - loss: 18.5189 - mse: 0.1065\n",
      "Testing\n",
      "5221/5221 [==============================] - 6s 1ms/step\n",
      "Loss train: 18.518898010253906, MSE: 3.0106135114742284e-08, MAPE: 24313.314268086036\n",
      "3 18.518898010253906 3.0106135114742284e-08 24313.314268086036\n"
     ]
    },
    {
     "name": "stderr",
     "output_type": "stream",
     "text": [
      "100%|████████████████████████████████████████████████████████████████████████████████| 189/189 [00:05<00:00, 37.16it/s]\n"
     ]
    },
    {
     "name": "stdout",
     "output_type": "stream",
     "text": [
      "Learning\n",
      "2/2 [==============================] - 0s 4ms/step - loss: 18.4642 - mse: 0.1168\n",
      "Testing\n",
      "5221/5221 [==============================] - 6s 1ms/step\n",
      "Loss train: 18.46417236328125, MSE: 3.243654086059745e-08, MAPE: 25862.57737899828\n",
      "4 18.46417236328125 3.243654086059745e-08 25862.57737899828\n"
     ]
    },
    {
     "name": "stderr",
     "output_type": "stream",
     "text": [
      "100%|████████████████████████████████████████████████████████████████████████████████| 189/189 [00:05<00:00, 34.43it/s]\n"
     ]
    },
    {
     "name": "stdout",
     "output_type": "stream",
     "text": [
      "Learning\n",
      "2/2 [==============================] - 0s 5ms/step - loss: 20.5794 - mse: 0.1307\n",
      "Testing\n",
      "5221/5221 [==============================] - 10s 2ms/step\n",
      "Loss train: 20.579387664794922, MSE: 3.229697827659955e-08, MAPE: 27799.652823080854\n",
      "5 20.579387664794922 3.229697827659955e-08 27799.652823080854\n"
     ]
    },
    {
     "name": "stderr",
     "output_type": "stream",
     "text": [
      "100%|████████████████████████████████████████████████████████████████████████████████| 189/189 [00:05<00:00, 35.67it/s]\n"
     ]
    },
    {
     "name": "stdout",
     "output_type": "stream",
     "text": [
      "Learning\n",
      "2/2 [==============================] - 0s 5ms/step - loss: 18.0187 - mse: 0.1032\n",
      "Testing\n",
      "5221/5221 [==============================] - 7s 1ms/step\n",
      "Loss train: 18.01869010925293, MSE: 3.290359111926553e-08, MAPE: 28412.83349669538\n",
      "6 18.01869010925293 3.290359111926553e-08 28412.83349669538\n"
     ]
    },
    {
     "name": "stderr",
     "output_type": "stream",
     "text": [
      "100%|████████████████████████████████████████████████████████████████████████████████| 189/189 [00:05<00:00, 37.20it/s]\n"
     ]
    },
    {
     "name": "stdout",
     "output_type": "stream",
     "text": [
      "Learning\n",
      "2/2 [==============================] - 0s 5ms/step - loss: 21.2825 - mse: 0.1341\n",
      "Testing\n",
      "5221/5221 [==============================] - 6s 1ms/step\n",
      "Loss train: 21.282489776611328, MSE: 3.2772184965473005e-08, MAPE: 26178.0237069752\n",
      "7 21.282489776611328 3.2772184965473005e-08 26178.0237069752\n"
     ]
    },
    {
     "name": "stderr",
     "output_type": "stream",
     "text": [
      "100%|████████████████████████████████████████████████████████████████████████████████| 189/189 [00:05<00:00, 35.74it/s]\n"
     ]
    },
    {
     "name": "stdout",
     "output_type": "stream",
     "text": [
      "Learning\n",
      "2/2 [==============================] - 0s 5ms/step - loss: 16.6807 - mse: 0.1032\n",
      "Testing\n",
      "5221/5221 [==============================] - 6s 1ms/step\n",
      "Loss train: 16.680713653564453, MSE: 3.405572446669098e-08, MAPE: 25026.5550184149\n",
      "8 16.680713653564453 3.405572446669098e-08 25026.5550184149\n"
     ]
    },
    {
     "name": "stderr",
     "output_type": "stream",
     "text": [
      "100%|████████████████████████████████████████████████████████████████████████████████| 189/189 [00:05<00:00, 34.45it/s]\n"
     ]
    },
    {
     "name": "stdout",
     "output_type": "stream",
     "text": [
      "Learning\n",
      "2/2 [==============================] - 0s 7ms/step - loss: 19.5413 - mse: 0.1209\n",
      "Testing\n",
      "5221/5221 [==============================] - 7s 1ms/step\n",
      "Loss train: 19.541275024414062, MSE: 3.231141086390989e-08, MAPE: 26750.778763854716\n",
      "9 19.541275024414062 3.231141086390989e-08 26750.778763854716\n"
     ]
    },
    {
     "name": "stderr",
     "output_type": "stream",
     "text": [
      "100%|████████████████████████████████████████████████████████████████████████████████| 210/210 [00:07<00:00, 29.03it/s]\n"
     ]
    },
    {
     "name": "stdout",
     "output_type": "stream",
     "text": [
      "Learning\n",
      "2/2 [==============================] - 0s 4ms/step - loss: 16.0423 - mse: 0.0940\n",
      "Testing\n",
      "17403/17403 [==============================] - 29s 2ms/step\n",
      "Loss train: 16.042285919189453, MSE: 3.6108260882901965e-08, MAPE: 31468.15508112136\n"
     ]
    },
    {
     "data": {
      "image/png": "[encoded data removed]",
      "text/plain": [
       "<Figure size 500x500 with 1 Axes>"
      ]
     },
     "metadata": {},
     "output_type": "display_data"
    }
   ],
   "source": [
    "list_of_fet = list(list_of_fet)\n",
    "\n",
    "fig, ax = plt.subplots(figsize=(5,5))\n",
    "\n",
    "for _ in range(1):\n",
    "    matrix = []\n",
    "    \n",
    "    for i in range(len(list_of_fet)):\n",
    "        lst = list_of_fet.copy()\n",
    "        fet = lst.pop(i)\n",
    "        \n",
    "        ans, loss, loss_mean = train_and_test(lst, 500, .3)\n",
    "        print(i, ans, loss, loss_mean)\n",
    "        \n",
    "        matrix.append((ans, fet))\n",
    "        \n",
    "    \n",
    "        \n",
    "    history1.append((ans, fet))\n",
    "    matrix.sort(key=lambda x: -x[0])\n",
    "#     matrix = matrix[:-5]\n",
    "    \n",
    "#     list_of_fet = []\n",
    "#     for _, x in matrix:\n",
    "#         list_of_fet.append(x)\n",
    "        \n",
    "    ans, loss, loss_mean = train_and_test(list_of_fet)\n",
    "    history.append([ans, loss, loss_mean])"
   ]
  },
  {
   "cell_type": "code",
   "execution_count": 142,
   "id": "2d07239d",
   "metadata": {},
   "outputs": [
    {
     "data": {
      "text/plain": [
       "[[30.786907196044922, 3.4646265536654856e-08, 27573.298936445808],\n",
       " [34.55529022216797, 3.2722646207807014e-08, 26768.11809089432],\n",
       " [30.12510108947754, 3.563449064019196e-08, 29421.025648762494],\n",
       " [32.48299789428711, 3.548104555917323e-08, 29659.738604450144],\n",
       " [26.250484466552734, 3.5523278048775376e-08, 30661.309905996564],\n",
       " [20.84231185913086, 3.241110894477414e-08, 29475.753135132858],\n",
       " [17.06942367553711, 3.622204892263093e-08, 35992.9833826928],\n",
       " [16.042285919189453, 3.6108260882901965e-08, 31468.15508112136]]"
      ]
     },
     "execution_count": 142,
     "metadata": {},
     "output_type": "execute_result"
    }
   ],
   "source": [
    "history"
   ]
  },
  {
   "cell_type": "code",
   "execution_count": 143,
   "id": "46868034",
   "metadata": {},
   "outputs": [
    {
     "data": {
      "text/plain": [
       "[(21.282489776611328, array([5.e-07, 4.e-07])),\n",
       " (20.579387664794922, array([6.e-07, 6.e-07])),\n",
       " (19.901643753051758, array([8.e-07, 9.e-07])),\n",
       " (19.541275024414062, array([5.e-07, 5.e-07])),\n",
       " (19.224027633666992, array([5.e-07, 6.e-07])),\n",
       " (18.518898010253906, array([3.e-07, 4.e-07])),\n",
       " (18.46417236328125, array([6.e-07, 5.e-07])),\n",
       " (18.42180633544922, array([2.e-07, 3.e-07])),\n",
       " (18.01869010925293, array([7.e-07, 6.e-07])),\n",
       " (16.680713653564453, array([3.e-07, 6.e-07]))]"
      ]
     },
     "execution_count": 143,
     "metadata": {},
     "output_type": "execute_result"
    }
   ],
   "source": [
    "matrix"
   ]
  },
  {
   "cell_type": "code",
   "execution_count": 146,
   "id": "00c78c6b",
   "metadata": {},
   "outputs": [],
   "source": [
    "matrix.sort(key=lambda x: -x[0])\n",
    "# print(matrix)\n",
    "    \n",
    "list_of_fet = []\n",
    "for _, x in matrix[:-2]:\n",
    "    list_of_fet.append(x)"
   ]
  },
  {
   "cell_type": "code",
   "execution_count": 147,
   "id": "4faf1cd6",
   "metadata": {},
   "outputs": [
    {
     "data": {
      "text/plain": [
       "<matplotlib.collections.PathCollection at 0x17c1d4c6790>"
      ]
     },
     "execution_count": 147,
     "metadata": {},
     "output_type": "execute_result"
    },
    {
     "data": {
      "image/png": "[encoded data removed]",
      "text/plain": [
       "<Figure size 640x480 with 1 Axes>"
      ]
     },
     "metadata": {},
     "output_type": "display_data"
    }
   ],
   "source": [
    "list_of_fet = np.array(list_of_fet)\n",
    "\n",
    "plt.scatter(list_of_fet[:, 0], list_of_fet[:, 1])"
   ]
  },
  {
   "cell_type": "code",
   "execution_count": 148,
   "id": "614a8ecd",
   "metadata": {},
   "outputs": [
    {
     "name": "stderr",
     "output_type": "stream",
     "text": [
      "100%|████████████████████████████████████████████████████████████████████████████████| 168/168 [00:04<00:00, 36.65it/s]\n"
     ]
    },
    {
     "name": "stdout",
     "output_type": "stream",
     "text": [
      "Learning\n",
      "1/1 [==============================] - 0s 113ms/step - loss: 16.6562 - mse: 0.1148\n",
      "Testing\n",
      "17403/17403 [==============================] - 27s 2ms/step\n",
      "Loss train: 16.656200408935547, MSE: 3.838476558626884e-08, MAPE: 32585.966293099595\n"
     ]
    },
    {
     "data": {
      "text/plain": [
       "(16.656200408935547, 3.838476558626884e-08, 32585.966293099595)"
      ]
     },
     "execution_count": 148,
     "metadata": {},
     "output_type": "execute_result"
    }
   ],
   "source": [
    "train_and_test(list_of_fet)"
   ]
  },
  {
   "cell_type": "code",
   "execution_count": null,
   "id": "15f05b86",
   "metadata": {},
   "outputs": [],
   "source": []
  }
 ],
 "metadata": {
  "kernelspec": {
   "display_name": "Python 3 (ipykernel)",
   "language": "python",
   "name": "python3"
  },
  "language_info": {
   "codemirror_mode": {
    "name": "ipython",
    "version": 3
   },
   "file_extension": ".py",
   "mimetype": "text/x-python",
   "name": "python",
   "nbconvert_exporter": "python",
   "pygments_lexer": "ipython3",
   "version": "3.9.12"
  }
 },
 "nbformat": 4,
 "nbformat_minor": 5
}
